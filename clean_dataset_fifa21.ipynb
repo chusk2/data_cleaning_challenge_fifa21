{
 "cells": [
  {
   "cell_type": "code",
   "execution_count": 1,
   "id": "3ebd3f14-3942-41da-8718-1068d5006ee0",
   "metadata": {
    "tags": []
   },
   "outputs": [],
   "source": [
    "import pandas as pd\n",
    "import numpy as np\n",
    "import seaborn as sns\n",
    "import matplotlib.pyplot as plt\n",
    "pd.set_option('display.max_columns', 100)"
   ]
  },
  {
   "cell_type": "markdown",
   "id": "3bd39c0d-012b-4f69-971a-1d798cee2e59",
   "metadata": {},
   "source": [
    "## Extract information from columns descriptions using the text file `dataset dictionary.txt`"
   ]
  },
  {
   "cell_type": "code",
   "execution_count": 2,
   "id": "a78d5b07-261a-4bc4-a015-8f56f4c0c07c",
   "metadata": {
    "tags": []
   },
   "outputs": [],
   "source": [
    "content = []\n",
    "with open('dataset dictionary.txt', 'r') as f:\n",
    "    for line in f.readlines():\n",
    "        content.append(line)"
   ]
  },
  {
   "cell_type": "code",
   "execution_count": 3,
   "id": "a8ba30f3-1b93-4230-a900-6d1c52ad0fe4",
   "metadata": {
    "tags": []
   },
   "outputs": [],
   "source": [
    "content = [i.strip('\\n').split(': ') for i in content]"
   ]
  },
  {
   "cell_type": "code",
   "execution_count": 4,
   "id": "7bc2b235-1beb-4c42-854b-20d213eb9b9b",
   "metadata": {
    "tags": []
   },
   "outputs": [],
   "source": [
    "content = {i[0]: i[1] for i in content} "
   ]
  },
  {
   "cell_type": "code",
   "execution_count": 5,
   "id": "0dbd5a8b-5e15-4959-9290-8e2236cec011",
   "metadata": {
    "tags": []
   },
   "outputs": [],
   "source": [
    "var_description_df = pd.DataFrame({'variable': content.keys(), 'description': content.values()}, index = np.arange(len(content)))"
   ]
  },
  {
   "cell_type": "code",
   "execution_count": 6,
   "id": "18fb9f66-a076-42f1-af14-7f644a510a18",
   "metadata": {
    "tags": []
   },
   "outputs": [],
   "source": [
    "var_description_df.set_index('variable', inplace=True)"
   ]
  },
  {
   "cell_type": "code",
   "execution_count": 7,
   "id": "d1a49665-958a-4cee-938b-117b9245c92b",
   "metadata": {
    "tags": []
   },
   "outputs": [],
   "source": [
    "var_description_df.to_csv('variable_descriptions.csv', index=False)"
   ]
  },
  {
   "cell_type": "code",
   "execution_count": 8,
   "id": "f2ae7366-8a9b-47df-a458-aaade24f21a1",
   "metadata": {
    "tags": []
   },
   "outputs": [
    {
     "data": {
      "text/html": [
       "<div>\n",
       "<style scoped>\n",
       "    .dataframe tbody tr th:only-of-type {\n",
       "        vertical-align: middle;\n",
       "    }\n",
       "\n",
       "    .dataframe tbody tr th {\n",
       "        vertical-align: top;\n",
       "    }\n",
       "\n",
       "    .dataframe thead th {\n",
       "        text-align: right;\n",
       "    }\n",
       "</style>\n",
       "<table border=\"1\" class=\"dataframe\">\n",
       "  <thead>\n",
       "    <tr style=\"text-align: right;\">\n",
       "      <th></th>\n",
       "      <th>description</th>\n",
       "    </tr>\n",
       "    <tr>\n",
       "      <th>variable</th>\n",
       "      <th></th>\n",
       "    </tr>\n",
       "  </thead>\n",
       "  <tbody>\n",
       "    <tr>\n",
       "      <th>photoUrl</th>\n",
       "      <td>The URL of the player's photo.</td>\n",
       "    </tr>\n",
       "    <tr>\n",
       "      <th>LongName</th>\n",
       "      <td>The full name of the player.</td>\n",
       "    </tr>\n",
       "    <tr>\n",
       "      <th>playerUrl</th>\n",
       "      <td>The URL of the player's page on sofifa.com.</td>\n",
       "    </tr>\n",
       "    <tr>\n",
       "      <th>Nationality</th>\n",
       "      <td>The nationality of the player.</td>\n",
       "    </tr>\n",
       "    <tr>\n",
       "      <th>Positions</th>\n",
       "      <td>The positions the player can play.</td>\n",
       "    </tr>\n",
       "    <tr>\n",
       "      <th>...</th>\n",
       "      <td>...</td>\n",
       "    </tr>\n",
       "    <tr>\n",
       "      <th>PAS</th>\n",
       "      <td>This refers to the player's passing ability. I...</td>\n",
       "    </tr>\n",
       "    <tr>\n",
       "      <th>DRI</th>\n",
       "      <td>This refers to the player's dribbling ability....</td>\n",
       "    </tr>\n",
       "    <tr>\n",
       "      <th>DEF</th>\n",
       "      <td>This refers to the player's defensive ability....</td>\n",
       "    </tr>\n",
       "    <tr>\n",
       "      <th>PHY</th>\n",
       "      <td>This refers to the player's physicality or str...</td>\n",
       "    </tr>\n",
       "    <tr>\n",
       "      <th>Hits</th>\n",
       "      <td>This refers to the number of times the player'...</td>\n",
       "    </tr>\n",
       "  </tbody>\n",
       "</table>\n",
       "<p>77 rows × 1 columns</p>\n",
       "</div>"
      ],
      "text/plain": [
       "                                                   description\n",
       "variable                                                      \n",
       "photoUrl                        The URL of the player's photo.\n",
       "LongName                          The full name of the player.\n",
       "playerUrl          The URL of the player's page on sofifa.com.\n",
       "Nationality                     The nationality of the player.\n",
       "Positions                   The positions the player can play.\n",
       "...                                                        ...\n",
       "PAS          This refers to the player's passing ability. I...\n",
       "DRI          This refers to the player's dribbling ability....\n",
       "DEF          This refers to the player's defensive ability....\n",
       "PHY          This refers to the player's physicality or str...\n",
       "Hits         This refers to the number of times the player'...\n",
       "\n",
       "[77 rows x 1 columns]"
      ]
     },
     "execution_count": 8,
     "metadata": {},
     "output_type": "execute_result"
    }
   ],
   "source": [
    "var_description_df"
   ]
  },
  {
   "cell_type": "markdown",
   "id": "864c51de-0904-4b67-8ce5-3dd3cff42f02",
   "metadata": {},
   "source": [
    "# Start of cleaning"
   ]
  },
  {
   "cell_type": "code",
   "execution_count": 9,
   "id": "8f315006-bbad-4618-839e-350a968f1732",
   "metadata": {
    "tags": []
   },
   "outputs": [],
   "source": [
    "df = pd.read_csv('fifa21 raw data v2.csv', low_memory=False)"
   ]
  },
  {
   "cell_type": "code",
   "execution_count": 10,
   "id": "dcecb9cd-7a47-4d6e-9cf0-be6a7404f7d7",
   "metadata": {
    "tags": []
   },
   "outputs": [
    {
     "data": {
      "text/html": [
       "<div>\n",
       "<style scoped>\n",
       "    .dataframe tbody tr th:only-of-type {\n",
       "        vertical-align: middle;\n",
       "    }\n",
       "\n",
       "    .dataframe tbody tr th {\n",
       "        vertical-align: top;\n",
       "    }\n",
       "\n",
       "    .dataframe thead th {\n",
       "        text-align: right;\n",
       "    }\n",
       "</style>\n",
       "<table border=\"1\" class=\"dataframe\">\n",
       "  <thead>\n",
       "    <tr style=\"text-align: right;\">\n",
       "      <th></th>\n",
       "      <th>ID</th>\n",
       "      <th>Name</th>\n",
       "      <th>LongName</th>\n",
       "      <th>photoUrl</th>\n",
       "      <th>playerUrl</th>\n",
       "      <th>Nationality</th>\n",
       "      <th>Age</th>\n",
       "      <th>↓OVA</th>\n",
       "      <th>POT</th>\n",
       "      <th>Club</th>\n",
       "      <th>Contract</th>\n",
       "      <th>Positions</th>\n",
       "      <th>Height</th>\n",
       "      <th>Weight</th>\n",
       "      <th>Preferred Foot</th>\n",
       "      <th>BOV</th>\n",
       "      <th>Best Position</th>\n",
       "      <th>Joined</th>\n",
       "      <th>Loan Date End</th>\n",
       "      <th>Value</th>\n",
       "      <th>Wage</th>\n",
       "      <th>Release Clause</th>\n",
       "      <th>Attacking</th>\n",
       "      <th>Crossing</th>\n",
       "      <th>Finishing</th>\n",
       "      <th>Heading Accuracy</th>\n",
       "      <th>Short Passing</th>\n",
       "      <th>Volleys</th>\n",
       "      <th>Skill</th>\n",
       "      <th>Dribbling</th>\n",
       "      <th>Curve</th>\n",
       "      <th>FK Accuracy</th>\n",
       "      <th>Long Passing</th>\n",
       "      <th>Ball Control</th>\n",
       "      <th>Movement</th>\n",
       "      <th>Acceleration</th>\n",
       "      <th>Sprint Speed</th>\n",
       "      <th>Agility</th>\n",
       "      <th>Reactions</th>\n",
       "      <th>Balance</th>\n",
       "      <th>Power</th>\n",
       "      <th>Shot Power</th>\n",
       "      <th>Jumping</th>\n",
       "      <th>Stamina</th>\n",
       "      <th>Strength</th>\n",
       "      <th>Long Shots</th>\n",
       "      <th>Mentality</th>\n",
       "      <th>Aggression</th>\n",
       "      <th>Interceptions</th>\n",
       "      <th>Positioning</th>\n",
       "      <th>Vision</th>\n",
       "      <th>Penalties</th>\n",
       "      <th>Composure</th>\n",
       "      <th>Defending</th>\n",
       "      <th>Marking</th>\n",
       "      <th>Standing Tackle</th>\n",
       "      <th>Sliding Tackle</th>\n",
       "      <th>Goalkeeping</th>\n",
       "      <th>GK Diving</th>\n",
       "      <th>GK Handling</th>\n",
       "      <th>GK Kicking</th>\n",
       "      <th>GK Positioning</th>\n",
       "      <th>GK Reflexes</th>\n",
       "      <th>Total Stats</th>\n",
       "      <th>Base Stats</th>\n",
       "      <th>W/F</th>\n",
       "      <th>SM</th>\n",
       "      <th>A/W</th>\n",
       "      <th>D/W</th>\n",
       "      <th>IR</th>\n",
       "      <th>PAC</th>\n",
       "      <th>SHO</th>\n",
       "      <th>PAS</th>\n",
       "      <th>DRI</th>\n",
       "      <th>DEF</th>\n",
       "      <th>PHY</th>\n",
       "      <th>Hits</th>\n",
       "    </tr>\n",
       "  </thead>\n",
       "  <tbody>\n",
       "    <tr>\n",
       "      <th>0</th>\n",
       "      <td>158023</td>\n",
       "      <td>L. Messi</td>\n",
       "      <td>Lionel Messi</td>\n",
       "      <td>https://cdn.sofifa.com/players/158/023/21_60.png</td>\n",
       "      <td>http://sofifa.com/player/158023/lionel-messi/2...</td>\n",
       "      <td>Argentina</td>\n",
       "      <td>33</td>\n",
       "      <td>93</td>\n",
       "      <td>93</td>\n",
       "      <td>\\n\\n\\n\\nFC Barcelona</td>\n",
       "      <td>2004 ~ 2021</td>\n",
       "      <td>RW, ST, CF</td>\n",
       "      <td>170cm</td>\n",
       "      <td>72kg</td>\n",
       "      <td>Left</td>\n",
       "      <td>93</td>\n",
       "      <td>RW</td>\n",
       "      <td>Jul 1, 2004</td>\n",
       "      <td>NaN</td>\n",
       "      <td>€103.5M</td>\n",
       "      <td>€560K</td>\n",
       "      <td>€138.4M</td>\n",
       "      <td>429</td>\n",
       "      <td>85</td>\n",
       "      <td>95</td>\n",
       "      <td>70</td>\n",
       "      <td>91</td>\n",
       "      <td>88</td>\n",
       "      <td>470</td>\n",
       "      <td>96</td>\n",
       "      <td>93</td>\n",
       "      <td>94</td>\n",
       "      <td>91</td>\n",
       "      <td>96</td>\n",
       "      <td>451</td>\n",
       "      <td>91</td>\n",
       "      <td>80</td>\n",
       "      <td>91</td>\n",
       "      <td>94</td>\n",
       "      <td>95</td>\n",
       "      <td>389</td>\n",
       "      <td>86</td>\n",
       "      <td>68</td>\n",
       "      <td>72</td>\n",
       "      <td>69</td>\n",
       "      <td>94</td>\n",
       "      <td>347</td>\n",
       "      <td>44</td>\n",
       "      <td>40</td>\n",
       "      <td>93</td>\n",
       "      <td>95</td>\n",
       "      <td>75</td>\n",
       "      <td>96</td>\n",
       "      <td>91</td>\n",
       "      <td>32</td>\n",
       "      <td>35</td>\n",
       "      <td>24</td>\n",
       "      <td>54</td>\n",
       "      <td>6</td>\n",
       "      <td>11</td>\n",
       "      <td>15</td>\n",
       "      <td>14</td>\n",
       "      <td>8</td>\n",
       "      <td>2231</td>\n",
       "      <td>466</td>\n",
       "      <td>4 ★</td>\n",
       "      <td>4★</td>\n",
       "      <td>Medium</td>\n",
       "      <td>Low</td>\n",
       "      <td>5 ★</td>\n",
       "      <td>85</td>\n",
       "      <td>92</td>\n",
       "      <td>91</td>\n",
       "      <td>95</td>\n",
       "      <td>38</td>\n",
       "      <td>65</td>\n",
       "      <td>771</td>\n",
       "    </tr>\n",
       "    <tr>\n",
       "      <th>1</th>\n",
       "      <td>20801</td>\n",
       "      <td>Cristiano Ronaldo</td>\n",
       "      <td>C. Ronaldo dos Santos Aveiro</td>\n",
       "      <td>https://cdn.sofifa.com/players/020/801/21_60.png</td>\n",
       "      <td>http://sofifa.com/player/20801/c-ronaldo-dos-s...</td>\n",
       "      <td>Portugal</td>\n",
       "      <td>35</td>\n",
       "      <td>92</td>\n",
       "      <td>92</td>\n",
       "      <td>\\n\\n\\n\\nJuventus</td>\n",
       "      <td>2018 ~ 2022</td>\n",
       "      <td>ST, LW</td>\n",
       "      <td>187cm</td>\n",
       "      <td>83kg</td>\n",
       "      <td>Right</td>\n",
       "      <td>92</td>\n",
       "      <td>ST</td>\n",
       "      <td>Jul 10, 2018</td>\n",
       "      <td>NaN</td>\n",
       "      <td>€63M</td>\n",
       "      <td>€220K</td>\n",
       "      <td>€75.9M</td>\n",
       "      <td>437</td>\n",
       "      <td>84</td>\n",
       "      <td>95</td>\n",
       "      <td>90</td>\n",
       "      <td>82</td>\n",
       "      <td>86</td>\n",
       "      <td>414</td>\n",
       "      <td>88</td>\n",
       "      <td>81</td>\n",
       "      <td>76</td>\n",
       "      <td>77</td>\n",
       "      <td>92</td>\n",
       "      <td>431</td>\n",
       "      <td>87</td>\n",
       "      <td>91</td>\n",
       "      <td>87</td>\n",
       "      <td>95</td>\n",
       "      <td>71</td>\n",
       "      <td>444</td>\n",
       "      <td>94</td>\n",
       "      <td>95</td>\n",
       "      <td>84</td>\n",
       "      <td>78</td>\n",
       "      <td>93</td>\n",
       "      <td>353</td>\n",
       "      <td>63</td>\n",
       "      <td>29</td>\n",
       "      <td>95</td>\n",
       "      <td>82</td>\n",
       "      <td>84</td>\n",
       "      <td>95</td>\n",
       "      <td>84</td>\n",
       "      <td>28</td>\n",
       "      <td>32</td>\n",
       "      <td>24</td>\n",
       "      <td>58</td>\n",
       "      <td>7</td>\n",
       "      <td>11</td>\n",
       "      <td>15</td>\n",
       "      <td>14</td>\n",
       "      <td>11</td>\n",
       "      <td>2221</td>\n",
       "      <td>464</td>\n",
       "      <td>4 ★</td>\n",
       "      <td>5★</td>\n",
       "      <td>High</td>\n",
       "      <td>Low</td>\n",
       "      <td>5 ★</td>\n",
       "      <td>89</td>\n",
       "      <td>93</td>\n",
       "      <td>81</td>\n",
       "      <td>89</td>\n",
       "      <td>35</td>\n",
       "      <td>77</td>\n",
       "      <td>562</td>\n",
       "    </tr>\n",
       "    <tr>\n",
       "      <th>2</th>\n",
       "      <td>200389</td>\n",
       "      <td>J. Oblak</td>\n",
       "      <td>Jan Oblak</td>\n",
       "      <td>https://cdn.sofifa.com/players/200/389/21_60.png</td>\n",
       "      <td>http://sofifa.com/player/200389/jan-oblak/210006/</td>\n",
       "      <td>Slovenia</td>\n",
       "      <td>27</td>\n",
       "      <td>91</td>\n",
       "      <td>93</td>\n",
       "      <td>\\n\\n\\n\\nAtlético Madrid</td>\n",
       "      <td>2014 ~ 2023</td>\n",
       "      <td>GK</td>\n",
       "      <td>188cm</td>\n",
       "      <td>87kg</td>\n",
       "      <td>Right</td>\n",
       "      <td>91</td>\n",
       "      <td>GK</td>\n",
       "      <td>Jul 16, 2014</td>\n",
       "      <td>NaN</td>\n",
       "      <td>€120M</td>\n",
       "      <td>€125K</td>\n",
       "      <td>€159.4M</td>\n",
       "      <td>95</td>\n",
       "      <td>13</td>\n",
       "      <td>11</td>\n",
       "      <td>15</td>\n",
       "      <td>43</td>\n",
       "      <td>13</td>\n",
       "      <td>109</td>\n",
       "      <td>12</td>\n",
       "      <td>13</td>\n",
       "      <td>14</td>\n",
       "      <td>40</td>\n",
       "      <td>30</td>\n",
       "      <td>307</td>\n",
       "      <td>43</td>\n",
       "      <td>60</td>\n",
       "      <td>67</td>\n",
       "      <td>88</td>\n",
       "      <td>49</td>\n",
       "      <td>268</td>\n",
       "      <td>59</td>\n",
       "      <td>78</td>\n",
       "      <td>41</td>\n",
       "      <td>78</td>\n",
       "      <td>12</td>\n",
       "      <td>140</td>\n",
       "      <td>34</td>\n",
       "      <td>19</td>\n",
       "      <td>11</td>\n",
       "      <td>65</td>\n",
       "      <td>11</td>\n",
       "      <td>68</td>\n",
       "      <td>57</td>\n",
       "      <td>27</td>\n",
       "      <td>12</td>\n",
       "      <td>18</td>\n",
       "      <td>437</td>\n",
       "      <td>87</td>\n",
       "      <td>92</td>\n",
       "      <td>78</td>\n",
       "      <td>90</td>\n",
       "      <td>90</td>\n",
       "      <td>1413</td>\n",
       "      <td>489</td>\n",
       "      <td>3 ★</td>\n",
       "      <td>1★</td>\n",
       "      <td>Medium</td>\n",
       "      <td>Medium</td>\n",
       "      <td>3 ★</td>\n",
       "      <td>87</td>\n",
       "      <td>92</td>\n",
       "      <td>78</td>\n",
       "      <td>90</td>\n",
       "      <td>52</td>\n",
       "      <td>90</td>\n",
       "      <td>150</td>\n",
       "    </tr>\n",
       "    <tr>\n",
       "      <th>3</th>\n",
       "      <td>192985</td>\n",
       "      <td>K. De Bruyne</td>\n",
       "      <td>Kevin De Bruyne</td>\n",
       "      <td>https://cdn.sofifa.com/players/192/985/21_60.png</td>\n",
       "      <td>http://sofifa.com/player/192985/kevin-de-bruyn...</td>\n",
       "      <td>Belgium</td>\n",
       "      <td>29</td>\n",
       "      <td>91</td>\n",
       "      <td>91</td>\n",
       "      <td>\\n\\n\\n\\nManchester City</td>\n",
       "      <td>2015 ~ 2023</td>\n",
       "      <td>CAM, CM</td>\n",
       "      <td>181cm</td>\n",
       "      <td>70kg</td>\n",
       "      <td>Right</td>\n",
       "      <td>91</td>\n",
       "      <td>CAM</td>\n",
       "      <td>Aug 30, 2015</td>\n",
       "      <td>NaN</td>\n",
       "      <td>€129M</td>\n",
       "      <td>€370K</td>\n",
       "      <td>€161M</td>\n",
       "      <td>407</td>\n",
       "      <td>94</td>\n",
       "      <td>82</td>\n",
       "      <td>55</td>\n",
       "      <td>94</td>\n",
       "      <td>82</td>\n",
       "      <td>441</td>\n",
       "      <td>88</td>\n",
       "      <td>85</td>\n",
       "      <td>83</td>\n",
       "      <td>93</td>\n",
       "      <td>92</td>\n",
       "      <td>398</td>\n",
       "      <td>77</td>\n",
       "      <td>76</td>\n",
       "      <td>78</td>\n",
       "      <td>91</td>\n",
       "      <td>76</td>\n",
       "      <td>408</td>\n",
       "      <td>91</td>\n",
       "      <td>63</td>\n",
       "      <td>89</td>\n",
       "      <td>74</td>\n",
       "      <td>91</td>\n",
       "      <td>408</td>\n",
       "      <td>76</td>\n",
       "      <td>66</td>\n",
       "      <td>88</td>\n",
       "      <td>94</td>\n",
       "      <td>84</td>\n",
       "      <td>91</td>\n",
       "      <td>186</td>\n",
       "      <td>68</td>\n",
       "      <td>65</td>\n",
       "      <td>53</td>\n",
       "      <td>56</td>\n",
       "      <td>15</td>\n",
       "      <td>13</td>\n",
       "      <td>5</td>\n",
       "      <td>10</td>\n",
       "      <td>13</td>\n",
       "      <td>2304</td>\n",
       "      <td>485</td>\n",
       "      <td>5 ★</td>\n",
       "      <td>4★</td>\n",
       "      <td>High</td>\n",
       "      <td>High</td>\n",
       "      <td>4 ★</td>\n",
       "      <td>76</td>\n",
       "      <td>86</td>\n",
       "      <td>93</td>\n",
       "      <td>88</td>\n",
       "      <td>64</td>\n",
       "      <td>78</td>\n",
       "      <td>207</td>\n",
       "    </tr>\n",
       "    <tr>\n",
       "      <th>4</th>\n",
       "      <td>190871</td>\n",
       "      <td>Neymar Jr</td>\n",
       "      <td>Neymar da Silva Santos Jr.</td>\n",
       "      <td>https://cdn.sofifa.com/players/190/871/21_60.png</td>\n",
       "      <td>http://sofifa.com/player/190871/neymar-da-silv...</td>\n",
       "      <td>Brazil</td>\n",
       "      <td>28</td>\n",
       "      <td>91</td>\n",
       "      <td>91</td>\n",
       "      <td>\\n\\n\\n\\nParis Saint-Germain</td>\n",
       "      <td>2017 ~ 2022</td>\n",
       "      <td>LW, CAM</td>\n",
       "      <td>175cm</td>\n",
       "      <td>68kg</td>\n",
       "      <td>Right</td>\n",
       "      <td>91</td>\n",
       "      <td>LW</td>\n",
       "      <td>Aug 3, 2017</td>\n",
       "      <td>NaN</td>\n",
       "      <td>€132M</td>\n",
       "      <td>€270K</td>\n",
       "      <td>€166.5M</td>\n",
       "      <td>408</td>\n",
       "      <td>85</td>\n",
       "      <td>87</td>\n",
       "      <td>62</td>\n",
       "      <td>87</td>\n",
       "      <td>87</td>\n",
       "      <td>448</td>\n",
       "      <td>95</td>\n",
       "      <td>88</td>\n",
       "      <td>89</td>\n",
       "      <td>81</td>\n",
       "      <td>95</td>\n",
       "      <td>453</td>\n",
       "      <td>94</td>\n",
       "      <td>89</td>\n",
       "      <td>96</td>\n",
       "      <td>91</td>\n",
       "      <td>83</td>\n",
       "      <td>357</td>\n",
       "      <td>80</td>\n",
       "      <td>62</td>\n",
       "      <td>81</td>\n",
       "      <td>50</td>\n",
       "      <td>84</td>\n",
       "      <td>356</td>\n",
       "      <td>51</td>\n",
       "      <td>36</td>\n",
       "      <td>87</td>\n",
       "      <td>90</td>\n",
       "      <td>92</td>\n",
       "      <td>93</td>\n",
       "      <td>94</td>\n",
       "      <td>35</td>\n",
       "      <td>30</td>\n",
       "      <td>29</td>\n",
       "      <td>59</td>\n",
       "      <td>9</td>\n",
       "      <td>9</td>\n",
       "      <td>15</td>\n",
       "      <td>15</td>\n",
       "      <td>11</td>\n",
       "      <td>2175</td>\n",
       "      <td>451</td>\n",
       "      <td>5 ★</td>\n",
       "      <td>5★</td>\n",
       "      <td>High</td>\n",
       "      <td>Medium</td>\n",
       "      <td>5 ★</td>\n",
       "      <td>91</td>\n",
       "      <td>85</td>\n",
       "      <td>86</td>\n",
       "      <td>94</td>\n",
       "      <td>36</td>\n",
       "      <td>59</td>\n",
       "      <td>595</td>\n",
       "    </tr>\n",
       "  </tbody>\n",
       "</table>\n",
       "</div>"
      ],
      "text/plain": [
       "       ID               Name                      LongName  \\\n",
       "0  158023           L. Messi                  Lionel Messi   \n",
       "1   20801  Cristiano Ronaldo  C. Ronaldo dos Santos Aveiro   \n",
       "2  200389           J. Oblak                     Jan Oblak   \n",
       "3  192985       K. De Bruyne               Kevin De Bruyne   \n",
       "4  190871          Neymar Jr    Neymar da Silva Santos Jr.   \n",
       "\n",
       "                                           photoUrl  \\\n",
       "0  https://cdn.sofifa.com/players/158/023/21_60.png   \n",
       "1  https://cdn.sofifa.com/players/020/801/21_60.png   \n",
       "2  https://cdn.sofifa.com/players/200/389/21_60.png   \n",
       "3  https://cdn.sofifa.com/players/192/985/21_60.png   \n",
       "4  https://cdn.sofifa.com/players/190/871/21_60.png   \n",
       "\n",
       "                                           playerUrl Nationality  Age  ↓OVA  \\\n",
       "0  http://sofifa.com/player/158023/lionel-messi/2...   Argentina   33    93   \n",
       "1  http://sofifa.com/player/20801/c-ronaldo-dos-s...    Portugal   35    92   \n",
       "2  http://sofifa.com/player/200389/jan-oblak/210006/    Slovenia   27    91   \n",
       "3  http://sofifa.com/player/192985/kevin-de-bruyn...     Belgium   29    91   \n",
       "4  http://sofifa.com/player/190871/neymar-da-silv...      Brazil   28    91   \n",
       "\n",
       "   POT                         Club     Contract   Positions Height Weight  \\\n",
       "0   93         \\n\\n\\n\\nFC Barcelona  2004 ~ 2021  RW, ST, CF  170cm   72kg   \n",
       "1   92             \\n\\n\\n\\nJuventus  2018 ~ 2022      ST, LW  187cm   83kg   \n",
       "2   93      \\n\\n\\n\\nAtlético Madrid  2014 ~ 2023          GK  188cm   87kg   \n",
       "3   91      \\n\\n\\n\\nManchester City  2015 ~ 2023     CAM, CM  181cm   70kg   \n",
       "4   91  \\n\\n\\n\\nParis Saint-Germain  2017 ~ 2022     LW, CAM  175cm   68kg   \n",
       "\n",
       "  Preferred Foot  BOV Best Position        Joined Loan Date End    Value  \\\n",
       "0           Left   93            RW   Jul 1, 2004           NaN  €103.5M   \n",
       "1          Right   92            ST  Jul 10, 2018           NaN     €63M   \n",
       "2          Right   91            GK  Jul 16, 2014           NaN    €120M   \n",
       "3          Right   91           CAM  Aug 30, 2015           NaN    €129M   \n",
       "4          Right   91            LW   Aug 3, 2017           NaN    €132M   \n",
       "\n",
       "    Wage Release Clause  Attacking  Crossing  Finishing  Heading Accuracy  \\\n",
       "0  €560K        €138.4M        429        85         95                70   \n",
       "1  €220K         €75.9M        437        84         95                90   \n",
       "2  €125K        €159.4M         95        13         11                15   \n",
       "3  €370K          €161M        407        94         82                55   \n",
       "4  €270K        €166.5M        408        85         87                62   \n",
       "\n",
       "   Short Passing  Volleys  Skill  Dribbling  Curve  FK Accuracy  Long Passing  \\\n",
       "0             91       88    470         96     93           94            91   \n",
       "1             82       86    414         88     81           76            77   \n",
       "2             43       13    109         12     13           14            40   \n",
       "3             94       82    441         88     85           83            93   \n",
       "4             87       87    448         95     88           89            81   \n",
       "\n",
       "   Ball Control  Movement  Acceleration  Sprint Speed  Agility  Reactions  \\\n",
       "0            96       451            91            80       91         94   \n",
       "1            92       431            87            91       87         95   \n",
       "2            30       307            43            60       67         88   \n",
       "3            92       398            77            76       78         91   \n",
       "4            95       453            94            89       96         91   \n",
       "\n",
       "   Balance  Power  Shot Power  Jumping  Stamina  Strength  Long Shots  \\\n",
       "0       95    389          86       68       72        69          94   \n",
       "1       71    444          94       95       84        78          93   \n",
       "2       49    268          59       78       41        78          12   \n",
       "3       76    408          91       63       89        74          91   \n",
       "4       83    357          80       62       81        50          84   \n",
       "\n",
       "   Mentality  Aggression  Interceptions  Positioning  Vision  Penalties  \\\n",
       "0        347          44             40           93      95         75   \n",
       "1        353          63             29           95      82         84   \n",
       "2        140          34             19           11      65         11   \n",
       "3        408          76             66           88      94         84   \n",
       "4        356          51             36           87      90         92   \n",
       "\n",
       "   Composure  Defending  Marking  Standing Tackle  Sliding Tackle  \\\n",
       "0         96         91       32               35              24   \n",
       "1         95         84       28               32              24   \n",
       "2         68         57       27               12              18   \n",
       "3         91        186       68               65              53   \n",
       "4         93         94       35               30              29   \n",
       "\n",
       "   Goalkeeping  GK Diving  GK Handling  GK Kicking  GK Positioning  \\\n",
       "0           54          6           11          15              14   \n",
       "1           58          7           11          15              14   \n",
       "2          437         87           92          78              90   \n",
       "3           56         15           13           5              10   \n",
       "4           59          9            9          15              15   \n",
       "\n",
       "   GK Reflexes  Total Stats  Base Stats  W/F  SM     A/W     D/W   IR  PAC  \\\n",
       "0            8         2231         466  4 ★  4★  Medium     Low  5 ★   85   \n",
       "1           11         2221         464  4 ★  5★    High     Low  5 ★   89   \n",
       "2           90         1413         489  3 ★  1★  Medium  Medium  3 ★   87   \n",
       "3           13         2304         485  5 ★  4★    High    High  4 ★   76   \n",
       "4           11         2175         451  5 ★  5★    High  Medium  5 ★   91   \n",
       "\n",
       "   SHO  PAS  DRI  DEF  PHY Hits  \n",
       "0   92   91   95   38   65  771  \n",
       "1   93   81   89   35   77  562  \n",
       "2   92   78   90   52   90  150  \n",
       "3   86   93   88   64   78  207  \n",
       "4   85   86   94   36   59  595  "
      ]
     },
     "execution_count": 10,
     "metadata": {},
     "output_type": "execute_result"
    }
   ],
   "source": [
    "df.head()"
   ]
  },
  {
   "cell_type": "markdown",
   "id": "7646bc76-719c-4781-a229-18900a2cd064",
   "metadata": {},
   "source": [
    "Wow!! 77 columns. Let's see them more in depth:"
   ]
  },
  {
   "cell_type": "code",
   "execution_count": 11,
   "id": "6455aa99-e22e-40b4-9897-3dec1e8998f8",
   "metadata": {
    "tags": []
   },
   "outputs": [
    {
     "data": {
      "text/plain": [
       "Index(['ID', 'Name', 'LongName', 'photoUrl', 'playerUrl', 'Nationality', 'Age',\n",
       "       '↓OVA', 'POT', 'Club', 'Contract', 'Positions', 'Height', 'Weight',\n",
       "       'Preferred Foot', 'BOV', 'Best Position', 'Joined', 'Loan Date End',\n",
       "       'Value', 'Wage', 'Release Clause', 'Attacking', 'Crossing', 'Finishing',\n",
       "       'Heading Accuracy', 'Short Passing', 'Volleys', 'Skill', 'Dribbling',\n",
       "       'Curve', 'FK Accuracy', 'Long Passing', 'Ball Control', 'Movement',\n",
       "       'Acceleration', 'Sprint Speed', 'Agility', 'Reactions', 'Balance',\n",
       "       'Power', 'Shot Power', 'Jumping', 'Stamina', 'Strength', 'Long Shots',\n",
       "       'Mentality', 'Aggression', 'Interceptions', 'Positioning', 'Vision',\n",
       "       'Penalties', 'Composure', 'Defending', 'Marking', 'Standing Tackle',\n",
       "       'Sliding Tackle', 'Goalkeeping', 'GK Diving', 'GK Handling',\n",
       "       'GK Kicking', 'GK Positioning', 'GK Reflexes', 'Total Stats',\n",
       "       'Base Stats', 'W/F', 'SM', 'A/W', 'D/W', 'IR', 'PAC', 'SHO', 'PAS',\n",
       "       'DRI', 'DEF', 'PHY', 'Hits'],\n",
       "      dtype='object')"
      ]
     },
     "execution_count": 11,
     "metadata": {},
     "output_type": "execute_result"
    }
   ],
   "source": [
    "df.columns"
   ]
  },
  {
   "cell_type": "markdown",
   "id": "9adb9661-b5dd-4131-be2a-dc908f3b9e39",
   "metadata": {},
   "source": [
    "## Missing values study"
   ]
  },
  {
   "cell_type": "markdown",
   "id": "85ba3229-ee0b-4557-b5dc-067f65068624",
   "metadata": {},
   "source": [
    "Let's study the missing values and their counts  \n",
    "It's not the prettiest method but I can't remember now how to do it in a more elegant way..."
   ]
  },
  {
   "cell_type": "code",
   "execution_count": 12,
   "id": "e03ccea8-d758-4434-acfb-46f9c717f18b",
   "metadata": {
    "tags": []
   },
   "outputs": [
    {
     "data": {
      "text/plain": [
       "Loan Date End       17966\n",
       "Hits                 2595\n",
       "GK Diving               0\n",
       "Sliding Tackle          0\n",
       "Standing Tackle         0\n",
       "                    ...  \n",
       "Heading Accuracy        0\n",
       "Finishing               0\n",
       "Crossing                0\n",
       "Attacking               0\n",
       "Reactions               0\n",
       "Name: missing values count, Length: 77, dtype: int64"
      ]
     },
     "execution_count": 12,
     "metadata": {},
     "output_type": "execute_result"
    }
   ],
   "source": [
    "s = pd.Series([df[i].isnull().sum() for i in df.columns], index=df.columns).sort_values(ascending=False)\n",
    "s.name = 'missing values count'\n",
    "s"
   ]
  },
  {
   "cell_type": "markdown",
   "id": "2e661b4e-8e56-4a3a-bcef-99d617117671",
   "metadata": {},
   "source": [
    "Study of the dtypes:"
   ]
  },
  {
   "cell_type": "code",
   "execution_count": 13,
   "id": "6290bad7-caa2-4d63-bd60-6b15fed9a26d",
   "metadata": {
    "tags": []
   },
   "outputs": [
    {
     "name": "stdout",
     "output_type": "stream",
     "text": [
      "<class 'pandas.core.frame.DataFrame'>\n",
      "RangeIndex: 18979 entries, 0 to 18978\n",
      "Data columns (total 77 columns):\n",
      " #   Column            Non-Null Count  Dtype \n",
      "---  ------            --------------  ----- \n",
      " 0   ID                18979 non-null  int64 \n",
      " 1   Name              18979 non-null  object\n",
      " 2   LongName          18979 non-null  object\n",
      " 3   photoUrl          18979 non-null  object\n",
      " 4   playerUrl         18979 non-null  object\n",
      " 5   Nationality       18979 non-null  object\n",
      " 6   Age               18979 non-null  int64 \n",
      " 7   ↓OVA              18979 non-null  int64 \n",
      " 8   POT               18979 non-null  int64 \n",
      " 9   Club              18979 non-null  object\n",
      " 10  Contract          18979 non-null  object\n",
      " 11  Positions         18979 non-null  object\n",
      " 12  Height            18979 non-null  object\n",
      " 13  Weight            18979 non-null  object\n",
      " 14  Preferred Foot    18979 non-null  object\n",
      " 15  BOV               18979 non-null  int64 \n",
      " 16  Best Position     18979 non-null  object\n",
      " 17  Joined            18979 non-null  object\n",
      " 18  Loan Date End     1013 non-null   object\n",
      " 19  Value             18979 non-null  object\n",
      " 20  Wage              18979 non-null  object\n",
      " 21  Release Clause    18979 non-null  object\n",
      " 22  Attacking         18979 non-null  int64 \n",
      " 23  Crossing          18979 non-null  int64 \n",
      " 24  Finishing         18979 non-null  int64 \n",
      " 25  Heading Accuracy  18979 non-null  int64 \n",
      " 26  Short Passing     18979 non-null  int64 \n",
      " 27  Volleys           18979 non-null  int64 \n",
      " 28  Skill             18979 non-null  int64 \n",
      " 29  Dribbling         18979 non-null  int64 \n",
      " 30  Curve             18979 non-null  int64 \n",
      " 31  FK Accuracy       18979 non-null  int64 \n",
      " 32  Long Passing      18979 non-null  int64 \n",
      " 33  Ball Control      18979 non-null  int64 \n",
      " 34  Movement          18979 non-null  int64 \n",
      " 35  Acceleration      18979 non-null  int64 \n",
      " 36  Sprint Speed      18979 non-null  int64 \n",
      " 37  Agility           18979 non-null  int64 \n",
      " 38  Reactions         18979 non-null  int64 \n",
      " 39  Balance           18979 non-null  int64 \n",
      " 40  Power             18979 non-null  int64 \n",
      " 41  Shot Power        18979 non-null  int64 \n",
      " 42  Jumping           18979 non-null  int64 \n",
      " 43  Stamina           18979 non-null  int64 \n",
      " 44  Strength          18979 non-null  int64 \n",
      " 45  Long Shots        18979 non-null  int64 \n",
      " 46  Mentality         18979 non-null  int64 \n",
      " 47  Aggression        18979 non-null  int64 \n",
      " 48  Interceptions     18979 non-null  int64 \n",
      " 49  Positioning       18979 non-null  int64 \n",
      " 50  Vision            18979 non-null  int64 \n",
      " 51  Penalties         18979 non-null  int64 \n",
      " 52  Composure         18979 non-null  int64 \n",
      " 53  Defending         18979 non-null  int64 \n",
      " 54  Marking           18979 non-null  int64 \n",
      " 55  Standing Tackle   18979 non-null  int64 \n",
      " 56  Sliding Tackle    18979 non-null  int64 \n",
      " 57  Goalkeeping       18979 non-null  int64 \n",
      " 58  GK Diving         18979 non-null  int64 \n",
      " 59  GK Handling       18979 non-null  int64 \n",
      " 60  GK Kicking        18979 non-null  int64 \n",
      " 61  GK Positioning    18979 non-null  int64 \n",
      " 62  GK Reflexes       18979 non-null  int64 \n",
      " 63  Total Stats       18979 non-null  int64 \n",
      " 64  Base Stats        18979 non-null  int64 \n",
      " 65  W/F               18979 non-null  object\n",
      " 66  SM                18979 non-null  object\n",
      " 67  A/W               18979 non-null  object\n",
      " 68  D/W               18979 non-null  object\n",
      " 69  IR                18979 non-null  object\n",
      " 70  PAC               18979 non-null  int64 \n",
      " 71  SHO               18979 non-null  int64 \n",
      " 72  PAS               18979 non-null  int64 \n",
      " 73  DRI               18979 non-null  int64 \n",
      " 74  DEF               18979 non-null  int64 \n",
      " 75  PHY               18979 non-null  int64 \n",
      " 76  Hits              16384 non-null  object\n",
      "dtypes: int64(54), object(23)\n",
      "memory usage: 11.1+ MB\n"
     ]
    }
   ],
   "source": [
    "df.info()"
   ]
  },
  {
   "cell_type": "markdown",
   "id": "978e9c75-efab-46ac-bd88-b4869a61ea2b",
   "metadata": {},
   "source": [
    "## Study of object variables"
   ]
  },
  {
   "cell_type": "markdown",
   "id": "7d1346aa-625f-46de-9c1d-d1267ad88864",
   "metadata": {},
   "source": [
    "See if any object (mainly string) variable should be numeric"
   ]
  },
  {
   "cell_type": "code",
   "execution_count": 14,
   "id": "7c763eb8-6069-4917-a534-ad405c90fa67",
   "metadata": {
    "tags": []
   },
   "outputs": [
    {
     "data": {
      "text/plain": [
       "Index(['Name', 'LongName', 'photoUrl', 'playerUrl', 'Nationality', 'Club',\n",
       "       'Contract', 'Positions', 'Height', 'Weight', 'Preferred Foot',\n",
       "       'Best Position', 'Joined', 'Loan Date End', 'Value', 'Wage',\n",
       "       'Release Clause', 'W/F', 'SM', 'A/W', 'D/W', 'IR', 'Hits'],\n",
       "      dtype='object')"
      ]
     },
     "execution_count": 14,
     "metadata": {},
     "output_type": "execute_result"
    }
   ],
   "source": [
    "df.select_dtypes(object).columns"
   ]
  },
  {
   "cell_type": "code",
   "execution_count": 15,
   "id": "ead52659-86f3-41e1-b941-ca5ab0c36222",
   "metadata": {
    "tags": []
   },
   "outputs": [
    {
     "data": {
      "text/html": [
       "<div>\n",
       "<style scoped>\n",
       "    .dataframe tbody tr th:only-of-type {\n",
       "        vertical-align: middle;\n",
       "    }\n",
       "\n",
       "    .dataframe tbody tr th {\n",
       "        vertical-align: top;\n",
       "    }\n",
       "\n",
       "    .dataframe thead th {\n",
       "        text-align: right;\n",
       "    }\n",
       "</style>\n",
       "<table border=\"1\" class=\"dataframe\">\n",
       "  <thead>\n",
       "    <tr style=\"text-align: right;\">\n",
       "      <th></th>\n",
       "      <th>18707</th>\n",
       "      <th>3969</th>\n",
       "      <th>542</th>\n",
       "      <th>1922</th>\n",
       "      <th>16822</th>\n",
       "    </tr>\n",
       "  </thead>\n",
       "  <tbody>\n",
       "    <tr>\n",
       "      <th>Name</th>\n",
       "      <td>Wang Peng</td>\n",
       "      <td>A. Canelo</td>\n",
       "      <td>Adnan Vidual</td>\n",
       "      <td>J. Stephens</td>\n",
       "      <td>R. García</td>\n",
       "    </tr>\n",
       "    <tr>\n",
       "      <th>LongName</th>\n",
       "      <td>Peng Wang</td>\n",
       "      <td>Alexis Canelo</td>\n",
       "      <td>Adnan Claudiano Vidual Machado</td>\n",
       "      <td>Jack Stephens</td>\n",
       "      <td>Ricardo García</td>\n",
       "    </tr>\n",
       "    <tr>\n",
       "      <th>photoUrl</th>\n",
       "      <td>https://cdn.sofifa.com/players/245/029/21_60.png</td>\n",
       "      <td>https://cdn.sofifa.com/players/227/591/21_60.png</td>\n",
       "      <td>https://cdn.sofifa.com/players/230/216/21_60.png</td>\n",
       "      <td>https://cdn.sofifa.com/players/202/697/21_60.png</td>\n",
       "      <td>https://cdn.sofifa.com/players/259/169/21_60.png</td>\n",
       "    </tr>\n",
       "    <tr>\n",
       "      <th>playerUrl</th>\n",
       "      <td>http://sofifa.com/player/245029/peng-wang/210006/</td>\n",
       "      <td>http://sofifa.com/player/227591/alexis-canelo/...</td>\n",
       "      <td>http://sofifa.com/player/230216/adnan-claudian...</td>\n",
       "      <td>http://sofifa.com/player/202697/jack-stephens/...</td>\n",
       "      <td>http://sofifa.com/player/259169/ricardo-garcia...</td>\n",
       "    </tr>\n",
       "    <tr>\n",
       "      <th>Nationality</th>\n",
       "      <td>China PR</td>\n",
       "      <td>Argentina</td>\n",
       "      <td>Brazil</td>\n",
       "      <td>England</td>\n",
       "      <td>Mexico</td>\n",
       "    </tr>\n",
       "    <tr>\n",
       "      <th>Club</th>\n",
       "      <td>\\n\\n\\n\\nGuangzhou R&amp;F FC</td>\n",
       "      <td>\\n\\n\\n\\nDeportivo Toluca</td>\n",
       "      <td>\\n\\n\\n\\nPalmeiras</td>\n",
       "      <td>\\n\\n\\n\\nSouthampton</td>\n",
       "      <td>\\n\\n\\n\\nAtlético de San Luis</td>\n",
       "    </tr>\n",
       "    <tr>\n",
       "      <th>Contract</th>\n",
       "      <td>2020 ~ 2023</td>\n",
       "      <td>2017 ~ 2021</td>\n",
       "      <td>2019 ~ 2023</td>\n",
       "      <td>2011 ~ 2022</td>\n",
       "      <td>2020 ~ 2021</td>\n",
       "    </tr>\n",
       "    <tr>\n",
       "      <th>Positions</th>\n",
       "      <td>CM, CDM</td>\n",
       "      <td>CF, ST, LW</td>\n",
       "      <td>RB</td>\n",
       "      <td>CB</td>\n",
       "      <td>CM</td>\n",
       "    </tr>\n",
       "    <tr>\n",
       "      <th>Height</th>\n",
       "      <td>176cm</td>\n",
       "      <td>180cm</td>\n",
       "      <td>175cm</td>\n",
       "      <td>185cm</td>\n",
       "      <td>172cm</td>\n",
       "    </tr>\n",
       "    <tr>\n",
       "      <th>Weight</th>\n",
       "      <td>69kg</td>\n",
       "      <td>83kg</td>\n",
       "      <td>70kg</td>\n",
       "      <td>75kg</td>\n",
       "      <td>67kg</td>\n",
       "    </tr>\n",
       "    <tr>\n",
       "      <th>Preferred Foot</th>\n",
       "      <td>Right</td>\n",
       "      <td>Right</td>\n",
       "      <td>Right</td>\n",
       "      <td>Right</td>\n",
       "      <td>Right</td>\n",
       "    </tr>\n",
       "    <tr>\n",
       "      <th>Best Position</th>\n",
       "      <td>CAM</td>\n",
       "      <td>CF</td>\n",
       "      <td>RB</td>\n",
       "      <td>CB</td>\n",
       "      <td>CM</td>\n",
       "    </tr>\n",
       "    <tr>\n",
       "      <th>Joined</th>\n",
       "      <td>Aug 10, 2020</td>\n",
       "      <td>Aug 9, 2017</td>\n",
       "      <td>Jan 1, 2019</td>\n",
       "      <td>Apr 5, 2011</td>\n",
       "      <td>Jul 1, 2020</td>\n",
       "    </tr>\n",
       "    <tr>\n",
       "      <th>Loan Date End</th>\n",
       "      <td>NaN</td>\n",
       "      <td>NaN</td>\n",
       "      <td>NaN</td>\n",
       "      <td>NaN</td>\n",
       "      <td>NaN</td>\n",
       "    </tr>\n",
       "    <tr>\n",
       "      <th>Value</th>\n",
       "      <td>€130K</td>\n",
       "      <td>€1.9M</td>\n",
       "      <td>€16M</td>\n",
       "      <td>€7M</td>\n",
       "      <td>€350K</td>\n",
       "    </tr>\n",
       "    <tr>\n",
       "      <th>Wage</th>\n",
       "      <td>€2K</td>\n",
       "      <td>€16K</td>\n",
       "      <td>€42K</td>\n",
       "      <td>€42K</td>\n",
       "      <td>€2K</td>\n",
       "    </tr>\n",
       "    <tr>\n",
       "      <th>Release Clause</th>\n",
       "      <td>€105K</td>\n",
       "      <td>€4.1M</td>\n",
       "      <td>€19.8M</td>\n",
       "      <td>€14.8M</td>\n",
       "      <td>€285K</td>\n",
       "    </tr>\n",
       "    <tr>\n",
       "      <th>W/F</th>\n",
       "      <td>3 ★</td>\n",
       "      <td>4 ★</td>\n",
       "      <td>3 ★</td>\n",
       "      <td>2 ★</td>\n",
       "      <td>2 ★</td>\n",
       "    </tr>\n",
       "    <tr>\n",
       "      <th>SM</th>\n",
       "      <td>2★</td>\n",
       "      <td>3★</td>\n",
       "      <td>2★</td>\n",
       "      <td>2★</td>\n",
       "      <td>2★</td>\n",
       "    </tr>\n",
       "    <tr>\n",
       "      <th>A/W</th>\n",
       "      <td>Medium</td>\n",
       "      <td>High</td>\n",
       "      <td>Medium</td>\n",
       "      <td>Medium</td>\n",
       "      <td>Medium</td>\n",
       "    </tr>\n",
       "    <tr>\n",
       "      <th>D/W</th>\n",
       "      <td>Medium</td>\n",
       "      <td>Low</td>\n",
       "      <td>Medium</td>\n",
       "      <td>Medium</td>\n",
       "      <td>Medium</td>\n",
       "    </tr>\n",
       "    <tr>\n",
       "      <th>IR</th>\n",
       "      <td>1 ★</td>\n",
       "      <td>1 ★</td>\n",
       "      <td>1 ★</td>\n",
       "      <td>1 ★</td>\n",
       "      <td>1 ★</td>\n",
       "    </tr>\n",
       "    <tr>\n",
       "      <th>Hits</th>\n",
       "      <td>NaN</td>\n",
       "      <td>9</td>\n",
       "      <td>9</td>\n",
       "      <td>23</td>\n",
       "      <td>NaN</td>\n",
       "    </tr>\n",
       "  </tbody>\n",
       "</table>\n",
       "</div>"
      ],
      "text/plain": [
       "                                                            18707  \\\n",
       "Name                                                    Wang Peng   \n",
       "LongName                                                Peng Wang   \n",
       "photoUrl         https://cdn.sofifa.com/players/245/029/21_60.png   \n",
       "playerUrl       http://sofifa.com/player/245029/peng-wang/210006/   \n",
       "Nationality                                              China PR   \n",
       "Club                                     \\n\\n\\n\\nGuangzhou R&F FC   \n",
       "Contract                                              2020 ~ 2023   \n",
       "Positions                                                 CM, CDM   \n",
       "Height                                                      176cm   \n",
       "Weight                                                       69kg   \n",
       "Preferred Foot                                              Right   \n",
       "Best Position                                                 CAM   \n",
       "Joined                                               Aug 10, 2020   \n",
       "Loan Date End                                                 NaN   \n",
       "Value                                                       €130K   \n",
       "Wage                                                          €2K   \n",
       "Release Clause                                              €105K   \n",
       "W/F                                                           3 ★   \n",
       "SM                                                             2★   \n",
       "A/W                                                        Medium   \n",
       "D/W                                                        Medium   \n",
       "IR                                                            1 ★   \n",
       "Hits                                                          NaN   \n",
       "\n",
       "                                                            3969   \\\n",
       "Name                                                    A. Canelo   \n",
       "LongName                                            Alexis Canelo   \n",
       "photoUrl         https://cdn.sofifa.com/players/227/591/21_60.png   \n",
       "playerUrl       http://sofifa.com/player/227591/alexis-canelo/...   \n",
       "Nationality                                             Argentina   \n",
       "Club                                     \\n\\n\\n\\nDeportivo Toluca   \n",
       "Contract                                              2017 ~ 2021   \n",
       "Positions                                              CF, ST, LW   \n",
       "Height                                                      180cm   \n",
       "Weight                                                       83kg   \n",
       "Preferred Foot                                              Right   \n",
       "Best Position                                                  CF   \n",
       "Joined                                                Aug 9, 2017   \n",
       "Loan Date End                                                 NaN   \n",
       "Value                                                       €1.9M   \n",
       "Wage                                                         €16K   \n",
       "Release Clause                                              €4.1M   \n",
       "W/F                                                           4 ★   \n",
       "SM                                                             3★   \n",
       "A/W                                                          High   \n",
       "D/W                                                           Low   \n",
       "IR                                                            1 ★   \n",
       "Hits                                                            9   \n",
       "\n",
       "                                                            542    \\\n",
       "Name                                                 Adnan Vidual   \n",
       "LongName                           Adnan Claudiano Vidual Machado   \n",
       "photoUrl         https://cdn.sofifa.com/players/230/216/21_60.png   \n",
       "playerUrl       http://sofifa.com/player/230216/adnan-claudian...   \n",
       "Nationality                                                Brazil   \n",
       "Club                                            \\n\\n\\n\\nPalmeiras   \n",
       "Contract                                              2019 ~ 2023   \n",
       "Positions                                                      RB   \n",
       "Height                                                      175cm   \n",
       "Weight                                                       70kg   \n",
       "Preferred Foot                                              Right   \n",
       "Best Position                                                  RB   \n",
       "Joined                                                Jan 1, 2019   \n",
       "Loan Date End                                                 NaN   \n",
       "Value                                                        €16M   \n",
       "Wage                                                         €42K   \n",
       "Release Clause                                             €19.8M   \n",
       "W/F                                                           3 ★   \n",
       "SM                                                             2★   \n",
       "A/W                                                        Medium   \n",
       "D/W                                                        Medium   \n",
       "IR                                                            1 ★   \n",
       "Hits                                                            9   \n",
       "\n",
       "                                                            1922   \\\n",
       "Name                                                  J. Stephens   \n",
       "LongName                                            Jack Stephens   \n",
       "photoUrl         https://cdn.sofifa.com/players/202/697/21_60.png   \n",
       "playerUrl       http://sofifa.com/player/202697/jack-stephens/...   \n",
       "Nationality                                               England   \n",
       "Club                                          \\n\\n\\n\\nSouthampton   \n",
       "Contract                                              2011 ~ 2022   \n",
       "Positions                                                      CB   \n",
       "Height                                                      185cm   \n",
       "Weight                                                       75kg   \n",
       "Preferred Foot                                              Right   \n",
       "Best Position                                                  CB   \n",
       "Joined                                                Apr 5, 2011   \n",
       "Loan Date End                                                 NaN   \n",
       "Value                                                         €7M   \n",
       "Wage                                                         €42K   \n",
       "Release Clause                                             €14.8M   \n",
       "W/F                                                           2 ★   \n",
       "SM                                                             2★   \n",
       "A/W                                                        Medium   \n",
       "D/W                                                        Medium   \n",
       "IR                                                            1 ★   \n",
       "Hits                                                           23   \n",
       "\n",
       "                                                            16822  \n",
       "Name                                                    R. García  \n",
       "LongName                                           Ricardo García  \n",
       "photoUrl         https://cdn.sofifa.com/players/259/169/21_60.png  \n",
       "playerUrl       http://sofifa.com/player/259169/ricardo-garcia...  \n",
       "Nationality                                                Mexico  \n",
       "Club                                 \\n\\n\\n\\nAtlético de San Luis  \n",
       "Contract                                              2020 ~ 2021  \n",
       "Positions                                                      CM  \n",
       "Height                                                      172cm  \n",
       "Weight                                                       67kg  \n",
       "Preferred Foot                                              Right  \n",
       "Best Position                                                  CM  \n",
       "Joined                                                Jul 1, 2020  \n",
       "Loan Date End                                                 NaN  \n",
       "Value                                                       €350K  \n",
       "Wage                                                          €2K  \n",
       "Release Clause                                              €285K  \n",
       "W/F                                                           2 ★  \n",
       "SM                                                             2★  \n",
       "A/W                                                        Medium  \n",
       "D/W                                                        Medium  \n",
       "IR                                                            1 ★  \n",
       "Hits                                                          NaN  "
      ]
     },
     "execution_count": 15,
     "metadata": {},
     "output_type": "execute_result"
    }
   ],
   "source": [
    "# just take 5 rows to check the values and see if they effectively must be integers or some need a type conversion\n",
    "string_vars = df.select_dtypes(object).sample(5)\n",
    "string_vars.T"
   ]
  },
  {
   "cell_type": "markdown",
   "id": "45096263-9010-49a6-aa7e-f6a28e99aeb9",
   "metadata": {},
   "source": [
    "## Proposed actions"
   ]
  },
  {
   "cell_type": "markdown",
   "id": "a4fc1b0e-056d-43a5-b627-cd17b544efcb",
   "metadata": {},
   "source": [
    "Some conclusions after observing the data from some `object` type columns:  \n",
    "1. Rename columns so it's easier to access them using dot notation (df.wage)\n",
    "2. `Height` could be transformed to feet and converted to float\n",
    "3. `Weight` can be converted to integer after removing lbs\n",
    "4. `Foot` definitely must be converted to categorical\n",
    "5. `Value` and `Release Clause` can be converted to float and remove euro sign (or maybe there's some dollar sign)\n",
    "6. `W/F`, `SM` and `IR` must be converted to integer (or categorical and then ordered category)\n",
    "7. `Joined` must be datetime dtype\n",
    "8. `Hits` can be cleaned and transformed into integer (later converted to ordered categorical)\n",
    "9. Set `a/w` and `d/w` to categorical and sort their category values\n",
    "10. Study `contract` column\n",
    "11. Clean `club` values\n",
    "12. Reestructuration and/or removal of columns after all processing"
   ]
  },
  {
   "cell_type": "markdown",
   "id": "2e4fe62e-1d7b-4e75-8c3f-ce340bfb75d3",
   "metadata": {},
   "source": [
    "### 1 Rename columns"
   ]
  },
  {
   "cell_type": "code",
   "execution_count": 16,
   "id": "fd23323d-ab2f-438e-bb7c-d6bd7c808bc8",
   "metadata": {
    "tags": []
   },
   "outputs": [],
   "source": [
    "columns_backup = df.columns.to_list()\n",
    "df.columns = [i.replace(' & ', '_').replace(' ', '_').lower() for i in df.columns]"
   ]
  },
  {
   "cell_type": "code",
   "execution_count": 17,
   "id": "4b036b3e-f95d-4e8b-9864-f9805e10e4ee",
   "metadata": {
    "tags": []
   },
   "outputs": [
    {
     "data": {
      "text/plain": [
       "Index(['id', 'name', 'longname', 'photourl', 'playerurl', 'nationality', 'age',\n",
       "       '↓ova', 'pot', 'club', 'contract', 'positions', 'height', 'weight',\n",
       "       'preferred_foot', 'bov', 'best_position', 'joined', 'loan_date_end',\n",
       "       'value', 'wage', 'release_clause', 'attacking', 'crossing', 'finishing',\n",
       "       'heading_accuracy', 'short_passing', 'volleys', 'skill', 'dribbling',\n",
       "       'curve', 'fk_accuracy', 'long_passing', 'ball_control', 'movement',\n",
       "       'acceleration', 'sprint_speed', 'agility', 'reactions', 'balance',\n",
       "       'power', 'shot_power', 'jumping', 'stamina', 'strength', 'long_shots',\n",
       "       'mentality', 'aggression', 'interceptions', 'positioning', 'vision',\n",
       "       'penalties', 'composure', 'defending', 'marking', 'standing_tackle',\n",
       "       'sliding_tackle', 'goalkeeping', 'gk_diving', 'gk_handling',\n",
       "       'gk_kicking', 'gk_positioning', 'gk_reflexes', 'total_stats',\n",
       "       'base_stats', 'w/f', 'sm', 'a/w', 'd/w', 'ir', 'pac', 'sho', 'pas',\n",
       "       'dri', 'def', 'phy', 'hits'],\n",
       "      dtype='object')"
      ]
     },
     "execution_count": 17,
     "metadata": {},
     "output_type": "execute_result"
    }
   ],
   "source": [
    "df.columns"
   ]
  },
  {
   "cell_type": "markdown",
   "id": "2f802a1d-6688-4211-902b-2871c32c6f45",
   "metadata": {},
   "source": [
    "### 2. `Height` could be transformed to feet and converted to float"
   ]
  },
  {
   "cell_type": "code",
   "execution_count": 18,
   "id": "71fc43e9-9d84-4f4e-b6ce-23fa130ac48e",
   "metadata": {
    "tags": []
   },
   "outputs": [
    {
     "data": {
      "text/plain": [
       "5553     170cm\n",
       "18138    179cm\n",
       "16741    184cm\n",
       "14664    183cm\n",
       "1723     178cm\n",
       "10941    178cm\n",
       "14386    187cm\n",
       "2082     189cm\n",
       "572      176cm\n",
       "18834    179cm\n",
       "Name: height, dtype: object"
      ]
     },
     "execution_count": 18,
     "metadata": {},
     "output_type": "execute_result"
    }
   ],
   "source": [
    "height = df.height\n",
    "height.sample(10)"
   ]
  },
  {
   "cell_type": "markdown",
   "id": "3b2e6fd0-8e1a-4bc7-9ca8-0cf837fedf34",
   "metadata": {},
   "source": [
    "All heights seem to be in cm. Let's see if there are some feet or inches"
   ]
  },
  {
   "cell_type": "code",
   "execution_count": 19,
   "id": "b837301c-ee56-4781-961f-2f501888c99d",
   "metadata": {
    "tags": []
   },
   "outputs": [
    {
     "data": {
      "text/plain": [
       "0"
      ]
     },
     "execution_count": 19,
     "metadata": {},
     "output_type": "execute_result"
    }
   ],
   "source": [
    "# number of row with cm in the value\n",
    "height.str.contains('ft').sum()"
   ]
  },
  {
   "cell_type": "code",
   "execution_count": 20,
   "id": "9223132e-445c-4c4f-b941-5ce096cb9992",
   "metadata": {
    "tags": []
   },
   "outputs": [
    {
     "data": {
      "text/plain": [
       "0"
      ]
     },
     "execution_count": 20,
     "metadata": {},
     "output_type": "execute_result"
    }
   ],
   "source": [
    "# number of row with cm in the value\n",
    "height.str.contains('inch').sum()"
   ]
  },
  {
   "cell_type": "code",
   "execution_count": 21,
   "id": "e0a1b6bf-0c0a-4ea3-8c6a-1a3202b65626",
   "metadata": {
    "tags": []
   },
   "outputs": [
    {
     "data": {
      "text/plain": [
       "0"
      ]
     },
     "execution_count": 21,
     "metadata": {},
     "output_type": "execute_result"
    }
   ],
   "source": [
    "# number of row with cm in the value\n",
    "height.str.contains('feet').sum()"
   ]
  },
  {
   "cell_type": "markdown",
   "id": "934d604b-3bc6-4d2f-8c87-6ad1381da559",
   "metadata": {},
   "source": [
    "All of the heights (which are not null) are in cm?"
   ]
  },
  {
   "cell_type": "code",
   "execution_count": 22,
   "id": "935ece00-d14d-4ff8-9750-fd5f33e2fe50",
   "metadata": {},
   "outputs": [
    {
     "data": {
      "text/plain": [
       "False"
      ]
     },
     "execution_count": 22,
     "metadata": {},
     "output_type": "execute_result"
    }
   ],
   "source": [
    "df.height[df.height.notnull()].str.endswith('cm').all()"
   ]
  },
  {
   "cell_type": "markdown",
   "id": "b9e869e9-5b5f-443a-be9f-bb671a0d1524",
   "metadata": {},
   "source": [
    "Let's check what other units there are."
   ]
  },
  {
   "cell_type": "code",
   "execution_count": 23,
   "id": "84db9e3f-264b-4c01-80cb-5697cff9443c",
   "metadata": {},
   "outputs": [],
   "source": [
    "notnull_height = df.height.dropna()"
   ]
  },
  {
   "cell_type": "code",
   "execution_count": 24,
   "id": "35cdebc6-2e4d-4d81-9421-02fde102a1c2",
   "metadata": {},
   "outputs": [
    {
     "data": {
      "text/plain": [
       "array(['cm', '\"', '1\"', '0\"'], dtype=object)"
      ]
     },
     "execution_count": 24,
     "metadata": {},
     "output_type": "execute_result"
    }
   ],
   "source": [
    "notnull_height.str[3:].unique()"
   ]
  },
  {
   "cell_type": "markdown",
   "id": "120b3e0b-cd7e-4044-927d-e6139208a24b",
   "metadata": {},
   "source": [
    "The results show that there are some values in inches ( \" )"
   ]
  },
  {
   "cell_type": "code",
   "execution_count": 25,
   "id": "96d17dbf-9677-4a44-bd85-73c733770099",
   "metadata": {},
   "outputs": [
    {
     "data": {
      "text/plain": [
       "793     6'2\"\n",
       "847     6'3\"\n",
       "848     6'5\"\n",
       "860    5'11\"\n",
       "861     6'4\"\n",
       "862     6'1\"\n",
       "863     6'0\"\n",
       "864     6'1\"\n",
       "865    5'11\"\n",
       "866     6'2\"\n",
       "867     6'0\"\n",
       "868     6'3\"\n",
       "869     6'0\"\n",
       "871    5'10\"\n",
       "872     5'9\"\n",
       "873    5'11\"\n",
       "874     5'6\"\n",
       "875     6'1\"\n",
       "876     6'0\"\n",
       "877     6'4\"\n",
       "878     5'7\"\n",
       "879     6'0\"\n",
       "880    5'11\"\n",
       "881    5'11\"\n",
       "883     6'0\"\n",
       "884    5'10\"\n",
       "885     6'3\"\n",
       "886     6'0\"\n",
       "887     5'4\"\n",
       "888    5'11\"\n",
       "889     5'9\"\n",
       "890     5'7\"\n",
       "891     6'0\"\n",
       "892    5'10\"\n",
       "893     6'2\"\n",
       "894     6'2\"\n",
       "895     6'3\"\n",
       "896     5'7\"\n",
       "897    5'10\"\n",
       "898     5'9\"\n",
       "Name: height, dtype: object"
      ]
     },
     "execution_count": 25,
     "metadata": {},
     "output_type": "execute_result"
    }
   ],
   "source": [
    "notnull_height[notnull_height.str.endswith('\"')]"
   ]
  },
  {
   "cell_type": "markdown",
   "id": "93a1fc32-29dd-4266-94a2-ce700467aae0",
   "metadata": {},
   "source": [
    "Definitely `height` needs some cleaning and uniform units for height. I will create `height_m` and `height_feet` columns."
   ]
  },
  {
   "cell_type": "code",
   "execution_count": 26,
   "id": "99dd5127-63cb-43f3-acec-b92f4fe4d23c",
   "metadata": {},
   "outputs": [],
   "source": [
    "df['height_m'] = df.height\n",
    "df['height_feet'] = df.height"
   ]
  },
  {
   "cell_type": "markdown",
   "id": "f7f430eb-cec9-4eca-944d-79269fccb534",
   "metadata": {},
   "source": [
    "1 metre = 0.3048 feet\n",
    "1 inch = 1/12 feet"
   ]
  },
  {
   "cell_type": "code",
   "execution_count": 27,
   "id": "e82b7591-6df3-41f2-8e9b-0ba1f033844a",
   "metadata": {},
   "outputs": [],
   "source": [
    "def to_metres(value):\n",
    "    # if unit is cm\n",
    "    if value.endswith('cm'):\n",
    "        value = int(value[:-2])\n",
    "        # conversion from cm to metre\n",
    "        value = value / 100\n",
    "        \n",
    "    # if value is in feet and inches\n",
    "    else:\n",
    "        value = value.strip('\"').split(\"'\")\n",
    "        # conversion from feet and inches to just feet\n",
    "        value = float(value[0]) + float(value[1])/12\n",
    "        # conversion from feet to metre\n",
    "        value *= 0.3048\n",
    "        \n",
    "    return value"
   ]
  },
  {
   "cell_type": "code",
   "execution_count": 28,
   "id": "bd45a56f-d778-4a04-91d5-44611df22787",
   "metadata": {},
   "outputs": [],
   "source": [
    "def to_feet(value):\n",
    "    # if unit is cm\n",
    "    if value.endswith('cm'):\n",
    "        value = int(value[:-2])\n",
    "        # conversion from cm to feet\n",
    "        value = value / 30.48\n",
    "        \n",
    "    # if value is in feet and inches\n",
    "    else:\n",
    "        value = value.strip('\"').split(\"'\")\n",
    "        # conversion to feet\n",
    "        value = float(value[0]) + float(value[1])/12\n",
    "        \n",
    "    return value"
   ]
  },
  {
   "cell_type": "code",
   "execution_count": 29,
   "id": "495e48ad-21fd-4ab3-b2b6-fc1a19e8dba7",
   "metadata": {},
   "outputs": [],
   "source": [
    "df.height_m = df.height_m.apply(to_metres)"
   ]
  },
  {
   "cell_type": "code",
   "execution_count": 30,
   "id": "6d22c1c9-7ae0-474c-b2d7-1d39e929161b",
   "metadata": {},
   "outputs": [],
   "source": [
    "df.height_feet = df.height_feet.apply(to_feet)"
   ]
  },
  {
   "cell_type": "markdown",
   "id": "ce477b91-83b9-41cd-a61d-ee82ec1f2e97",
   "metadata": {},
   "source": [
    "At the end, I will remove the unnecessary columns. By now, I will keep all the height columns."
   ]
  },
  {
   "cell_type": "markdown",
   "id": "e7813615-93ed-4ac5-8dcb-20d5463c1d9b",
   "metadata": {
    "tags": [],
    "toc-hr-collapsed": true
   },
   "source": [
    "### 3. `Weight` can be converted to integer after removing `kg`"
   ]
  },
  {
   "cell_type": "code",
   "execution_count": 31,
   "id": "7bc97c3e-412e-47e9-ab25-023ae7ab62a4",
   "metadata": {
    "tags": []
   },
   "outputs": [
    {
     "data": {
      "text/plain": [
       "7931     74kg\n",
       "6346     80kg\n",
       "4068     87kg\n",
       "14257    84kg\n",
       "17550    65kg\n",
       "Name: weight, dtype: object"
      ]
     },
     "execution_count": 31,
     "metadata": {},
     "output_type": "execute_result"
    }
   ],
   "source": [
    "weight = df.weight\n",
    "weight.sample(5)"
   ]
  },
  {
   "cell_type": "markdown",
   "id": "fb90a973-28af-40d8-b75d-1e39486537d2",
   "metadata": {
    "tags": []
   },
   "source": [
    "#### Error: `ValueError: invalid literal for int() with base 10: '183l'`\n",
    "Uncomment the cell below to see the whole error output."
   ]
  },
  {
   "cell_type": "code",
   "execution_count": 32,
   "id": "2adf05d6-7565-4bdd-b484-d171721eaaee",
   "metadata": {
    "tags": []
   },
   "outputs": [],
   "source": [
    "#weight = weight.apply(lambda x : int(x[:-2]) )"
   ]
  },
  {
   "cell_type": "markdown",
   "id": "099c9652-8c0b-479e-93ad-f9d88186c949",
   "metadata": {},
   "source": [
    "It seems as if some weights are in lb and others in Kg"
   ]
  },
  {
   "cell_type": "code",
   "execution_count": 33,
   "id": "9fb60894-5928-47ce-9ed7-6e3c607e1ac2",
   "metadata": {
    "tags": []
   },
   "outputs": [
    {
     "data": {
      "text/plain": [
       "array(['2kg', '3kg', '7kg', '0kg', '8kg', '1kg', '5kg', '9kg', '4kg',\n",
       "       '6kg', 'lbs'], dtype=object)"
      ]
     },
     "execution_count": 33,
     "metadata": {},
     "output_type": "execute_result"
    }
   ],
   "source": [
    "weight.str[-3:].unique()"
   ]
  },
  {
   "cell_type": "code",
   "execution_count": 34,
   "id": "e2caebce-fa25-42e3-aa68-12e878e3cfed",
   "metadata": {
    "tags": []
   },
   "outputs": [],
   "source": [
    "def convert_weight(value):\n",
    "    if value.endswith('kg'):\n",
    "        return float(value[:-2])  # lbs to kg will throw float values\n",
    "    else:\n",
    "        value = value[:-3]\n",
    "        value = float(value) / 2.204623  # 1 Kg = 2,204623 lb\n",
    "        return value"
   ]
  },
  {
   "cell_type": "code",
   "execution_count": 35,
   "id": "f748905b-73f5-481f-a7ae-b872e188c627",
   "metadata": {
    "tags": []
   },
   "outputs": [],
   "source": [
    "weight = weight.apply(convert_weight)"
   ]
  },
  {
   "cell_type": "code",
   "execution_count": 36,
   "id": "734951e3-9adb-4c40-9554-40e50c95a52e",
   "metadata": {
    "tags": []
   },
   "outputs": [
    {
     "data": {
      "text/plain": [
       "0        72.0\n",
       "1        83.0\n",
       "2        87.0\n",
       "3        70.0\n",
       "4        68.0\n",
       "         ... \n",
       "18974    66.0\n",
       "18975    65.0\n",
       "18976    74.0\n",
       "18977    69.0\n",
       "18978    75.0\n",
       "Name: weight, Length: 18979, dtype: float64"
      ]
     },
     "execution_count": 36,
     "metadata": {},
     "output_type": "execute_result"
    }
   ],
   "source": [
    "weight"
   ]
  },
  {
   "cell_type": "code",
   "execution_count": 37,
   "id": "6facf82d-ef95-46a2-99ac-c541ba344edd",
   "metadata": {
    "tags": []
   },
   "outputs": [],
   "source": [
    "df.weight = weight"
   ]
  },
  {
   "cell_type": "markdown",
   "id": "dc2e5f9f-5c99-4278-b58a-fc3969bf708d",
   "metadata": {},
   "source": [
    "### 4. `Preferred Foot` definitely must be converted to categorical"
   ]
  },
  {
   "cell_type": "code",
   "execution_count": 38,
   "id": "984a3fc9-c7da-43a6-b14b-9b7f9f813ca1",
   "metadata": {},
   "outputs": [
    {
     "data": {
      "text/plain": [
       "0         Left\n",
       "1        Right\n",
       "2        Right\n",
       "3        Right\n",
       "4        Right\n",
       "         ...  \n",
       "18974    Right\n",
       "18975    Right\n",
       "18976    Right\n",
       "18977    Right\n",
       "18978     Left\n",
       "Name: preferred_foot, Length: 18979, dtype: object"
      ]
     },
     "execution_count": 38,
     "metadata": {},
     "output_type": "execute_result"
    }
   ],
   "source": [
    "df.preferred_foot"
   ]
  },
  {
   "cell_type": "code",
   "execution_count": 39,
   "id": "151e9e1b-0fb1-4590-93a6-be2889deeb01",
   "metadata": {
    "tags": []
   },
   "outputs": [
    {
     "data": {
      "text/plain": [
       "array(['Left', 'Right'], dtype=object)"
      ]
     },
     "execution_count": 39,
     "metadata": {},
     "output_type": "execute_result"
    }
   ],
   "source": [
    "foot =df.preferred_foot\n",
    "foot.unique()"
   ]
  },
  {
   "cell_type": "code",
   "execution_count": 40,
   "id": "6f98e606-f944-456b-aa50-3c4d7584d617",
   "metadata": {
    "tags": []
   },
   "outputs": [],
   "source": [
    "df.preferred_foot = foot.astype('category')"
   ]
  },
  {
   "cell_type": "code",
   "execution_count": 41,
   "id": "ac607ea9-d16a-494e-9850-b4c5cb5309f8",
   "metadata": {
    "tags": []
   },
   "outputs": [
    {
     "data": {
      "text/plain": [
       "CategoricalDtype(categories=['Left', 'Right'], ordered=False)"
      ]
     },
     "execution_count": 41,
     "metadata": {},
     "output_type": "execute_result"
    }
   ],
   "source": [
    "df.dtypes['preferred_foot']"
   ]
  },
  {
   "cell_type": "markdown",
   "id": "624a3aa6-7adf-464c-b642-8fb0c8db0a3d",
   "metadata": {
    "toc-hr-collapsed": true
   },
   "source": [
    "### 5. `value`, `wage` and `release_clause` can be converted to float and remove euro sign (or maybe there's some dollar sign)"
   ]
  },
  {
   "cell_type": "code",
   "execution_count": 42,
   "id": "4693d360-7805-4cb1-933d-2ddf54cebad5",
   "metadata": {
    "tags": []
   },
   "outputs": [],
   "source": [
    "value = df.value\n",
    "wage = df.wage\n",
    "release_clause = df.release_clause"
   ]
  },
  {
   "cell_type": "code",
   "execution_count": 43,
   "id": "d3d7113e-f01d-4f3c-a9ed-86a9d785304e",
   "metadata": {
    "tags": []
   },
   "outputs": [
    {
     "data": {
      "text/plain": [
       "18446    €500\n",
       "3991      €9K\n",
       "15622     €2K\n",
       "17087     €1K\n",
       "13365     €1K\n",
       "Name: wage, dtype: object"
      ]
     },
     "execution_count": 43,
     "metadata": {},
     "output_type": "execute_result"
    }
   ],
   "source": [
    "wage.sample(5)"
   ]
  },
  {
   "cell_type": "code",
   "execution_count": 44,
   "id": "d5687c0a-0269-494d-a0a2-692c8ec5dfc2",
   "metadata": {
    "tags": []
   },
   "outputs": [
    {
     "data": {
      "text/plain": [
       "13019      €1M\n",
       "7507     €2.3M\n",
       "17569    €400K\n",
       "7422     €1.2M\n",
       "12369    €575K\n",
       "Name: value, dtype: object"
      ]
     },
     "execution_count": 44,
     "metadata": {},
     "output_type": "execute_result"
    }
   ],
   "source": [
    "value.sample(5)"
   ]
  },
  {
   "cell_type": "code",
   "execution_count": 45,
   "id": "aee10918-eec5-4264-b82f-9add3519dd1f",
   "metadata": {
    "tags": []
   },
   "outputs": [
    {
     "data": {
      "text/plain": [
       "4836      €2.2M\n",
       "12819     €799K\n",
       "980      €24.2M\n",
       "16164     €571K\n",
       "16939     €289K\n",
       "Name: release_clause, dtype: object"
      ]
     },
     "execution_count": 45,
     "metadata": {},
     "output_type": "execute_result"
    }
   ],
   "source": [
    "release_clause.sample(5)"
   ]
  },
  {
   "cell_type": "markdown",
   "id": "9e9964c3-da93-4289-97ea-1044eb03ea26",
   "metadata": {},
   "source": [
    "#### 5.1 Check if all values are in euros or there are in dollars"
   ]
  },
  {
   "cell_type": "code",
   "execution_count": 46,
   "id": "556c1f4f-bd85-4d87-83d6-99404643b203",
   "metadata": {
    "tags": []
   },
   "outputs": [
    {
     "data": {
      "text/plain": [
       "array(['€'], dtype=object)"
      ]
     },
     "execution_count": 46,
     "metadata": {},
     "output_type": "execute_result"
    }
   ],
   "source": [
    "value.str[0].unique()"
   ]
  },
  {
   "cell_type": "code",
   "execution_count": 47,
   "id": "6d8169af-2027-4237-a72a-1e61f7474dc6",
   "metadata": {
    "tags": []
   },
   "outputs": [
    {
     "data": {
      "text/plain": [
       "array(['€'], dtype=object)"
      ]
     },
     "execution_count": 47,
     "metadata": {},
     "output_type": "execute_result"
    }
   ],
   "source": [
    "wage.str[0].unique()"
   ]
  },
  {
   "cell_type": "code",
   "execution_count": 48,
   "id": "6288f6fb-3cd1-4d4a-8b3e-607afff284c9",
   "metadata": {
    "tags": []
   },
   "outputs": [
    {
     "data": {
      "text/plain": [
       "array(['€'], dtype=object)"
      ]
     },
     "execution_count": 48,
     "metadata": {},
     "output_type": "execute_result"
    }
   ],
   "source": [
    "release_clause.str[0].unique()"
   ]
  },
  {
   "cell_type": "markdown",
   "id": "402f396b-6de5-4798-9765-cf069f8805b0",
   "metadata": {},
   "source": [
    "#### 5.2 Remove euro sign"
   ]
  },
  {
   "cell_type": "code",
   "execution_count": 49,
   "id": "bfbbc469-bd47-41bc-9d4d-e477d34c9e4a",
   "metadata": {
    "tags": []
   },
   "outputs": [],
   "source": [
    "value = value.str[1:]\n",
    "wage = wage.str[1:]\n",
    "release_clause = release_clause.str[1:]"
   ]
  },
  {
   "cell_type": "markdown",
   "id": "e7b00647-7ab2-4962-853a-88587b8c2e44",
   "metadata": {},
   "source": [
    "#### 5.3 Convert to million euros using a custom function"
   ]
  },
  {
   "cell_type": "code",
   "execution_count": 50,
   "id": "25dc7b80-3616-4040-8e5b-c7bd599b65b5",
   "metadata": {
    "tags": []
   },
   "outputs": [],
   "source": [
    "def to_millions(i):\n",
    "\tif i[-1] == 'K':\n",
    "\t\treturn float(i[:-1]) / 1000\n",
    "\telif i[-1] == 'M':\n",
    "\t\treturn float(i[:-1])\n",
    "\telse:\n",
    "\t\treturn float(i[:-1]) / 1E6\t\t"
   ]
  },
  {
   "cell_type": "markdown",
   "id": "8461b8be-446c-4e45-90cc-dc3c719939ed",
   "metadata": {},
   "source": [
    "#### Error: `ValueError: could not convert string to float: ''`\n",
    "Uncomment the cell below to see the whole error output."
   ]
  },
  {
   "cell_type": "code",
   "execution_count": 51,
   "id": "c29ec2e7-4b50-4385-b0c4-3f308b75e0bb",
   "metadata": {
    "tags": []
   },
   "outputs": [],
   "source": [
    "#value.apply(to_millions)"
   ]
  },
  {
   "cell_type": "markdown",
   "id": "2e34e03b-4541-452d-8050-c5ff1ddb2332",
   "metadata": {},
   "source": [
    "It looks as if there are some empty values. Count the nan for every variable"
   ]
  },
  {
   "cell_type": "code",
   "execution_count": 52,
   "id": "6ea64460-b9c9-4154-8487-ef08d4209477",
   "metadata": {
    "tags": []
   },
   "outputs": [
    {
     "data": {
      "text/plain": [
       "248"
      ]
     },
     "execution_count": 52,
     "metadata": {},
     "output_type": "execute_result"
    }
   ],
   "source": [
    "v = value.str[:-1]\n",
    "(v == '').sum()"
   ]
  },
  {
   "cell_type": "code",
   "execution_count": 53,
   "id": "825c83f7-29ec-4e04-aee3-a529d51f4041",
   "metadata": {
    "tags": []
   },
   "outputs": [
    {
     "data": {
      "text/plain": [
       "237"
      ]
     },
     "execution_count": 53,
     "metadata": {},
     "output_type": "execute_result"
    }
   ],
   "source": [
    "w = wage.str[:-1]\n",
    "(w == '').sum()"
   ]
  },
  {
   "cell_type": "code",
   "execution_count": 54,
   "id": "8a8f7cdc-6f3c-4943-8db9-7b735865317c",
   "metadata": {
    "tags": []
   },
   "outputs": [
    {
     "data": {
      "text/plain": [
       "1261"
      ]
     },
     "execution_count": 54,
     "metadata": {},
     "output_type": "execute_result"
    }
   ],
   "source": [
    "r = release_clause.str[:-1]\n",
    "(r == '').sum()"
   ]
  },
  {
   "cell_type": "markdown",
   "id": "0671ff7f-aada-4f63-a753-2cdef95951af",
   "metadata": {},
   "source": [
    "Last count of nan values was really high. What is the percentage of nan in the variable?"
   ]
  },
  {
   "cell_type": "code",
   "execution_count": 55,
   "id": "1e4c6cef-bab8-4e95-a7b2-684bbbf399a4",
   "metadata": {
    "tags": []
   },
   "outputs": [
    {
     "name": "stdout",
     "output_type": "stream",
     "text": [
      "The percentage of nan values in release_clause variable is: 6.64\n"
     ]
    }
   ],
   "source": [
    "nan_count = (r == '').sum()\n",
    "print(f'The percentage of nan values in release_clause variable is: {round(nan_count / len(r) * 100, 2)}')"
   ]
  },
  {
   "cell_type": "markdown",
   "id": "b3f81e09-aba9-4334-b0bc-dba24a35e429",
   "metadata": {},
   "source": [
    "So the count was not so high in the end."
   ]
  },
  {
   "cell_type": "markdown",
   "id": "b5319219-4458-4280-b32d-359804cbd2a7",
   "metadata": {},
   "source": [
    "There are empty values: ''. I will use a slightly modified version of function `to_millions` that replaces the '' values for '0M'."
   ]
  },
  {
   "cell_type": "code",
   "execution_count": 56,
   "id": "4bd43dc5-c431-4a40-94b8-817c4cd99717",
   "metadata": {
    "tags": []
   },
   "outputs": [],
   "source": [
    "def to_millions(i):\n",
    "\tif i[:-1] == '':\n",
    "\t\treturn np.nan\n",
    "\telif i[-1] == 'K':\n",
    "\t\treturn float(i[:-1]) / 1000\n",
    "\telif i[-1] == 'M':\n",
    "\t\treturn float(i[:-1])\n",
    "\telse:\n",
    "\t\treturn float(i[:-1]) / 1E6"
   ]
  },
  {
   "cell_type": "code",
   "execution_count": 57,
   "id": "661d3622-1ab0-4798-ae1a-6e5f3663a81c",
   "metadata": {
    "tags": []
   },
   "outputs": [],
   "source": [
    "value = value.apply(to_millions)\n",
    "wage = wage.apply(to_millions) * 52  # convert to annual wage\n",
    "release_clause = release_clause.apply(to_millions)"
   ]
  },
  {
   "cell_type": "markdown",
   "id": "46d1d876-83bd-40a9-82fc-f178cfd9992c",
   "metadata": {},
   "source": [
    "#### 5.4 Impute nan values by the mean value"
   ]
  },
  {
   "cell_type": "markdown",
   "id": "828757e3-14fa-449e-aef0-333350f9153d",
   "metadata": {},
   "source": [
    "Remember that there were empty values, which are now nan values:"
   ]
  },
  {
   "cell_type": "code",
   "execution_count": 58,
   "id": "13e73fc9-975a-43ef-85e6-7081c0aa9628",
   "metadata": {
    "tags": []
   },
   "outputs": [
    {
     "data": {
      "text/plain": [
       "248"
      ]
     },
     "execution_count": 58,
     "metadata": {},
     "output_type": "execute_result"
    }
   ],
   "source": [
    "value.isna().sum()"
   ]
  },
  {
   "cell_type": "markdown",
   "id": "c9702a47-12ce-4007-a08b-6c023777166d",
   "metadata": {},
   "source": [
    "I will impute nan values by the mean of every variable"
   ]
  },
  {
   "cell_type": "code",
   "execution_count": 59,
   "id": "f302d114-6f04-4753-9a25-437d52234363",
   "metadata": {
    "tags": []
   },
   "outputs": [
    {
     "data": {
      "text/plain": [
       "2.9029965832043136"
      ]
     },
     "execution_count": 59,
     "metadata": {},
     "output_type": "execute_result"
    }
   ],
   "source": [
    "value_mean = value[value.notnull()].mean()\n",
    "value_mean"
   ]
  },
  {
   "cell_type": "code",
   "execution_count": 60,
   "id": "7afad853-2199-4ead-a0e2-e66fdc6de4a1",
   "metadata": {
    "tags": []
   },
   "outputs": [
    {
     "data": {
      "text/plain": [
       "0.4730918631949631"
      ]
     },
     "execution_count": 60,
     "metadata": {},
     "output_type": "execute_result"
    }
   ],
   "source": [
    "wage_mean = wage[wage.notnull()].mean()\n",
    "wage_mean"
   ]
  },
  {
   "cell_type": "code",
   "execution_count": 61,
   "id": "015c4afa-5458-482c-9ddb-35305523f95f",
   "metadata": {
    "tags": []
   },
   "outputs": [
    {
     "data": {
      "text/plain": [
       "4.24499678293261"
      ]
     },
     "execution_count": 61,
     "metadata": {},
     "output_type": "execute_result"
    }
   ],
   "source": [
    "release_clause_mean = release_clause[release_clause.notnull()].mean()\n",
    "release_clause_mean"
   ]
  },
  {
   "cell_type": "code",
   "execution_count": 62,
   "id": "6e9836de-69e7-4b13-9533-5f6e5d76c5cf",
   "metadata": {
    "tags": []
   },
   "outputs": [],
   "source": [
    "value = value.fillna(value_mean)\n",
    "wage = wage.fillna(wage_mean)\n",
    "release_clause = release_clause.fillna(release_clause_mean)"
   ]
  },
  {
   "cell_type": "markdown",
   "id": "50174e21-5005-45a8-8a38-10b5d47d0a96",
   "metadata": {},
   "source": [
    "#### 5.5 Save the clean variables to the dataframe and rename column to `euros_M`"
   ]
  },
  {
   "cell_type": "code",
   "execution_count": 63,
   "id": "cc794e61-f0bf-4783-9d38-54c8ca22bf54",
   "metadata": {
    "tags": []
   },
   "outputs": [],
   "source": [
    "df.value = value\n",
    "df.wage = wage\n",
    "df.release_clause = release_clause"
   ]
  },
  {
   "cell_type": "code",
   "execution_count": 64,
   "id": "d775e26c-9d0c-4147-aa3c-1eb1cd59594b",
   "metadata": {
    "tags": []
   },
   "outputs": [],
   "source": [
    "df.rename(columns = {'value' : 'value_euros_M',\n",
    "                    'wage': 'annual_wage_euros_M',\n",
    "                    'release_clause': 'release_clause_euros_M'},\n",
    "          inplace='True')"
   ]
  },
  {
   "cell_type": "markdown",
   "id": "f52d4291-3a5a-4f64-a54d-8be101b96618",
   "metadata": {},
   "source": [
    "### 6. `W/F`, `SM` and `IR` must be converted to integer (or categorical and then ordered category)"
   ]
  },
  {
   "cell_type": "code",
   "execution_count": 65,
   "id": "913f08f2-d6fb-4451-8bf6-0c8e6549c439",
   "metadata": {
    "tags": []
   },
   "outputs": [],
   "source": [
    "wf = df['w/f']\n",
    "sm = df.sm\n",
    "ir = df.ir"
   ]
  },
  {
   "cell_type": "markdown",
   "id": "26c8b6ff-928b-441a-bb08-52c2fa33f6fc",
   "metadata": {
    "tags": []
   },
   "source": [
    "Inspect wf, sm and ir values"
   ]
  },
  {
   "cell_type": "code",
   "execution_count": 66,
   "id": "3c84d82b-ef78-491e-8388-62654d1ad131",
   "metadata": {
    "tags": []
   },
   "outputs": [
    {
     "data": {
      "text/plain": [
       "array(['4 ★', '3 ★', '5 ★', '2 ★', '1 ★'], dtype=object)"
      ]
     },
     "execution_count": 66,
     "metadata": {},
     "output_type": "execute_result"
    }
   ],
   "source": [
    "wf.unique()"
   ]
  },
  {
   "cell_type": "code",
   "execution_count": 67,
   "id": "943d0d25-f1da-4461-862b-33e83c71d01d",
   "metadata": {
    "tags": []
   },
   "outputs": [
    {
     "data": {
      "text/plain": [
       "array(['4★', '5★', '1★', '2★', '3★'], dtype=object)"
      ]
     },
     "execution_count": 67,
     "metadata": {},
     "output_type": "execute_result"
    }
   ],
   "source": [
    "sm.unique()"
   ]
  },
  {
   "cell_type": "code",
   "execution_count": 68,
   "id": "533284a2-a46c-4ed4-8f37-e2bce1f343d2",
   "metadata": {
    "tags": []
   },
   "outputs": [
    {
     "data": {
      "text/plain": [
       "array(['5 ★', '3 ★', '4 ★', '2 ★', '1 ★'], dtype=object)"
      ]
     },
     "execution_count": 68,
     "metadata": {},
     "output_type": "execute_result"
    }
   ],
   "source": [
    "ir.unique()"
   ]
  },
  {
   "cell_type": "markdown",
   "id": "9db4e868-6364-43d9-894b-cdf10809c7ac",
   "metadata": {},
   "source": [
    "Custom function to process data:"
   ]
  },
  {
   "cell_type": "code",
   "execution_count": 69,
   "id": "004f2d9f-5e8b-4014-867d-ca9d0cadc045",
   "metadata": {
    "tags": []
   },
   "outputs": [],
   "source": [
    "def remove_star(i):\n",
    "    return int(i[0])"
   ]
  },
  {
   "cell_type": "code",
   "execution_count": 70,
   "id": "bcb14d0a-cc9c-4a6d-b2f3-4ab91f4c1e16",
   "metadata": {
    "tags": []
   },
   "outputs": [
    {
     "data": {
      "text/plain": [
       "0        4\n",
       "1        4\n",
       "2        3\n",
       "3        5\n",
       "4        5\n",
       "        ..\n",
       "18974    2\n",
       "18975    2\n",
       "18976    2\n",
       "18977    3\n",
       "18978    3\n",
       "Name: w/f, Length: 18979, dtype: int64"
      ]
     },
     "execution_count": 70,
     "metadata": {},
     "output_type": "execute_result"
    }
   ],
   "source": [
    "wf.apply(remove_star)"
   ]
  },
  {
   "cell_type": "code",
   "execution_count": 71,
   "id": "c2e816d4-4d19-4f81-8c5a-87dd89d92a1d",
   "metadata": {
    "tags": []
   },
   "outputs": [],
   "source": [
    "wf = wf.apply(remove_star)\n",
    "sm = sm.apply(remove_star)\n",
    "ir = ir.apply(remove_star)"
   ]
  },
  {
   "cell_type": "markdown",
   "id": "bc2905b2-d18d-4ed4-aeb9-0469d262580a",
   "metadata": {},
   "source": [
    "Now lets convert to category dtype"
   ]
  },
  {
   "cell_type": "code",
   "execution_count": 72,
   "id": "5f0f6afe-67a1-4129-82e3-2d30dc9d5e6f",
   "metadata": {
    "tags": []
   },
   "outputs": [],
   "source": [
    "wf = wf.astype('category')\n",
    "sm = sm.astype('category')\n",
    "ir = ir.astype('category')"
   ]
  },
  {
   "cell_type": "markdown",
   "id": "248baf54-93fe-458f-b8eb-e48dd0c7a3d1",
   "metadata": {},
   "source": [
    "Check if categories are ordered:"
   ]
  },
  {
   "cell_type": "markdown",
   "id": "ea15554b-b706-406e-b73d-0eec8fbb17e8",
   "metadata": {
    "tags": [],
    "toc-hr-collapsed": true
   },
   "source": [
    "#### Error: `TypeError: Unordered Categoricals can only compare equality or not`\n",
    "Uncomment the cell below to see the whole error output."
   ]
  },
  {
   "cell_type": "code",
   "execution_count": 73,
   "id": "da2752c2-cdea-4497-a34f-1111307b1c74",
   "metadata": {
    "tags": []
   },
   "outputs": [],
   "source": [
    "#ir[ir >=3]"
   ]
  },
  {
   "cell_type": "markdown",
   "id": "1d3b95d0-f803-4286-89f4-c16d6a1fda74",
   "metadata": {},
   "source": [
    "Set ordered categories using `.cat.set_categories([ordered values], ordered=True)`"
   ]
  },
  {
   "cell_type": "code",
   "execution_count": 74,
   "id": "a85eab35-8453-4eed-a1c6-4cf7ebb91b6c",
   "metadata": {
    "tags": []
   },
   "outputs": [],
   "source": [
    "wf = wf.cat.set_categories([1,2,3,4,5], ordered=True)\n",
    "sm = sm.cat.set_categories([1,2,3,4,5], ordered=True)\n",
    "ir = ir.cat.set_categories([1,2,3,4,5], ordered=True)"
   ]
  },
  {
   "cell_type": "markdown",
   "id": "e2aceffe-e736-454d-ae78-fefb73926cb9",
   "metadata": {},
   "source": [
    "Check if categories are ordered (again):"
   ]
  },
  {
   "cell_type": "code",
   "execution_count": 75,
   "id": "006ec665-db4c-4a50-9b7a-f682616728eb",
   "metadata": {
    "tags": []
   },
   "outputs": [
    {
     "data": {
      "text/plain": [
       "0        5\n",
       "1        5\n",
       "2        3\n",
       "3        4\n",
       "4        5\n",
       "        ..\n",
       "4988     3\n",
       "5792     3\n",
       "6286     3\n",
       "8552     3\n",
       "10101    3\n",
       "Name: ir, Length: 332, dtype: category\n",
       "Categories (5, int64): [1 < 2 < 3 < 4 < 5]"
      ]
     },
     "execution_count": 75,
     "metadata": {},
     "output_type": "execute_result"
    }
   ],
   "source": [
    "ir[ir >=3]"
   ]
  },
  {
   "cell_type": "markdown",
   "id": "0020b415-00c2-472e-80e8-e72e45c1ebf7",
   "metadata": {},
   "source": [
    "Finally, assign to the original dataframe"
   ]
  },
  {
   "cell_type": "code",
   "execution_count": 76,
   "id": "b0602d8b-d8b2-4c1c-b935-04da39c53599",
   "metadata": {
    "tags": []
   },
   "outputs": [],
   "source": [
    "df['w/f'] = wf\n",
    "df.sm = sm\n",
    "df.ir = ir"
   ]
  },
  {
   "cell_type": "markdown",
   "id": "fcd6ba0d-d657-48f6-9ca3-e9f12aaa089b",
   "metadata": {},
   "source": [
    "### 7. `Joined` must be datetime dtype"
   ]
  },
  {
   "cell_type": "code",
   "execution_count": 77,
   "id": "e841c79c-b6b7-431e-a4b2-3b59e4691c70",
   "metadata": {
    "tags": []
   },
   "outputs": [],
   "source": [
    "joined = df.joined"
   ]
  },
  {
   "cell_type": "code",
   "execution_count": 78,
   "id": "ea22c33c-2f4b-44ba-b4e4-4e7268f7f193",
   "metadata": {
    "tags": []
   },
   "outputs": [
    {
     "data": {
      "text/plain": [
       "0       2004-07-01\n",
       "1       2018-07-10\n",
       "2       2014-07-16\n",
       "3       2015-08-30\n",
       "4       2017-08-03\n",
       "           ...    \n",
       "18974   2018-07-13\n",
       "18975   2020-08-01\n",
       "18976   2019-03-08\n",
       "18977   2020-09-22\n",
       "18978   2019-07-29\n",
       "Name: joined, Length: 18979, dtype: datetime64[ns]"
      ]
     },
     "execution_count": 78,
     "metadata": {},
     "output_type": "execute_result"
    }
   ],
   "source": [
    "pd.to_datetime(joined)"
   ]
  },
  {
   "cell_type": "code",
   "execution_count": 79,
   "id": "2162af64-c0fc-43d1-9f3c-4c23afd9d1b9",
   "metadata": {
    "tags": []
   },
   "outputs": [
    {
     "data": {
      "text/plain": [
       "0"
      ]
     },
     "execution_count": 79,
     "metadata": {},
     "output_type": "execute_result"
    }
   ],
   "source": [
    "pd.to_datetime(joined).isna().sum()"
   ]
  },
  {
   "cell_type": "markdown",
   "id": "a3b3163f-82e5-49d7-ad55-2299ed66d6ef",
   "metadata": {},
   "source": [
    "Everything went right, so let's assign"
   ]
  },
  {
   "cell_type": "code",
   "execution_count": 80,
   "id": "ad222c20-2bf9-49f4-897b-dcbccc814c73",
   "metadata": {
    "tags": []
   },
   "outputs": [],
   "source": [
    "df.joined = pd.to_datetime(joined)"
   ]
  },
  {
   "cell_type": "markdown",
   "id": "8442351c-4f2d-4e94-b90a-22dc1ed12332",
   "metadata": {
    "toc-hr-collapsed": true
   },
   "source": [
    "### 8. `Hits` can be cleaned and transformed into integer"
   ]
  },
  {
   "cell_type": "code",
   "execution_count": 81,
   "id": "c8a7566e-e310-4ead-940d-b646837ae829",
   "metadata": {
    "tags": []
   },
   "outputs": [
    {
     "data": {
      "text/plain": [
       "0        771\n",
       "1        562\n",
       "2        150\n",
       "3        207\n",
       "4        595\n",
       "        ... \n",
       "18974    NaN\n",
       "18975    NaN\n",
       "18976    NaN\n",
       "18977    NaN\n",
       "18978    NaN\n",
       "Name: hits, Length: 18979, dtype: object"
      ]
     },
     "execution_count": 81,
     "metadata": {},
     "output_type": "execute_result"
    }
   ],
   "source": [
    "hits = df.hits\n",
    "hits"
   ]
  },
  {
   "cell_type": "markdown",
   "id": "686b890e-3905-40e5-a951-e9660c8e9f03",
   "metadata": {},
   "source": [
    "We see there are some 'NaN' values. Let's make a count of nulls"
   ]
  },
  {
   "cell_type": "code",
   "execution_count": 82,
   "id": "8d4ead2e-8d91-47a4-b545-a5475f4b30d1",
   "metadata": {
    "tags": []
   },
   "outputs": [
    {
     "data": {
      "text/plain": [
       "2595"
      ]
     },
     "execution_count": 82,
     "metadata": {},
     "output_type": "execute_result"
    }
   ],
   "source": [
    "df.hits.isnull().sum()"
   ]
  },
  {
   "cell_type": "markdown",
   "id": "6087b3d1-700d-4502-b8c5-a6ac55f29a07",
   "metadata": {},
   "source": [
    "Let's try a dtype conversion and see what happens..."
   ]
  },
  {
   "cell_type": "markdown",
   "id": "435f28fd-2bd9-4c32-a546-564fa8c729ad",
   "metadata": {
    "tags": [],
    "toc-hr-collapsed": true
   },
   "source": [
    "#### Error: `ValueError: invalid literal for int() with base 10: '1.6K'`\n",
    "Uncomment the cell below to see the whole error output."
   ]
  },
  {
   "cell_type": "code",
   "execution_count": 83,
   "id": "27148614-58ed-4e86-aa0e-7eb5f46554be",
   "metadata": {},
   "outputs": [],
   "source": [
    "#df.hits.astype(int)"
   ]
  },
  {
   "cell_type": "markdown",
   "id": "4c062d60-a612-4619-9a51-306eedf42bb5",
   "metadata": {},
   "source": [
    "Looks like some of them have letters (K for thousands). They need a deeper transformation."
   ]
  },
  {
   "cell_type": "code",
   "execution_count": 84,
   "id": "02bf456c-e706-4a7c-bde7-7f466f5e928d",
   "metadata": {
    "tags": []
   },
   "outputs": [
    {
     "data": {
      "text/plain": [
       "28"
      ]
     },
     "execution_count": 84,
     "metadata": {},
     "output_type": "execute_result"
    }
   ],
   "source": [
    "hits.str.contains('K').sum()"
   ]
  },
  {
   "cell_type": "code",
   "execution_count": 85,
   "id": "b906a0ed-655c-4a5b-8edc-11116851141f",
   "metadata": {},
   "outputs": [
    {
     "data": {
      "text/plain": [
       "0        771\n",
       "1        562\n",
       "2        150\n",
       "3        207\n",
       "4        595\n",
       "        ... \n",
       "18974    NaN\n",
       "18975    NaN\n",
       "18976    NaN\n",
       "18977    NaN\n",
       "18978    NaN\n",
       "Name: hits, Length: 18979, dtype: object"
      ]
     },
     "execution_count": 85,
     "metadata": {},
     "output_type": "execute_result"
    }
   ],
   "source": [
    "hits.str.lstrip()"
   ]
  },
  {
   "cell_type": "code",
   "execution_count": 86,
   "id": "b69d8105-986e-472d-89b4-2b95f75cf81a",
   "metadata": {
    "tags": []
   },
   "outputs": [],
   "source": [
    "def clean_hits(i):\n",
    "    i = i.lstrip()\n",
    "    if i.endswith('K'):\n",
    "        i = i[:-1]\n",
    "        i = float(i) * 1000\n",
    "        i = int(i)\n",
    "    else:\n",
    "        i = int(i)\n",
    "    return i"
   ]
  },
  {
   "cell_type": "markdown",
   "id": "c16c9f23-7fc8-4437-9cb3-49156a5a85be",
   "metadata": {},
   "source": [
    "#### Error: `AttributeError: 'float' object has no attribute 'lstrip'`\n",
    "Uncomment the cell below to see the whole error output."
   ]
  },
  {
   "cell_type": "code",
   "execution_count": 87,
   "id": "c5674210-c88b-4bd6-8ee4-ede84bdcd3e4",
   "metadata": {
    "tags": []
   },
   "outputs": [],
   "source": [
    "#hits = hits.apply(clean_hits)"
   ]
  },
  {
   "cell_type": "markdown",
   "id": "715ea343-a2f7-4160-88b6-6dda92dce556",
   "metadata": {},
   "source": [
    "There's an error when processing because NaN values are of type `float`. I will convert them to 0 and then process."
   ]
  },
  {
   "cell_type": "code",
   "execution_count": 88,
   "id": "5eccfdda-0518-4498-99f1-d631f7a5f4bd",
   "metadata": {},
   "outputs": [],
   "source": [
    "hits = hits.fillna('0')"
   ]
  },
  {
   "cell_type": "code",
   "execution_count": 89,
   "id": "f16b349b-62c1-42b5-a6aa-908d729020b7",
   "metadata": {
    "tags": []
   },
   "outputs": [],
   "source": [
    "hits = hits.apply(clean_hits)"
   ]
  },
  {
   "cell_type": "markdown",
   "id": "6bed2421-ef9d-41fd-bd49-8a5a7ef4fde7",
   "metadata": {},
   "source": [
    "Now convert the 0 values to NaN again, so they can be handled later."
   ]
  },
  {
   "cell_type": "code",
   "execution_count": 90,
   "id": "06499a2b-b5df-4d5e-90cd-23cfb975c92c",
   "metadata": {},
   "outputs": [],
   "source": [
    "hits[hits == 0] = np.nan"
   ]
  },
  {
   "cell_type": "code",
   "execution_count": 91,
   "id": "919ff376-28bf-491e-bfe5-aec190877421",
   "metadata": {
    "tags": []
   },
   "outputs": [
    {
     "data": {
      "text/plain": [
       "2595"
      ]
     },
     "execution_count": 91,
     "metadata": {},
     "output_type": "execute_result"
    }
   ],
   "source": [
    "hits.isna().sum()"
   ]
  },
  {
   "cell_type": "markdown",
   "id": "107696bd-dc47-4754-8ad2-27d7e5df2ce0",
   "metadata": {},
   "source": [
    "Everything is ok now. Assign to dataframe column:"
   ]
  },
  {
   "cell_type": "code",
   "execution_count": 92,
   "id": "39995352-120a-43a3-8c5f-9d9700848d48",
   "metadata": {
    "tags": []
   },
   "outputs": [],
   "source": [
    "df.hits = hits"
   ]
  },
  {
   "cell_type": "markdown",
   "id": "266f70c4-2334-4eba-9663-94c60d87b5f6",
   "metadata": {},
   "source": [
    "### After a first cleaning stage, let's see how things are now"
   ]
  },
  {
   "cell_type": "code",
   "execution_count": 93,
   "id": "1d446656-27a8-4191-a200-fb099da6935a",
   "metadata": {
    "tags": []
   },
   "outputs": [
    {
     "data": {
      "text/html": [
       "<div>\n",
       "<style scoped>\n",
       "    .dataframe tbody tr th:only-of-type {\n",
       "        vertical-align: middle;\n",
       "    }\n",
       "\n",
       "    .dataframe tbody tr th {\n",
       "        vertical-align: top;\n",
       "    }\n",
       "\n",
       "    .dataframe thead th {\n",
       "        text-align: right;\n",
       "    }\n",
       "</style>\n",
       "<table border=\"1\" class=\"dataframe\">\n",
       "  <thead>\n",
       "    <tr style=\"text-align: right;\">\n",
       "      <th></th>\n",
       "      <th>11859</th>\n",
       "      <th>10530</th>\n",
       "      <th>16170</th>\n",
       "      <th>3955</th>\n",
       "      <th>15771</th>\n",
       "    </tr>\n",
       "  </thead>\n",
       "  <tbody>\n",
       "    <tr>\n",
       "      <th>name</th>\n",
       "      <td>N. Kocik</td>\n",
       "      <td>A. Doffo</td>\n",
       "      <td>H. Al Mansoury</td>\n",
       "      <td>D. Odoi</td>\n",
       "      <td>M. Rundić</td>\n",
       "    </tr>\n",
       "    <tr>\n",
       "      <th>longname</th>\n",
       "      <td>Nicolas Kocik</td>\n",
       "      <td>Agustín Doffo</td>\n",
       "      <td>Hamad Al Mansoury</td>\n",
       "      <td>Denis Odoi</td>\n",
       "      <td>Milan Rundić</td>\n",
       "    </tr>\n",
       "    <tr>\n",
       "      <th>photourl</th>\n",
       "      <td>https://cdn.sofifa.com/players/232/417/21_60.png</td>\n",
       "      <td>https://cdn.sofifa.com/players/228/809/21_60.png</td>\n",
       "      <td>https://cdn.sofifa.com/players/247/066/21_60.png</td>\n",
       "      <td>https://cdn.sofifa.com/players/185/349/21_60.png</td>\n",
       "      <td>https://cdn.sofifa.com/players/258/146/21_60.png</td>\n",
       "    </tr>\n",
       "    <tr>\n",
       "      <th>playerurl</th>\n",
       "      <td>http://sofifa.com/player/232417/nicolas-kocik/...</td>\n",
       "      <td>http://sofifa.com/player/228809/agustin-doffo/...</td>\n",
       "      <td>http://sofifa.com/player/247066/hamad-al-manso...</td>\n",
       "      <td>http://sofifa.com/player/185349/denis-odoi/210...</td>\n",
       "      <td>http://sofifa.com/player/258146/milan-rundic/2...</td>\n",
       "    </tr>\n",
       "    <tr>\n",
       "      <th>nationality</th>\n",
       "      <td>France</td>\n",
       "      <td>Argentina</td>\n",
       "      <td>United Arab Emirates</td>\n",
       "      <td>Belgium</td>\n",
       "      <td>Serbia</td>\n",
       "    </tr>\n",
       "    <tr>\n",
       "      <th>club</th>\n",
       "      <td>\\n\\n\\n\\nValenciennes FC</td>\n",
       "      <td>\\n\\n\\n\\nClub Atlético Colón</td>\n",
       "      <td>No Club</td>\n",
       "      <td>\\n\\n\\n\\nFulham</td>\n",
       "      <td>\\n\\n\\n\\nPodbeskidzie Bielsko-Biała</td>\n",
       "    </tr>\n",
       "    <tr>\n",
       "      <th>contract</th>\n",
       "      <td>2016 ~ 2023</td>\n",
       "      <td>2020 ~ 2020</td>\n",
       "      <td>Free</td>\n",
       "      <td>2016 ~ 2022</td>\n",
       "      <td>2020 ~ 2022</td>\n",
       "    </tr>\n",
       "    <tr>\n",
       "      <th>positions</th>\n",
       "      <td>GK</td>\n",
       "      <td>CAM, RM</td>\n",
       "      <td>GK</td>\n",
       "      <td>RB, CB</td>\n",
       "      <td>CB</td>\n",
       "    </tr>\n",
       "    <tr>\n",
       "      <th>height</th>\n",
       "      <td>193cm</td>\n",
       "      <td>179cm</td>\n",
       "      <td>178cm</td>\n",
       "      <td>179cm</td>\n",
       "      <td>188cm</td>\n",
       "    </tr>\n",
       "    <tr>\n",
       "      <th>best_position</th>\n",
       "      <td>GK</td>\n",
       "      <td>CAM</td>\n",
       "      <td>GK</td>\n",
       "      <td>RB</td>\n",
       "      <td>CB</td>\n",
       "    </tr>\n",
       "    <tr>\n",
       "      <th>loan_date_end</th>\n",
       "      <td>NaN</td>\n",
       "      <td>NaN</td>\n",
       "      <td>NaN</td>\n",
       "      <td>NaN</td>\n",
       "      <td>NaN</td>\n",
       "    </tr>\n",
       "    <tr>\n",
       "      <th>a/w</th>\n",
       "      <td>Medium</td>\n",
       "      <td>High</td>\n",
       "      <td>Medium</td>\n",
       "      <td>High</td>\n",
       "      <td>Low</td>\n",
       "    </tr>\n",
       "    <tr>\n",
       "      <th>d/w</th>\n",
       "      <td>Medium</td>\n",
       "      <td>Medium</td>\n",
       "      <td>Medium</td>\n",
       "      <td>Medium</td>\n",
       "      <td>Medium</td>\n",
       "    </tr>\n",
       "  </tbody>\n",
       "</table>\n",
       "</div>"
      ],
      "text/plain": [
       "                                                           11859  \\\n",
       "name                                                    N. Kocik   \n",
       "longname                                           Nicolas Kocik   \n",
       "photourl        https://cdn.sofifa.com/players/232/417/21_60.png   \n",
       "playerurl      http://sofifa.com/player/232417/nicolas-kocik/...   \n",
       "nationality                                               France   \n",
       "club                                     \\n\\n\\n\\nValenciennes FC   \n",
       "contract                                             2016 ~ 2023   \n",
       "positions                                                     GK   \n",
       "height                                                     193cm   \n",
       "best_position                                                 GK   \n",
       "loan_date_end                                                NaN   \n",
       "a/w                                                       Medium   \n",
       "d/w                                                       Medium   \n",
       "\n",
       "                                                           10530  \\\n",
       "name                                                    A. Doffo   \n",
       "longname                                           Agustín Doffo   \n",
       "photourl        https://cdn.sofifa.com/players/228/809/21_60.png   \n",
       "playerurl      http://sofifa.com/player/228809/agustin-doffo/...   \n",
       "nationality                                            Argentina   \n",
       "club                                 \\n\\n\\n\\nClub Atlético Colón   \n",
       "contract                                             2020 ~ 2020   \n",
       "positions                                                CAM, RM   \n",
       "height                                                     179cm   \n",
       "best_position                                                CAM   \n",
       "loan_date_end                                                NaN   \n",
       "a/w                                                         High   \n",
       "d/w                                                       Medium   \n",
       "\n",
       "                                                           16170  \\\n",
       "name                                              H. Al Mansoury   \n",
       "longname                                       Hamad Al Mansoury   \n",
       "photourl        https://cdn.sofifa.com/players/247/066/21_60.png   \n",
       "playerurl      http://sofifa.com/player/247066/hamad-al-manso...   \n",
       "nationality                                 United Arab Emirates   \n",
       "club                                                     No Club   \n",
       "contract                                                    Free   \n",
       "positions                                                     GK   \n",
       "height                                                     178cm   \n",
       "best_position                                                 GK   \n",
       "loan_date_end                                                NaN   \n",
       "a/w                                                       Medium   \n",
       "d/w                                                       Medium   \n",
       "\n",
       "                                                           3955   \\\n",
       "name                                                     D. Odoi   \n",
       "longname                                              Denis Odoi   \n",
       "photourl        https://cdn.sofifa.com/players/185/349/21_60.png   \n",
       "playerurl      http://sofifa.com/player/185349/denis-odoi/210...   \n",
       "nationality                                              Belgium   \n",
       "club                                              \\n\\n\\n\\nFulham   \n",
       "contract                                             2016 ~ 2022   \n",
       "positions                                                 RB, CB   \n",
       "height                                                     179cm   \n",
       "best_position                                                 RB   \n",
       "loan_date_end                                                NaN   \n",
       "a/w                                                         High   \n",
       "d/w                                                       Medium   \n",
       "\n",
       "                                                           15771  \n",
       "name                                                   M. Rundić  \n",
       "longname                                            Milan Rundić  \n",
       "photourl        https://cdn.sofifa.com/players/258/146/21_60.png  \n",
       "playerurl      http://sofifa.com/player/258146/milan-rundic/2...  \n",
       "nationality                                               Serbia  \n",
       "club                          \\n\\n\\n\\nPodbeskidzie Bielsko-Biała  \n",
       "contract                                             2020 ~ 2022  \n",
       "positions                                                     CB  \n",
       "height                                                     188cm  \n",
       "best_position                                                 CB  \n",
       "loan_date_end                                                NaN  \n",
       "a/w                                                          Low  \n",
       "d/w                                                       Medium  "
      ]
     },
     "execution_count": 93,
     "metadata": {},
     "output_type": "execute_result"
    }
   ],
   "source": [
    "# just take 5 rows to check the values and see if they effectively must be integers or some need a type conversion\n",
    "string_vars = df.select_dtypes(object).sample(5)\n",
    "string_vars.T"
   ]
  },
  {
   "cell_type": "markdown",
   "id": "cabd2b98-526b-4f56-808d-7271978e02e7",
   "metadata": {},
   "source": [
    "In a second round of cleaning, I will act on variables: `a/w` and `d/w`"
   ]
  },
  {
   "cell_type": "markdown",
   "id": "559bc010-cbde-4062-975d-30b54010ce90",
   "metadata": {},
   "source": [
    "### 9. Set `a/w` and `d/w` to categorical and sort their category values"
   ]
  },
  {
   "cell_type": "code",
   "execution_count": 94,
   "id": "eacd4679-cf7a-46c8-8da6-ecbf5920ee83",
   "metadata": {
    "tags": []
   },
   "outputs": [
    {
     "data": {
      "text/plain": [
       "0"
      ]
     },
     "execution_count": 94,
     "metadata": {},
     "output_type": "execute_result"
    }
   ],
   "source": [
    "df['a/w'].isna().sum()"
   ]
  },
  {
   "cell_type": "code",
   "execution_count": 95,
   "id": "f67a0efe-c89a-473b-9c93-591c1a622e5b",
   "metadata": {
    "tags": []
   },
   "outputs": [
    {
     "data": {
      "text/plain": [
       "0"
      ]
     },
     "execution_count": 95,
     "metadata": {},
     "output_type": "execute_result"
    }
   ],
   "source": [
    "df['d/w'].isna().sum()"
   ]
  },
  {
   "cell_type": "code",
   "execution_count": 96,
   "id": "8469976c-4167-4102-8182-f31dc205baf1",
   "metadata": {
    "tags": []
   },
   "outputs": [],
   "source": [
    "df['a/w'] = df['a/w'].astype('category')\n",
    "df['d/w'] = df['d/w'].astype('category')"
   ]
  },
  {
   "cell_type": "code",
   "execution_count": 97,
   "id": "aceae8ce-3de1-44d9-8ab2-3af086ea67bc",
   "metadata": {
    "tags": []
   },
   "outputs": [
    {
     "data": {
      "text/plain": [
       "['Medium', 'High', 'Low']\n",
       "Categories (3, object): ['High', 'Low', 'Medium']"
      ]
     },
     "execution_count": 97,
     "metadata": {},
     "output_type": "execute_result"
    }
   ],
   "source": [
    "df['a/w'].unique()"
   ]
  },
  {
   "cell_type": "code",
   "execution_count": 98,
   "id": "d0a755bf-30d6-4751-90c8-ad171b783c4a",
   "metadata": {
    "tags": []
   },
   "outputs": [
    {
     "data": {
      "text/plain": [
       "['Low', 'Medium', 'High']\n",
       "Categories (3, object): ['High', 'Low', 'Medium']"
      ]
     },
     "execution_count": 98,
     "metadata": {},
     "output_type": "execute_result"
    }
   ],
   "source": [
    "df['d/w'].unique()"
   ]
  },
  {
   "cell_type": "code",
   "execution_count": 99,
   "id": "5154eda1-fe20-47be-9ac9-896ad90ccdad",
   "metadata": {
    "tags": []
   },
   "outputs": [],
   "source": [
    "df['a/w'] = df['a/w'].cat.set_categories(['Low', 'Medium', 'High'], ordered=True)\n",
    "df['d/w'] = df['d/w'].cat.set_categories(['Low', 'Medium', 'High'], ordered=True)"
   ]
  },
  {
   "cell_type": "code",
   "execution_count": 100,
   "id": "c25f7d1f-a638-4db5-86b0-3d1433161ff6",
   "metadata": {
    "tags": []
   },
   "outputs": [
    {
     "data": {
      "text/plain": [
       "8606      Low\n",
       "3451      Low\n",
       "7347      Low\n",
       "12569     Low\n",
       "15007     Low\n",
       "         ... \n",
       "3767     High\n",
       "3768     High\n",
       "14656    High\n",
       "3758     High\n",
       "8604     High\n",
       "Name: a/w, Length: 18979, dtype: category\n",
       "Categories (3, object): ['Low' < 'Medium' < 'High']"
      ]
     },
     "execution_count": 100,
     "metadata": {},
     "output_type": "execute_result"
    }
   ],
   "source": [
    "df['a/w'].sort_values()"
   ]
  },
  {
   "cell_type": "markdown",
   "id": "b08227e8-5600-4011-86fc-02953888b247",
   "metadata": {},
   "source": [
    "### 10. Clean `contract` variable"
   ]
  },
  {
   "cell_type": "code",
   "execution_count": 101,
   "id": "1a760ae6-91a8-42b2-ac42-a4ab93dcf615",
   "metadata": {},
   "outputs": [
    {
     "data": {
      "text/plain": [
       "0        2004 ~ 2021\n",
       "1        2018 ~ 2022\n",
       "2        2014 ~ 2023\n",
       "3        2015 ~ 2023\n",
       "4        2017 ~ 2022\n",
       "            ...     \n",
       "18974    2018 ~ 2022\n",
       "18975    2020 ~ 2021\n",
       "18976    2019 ~ 2020\n",
       "18977    2020 ~ 2022\n",
       "18978    2019 ~ 2023\n",
       "Name: contract, Length: 18979, dtype: object"
      ]
     },
     "execution_count": 101,
     "metadata": {},
     "output_type": "execute_result"
    }
   ],
   "source": [
    "df.contract"
   ]
  },
  {
   "cell_type": "markdown",
   "id": "e86dc845-f129-4633-aefd-26a76dd077f4",
   "metadata": {},
   "source": [
    "Let's see if there are any other \"strange\" values that don't start with a year"
   ]
  },
  {
   "cell_type": "code",
   "execution_count": 102,
   "id": "2fd593b3-1878-4836-8517-008d7d490481",
   "metadata": {},
   "outputs": [
    {
     "data": {
      "text/plain": [
       "205      Jun 30, 2021 On Loan\n",
       "248      Jun 30, 2021 On Loan\n",
       "254      Jun 30, 2021 On Loan\n",
       "289                      Free\n",
       "292                      Free\n",
       "                 ...         \n",
       "18472    Aug 31, 2021 On Loan\n",
       "18571    Jun 30, 2021 On Loan\n",
       "18600    Dec 31, 2020 On Loan\n",
       "18622    Dec 31, 2020 On Loan\n",
       "18680    Dec 31, 2020 On Loan\n",
       "Name: contract, Length: 1251, dtype: object"
      ]
     },
     "execution_count": 102,
     "metadata": {},
     "output_type": "execute_result"
    }
   ],
   "source": [
    "df.contract[ ~ df.contract.str.startswith('2')]"
   ]
  },
  {
   "cell_type": "markdown",
   "id": "0acc9f93-e2cc-4c76-b921-295031c19673",
   "metadata": {},
   "source": [
    "I will create a new column called `on_loan_from` for those players who are currently on loan.\n",
    "For the rest of them, I will create two new columns: `contract_started` and `contract_ends`.  \n",
    "`contract` column will be reasigned as a boolean column, meaning `free` has a value of False. Otherwise, `True` and will have his/her corresponding `contract_started` and `contract_ends` values.\n",
    "\n",
    "Now I will create a custom function to deal with different types of contract values."
   ]
  },
  {
   "cell_type": "code",
   "execution_count": 103,
   "id": "2e5ee6e2-b2a2-4be9-9835-060599b4080a",
   "metadata": {},
   "outputs": [],
   "source": [
    "contract = df.contract.copy()"
   ]
  },
  {
   "cell_type": "code",
   "execution_count": 104,
   "id": "5b2a9c67-da79-4bfe-b261-8e84cb507acc",
   "metadata": {},
   "outputs": [],
   "source": [
    "def process_contract(value):\n",
    "    # contract has a start and end date\n",
    "    if '~' in value:\n",
    "        dates = value.split(' ~ ')\n",
    "        contract_start = dates[0]\n",
    "        contract_end = dates[1]\n",
    "        return [contract_start, contract_end]\n",
    "    # player has currently no contract\n",
    "    elif value == 'Free':\n",
    "        return ['free_player']\n",
    "    # on loan contract\n",
    "    else:\n",
    "        loan_start = value[:-8]\n",
    "        return ['on_loan', loan_start]      "
   ]
  },
  {
   "cell_type": "code",
   "execution_count": 105,
   "id": "32143d93-6bdc-460d-a916-361ce392857b",
   "metadata": {},
   "outputs": [
    {
     "data": {
      "text/plain": [
       "'Aug 31, 2021'"
      ]
     },
     "execution_count": 105,
     "metadata": {},
     "output_type": "execute_result"
    }
   ],
   "source": [
    "df.contract.iloc[18472][:-8]"
   ]
  },
  {
   "cell_type": "code",
   "execution_count": 106,
   "id": "2d9dadc3-9238-4e72-a1f6-af249898090a",
   "metadata": {},
   "outputs": [],
   "source": [
    "contract = contract.apply(process_contract)"
   ]
  },
  {
   "cell_type": "markdown",
   "id": "4a2fa0ed-6135-47c8-9a29-891d1abdac07",
   "metadata": {},
   "source": [
    "After having applied the function, there will be three types of values:\n",
    "1. a list with start and end years for contract\n",
    "2. a list with only one element: 'free'\n",
    "3. a list with first element equals to 'on_loan' and 2nd element: on_loan_from"
   ]
  },
  {
   "cell_type": "markdown",
   "id": "02e75adc-d352-4a7b-8f5c-20a4ca7b2e36",
   "metadata": {},
   "source": [
    "Now let's create the three new columns: `contract_started`, `contract_ends`, `has_contract` (boolean) and `on_loan_from`"
   ]
  },
  {
   "cell_type": "markdown",
   "id": "eba42ec1-900b-463a-a007-ff823d80699a",
   "metadata": {},
   "source": [
    "Create `on_loan` column:"
   ]
  },
  {
   "cell_type": "code",
   "execution_count": 107,
   "id": "5a5b0a8c-74df-48f7-96af-9ea108a8f67e",
   "metadata": {
    "tags": []
   },
   "outputs": [],
   "source": [
    "df['on_loan_from'] = [i[1] if i[0] == 'on_loan' else np.nan for i in contract]"
   ]
  },
  {
   "cell_type": "code",
   "execution_count": 108,
   "id": "fc160b38-13a3-4880-b0ec-bd1d32b3f894",
   "metadata": {
    "tags": []
   },
   "outputs": [],
   "source": [
    "df['contract_started'] = [i[0] if len(i[0]) == 4 else np.nan for i in contract]"
   ]
  },
  {
   "cell_type": "code",
   "execution_count": 109,
   "id": "de1e53a5-adfe-4ecc-b0f2-8a90950ecf62",
   "metadata": {
    "tags": []
   },
   "outputs": [],
   "source": [
    "df['contract_ends'] = [i[1] if len(i[0]) == 4 else np.nan for i in contract]"
   ]
  },
  {
   "cell_type": "code",
   "execution_count": 110,
   "id": "dc3e7a6c-c196-4f1d-bba6-25ce9b0e977e",
   "metadata": {
    "tags": []
   },
   "outputs": [],
   "source": [
    "df['has_contract'] = [bool(i) for i in df.contract_started]"
   ]
  },
  {
   "cell_type": "code",
   "execution_count": 111,
   "id": "3931db20-0235-44a9-ba7b-cda8d5f50889",
   "metadata": {},
   "outputs": [
    {
     "data": {
      "text/html": [
       "<div>\n",
       "<style scoped>\n",
       "    .dataframe tbody tr th:only-of-type {\n",
       "        vertical-align: middle;\n",
       "    }\n",
       "\n",
       "    .dataframe tbody tr th {\n",
       "        vertical-align: top;\n",
       "    }\n",
       "\n",
       "    .dataframe thead th {\n",
       "        text-align: right;\n",
       "    }\n",
       "</style>\n",
       "<table border=\"1\" class=\"dataframe\">\n",
       "  <thead>\n",
       "    <tr style=\"text-align: right;\">\n",
       "      <th></th>\n",
       "      <th>contract_started</th>\n",
       "      <th>contract_ends</th>\n",
       "      <th>has_contract</th>\n",
       "      <th>on_loan_from</th>\n",
       "    </tr>\n",
       "  </thead>\n",
       "  <tbody>\n",
       "    <tr>\n",
       "      <th>0</th>\n",
       "      <td>2004</td>\n",
       "      <td>2021</td>\n",
       "      <td>True</td>\n",
       "      <td>NaN</td>\n",
       "    </tr>\n",
       "    <tr>\n",
       "      <th>1</th>\n",
       "      <td>2018</td>\n",
       "      <td>2022</td>\n",
       "      <td>True</td>\n",
       "      <td>NaN</td>\n",
       "    </tr>\n",
       "    <tr>\n",
       "      <th>2</th>\n",
       "      <td>2014</td>\n",
       "      <td>2023</td>\n",
       "      <td>True</td>\n",
       "      <td>NaN</td>\n",
       "    </tr>\n",
       "    <tr>\n",
       "      <th>3</th>\n",
       "      <td>2015</td>\n",
       "      <td>2023</td>\n",
       "      <td>True</td>\n",
       "      <td>NaN</td>\n",
       "    </tr>\n",
       "    <tr>\n",
       "      <th>4</th>\n",
       "      <td>2017</td>\n",
       "      <td>2022</td>\n",
       "      <td>True</td>\n",
       "      <td>NaN</td>\n",
       "    </tr>\n",
       "    <tr>\n",
       "      <th>...</th>\n",
       "      <td>...</td>\n",
       "      <td>...</td>\n",
       "      <td>...</td>\n",
       "      <td>...</td>\n",
       "    </tr>\n",
       "    <tr>\n",
       "      <th>18974</th>\n",
       "      <td>2018</td>\n",
       "      <td>2022</td>\n",
       "      <td>True</td>\n",
       "      <td>NaN</td>\n",
       "    </tr>\n",
       "    <tr>\n",
       "      <th>18975</th>\n",
       "      <td>2020</td>\n",
       "      <td>2021</td>\n",
       "      <td>True</td>\n",
       "      <td>NaN</td>\n",
       "    </tr>\n",
       "    <tr>\n",
       "      <th>18976</th>\n",
       "      <td>2019</td>\n",
       "      <td>2020</td>\n",
       "      <td>True</td>\n",
       "      <td>NaN</td>\n",
       "    </tr>\n",
       "    <tr>\n",
       "      <th>18977</th>\n",
       "      <td>2020</td>\n",
       "      <td>2022</td>\n",
       "      <td>True</td>\n",
       "      <td>NaN</td>\n",
       "    </tr>\n",
       "    <tr>\n",
       "      <th>18978</th>\n",
       "      <td>2019</td>\n",
       "      <td>2023</td>\n",
       "      <td>True</td>\n",
       "      <td>NaN</td>\n",
       "    </tr>\n",
       "  </tbody>\n",
       "</table>\n",
       "<p>18979 rows × 4 columns</p>\n",
       "</div>"
      ],
      "text/plain": [
       "      contract_started contract_ends  has_contract on_loan_from\n",
       "0                 2004          2021          True          NaN\n",
       "1                 2018          2022          True          NaN\n",
       "2                 2014          2023          True          NaN\n",
       "3                 2015          2023          True          NaN\n",
       "4                 2017          2022          True          NaN\n",
       "...                ...           ...           ...          ...\n",
       "18974             2018          2022          True          NaN\n",
       "18975             2020          2021          True          NaN\n",
       "18976             2019          2020          True          NaN\n",
       "18977             2020          2022          True          NaN\n",
       "18978             2019          2023          True          NaN\n",
       "\n",
       "[18979 rows x 4 columns]"
      ]
     },
     "execution_count": 111,
     "metadata": {},
     "output_type": "execute_result"
    }
   ],
   "source": [
    "df[['contract_started', 'contract_ends', 'has_contract', 'on_loan_from']]"
   ]
  },
  {
   "cell_type": "markdown",
   "id": "7be55b51-0655-4349-86e0-c15ab1974c1c",
   "metadata": {},
   "source": [
    "The last step is to convert to datetime these new columns"
   ]
  },
  {
   "cell_type": "code",
   "execution_count": 112,
   "id": "0f5175dd-c814-488b-89c9-90f5ed825bc1",
   "metadata": {
    "tags": []
   },
   "outputs": [],
   "source": [
    "df.contract_started = pd.to_datetime(df.contract_started)\n",
    "df.contract_ends = pd.to_datetime(df.contract_ends)\n",
    "df.on_loan_from = df.on_loan_from = pd.to_datetime(df.on_loan_from)"
   ]
  },
  {
   "cell_type": "markdown",
   "id": "b76dfe42-29ef-4460-89c2-ace551f62b5a",
   "metadata": {},
   "source": [
    "### 11. Clean `club` variable"
   ]
  },
  {
   "cell_type": "code",
   "execution_count": 113,
   "id": "b7384585-804b-4a7c-8ea1-4c65e21557c1",
   "metadata": {
    "tags": []
   },
   "outputs": [
    {
     "data": {
      "text/plain": [
       "0               \\n\\n\\n\\nFC Barcelona\n",
       "1                   \\n\\n\\n\\nJuventus\n",
       "2            \\n\\n\\n\\nAtlético Madrid\n",
       "3            \\n\\n\\n\\nManchester City\n",
       "4        \\n\\n\\n\\nParis Saint-Germain\n",
       "                    ...             \n",
       "18974             \\n\\n\\n\\nWuhan Zall\n",
       "18975        \\n\\n\\n\\nOldham Athletic\n",
       "18976             \\n\\n\\n\\nDerry City\n",
       "18977       \\n\\n\\n\\nDalian YiFang FC\n",
       "18978       \\n\\n\\n\\nDalian YiFang FC\n",
       "Name: club, Length: 18979, dtype: object"
      ]
     },
     "execution_count": 113,
     "metadata": {},
     "output_type": "execute_result"
    }
   ],
   "source": [
    "clubs = df.club.copy()\n",
    "clubs"
   ]
  },
  {
   "cell_type": "code",
   "execution_count": 114,
   "id": "adeb66b9-2d49-4652-a390-4c39c582d95a",
   "metadata": {
    "tags": []
   },
   "outputs": [
    {
     "data": {
      "text/plain": [
       "12580                CD Mirandés\n",
       "8860           Sint-Truidense VV\n",
       "18814         Wellington Phoenix\n",
       "3127     Wolverhampton Wanderers\n",
       "12733         Milton Keynes Dons\n",
       "Name: club, dtype: object"
      ]
     },
     "execution_count": 114,
     "metadata": {},
     "output_type": "execute_result"
    }
   ],
   "source": [
    "clubs = clubs.str.strip()\n",
    "clubs.sample(5)"
   ]
  },
  {
   "cell_type": "markdown",
   "id": "03b2430a-d838-4b8b-a904-ed1a53950123",
   "metadata": {},
   "source": [
    "In a previous execution of the cell above, I noticed that some club names have a number at the beginning. I will check and then remove the numbers."
   ]
  },
  {
   "cell_type": "code",
   "execution_count": 115,
   "id": "8ae0f6b9-0f98-48b3-a754-7a89dc0d19a7",
   "metadata": {
    "tags": []
   },
   "outputs": [
    {
     "data": {
      "text/plain": [
       "0"
      ]
     },
     "execution_count": 115,
     "metadata": {},
     "output_type": "execute_result"
    }
   ],
   "source": [
    "clubs.isna().sum()"
   ]
  },
  {
   "cell_type": "code",
   "execution_count": 116,
   "id": "31c79056-8fcb-437d-9c06-29d3c646dfb6",
   "metadata": {
    "tags": []
   },
   "outputs": [
    {
     "data": {
      "text/plain": [
       "355         1. FC Union Berlin\n",
       "818         1. FC Union Berlin\n",
       "967                 1. FC Köln\n",
       "993                 1. FC Köln\n",
       "1164                1. FC Köln\n",
       "                 ...          \n",
       "17576     1. FC Kaiserslautern\n",
       "17874        1. FC Saarbrücken\n",
       "18057    1. FC Heidenheim 1846\n",
       "18134        1. FC Saarbrücken\n",
       "18817     1. FC Kaiserslautern\n",
       "Name: club, Length: 234, dtype: object"
      ]
     },
     "execution_count": 116,
     "metadata": {},
     "output_type": "execute_result"
    }
   ],
   "source": [
    "clubs[clubs.apply(lambda x: x[0].isnumeric() )]"
   ]
  },
  {
   "cell_type": "markdown",
   "id": "2e82991b-e4d5-4e55-b9c3-caf27b785066",
   "metadata": {
    "tags": []
   },
   "source": [
    "234 club names start with '1. '. I Will check if ALL OF THEM start with '1. '"
   ]
  },
  {
   "cell_type": "code",
   "execution_count": 117,
   "id": "a842db9f-963e-40f9-b173-c4135ea26c40",
   "metadata": {
    "tags": []
   },
   "outputs": [
    {
     "data": {
      "text/plain": [
       "234"
      ]
     },
     "execution_count": 117,
     "metadata": {},
     "output_type": "execute_result"
    }
   ],
   "source": [
    "clubs[clubs.str.startswith('1. ')].count()"
   ]
  },
  {
   "cell_type": "markdown",
   "id": "6ba2a735-655d-4e08-8477-ea729474ab8c",
   "metadata": {},
   "source": [
    "Let's remove the string '1. ' from all of them."
   ]
  },
  {
   "cell_type": "code",
   "execution_count": 118,
   "id": "fb2d046a-c9e5-44d0-8a2f-7712d9c8dc05",
   "metadata": {
    "tags": []
   },
   "outputs": [],
   "source": [
    "clubs = clubs.str.lstrip('1. ')"
   ]
  },
  {
   "cell_type": "code",
   "execution_count": 119,
   "id": "b33a80e0-6c8e-43e6-8d91-ff35415f0279",
   "metadata": {
    "tags": []
   },
   "outputs": [
    {
     "data": {
      "text/plain": [
       "0"
      ]
     },
     "execution_count": 119,
     "metadata": {},
     "output_type": "execute_result"
    }
   ],
   "source": [
    "clubs[clubs.str.startswith('1. ')].count()"
   ]
  },
  {
   "cell_type": "markdown",
   "id": "edcedb7a-bad2-4f89-93d7-8d013b205690",
   "metadata": {},
   "source": [
    "All of them have the '1. ' string cleaned!"
   ]
  },
  {
   "cell_type": "code",
   "execution_count": 120,
   "id": "16db65d3-4413-4cbe-a740-ff3edc260885",
   "metadata": {
    "tags": []
   },
   "outputs": [
    {
     "data": {
      "text/plain": [
       "7132         Oud-Heverlee Leuven\n",
       "8203                ADO Den Haag\n",
       "9693                   Liverpool\n",
       "13435     Nacional de Montevideo\n",
       "15000                   Cádiz CF\n",
       "10235              Coventry City\n",
       "18952    Independiente del Valle\n",
       "295              West Ham United\n",
       "17465                 VfB Lübeck\n",
       "5410                 Hammarby IF\n",
       "8841       AC Mineros de Guayana\n",
       "16760            Kashima Antlers\n",
       "8797            Dalian YiFang FC\n",
       "18119                   Al Fayha\n",
       "1595                        SPAL\n",
       "12200                      Parma\n",
       "5330                   LA Galaxy\n",
       "17639              Astra Giurgiu\n",
       "14628                     Emelec\n",
       "5607                Club Bolívar\n",
       "Name: club, dtype: object"
      ]
     },
     "execution_count": 120,
     "metadata": {},
     "output_type": "execute_result"
    }
   ],
   "source": [
    "clubs.sample(20)"
   ]
  },
  {
   "cell_type": "markdown",
   "id": "cfb729e0-d956-4c38-a5fe-0ac59c68aa8e",
   "metadata": {},
   "source": [
    "From a previous execution where  I took a sample of 20 different club values, a value of `No Club` arose. I will replace them by NaN values."
   ]
  },
  {
   "cell_type": "code",
   "execution_count": 121,
   "id": "f5c91e1e-9cd7-4287-85cd-31d0562bb1f3",
   "metadata": {
    "tags": []
   },
   "outputs": [
    {
     "data": {
      "text/plain": [
       "237"
      ]
     },
     "execution_count": 121,
     "metadata": {},
     "output_type": "execute_result"
    }
   ],
   "source": [
    "clubs[clubs == 'No Club'].count()"
   ]
  },
  {
   "cell_type": "code",
   "execution_count": 122,
   "id": "bb6c10b5-6f76-4dba-b6a7-f70841442bd3",
   "metadata": {
    "tags": []
   },
   "outputs": [],
   "source": [
    "clubs[clubs == 'No Club'] = np.nan"
   ]
  },
  {
   "cell_type": "markdown",
   "id": "dca3bb72-f005-4ebe-aa12-f2a78fb8b558",
   "metadata": {},
   "source": [
    "Finally, set the cleaned club values to `club` variable in the dataset."
   ]
  },
  {
   "cell_type": "code",
   "execution_count": 123,
   "id": "a760b4e4-185b-4590-80af-23384ac0eb8a",
   "metadata": {
    "tags": []
   },
   "outputs": [],
   "source": [
    "df.club = clubs"
   ]
  },
  {
   "cell_type": "markdown",
   "id": "de21bfe4-7136-4c86-97f0-20791c38bf84",
   "metadata": {
    "tags": []
   },
   "source": [
    "### 12. Categorizing more variables"
   ]
  },
  {
   "cell_type": "code",
   "execution_count": 124,
   "id": "2e729c4d-5462-4b5a-b609-bec91eb4fe9c",
   "metadata": {
    "tags": []
   },
   "outputs": [
    {
     "data": {
      "text/plain": [
       "Index(['name', 'longname', 'photourl', 'playerurl', 'nationality', 'club',\n",
       "       'contract', 'positions', 'height', 'best_position', 'loan_date_end'],\n",
       "      dtype='object')"
      ]
     },
     "execution_count": 124,
     "metadata": {},
     "output_type": "execute_result"
    }
   ],
   "source": [
    "df.select_dtypes(object).columns"
   ]
  },
  {
   "cell_type": "markdown",
   "id": "54b0b395-797e-4064-8092-5d1822e0443d",
   "metadata": {},
   "source": [
    "Checking the object variables that could be turned into categories, I have just noticed I haven't processed the `loan_date_end`. Next step will be processing it. But first, let's categorize."
   ]
  },
  {
   "cell_type": "markdown",
   "id": "89449dda-b679-4d0e-a5bb-8dd92c2925fa",
   "metadata": {},
   "source": [
    "`positions` and `best_position` should be processed. As `positions` is a list of all the positions the player can play at, i will transform it to a python list and leave it as string. `best_position` will be converted to category dtype."
   ]
  },
  {
   "cell_type": "markdown",
   "id": "b2d587a4-ae8f-438d-a9b1-e24bb074ae94",
   "metadata": {},
   "source": [
    "For everyone asking themselves why use `category` dtype, it's a matter of memory usage and optimisation. In datasets this size or even larger, memory can be an aspect to take into account."
   ]
  },
  {
   "cell_type": "code",
   "execution_count": 125,
   "id": "2a8f8619-991e-4809-93cf-9572efd486c8",
   "metadata": {
    "tags": []
   },
   "outputs": [],
   "source": [
    "positions = df.positions.copy()"
   ]
  },
  {
   "cell_type": "code",
   "execution_count": 126,
   "id": "997d5ff4-843b-4012-a00b-8291ded30d6d",
   "metadata": {
    "tags": []
   },
   "outputs": [
    {
     "data": {
      "text/plain": [
       "4256         CAM, CM\n",
       "18090         ST, CF\n",
       "5447         CDM, CM\n",
       "8819              ST\n",
       "9148              LB\n",
       "16262    CDM, CB, RM\n",
       "5894          RM, RB\n",
       "5707              GK\n",
       "8939         CM, CAM\n",
       "7570     CAM, RM, ST\n",
       "Name: positions, dtype: object"
      ]
     },
     "execution_count": 126,
     "metadata": {},
     "output_type": "execute_result"
    }
   ],
   "source": [
    "positions.sample(10)"
   ]
  },
  {
   "cell_type": "code",
   "execution_count": 127,
   "id": "898113b2-6ce0-4f03-8035-bca4264e7f16",
   "metadata": {
    "tags": []
   },
   "outputs": [],
   "source": [
    "positions = positions.str.split(', ')"
   ]
  },
  {
   "cell_type": "markdown",
   "id": "9ef8e222-dec0-4b90-adf4-485a84c1f95c",
   "metadata": {},
   "source": [
    "If someone asks himself / herself how to work with the positions data...  \n",
    "Every row in the `positions` column has become a list. So you must access the list and inspect its content to look for an especific value. Below there's an example."
   ]
  },
  {
   "cell_type": "markdown",
   "id": "35056813-b2d1-4d21-b10f-a0fb09eb1953",
   "metadata": {},
   "source": [
    "Get all the players that can play in LB (Left Full-Back; Block other team and hold a line)"
   ]
  },
  {
   "cell_type": "code",
   "execution_count": 128,
   "id": "bd3d728f-63b5-404c-ae57-69484a9a4ef1",
   "metadata": {
    "tags": []
   },
   "outputs": [
    {
     "data": {
      "text/plain": [
       "32                [LB]\n",
       "60                [LB]\n",
       "87            [LB, LM]\n",
       "106               [LB]\n",
       "108               [LB]\n",
       "             ...      \n",
       "18854    [LB, LWB, LW]\n",
       "18871         [CB, LB]\n",
       "18906             [LB]\n",
       "18947         [LB, LW]\n",
       "18978         [CB, LB]\n",
       "Name: positions, Length: 2062, dtype: object"
      ]
     },
     "execution_count": 128,
     "metadata": {},
     "output_type": "execute_result"
    }
   ],
   "source": [
    "# maybe not the finest solution, but I'm learning as most of you...\n",
    "positions[positions.apply(lambda i : 'LB' in i)]"
   ]
  },
  {
   "cell_type": "code",
   "execution_count": 129,
   "id": "3762e544-c11d-4d15-b573-f010db81bcdf",
   "metadata": {
    "tags": []
   },
   "outputs": [],
   "source": [
    "df.positions = positions"
   ]
  },
  {
   "cell_type": "markdown",
   "id": "7316de13-3505-46a9-866a-98c45c2b3e70",
   "metadata": {},
   "source": [
    "Now i will categorize the `best_position` variable. But first, some checking for weird values or nans."
   ]
  },
  {
   "cell_type": "code",
   "execution_count": 130,
   "id": "7bf29cb4-90f2-48ed-9b74-0a15f4e3d385",
   "metadata": {
    "tags": []
   },
   "outputs": [],
   "source": [
    "best_pos = df.best_position.copy()"
   ]
  },
  {
   "cell_type": "code",
   "execution_count": 131,
   "id": "7e44287c-95c6-4cc7-a7dd-fe3b3b5a81e6",
   "metadata": {
    "tags": []
   },
   "outputs": [
    {
     "data": {
      "text/plain": [
       "dtype('O')"
      ]
     },
     "execution_count": 131,
     "metadata": {},
     "output_type": "execute_result"
    }
   ],
   "source": [
    "best_pos.dtype"
   ]
  },
  {
   "cell_type": "code",
   "execution_count": 132,
   "id": "0784e2fc-6d46-4c89-9a4c-31aab1e78740",
   "metadata": {
    "tags": []
   },
   "outputs": [
    {
     "data": {
      "text/plain": [
       "array(['RW', 'ST', 'GK', 'CAM', 'LW', 'CB', 'CDM', 'CF', 'CM', 'RB', 'LB',\n",
       "       'LM', 'RM', 'LWB', 'RWB'], dtype=object)"
      ]
     },
     "execution_count": 132,
     "metadata": {},
     "output_type": "execute_result"
    }
   ],
   "source": [
    "best_pos.unique()"
   ]
  },
  {
   "cell_type": "code",
   "execution_count": 133,
   "id": "81696509-ce8e-4755-8b64-dcd34adf5483",
   "metadata": {
    "tags": []
   },
   "outputs": [
    {
     "data": {
      "text/plain": [
       "0"
      ]
     },
     "execution_count": 133,
     "metadata": {},
     "output_type": "execute_result"
    }
   ],
   "source": [
    "best_pos.isna().sum()"
   ]
  },
  {
   "cell_type": "markdown",
   "id": "74252d1b-b3e2-46c3-9a98-0d6097988201",
   "metadata": {},
   "source": [
    "Finally, convert to categorical"
   ]
  },
  {
   "cell_type": "code",
   "execution_count": 134,
   "id": "19af3aae-b2a4-4b2f-8dfa-bc4608715edf",
   "metadata": {
    "tags": []
   },
   "outputs": [],
   "source": [
    "df.best_position = best_pos.astype('category')"
   ]
  },
  {
   "cell_type": "markdown",
   "id": "61b18c7d-ec94-4058-be91-2d74fce9fa3f",
   "metadata": {
    "tags": []
   },
   "source": [
    "### 13. Clean `loan_end_date`"
   ]
  },
  {
   "cell_type": "code",
   "execution_count": 135,
   "id": "ac54c6ac-e7e2-44f7-8d1d-66e31d9235ff",
   "metadata": {
    "tags": []
   },
   "outputs": [],
   "source": [
    "loan = df.loan_date_end.copy()"
   ]
  },
  {
   "cell_type": "code",
   "execution_count": 136,
   "id": "8bfaa535-ee60-44c6-883c-2fea987592bb",
   "metadata": {
    "tags": []
   },
   "outputs": [
    {
     "data": {
      "text/plain": [
       "17966"
      ]
     },
     "execution_count": 136,
     "metadata": {},
     "output_type": "execute_result"
    }
   ],
   "source": [
    "loan.isna().sum()"
   ]
  },
  {
   "cell_type": "code",
   "execution_count": 137,
   "id": "057ceded-b2e2-4ae6-b809-455ab93144ba",
   "metadata": {
    "tags": []
   },
   "outputs": [
    {
     "data": {
      "text/plain": [
       "array([nan, 'Jun 30, 2021', 'Dec 31, 2020', 'Jan 30, 2021',\n",
       "       'Jun 30, 2022', 'May 31, 2021', 'Jul 5, 2021', 'Dec 31, 2021',\n",
       "       'Jul 1, 2021', 'Jan 1, 2021', 'Aug 31, 2021', 'Jan 31, 2021',\n",
       "       'Dec 30, 2021', 'Jun 23, 2021', 'Jan 3, 2021', 'Nov 27, 2021',\n",
       "       'Jan 17, 2021', 'Jun 30, 2023', 'Jul 31, 2021', 'Nov 22, 2020',\n",
       "       'May 31, 2022', 'Dec 30, 2020', 'Jan 4, 2021', 'Nov 30, 2020',\n",
       "       'Aug 1, 2021'], dtype=object)"
      ]
     },
     "execution_count": 137,
     "metadata": {},
     "output_type": "execute_result"
    }
   ],
   "source": [
    "loan.unique()"
   ]
  },
  {
   "cell_type": "markdown",
   "id": "a34760df-086a-4fe5-9da7-137fd1532e79",
   "metadata": {},
   "source": [
    "This variable contains dates, so I will use `pd.to_datetime(variable)` to convert them to `datetime` dtype. Other date formats can be applied (eg. 'DD-MM-YYYY', european format)"
   ]
  },
  {
   "cell_type": "code",
   "execution_count": 138,
   "id": "e8321edf-6b1b-4dca-b077-64ae3ef146de",
   "metadata": {
    "tags": []
   },
   "outputs": [],
   "source": [
    "loan = pd.to_datetime(loan)"
   ]
  },
  {
   "cell_type": "markdown",
   "id": "2c5c54a1-0764-4c9b-b7e1-4ba4e29862a5",
   "metadata": {},
   "source": [
    "Pandas has a special NaN value for dates that have a null value> NaT (Not a Time). I will show you some of them:"
   ]
  },
  {
   "cell_type": "code",
   "execution_count": 139,
   "id": "61045a44-2b94-46da-9fca-adb898513bfe",
   "metadata": {
    "tags": []
   },
   "outputs": [
    {
     "data": {
      "text/plain": [
       "0   NaT\n",
       "1   NaT\n",
       "2   NaT\n",
       "3   NaT\n",
       "4   NaT\n",
       "Name: loan_date_end, dtype: datetime64[ns]"
      ]
     },
     "execution_count": 139,
     "metadata": {},
     "output_type": "execute_result"
    }
   ],
   "source": [
    "loan[loan.isnull()][:5]"
   ]
  },
  {
   "cell_type": "markdown",
   "id": "013ac7da-0855-4ed0-93ea-e55c8e787f01",
   "metadata": {},
   "source": [
    "Check the rest of them to see if datetime conversion was ok"
   ]
  },
  {
   "cell_type": "code",
   "execution_count": 140,
   "id": "c8141f20-792d-45c1-9b1c-c1a1e9a880b9",
   "metadata": {
    "tags": []
   },
   "outputs": [
    {
     "data": {
      "text/plain": [
       "205     2021-06-30\n",
       "248     2021-06-30\n",
       "254     2021-06-30\n",
       "302     2021-06-30\n",
       "306     2021-06-30\n",
       "           ...    \n",
       "18472   2021-08-31\n",
       "18571   2021-06-30\n",
       "18600   2020-12-31\n",
       "18622   2020-12-31\n",
       "18680   2020-12-31\n",
       "Name: loan_date_end, Length: 1013, dtype: datetime64[ns]"
      ]
     },
     "execution_count": 140,
     "metadata": {},
     "output_type": "execute_result"
    }
   ],
   "source": [
    "loan[loan.notnull()]"
   ]
  },
  {
   "cell_type": "code",
   "execution_count": 141,
   "id": "f8b6c977-2a38-4438-8fa1-ea8cc3fdc900",
   "metadata": {
    "tags": []
   },
   "outputs": [],
   "source": [
    "df.loan_date_end = loan"
   ]
  },
  {
   "cell_type": "markdown",
   "id": "dc1fbab8-7199-4959-9f33-51ca2f28ec62",
   "metadata": {
    "tags": []
   },
   "source": [
    "### 14. Reestructuration and/or removal of columns after all processing"
   ]
  },
  {
   "cell_type": "code",
   "execution_count": 142,
   "id": "2dfe869b-2168-4a8f-b57c-f65dd1ad0668",
   "metadata": {
    "tags": []
   },
   "outputs": [
    {
     "data": {
      "text/plain": [
       "Index(['id', 'name', 'longname', 'photourl', 'playerurl', 'nationality', 'age',\n",
       "       '↓ova', 'pot', 'club', 'contract', 'positions', 'height', 'weight',\n",
       "       'preferred_foot', 'bov', 'best_position', 'joined', 'loan_date_end',\n",
       "       'value_euros_M', 'annual_wage_euros_M', 'release_clause_euros_M',\n",
       "       'attacking', 'crossing', 'finishing', 'heading_accuracy',\n",
       "       'short_passing', 'volleys', 'skill', 'dribbling', 'curve',\n",
       "       'fk_accuracy', 'long_passing', 'ball_control', 'movement',\n",
       "       'acceleration', 'sprint_speed', 'agility', 'reactions', 'balance',\n",
       "       'power', 'shot_power', 'jumping', 'stamina', 'strength', 'long_shots',\n",
       "       'mentality', 'aggression', 'interceptions', 'positioning', 'vision',\n",
       "       'penalties', 'composure', 'defending', 'marking', 'standing_tackle',\n",
       "       'sliding_tackle', 'goalkeeping', 'gk_diving', 'gk_handling',\n",
       "       'gk_kicking', 'gk_positioning', 'gk_reflexes', 'total_stats',\n",
       "       'base_stats', 'w/f', 'sm', 'a/w', 'd/w', 'ir', 'pac', 'sho', 'pas',\n",
       "       'dri', 'def', 'phy', 'hits', 'height_m', 'height_feet', 'on_loan_from',\n",
       "       'contract_started', 'contract_ends', 'has_contract'],\n",
       "      dtype='object')"
      ]
     },
     "execution_count": 142,
     "metadata": {},
     "output_type": "execute_result"
    }
   ],
   "source": [
    "df.columns"
   ]
  },
  {
   "cell_type": "markdown",
   "id": "b21b6520-baaa-4a54-8456-c5282065d09e",
   "metadata": {},
   "source": [
    "I will remove the following columns: `contract` and `height`.  \n",
    "In columns `annual_wage_euros_M`, `release_euros_M` and `value_euros_M`, the string 'euros_M' will be replaced by 'million_euros'.  \n",
    "Column `weight` will be renamed to `weight_kg`"
   ]
  },
  {
   "cell_type": "code",
   "execution_count": 143,
   "id": "a4b6753a-306e-4f3c-b59e-728d76ab2961",
   "metadata": {
    "tags": []
   },
   "outputs": [],
   "source": [
    "df.drop(['contract', 'height'], axis=1, inplace=True)"
   ]
  },
  {
   "cell_type": "code",
   "execution_count": 144,
   "id": "5810aeaa-cae7-4066-bf24-7746dae94b18",
   "metadata": {
    "tags": []
   },
   "outputs": [],
   "source": [
    "df = df.rename(columns = {'annual_wage_euros_M' : 'annual_wage_million_euros',\n",
    "                          'release_clause_euros_M' : 'release_clause_million_euros',\n",
    "                          'value_euros_M' : 'value_million_euros',\n",
    "                         'weight' : 'weight_kg'})"
   ]
  },
  {
   "cell_type": "code",
   "execution_count": 145,
   "id": "94388e00-2a37-4c89-a650-f4ff6ad1816a",
   "metadata": {
    "tags": []
   },
   "outputs": [
    {
     "data": {
      "text/plain": [
       "Index(['value_million_euros', 'annual_wage_million_euros',\n",
       "       'release_clause_million_euros'],\n",
       "      dtype='object')"
      ]
     },
     "execution_count": 145,
     "metadata": {},
     "output_type": "execute_result"
    }
   ],
   "source": [
    "df.columns[df.columns.str.contains('euros')]"
   ]
  },
  {
   "cell_type": "markdown",
   "id": "598c2a75-20c6-4d25-a560-f23da888f345",
   "metadata": {},
   "source": [
    "# Study of the numeric variables"
   ]
  },
  {
   "cell_type": "code",
   "execution_count": 146,
   "id": "642325bc-dbac-49c2-8f89-a1def932cd95",
   "metadata": {
    "tags": []
   },
   "outputs": [
    {
     "name": "stdout",
     "output_type": "stream",
     "text": [
      "['id', 'age', '↓ova', 'pot', 'weight_kg', 'bov', 'value_million_euros', 'annual_wage_million_euros', 'release_clause_million_euros', 'attacking', 'crossing', 'finishing', 'heading_accuracy', 'short_passing', 'volleys', 'skill', 'dribbling', 'curve', 'fk_accuracy', 'long_passing', 'ball_control', 'movement', 'acceleration', 'sprint_speed', 'agility', 'reactions', 'balance', 'power', 'shot_power', 'jumping', 'stamina', 'strength', 'long_shots', 'mentality', 'aggression', 'interceptions', 'positioning', 'vision', 'penalties', 'composure', 'defending', 'marking', 'standing_tackle', 'sliding_tackle', 'goalkeeping', 'gk_diving', 'gk_handling', 'gk_kicking', 'gk_positioning', 'gk_reflexes', 'total_stats', 'base_stats', 'pac', 'sho', 'pas', 'dri', 'def', 'phy', 'hits', 'height_m', 'height_feet']\n"
     ]
    }
   ],
   "source": [
    "num_vars = df.select_dtypes('number').columns.to_list()\n",
    "print(num_vars)"
   ]
  },
  {
   "cell_type": "code",
   "execution_count": 147,
   "id": "25c5298a-455d-4e69-b2ba-a3eeb9da80af",
   "metadata": {
    "tags": []
   },
   "outputs": [
    {
     "data": {
      "text/plain": [
       "id               int64\n",
       "age              int64\n",
       "↓ova             int64\n",
       "pot              int64\n",
       "weight_kg      float64\n",
       "                ...   \n",
       "def              int64\n",
       "phy              int64\n",
       "hits           float64\n",
       "height_m       float64\n",
       "height_feet    float64\n",
       "Length: 61, dtype: object"
      ]
     },
     "execution_count": 147,
     "metadata": {},
     "output_type": "execute_result"
    }
   ],
   "source": [
    "df[num_vars].dtypes"
   ]
  },
  {
   "cell_type": "markdown",
   "id": "901f4509-238d-4241-bd4e-5648761e6b9b",
   "metadata": {},
   "source": [
    "## Study of missing values"
   ]
  },
  {
   "cell_type": "code",
   "execution_count": 148,
   "id": "8b34f95a-b214-48c3-a3d3-21bbda0568ed",
   "metadata": {
    "tags": []
   },
   "outputs": [],
   "source": [
    "def nan_percent(series):\n",
    "    nan_count = series.isna().sum()\n",
    "    total_count = series.shape[0]\n",
    "    return round(nan_count / total_count * 100, 2)"
   ]
  },
  {
   "cell_type": "code",
   "execution_count": 149,
   "id": "34e2b859-4b72-40d3-9363-a6cb6b04533e",
   "metadata": {
    "tags": []
   },
   "outputs": [
    {
     "data": {
      "text/plain": [
       "hits           13.67\n",
       "id              0.00\n",
       "gk_diving       0.00\n",
       "mentality       0.00\n",
       "aggression      0.00\n",
       "               ...  \n",
       "reactions       0.00\n",
       "balance         0.00\n",
       "power           0.00\n",
       "shot_power      0.00\n",
       "height_feet     0.00\n",
       "Name: percentage of missing values, Length: 61, dtype: float64"
      ]
     },
     "execution_count": 149,
     "metadata": {},
     "output_type": "execute_result"
    }
   ],
   "source": [
    "missing_values_pctg = df[num_vars].apply(nan_percent, axis=0).sort_values(ascending=False)\n",
    "missing_values_pctg.name = 'percentage of missing values'\n",
    "missing_values_pctg"
   ]
  },
  {
   "cell_type": "markdown",
   "id": "0a15d951-0b8f-4e2c-a93a-ed3fa0c37a3c",
   "metadata": {},
   "source": [
    "Looks like there are no nan values (except for `hits` variable). That doesn't mean that there are no invalid values. It requires a deeper exploration.  \n",
    "I will get a sample of the numeric variables, in order to make a visual inspection for strange values."
   ]
  },
  {
   "cell_type": "code",
   "execution_count": 150,
   "id": "7fe59a25-bf38-4284-a6d2-e1d9885afced",
   "metadata": {
    "tags": []
   },
   "outputs": [],
   "source": [
    "pd.set_option('display.max_rows', 100)"
   ]
  },
  {
   "cell_type": "code",
   "execution_count": 151,
   "id": "a718a585-be3a-43f1-bb3f-250db0fc175e",
   "metadata": {
    "tags": []
   },
   "outputs": [
    {
     "data": {
      "text/html": [
       "<div>\n",
       "<style scoped>\n",
       "    .dataframe tbody tr th:only-of-type {\n",
       "        vertical-align: middle;\n",
       "    }\n",
       "\n",
       "    .dataframe tbody tr th {\n",
       "        vertical-align: top;\n",
       "    }\n",
       "\n",
       "    .dataframe thead th {\n",
       "        text-align: right;\n",
       "    }\n",
       "</style>\n",
       "<table border=\"1\" class=\"dataframe\">\n",
       "  <thead>\n",
       "    <tr style=\"text-align: right;\">\n",
       "      <th></th>\n",
       "      <th>12180</th>\n",
       "      <th>15901</th>\n",
       "      <th>12375</th>\n",
       "      <th>17419</th>\n",
       "      <th>18476</th>\n",
       "      <th>821</th>\n",
       "      <th>6556</th>\n",
       "      <th>15349</th>\n",
       "      <th>15956</th>\n",
       "      <th>5779</th>\n",
       "    </tr>\n",
       "  </thead>\n",
       "  <tbody>\n",
       "    <tr>\n",
       "      <th>id</th>\n",
       "      <td>244800.000000</td>\n",
       "      <td>234733.000000</td>\n",
       "      <td>213110.000000</td>\n",
       "      <td>232232.000000</td>\n",
       "      <td>257735.000000</td>\n",
       "      <td>191687.000000</td>\n",
       "      <td>251704.000000</td>\n",
       "      <td>259010.000000</td>\n",
       "      <td>240052.000000</td>\n",
       "      <td>214884.000000</td>\n",
       "    </tr>\n",
       "    <tr>\n",
       "      <th>age</th>\n",
       "      <td>24.000000</td>\n",
       "      <td>22.000000</td>\n",
       "      <td>28.000000</td>\n",
       "      <td>27.000000</td>\n",
       "      <td>19.000000</td>\n",
       "      <td>31.000000</td>\n",
       "      <td>35.000000</td>\n",
       "      <td>26.000000</td>\n",
       "      <td>21.000000</td>\n",
       "      <td>27.000000</td>\n",
       "    </tr>\n",
       "    <tr>\n",
       "      <th>↓ova</th>\n",
       "      <td>63.000000</td>\n",
       "      <td>59.000000</td>\n",
       "      <td>63.000000</td>\n",
       "      <td>56.000000</td>\n",
       "      <td>52.000000</td>\n",
       "      <td>78.000000</td>\n",
       "      <td>68.000000</td>\n",
       "      <td>60.000000</td>\n",
       "      <td>59.000000</td>\n",
       "      <td>69.000000</td>\n",
       "    </tr>\n",
       "    <tr>\n",
       "      <th>pot</th>\n",
       "      <td>68.000000</td>\n",
       "      <td>69.000000</td>\n",
       "      <td>63.000000</td>\n",
       "      <td>56.000000</td>\n",
       "      <td>60.000000</td>\n",
       "      <td>78.000000</td>\n",
       "      <td>68.000000</td>\n",
       "      <td>61.000000</td>\n",
       "      <td>69.000000</td>\n",
       "      <td>72.000000</td>\n",
       "    </tr>\n",
       "    <tr>\n",
       "      <th>weight_kg</th>\n",
       "      <td>64.000000</td>\n",
       "      <td>76.000000</td>\n",
       "      <td>84.000000</td>\n",
       "      <td>74.000000</td>\n",
       "      <td>68.000000</td>\n",
       "      <td>84.000000</td>\n",
       "      <td>62.000000</td>\n",
       "      <td>67.000000</td>\n",
       "      <td>76.000000</td>\n",
       "      <td>80.000000</td>\n",
       "    </tr>\n",
       "    <tr>\n",
       "      <th>bov</th>\n",
       "      <td>64.000000</td>\n",
       "      <td>60.000000</td>\n",
       "      <td>63.000000</td>\n",
       "      <td>57.000000</td>\n",
       "      <td>55.000000</td>\n",
       "      <td>78.000000</td>\n",
       "      <td>68.000000</td>\n",
       "      <td>61.000000</td>\n",
       "      <td>61.000000</td>\n",
       "      <td>71.000000</td>\n",
       "    </tr>\n",
       "    <tr>\n",
       "      <th>value_million_euros</th>\n",
       "      <td>0.675000</td>\n",
       "      <td>0.500000</td>\n",
       "      <td>0.500000</td>\n",
       "      <td>0.150000</td>\n",
       "      <td>0.170000</td>\n",
       "      <td>9.500000</td>\n",
       "      <td>2.902997</td>\n",
       "      <td>0.300000</td>\n",
       "      <td>0.475000</td>\n",
       "      <td>1.600000</td>\n",
       "    </tr>\n",
       "    <tr>\n",
       "      <th>annual_wage_million_euros</th>\n",
       "      <td>0.052000</td>\n",
       "      <td>0.104000</td>\n",
       "      <td>0.052000</td>\n",
       "      <td>0.052000</td>\n",
       "      <td>0.004160</td>\n",
       "      <td>1.976000</td>\n",
       "      <td>0.473092</td>\n",
       "      <td>0.104000</td>\n",
       "      <td>0.052000</td>\n",
       "      <td>0.260000</td>\n",
       "    </tr>\n",
       "    <tr>\n",
       "      <th>release_clause_million_euros</th>\n",
       "      <td>0.563000</td>\n",
       "      <td>0.488000</td>\n",
       "      <td>0.656000</td>\n",
       "      <td>0.113000</td>\n",
       "      <td>0.109000</td>\n",
       "      <td>12.800000</td>\n",
       "      <td>4.244997</td>\n",
       "      <td>0.342000</td>\n",
       "      <td>0.380000</td>\n",
       "      <td>1.600000</td>\n",
       "    </tr>\n",
       "    <tr>\n",
       "      <th>attacking</th>\n",
       "      <td>238.000000</td>\n",
       "      <td>243.000000</td>\n",
       "      <td>287.000000</td>\n",
       "      <td>257.000000</td>\n",
       "      <td>236.000000</td>\n",
       "      <td>289.000000</td>\n",
       "      <td>277.000000</td>\n",
       "      <td>238.000000</td>\n",
       "      <td>198.000000</td>\n",
       "      <td>231.000000</td>\n",
       "    </tr>\n",
       "    <tr>\n",
       "      <th>crossing</th>\n",
       "      <td>58.000000</td>\n",
       "      <td>51.000000</td>\n",
       "      <td>42.000000</td>\n",
       "      <td>48.000000</td>\n",
       "      <td>54.000000</td>\n",
       "      <td>70.000000</td>\n",
       "      <td>64.000000</td>\n",
       "      <td>60.000000</td>\n",
       "      <td>34.000000</td>\n",
       "      <td>31.000000</td>\n",
       "    </tr>\n",
       "    <tr>\n",
       "      <th>finishing</th>\n",
       "      <td>42.000000</td>\n",
       "      <td>57.000000</td>\n",
       "      <td>62.000000</td>\n",
       "      <td>44.000000</td>\n",
       "      <td>43.000000</td>\n",
       "      <td>40.000000</td>\n",
       "      <td>50.000000</td>\n",
       "      <td>53.000000</td>\n",
       "      <td>28.000000</td>\n",
       "      <td>34.000000</td>\n",
       "    </tr>\n",
       "    <tr>\n",
       "      <th>heading_accuracy</th>\n",
       "      <td>41.000000</td>\n",
       "      <td>44.000000</td>\n",
       "      <td>67.000000</td>\n",
       "      <td>62.000000</td>\n",
       "      <td>42.000000</td>\n",
       "      <td>83.000000</td>\n",
       "      <td>43.000000</td>\n",
       "      <td>33.000000</td>\n",
       "      <td>59.000000</td>\n",
       "      <td>68.000000</td>\n",
       "    </tr>\n",
       "    <tr>\n",
       "      <th>short_passing</th>\n",
       "      <td>61.000000</td>\n",
       "      <td>51.000000</td>\n",
       "      <td>59.000000</td>\n",
       "      <td>65.000000</td>\n",
       "      <td>54.000000</td>\n",
       "      <td>67.000000</td>\n",
       "      <td>65.000000</td>\n",
       "      <td>57.000000</td>\n",
       "      <td>46.000000</td>\n",
       "      <td>56.000000</td>\n",
       "    </tr>\n",
       "    <tr>\n",
       "      <th>volleys</th>\n",
       "      <td>36.000000</td>\n",
       "      <td>40.000000</td>\n",
       "      <td>57.000000</td>\n",
       "      <td>38.000000</td>\n",
       "      <td>43.000000</td>\n",
       "      <td>29.000000</td>\n",
       "      <td>55.000000</td>\n",
       "      <td>35.000000</td>\n",
       "      <td>31.000000</td>\n",
       "      <td>42.000000</td>\n",
       "    </tr>\n",
       "    <tr>\n",
       "      <th>skill</th>\n",
       "      <td>269.000000</td>\n",
       "      <td>240.000000</td>\n",
       "      <td>268.000000</td>\n",
       "      <td>262.000000</td>\n",
       "      <td>215.000000</td>\n",
       "      <td>334.000000</td>\n",
       "      <td>308.000000</td>\n",
       "      <td>250.000000</td>\n",
       "      <td>188.000000</td>\n",
       "      <td>272.000000</td>\n",
       "    </tr>\n",
       "    <tr>\n",
       "      <th>dribbling</th>\n",
       "      <td>62.000000</td>\n",
       "      <td>62.000000</td>\n",
       "      <td>63.000000</td>\n",
       "      <td>52.000000</td>\n",
       "      <td>55.000000</td>\n",
       "      <td>55.000000</td>\n",
       "      <td>71.000000</td>\n",
       "      <td>61.000000</td>\n",
       "      <td>46.000000</td>\n",
       "      <td>57.000000</td>\n",
       "    </tr>\n",
       "    <tr>\n",
       "      <th>curve</th>\n",
       "      <td>58.000000</td>\n",
       "      <td>52.000000</td>\n",
       "      <td>59.000000</td>\n",
       "      <td>43.000000</td>\n",
       "      <td>33.000000</td>\n",
       "      <td>70.000000</td>\n",
       "      <td>61.000000</td>\n",
       "      <td>44.000000</td>\n",
       "      <td>32.000000</td>\n",
       "      <td>43.000000</td>\n",
       "    </tr>\n",
       "    <tr>\n",
       "      <th>fk_accuracy</th>\n",
       "      <td>32.000000</td>\n",
       "      <td>23.000000</td>\n",
       "      <td>41.000000</td>\n",
       "      <td>51.000000</td>\n",
       "      <td>29.000000</td>\n",
       "      <td>74.000000</td>\n",
       "      <td>48.000000</td>\n",
       "      <td>33.000000</td>\n",
       "      <td>22.000000</td>\n",
       "      <td>50.000000</td>\n",
       "    </tr>\n",
       "    <tr>\n",
       "      <th>long_passing</th>\n",
       "      <td>56.000000</td>\n",
       "      <td>46.000000</td>\n",
       "      <td>42.000000</td>\n",
       "      <td>62.000000</td>\n",
       "      <td>52.000000</td>\n",
       "      <td>75.000000</td>\n",
       "      <td>58.000000</td>\n",
       "      <td>55.000000</td>\n",
       "      <td>36.000000</td>\n",
       "      <td>63.000000</td>\n",
       "    </tr>\n",
       "    <tr>\n",
       "      <th>ball_control</th>\n",
       "      <td>61.000000</td>\n",
       "      <td>57.000000</td>\n",
       "      <td>63.000000</td>\n",
       "      <td>54.000000</td>\n",
       "      <td>46.000000</td>\n",
       "      <td>60.000000</td>\n",
       "      <td>70.000000</td>\n",
       "      <td>57.000000</td>\n",
       "      <td>52.000000</td>\n",
       "      <td>59.000000</td>\n",
       "    </tr>\n",
       "    <tr>\n",
       "      <th>movement</th>\n",
       "      <td>386.000000</td>\n",
       "      <td>358.000000</td>\n",
       "      <td>299.000000</td>\n",
       "      <td>255.000000</td>\n",
       "      <td>290.000000</td>\n",
       "      <td>247.000000</td>\n",
       "      <td>381.000000</td>\n",
       "      <td>349.000000</td>\n",
       "      <td>286.000000</td>\n",
       "      <td>223.000000</td>\n",
       "    </tr>\n",
       "    <tr>\n",
       "      <th>acceleration</th>\n",
       "      <td>88.000000</td>\n",
       "      <td>84.000000</td>\n",
       "      <td>65.000000</td>\n",
       "      <td>52.000000</td>\n",
       "      <td>67.000000</td>\n",
       "      <td>50.000000</td>\n",
       "      <td>78.000000</td>\n",
       "      <td>78.000000</td>\n",
       "      <td>61.000000</td>\n",
       "      <td>44.000000</td>\n",
       "    </tr>\n",
       "    <tr>\n",
       "      <th>sprint_speed</th>\n",
       "      <td>83.000000</td>\n",
       "      <td>80.000000</td>\n",
       "      <td>72.000000</td>\n",
       "      <td>46.000000</td>\n",
       "      <td>63.000000</td>\n",
       "      <td>55.000000</td>\n",
       "      <td>77.000000</td>\n",
       "      <td>76.000000</td>\n",
       "      <td>48.000000</td>\n",
       "      <td>48.000000</td>\n",
       "    </tr>\n",
       "    <tr>\n",
       "      <th>agility</th>\n",
       "      <td>83.000000</td>\n",
       "      <td>76.000000</td>\n",
       "      <td>70.000000</td>\n",
       "      <td>56.000000</td>\n",
       "      <td>68.000000</td>\n",
       "      <td>34.000000</td>\n",
       "      <td>81.000000</td>\n",
       "      <td>69.000000</td>\n",
       "      <td>59.000000</td>\n",
       "      <td>33.000000</td>\n",
       "    </tr>\n",
       "    <tr>\n",
       "      <th>reactions</th>\n",
       "      <td>56.000000</td>\n",
       "      <td>47.000000</td>\n",
       "      <td>45.000000</td>\n",
       "      <td>50.000000</td>\n",
       "      <td>44.000000</td>\n",
       "      <td>66.000000</td>\n",
       "      <td>66.000000</td>\n",
       "      <td>58.000000</td>\n",
       "      <td>54.000000</td>\n",
       "      <td>66.000000</td>\n",
       "    </tr>\n",
       "    <tr>\n",
       "      <th>balance</th>\n",
       "      <td>76.000000</td>\n",
       "      <td>71.000000</td>\n",
       "      <td>47.000000</td>\n",
       "      <td>51.000000</td>\n",
       "      <td>48.000000</td>\n",
       "      <td>42.000000</td>\n",
       "      <td>79.000000</td>\n",
       "      <td>68.000000</td>\n",
       "      <td>64.000000</td>\n",
       "      <td>32.000000</td>\n",
       "    </tr>\n",
       "    <tr>\n",
       "      <th>power</th>\n",
       "      <td>282.000000</td>\n",
       "      <td>281.000000</td>\n",
       "      <td>352.000000</td>\n",
       "      <td>275.000000</td>\n",
       "      <td>277.000000</td>\n",
       "      <td>385.000000</td>\n",
       "      <td>307.000000</td>\n",
       "      <td>237.000000</td>\n",
       "      <td>254.000000</td>\n",
       "      <td>348.000000</td>\n",
       "    </tr>\n",
       "    <tr>\n",
       "      <th>shot_power</th>\n",
       "      <td>57.000000</td>\n",
       "      <td>49.000000</td>\n",
       "      <td>68.000000</td>\n",
       "      <td>49.000000</td>\n",
       "      <td>47.000000</td>\n",
       "      <td>85.000000</td>\n",
       "      <td>71.000000</td>\n",
       "      <td>55.000000</td>\n",
       "      <td>36.000000</td>\n",
       "      <td>57.000000</td>\n",
       "    </tr>\n",
       "    <tr>\n",
       "      <th>jumping</th>\n",
       "      <td>57.000000</td>\n",
       "      <td>54.000000</td>\n",
       "      <td>74.000000</td>\n",
       "      <td>43.000000</td>\n",
       "      <td>59.000000</td>\n",
       "      <td>71.000000</td>\n",
       "      <td>58.000000</td>\n",
       "      <td>41.000000</td>\n",
       "      <td>74.000000</td>\n",
       "      <td>73.000000</td>\n",
       "    </tr>\n",
       "    <tr>\n",
       "      <th>stamina</th>\n",
       "      <td>69.000000</td>\n",
       "      <td>63.000000</td>\n",
       "      <td>73.000000</td>\n",
       "      <td>63.000000</td>\n",
       "      <td>66.000000</td>\n",
       "      <td>72.000000</td>\n",
       "      <td>74.000000</td>\n",
       "      <td>54.000000</td>\n",
       "      <td>55.000000</td>\n",
       "      <td>70.000000</td>\n",
       "    </tr>\n",
       "    <tr>\n",
       "      <th>strength</th>\n",
       "      <td>48.000000</td>\n",
       "      <td>59.000000</td>\n",
       "      <td>75.000000</td>\n",
       "      <td>68.000000</td>\n",
       "      <td>57.000000</td>\n",
       "      <td>90.000000</td>\n",
       "      <td>36.000000</td>\n",
       "      <td>52.000000</td>\n",
       "      <td>63.000000</td>\n",
       "      <td>92.000000</td>\n",
       "    </tr>\n",
       "    <tr>\n",
       "      <th>long_shots</th>\n",
       "      <td>51.000000</td>\n",
       "      <td>56.000000</td>\n",
       "      <td>62.000000</td>\n",
       "      <td>52.000000</td>\n",
       "      <td>48.000000</td>\n",
       "      <td>67.000000</td>\n",
       "      <td>68.000000</td>\n",
       "      <td>35.000000</td>\n",
       "      <td>26.000000</td>\n",
       "      <td>56.000000</td>\n",
       "    </tr>\n",
       "    <tr>\n",
       "      <th>mentality</th>\n",
       "      <td>274.000000</td>\n",
       "      <td>208.000000</td>\n",
       "      <td>241.000000</td>\n",
       "      <td>255.000000</td>\n",
       "      <td>198.000000</td>\n",
       "      <td>312.000000</td>\n",
       "      <td>260.000000</td>\n",
       "      <td>223.000000</td>\n",
       "      <td>218.000000</td>\n",
       "      <td>270.000000</td>\n",
       "    </tr>\n",
       "    <tr>\n",
       "      <th>aggression</th>\n",
       "      <td>63.000000</td>\n",
       "      <td>28.000000</td>\n",
       "      <td>49.000000</td>\n",
       "      <td>47.000000</td>\n",
       "      <td>27.000000</td>\n",
       "      <td>85.000000</td>\n",
       "      <td>50.000000</td>\n",
       "      <td>41.000000</td>\n",
       "      <td>63.000000</td>\n",
       "      <td>75.000000</td>\n",
       "    </tr>\n",
       "    <tr>\n",
       "      <th>interceptions</th>\n",
       "      <td>52.000000</td>\n",
       "      <td>32.000000</td>\n",
       "      <td>22.000000</td>\n",
       "      <td>57.000000</td>\n",
       "      <td>50.000000</td>\n",
       "      <td>79.000000</td>\n",
       "      <td>34.000000</td>\n",
       "      <td>18.000000</td>\n",
       "      <td>59.000000</td>\n",
       "      <td>66.000000</td>\n",
       "    </tr>\n",
       "    <tr>\n",
       "      <th>positioning</th>\n",
       "      <td>62.000000</td>\n",
       "      <td>56.000000</td>\n",
       "      <td>60.000000</td>\n",
       "      <td>46.000000</td>\n",
       "      <td>46.000000</td>\n",
       "      <td>44.000000</td>\n",
       "      <td>64.000000</td>\n",
       "      <td>57.000000</td>\n",
       "      <td>25.000000</td>\n",
       "      <td>45.000000</td>\n",
       "    </tr>\n",
       "    <tr>\n",
       "      <th>vision</th>\n",
       "      <td>52.000000</td>\n",
       "      <td>53.000000</td>\n",
       "      <td>43.000000</td>\n",
       "      <td>54.000000</td>\n",
       "      <td>48.000000</td>\n",
       "      <td>52.000000</td>\n",
       "      <td>60.000000</td>\n",
       "      <td>55.000000</td>\n",
       "      <td>30.000000</td>\n",
       "      <td>43.000000</td>\n",
       "    </tr>\n",
       "    <tr>\n",
       "      <th>penalties</th>\n",
       "      <td>45.000000</td>\n",
       "      <td>39.000000</td>\n",
       "      <td>67.000000</td>\n",
       "      <td>51.000000</td>\n",
       "      <td>27.000000</td>\n",
       "      <td>52.000000</td>\n",
       "      <td>52.000000</td>\n",
       "      <td>52.000000</td>\n",
       "      <td>41.000000</td>\n",
       "      <td>41.000000</td>\n",
       "    </tr>\n",
       "    <tr>\n",
       "      <th>composure</th>\n",
       "      <td>60.000000</td>\n",
       "      <td>53.000000</td>\n",
       "      <td>56.000000</td>\n",
       "      <td>60.000000</td>\n",
       "      <td>43.000000</td>\n",
       "      <td>71.000000</td>\n",
       "      <td>65.000000</td>\n",
       "      <td>44.000000</td>\n",
       "      <td>51.000000</td>\n",
       "      <td>68.000000</td>\n",
       "    </tr>\n",
       "    <tr>\n",
       "      <th>defending</th>\n",
       "      <td>177.000000</td>\n",
       "      <td>90.000000</td>\n",
       "      <td>69.000000</td>\n",
       "      <td>159.000000</td>\n",
       "      <td>104.000000</td>\n",
       "      <td>233.000000</td>\n",
       "      <td>83.000000</td>\n",
       "      <td>72.000000</td>\n",
       "      <td>179.000000</td>\n",
       "      <td>199.000000</td>\n",
       "    </tr>\n",
       "    <tr>\n",
       "      <th>marking</th>\n",
       "      <td>62.000000</td>\n",
       "      <td>30.000000</td>\n",
       "      <td>27.000000</td>\n",
       "      <td>54.000000</td>\n",
       "      <td>42.000000</td>\n",
       "      <td>75.000000</td>\n",
       "      <td>18.000000</td>\n",
       "      <td>23.000000</td>\n",
       "      <td>57.000000</td>\n",
       "      <td>67.000000</td>\n",
       "    </tr>\n",
       "    <tr>\n",
       "      <th>standing_tackle</th>\n",
       "      <td>58.000000</td>\n",
       "      <td>30.000000</td>\n",
       "      <td>22.000000</td>\n",
       "      <td>55.000000</td>\n",
       "      <td>29.000000</td>\n",
       "      <td>82.000000</td>\n",
       "      <td>32.000000</td>\n",
       "      <td>25.000000</td>\n",
       "      <td>62.000000</td>\n",
       "      <td>69.000000</td>\n",
       "    </tr>\n",
       "    <tr>\n",
       "      <th>sliding_tackle</th>\n",
       "      <td>57.000000</td>\n",
       "      <td>30.000000</td>\n",
       "      <td>20.000000</td>\n",
       "      <td>50.000000</td>\n",
       "      <td>33.000000</td>\n",
       "      <td>76.000000</td>\n",
       "      <td>33.000000</td>\n",
       "      <td>24.000000</td>\n",
       "      <td>60.000000</td>\n",
       "      <td>63.000000</td>\n",
       "    </tr>\n",
       "    <tr>\n",
       "      <th>goalkeeping</th>\n",
       "      <td>40.000000</td>\n",
       "      <td>50.000000</td>\n",
       "      <td>54.000000</td>\n",
       "      <td>56.000000</td>\n",
       "      <td>51.000000</td>\n",
       "      <td>56.000000</td>\n",
       "      <td>56.000000</td>\n",
       "      <td>48.000000</td>\n",
       "      <td>50.000000</td>\n",
       "      <td>54.000000</td>\n",
       "    </tr>\n",
       "    <tr>\n",
       "      <th>gk_diving</th>\n",
       "      <td>8.000000</td>\n",
       "      <td>5.000000</td>\n",
       "      <td>11.000000</td>\n",
       "      <td>10.000000</td>\n",
       "      <td>9.000000</td>\n",
       "      <td>15.000000</td>\n",
       "      <td>16.000000</td>\n",
       "      <td>13.000000</td>\n",
       "      <td>11.000000</td>\n",
       "      <td>14.000000</td>\n",
       "    </tr>\n",
       "    <tr>\n",
       "      <th>gk_handling</th>\n",
       "      <td>8.000000</td>\n",
       "      <td>8.000000</td>\n",
       "      <td>7.000000</td>\n",
       "      <td>12.000000</td>\n",
       "      <td>11.000000</td>\n",
       "      <td>11.000000</td>\n",
       "      <td>16.000000</td>\n",
       "      <td>11.000000</td>\n",
       "      <td>8.000000</td>\n",
       "      <td>12.000000</td>\n",
       "    </tr>\n",
       "    <tr>\n",
       "      <th>gk_kicking</th>\n",
       "      <td>8.000000</td>\n",
       "      <td>14.000000</td>\n",
       "      <td>16.000000</td>\n",
       "      <td>12.000000</td>\n",
       "      <td>10.000000</td>\n",
       "      <td>14.000000</td>\n",
       "      <td>8.000000</td>\n",
       "      <td>8.000000</td>\n",
       "      <td>9.000000</td>\n",
       "      <td>8.000000</td>\n",
       "    </tr>\n",
       "    <tr>\n",
       "      <th>gk_positioning</th>\n",
       "      <td>7.000000</td>\n",
       "      <td>14.000000</td>\n",
       "      <td>14.000000</td>\n",
       "      <td>15.000000</td>\n",
       "      <td>14.000000</td>\n",
       "      <td>10.000000</td>\n",
       "      <td>6.000000</td>\n",
       "      <td>11.000000</td>\n",
       "      <td>8.000000</td>\n",
       "      <td>7.000000</td>\n",
       "    </tr>\n",
       "    <tr>\n",
       "      <th>gk_reflexes</th>\n",
       "      <td>9.000000</td>\n",
       "      <td>9.000000</td>\n",
       "      <td>6.000000</td>\n",
       "      <td>7.000000</td>\n",
       "      <td>7.000000</td>\n",
       "      <td>6.000000</td>\n",
       "      <td>10.000000</td>\n",
       "      <td>5.000000</td>\n",
       "      <td>14.000000</td>\n",
       "      <td>13.000000</td>\n",
       "    </tr>\n",
       "    <tr>\n",
       "      <th>total_stats</th>\n",
       "      <td>1666.000000</td>\n",
       "      <td>1470.000000</td>\n",
       "      <td>1570.000000</td>\n",
       "      <td>1519.000000</td>\n",
       "      <td>1371.000000</td>\n",
       "      <td>1856.000000</td>\n",
       "      <td>1672.000000</td>\n",
       "      <td>1417.000000</td>\n",
       "      <td>1373.000000</td>\n",
       "      <td>1597.000000</td>\n",
       "    </tr>\n",
       "    <tr>\n",
       "      <th>base_stats</th>\n",
       "      <td>366.000000</td>\n",
       "      <td>332.000000</td>\n",
       "      <td>340.000000</td>\n",
       "      <td>322.000000</td>\n",
       "      <td>304.000000</td>\n",
       "      <td>391.000000</td>\n",
       "      <td>348.000000</td>\n",
       "      <td>316.000000</td>\n",
       "      <td>292.000000</td>\n",
       "      <td>342.000000</td>\n",
       "    </tr>\n",
       "    <tr>\n",
       "      <th>pac</th>\n",
       "      <td>85.000000</td>\n",
       "      <td>82.000000</td>\n",
       "      <td>69.000000</td>\n",
       "      <td>49.000000</td>\n",
       "      <td>65.000000</td>\n",
       "      <td>53.000000</td>\n",
       "      <td>77.000000</td>\n",
       "      <td>77.000000</td>\n",
       "      <td>54.000000</td>\n",
       "      <td>46.000000</td>\n",
       "    </tr>\n",
       "    <tr>\n",
       "      <th>sho</th>\n",
       "      <td>48.000000</td>\n",
       "      <td>53.000000</td>\n",
       "      <td>63.000000</td>\n",
       "      <td>47.000000</td>\n",
       "      <td>44.000000</td>\n",
       "      <td>55.000000</td>\n",
       "      <td>59.000000</td>\n",
       "      <td>49.000000</td>\n",
       "      <td>30.000000</td>\n",
       "      <td>44.000000</td>\n",
       "    </tr>\n",
       "    <tr>\n",
       "      <th>pas</th>\n",
       "      <td>56.000000</td>\n",
       "      <td>49.000000</td>\n",
       "      <td>49.000000</td>\n",
       "      <td>57.000000</td>\n",
       "      <td>50.000000</td>\n",
       "      <td>66.000000</td>\n",
       "      <td>62.000000</td>\n",
       "      <td>55.000000</td>\n",
       "      <td>37.000000</td>\n",
       "      <td>49.000000</td>\n",
       "    </tr>\n",
       "    <tr>\n",
       "      <th>dri</th>\n",
       "      <td>64.000000</td>\n",
       "      <td>62.000000</td>\n",
       "      <td>62.000000</td>\n",
       "      <td>53.000000</td>\n",
       "      <td>53.000000</td>\n",
       "      <td>54.000000</td>\n",
       "      <td>72.000000</td>\n",
       "      <td>61.000000</td>\n",
       "      <td>50.000000</td>\n",
       "      <td>54.000000</td>\n",
       "    </tr>\n",
       "    <tr>\n",
       "      <th>def</th>\n",
       "      <td>56.000000</td>\n",
       "      <td>32.000000</td>\n",
       "      <td>28.000000</td>\n",
       "      <td>55.000000</td>\n",
       "      <td>39.000000</td>\n",
       "      <td>79.000000</td>\n",
       "      <td>29.000000</td>\n",
       "      <td>24.000000</td>\n",
       "      <td>59.000000</td>\n",
       "      <td>67.000000</td>\n",
       "    </tr>\n",
       "    <tr>\n",
       "      <th>phy</th>\n",
       "      <td>57.000000</td>\n",
       "      <td>54.000000</td>\n",
       "      <td>69.000000</td>\n",
       "      <td>61.000000</td>\n",
       "      <td>53.000000</td>\n",
       "      <td>84.000000</td>\n",
       "      <td>49.000000</td>\n",
       "      <td>50.000000</td>\n",
       "      <td>62.000000</td>\n",
       "      <td>82.000000</td>\n",
       "    </tr>\n",
       "    <tr>\n",
       "      <th>hits</th>\n",
       "      <td>2.000000</td>\n",
       "      <td>2.000000</td>\n",
       "      <td>3.000000</td>\n",
       "      <td>NaN</td>\n",
       "      <td>NaN</td>\n",
       "      <td>23.000000</td>\n",
       "      <td>2.000000</td>\n",
       "      <td>1.000000</td>\n",
       "      <td>9.000000</td>\n",
       "      <td>2.000000</td>\n",
       "    </tr>\n",
       "    <tr>\n",
       "      <th>height_m</th>\n",
       "      <td>1.720000</td>\n",
       "      <td>1.720000</td>\n",
       "      <td>1.870000</td>\n",
       "      <td>1.850000</td>\n",
       "      <td>1.740000</td>\n",
       "      <td>1.910000</td>\n",
       "      <td>1.680000</td>\n",
       "      <td>1.770000</td>\n",
       "      <td>1.840000</td>\n",
       "      <td>1.890000</td>\n",
       "    </tr>\n",
       "    <tr>\n",
       "      <th>height_feet</th>\n",
       "      <td>5.643045</td>\n",
       "      <td>5.643045</td>\n",
       "      <td>6.135171</td>\n",
       "      <td>6.069554</td>\n",
       "      <td>5.708661</td>\n",
       "      <td>6.266404</td>\n",
       "      <td>5.511811</td>\n",
       "      <td>5.807087</td>\n",
       "      <td>6.036745</td>\n",
       "      <td>6.200787</td>\n",
       "    </tr>\n",
       "  </tbody>\n",
       "</table>\n",
       "</div>"
      ],
      "text/plain": [
       "                                      12180          15901          12375  \\\n",
       "id                            244800.000000  234733.000000  213110.000000   \n",
       "age                               24.000000      22.000000      28.000000   \n",
       "↓ova                              63.000000      59.000000      63.000000   \n",
       "pot                               68.000000      69.000000      63.000000   \n",
       "weight_kg                         64.000000      76.000000      84.000000   \n",
       "bov                               64.000000      60.000000      63.000000   \n",
       "value_million_euros                0.675000       0.500000       0.500000   \n",
       "annual_wage_million_euros          0.052000       0.104000       0.052000   \n",
       "release_clause_million_euros       0.563000       0.488000       0.656000   \n",
       "attacking                        238.000000     243.000000     287.000000   \n",
       "crossing                          58.000000      51.000000      42.000000   \n",
       "finishing                         42.000000      57.000000      62.000000   \n",
       "heading_accuracy                  41.000000      44.000000      67.000000   \n",
       "short_passing                     61.000000      51.000000      59.000000   \n",
       "volleys                           36.000000      40.000000      57.000000   \n",
       "skill                            269.000000     240.000000     268.000000   \n",
       "dribbling                         62.000000      62.000000      63.000000   \n",
       "curve                             58.000000      52.000000      59.000000   \n",
       "fk_accuracy                       32.000000      23.000000      41.000000   \n",
       "long_passing                      56.000000      46.000000      42.000000   \n",
       "ball_control                      61.000000      57.000000      63.000000   \n",
       "movement                         386.000000     358.000000     299.000000   \n",
       "acceleration                      88.000000      84.000000      65.000000   \n",
       "sprint_speed                      83.000000      80.000000      72.000000   \n",
       "agility                           83.000000      76.000000      70.000000   \n",
       "reactions                         56.000000      47.000000      45.000000   \n",
       "balance                           76.000000      71.000000      47.000000   \n",
       "power                            282.000000     281.000000     352.000000   \n",
       "shot_power                        57.000000      49.000000      68.000000   \n",
       "jumping                           57.000000      54.000000      74.000000   \n",
       "stamina                           69.000000      63.000000      73.000000   \n",
       "strength                          48.000000      59.000000      75.000000   \n",
       "long_shots                        51.000000      56.000000      62.000000   \n",
       "mentality                        274.000000     208.000000     241.000000   \n",
       "aggression                        63.000000      28.000000      49.000000   \n",
       "interceptions                     52.000000      32.000000      22.000000   \n",
       "positioning                       62.000000      56.000000      60.000000   \n",
       "vision                            52.000000      53.000000      43.000000   \n",
       "penalties                         45.000000      39.000000      67.000000   \n",
       "composure                         60.000000      53.000000      56.000000   \n",
       "defending                        177.000000      90.000000      69.000000   \n",
       "marking                           62.000000      30.000000      27.000000   \n",
       "standing_tackle                   58.000000      30.000000      22.000000   \n",
       "sliding_tackle                    57.000000      30.000000      20.000000   \n",
       "goalkeeping                       40.000000      50.000000      54.000000   \n",
       "gk_diving                          8.000000       5.000000      11.000000   \n",
       "gk_handling                        8.000000       8.000000       7.000000   \n",
       "gk_kicking                         8.000000      14.000000      16.000000   \n",
       "gk_positioning                     7.000000      14.000000      14.000000   \n",
       "gk_reflexes                        9.000000       9.000000       6.000000   \n",
       "total_stats                     1666.000000    1470.000000    1570.000000   \n",
       "base_stats                       366.000000     332.000000     340.000000   \n",
       "pac                               85.000000      82.000000      69.000000   \n",
       "sho                               48.000000      53.000000      63.000000   \n",
       "pas                               56.000000      49.000000      49.000000   \n",
       "dri                               64.000000      62.000000      62.000000   \n",
       "def                               56.000000      32.000000      28.000000   \n",
       "phy                               57.000000      54.000000      69.000000   \n",
       "hits                               2.000000       2.000000       3.000000   \n",
       "height_m                           1.720000       1.720000       1.870000   \n",
       "height_feet                        5.643045       5.643045       6.135171   \n",
       "\n",
       "                                      17419          18476          821    \\\n",
       "id                            232232.000000  257735.000000  191687.000000   \n",
       "age                               27.000000      19.000000      31.000000   \n",
       "↓ova                              56.000000      52.000000      78.000000   \n",
       "pot                               56.000000      60.000000      78.000000   \n",
       "weight_kg                         74.000000      68.000000      84.000000   \n",
       "bov                               57.000000      55.000000      78.000000   \n",
       "value_million_euros                0.150000       0.170000       9.500000   \n",
       "annual_wage_million_euros          0.052000       0.004160       1.976000   \n",
       "release_clause_million_euros       0.113000       0.109000      12.800000   \n",
       "attacking                        257.000000     236.000000     289.000000   \n",
       "crossing                          48.000000      54.000000      70.000000   \n",
       "finishing                         44.000000      43.000000      40.000000   \n",
       "heading_accuracy                  62.000000      42.000000      83.000000   \n",
       "short_passing                     65.000000      54.000000      67.000000   \n",
       "volleys                           38.000000      43.000000      29.000000   \n",
       "skill                            262.000000     215.000000     334.000000   \n",
       "dribbling                         52.000000      55.000000      55.000000   \n",
       "curve                             43.000000      33.000000      70.000000   \n",
       "fk_accuracy                       51.000000      29.000000      74.000000   \n",
       "long_passing                      62.000000      52.000000      75.000000   \n",
       "ball_control                      54.000000      46.000000      60.000000   \n",
       "movement                         255.000000     290.000000     247.000000   \n",
       "acceleration                      52.000000      67.000000      50.000000   \n",
       "sprint_speed                      46.000000      63.000000      55.000000   \n",
       "agility                           56.000000      68.000000      34.000000   \n",
       "reactions                         50.000000      44.000000      66.000000   \n",
       "balance                           51.000000      48.000000      42.000000   \n",
       "power                            275.000000     277.000000     385.000000   \n",
       "shot_power                        49.000000      47.000000      85.000000   \n",
       "jumping                           43.000000      59.000000      71.000000   \n",
       "stamina                           63.000000      66.000000      72.000000   \n",
       "strength                          68.000000      57.000000      90.000000   \n",
       "long_shots                        52.000000      48.000000      67.000000   \n",
       "mentality                        255.000000     198.000000     312.000000   \n",
       "aggression                        47.000000      27.000000      85.000000   \n",
       "interceptions                     57.000000      50.000000      79.000000   \n",
       "positioning                       46.000000      46.000000      44.000000   \n",
       "vision                            54.000000      48.000000      52.000000   \n",
       "penalties                         51.000000      27.000000      52.000000   \n",
       "composure                         60.000000      43.000000      71.000000   \n",
       "defending                        159.000000     104.000000     233.000000   \n",
       "marking                           54.000000      42.000000      75.000000   \n",
       "standing_tackle                   55.000000      29.000000      82.000000   \n",
       "sliding_tackle                    50.000000      33.000000      76.000000   \n",
       "goalkeeping                       56.000000      51.000000      56.000000   \n",
       "gk_diving                         10.000000       9.000000      15.000000   \n",
       "gk_handling                       12.000000      11.000000      11.000000   \n",
       "gk_kicking                        12.000000      10.000000      14.000000   \n",
       "gk_positioning                    15.000000      14.000000      10.000000   \n",
       "gk_reflexes                        7.000000       7.000000       6.000000   \n",
       "total_stats                     1519.000000    1371.000000    1856.000000   \n",
       "base_stats                       322.000000     304.000000     391.000000   \n",
       "pac                               49.000000      65.000000      53.000000   \n",
       "sho                               47.000000      44.000000      55.000000   \n",
       "pas                               57.000000      50.000000      66.000000   \n",
       "dri                               53.000000      53.000000      54.000000   \n",
       "def                               55.000000      39.000000      79.000000   \n",
       "phy                               61.000000      53.000000      84.000000   \n",
       "hits                                    NaN            NaN      23.000000   \n",
       "height_m                           1.850000       1.740000       1.910000   \n",
       "height_feet                        6.069554       5.708661       6.266404   \n",
       "\n",
       "                                      6556           15349          15956  \\\n",
       "id                            251704.000000  259010.000000  240052.000000   \n",
       "age                               35.000000      26.000000      21.000000   \n",
       "↓ova                              68.000000      60.000000      59.000000   \n",
       "pot                               68.000000      61.000000      69.000000   \n",
       "weight_kg                         62.000000      67.000000      76.000000   \n",
       "bov                               68.000000      61.000000      61.000000   \n",
       "value_million_euros                2.902997       0.300000       0.475000   \n",
       "annual_wage_million_euros          0.473092       0.104000       0.052000   \n",
       "release_clause_million_euros       4.244997       0.342000       0.380000   \n",
       "attacking                        277.000000     238.000000     198.000000   \n",
       "crossing                          64.000000      60.000000      34.000000   \n",
       "finishing                         50.000000      53.000000      28.000000   \n",
       "heading_accuracy                  43.000000      33.000000      59.000000   \n",
       "short_passing                     65.000000      57.000000      46.000000   \n",
       "volleys                           55.000000      35.000000      31.000000   \n",
       "skill                            308.000000     250.000000     188.000000   \n",
       "dribbling                         71.000000      61.000000      46.000000   \n",
       "curve                             61.000000      44.000000      32.000000   \n",
       "fk_accuracy                       48.000000      33.000000      22.000000   \n",
       "long_passing                      58.000000      55.000000      36.000000   \n",
       "ball_control                      70.000000      57.000000      52.000000   \n",
       "movement                         381.000000     349.000000     286.000000   \n",
       "acceleration                      78.000000      78.000000      61.000000   \n",
       "sprint_speed                      77.000000      76.000000      48.000000   \n",
       "agility                           81.000000      69.000000      59.000000   \n",
       "reactions                         66.000000      58.000000      54.000000   \n",
       "balance                           79.000000      68.000000      64.000000   \n",
       "power                            307.000000     237.000000     254.000000   \n",
       "shot_power                        71.000000      55.000000      36.000000   \n",
       "jumping                           58.000000      41.000000      74.000000   \n",
       "stamina                           74.000000      54.000000      55.000000   \n",
       "strength                          36.000000      52.000000      63.000000   \n",
       "long_shots                        68.000000      35.000000      26.000000   \n",
       "mentality                        260.000000     223.000000     218.000000   \n",
       "aggression                        50.000000      41.000000      63.000000   \n",
       "interceptions                     34.000000      18.000000      59.000000   \n",
       "positioning                       64.000000      57.000000      25.000000   \n",
       "vision                            60.000000      55.000000      30.000000   \n",
       "penalties                         52.000000      52.000000      41.000000   \n",
       "composure                         65.000000      44.000000      51.000000   \n",
       "defending                         83.000000      72.000000     179.000000   \n",
       "marking                           18.000000      23.000000      57.000000   \n",
       "standing_tackle                   32.000000      25.000000      62.000000   \n",
       "sliding_tackle                    33.000000      24.000000      60.000000   \n",
       "goalkeeping                       56.000000      48.000000      50.000000   \n",
       "gk_diving                         16.000000      13.000000      11.000000   \n",
       "gk_handling                       16.000000      11.000000       8.000000   \n",
       "gk_kicking                         8.000000       8.000000       9.000000   \n",
       "gk_positioning                     6.000000      11.000000       8.000000   \n",
       "gk_reflexes                       10.000000       5.000000      14.000000   \n",
       "total_stats                     1672.000000    1417.000000    1373.000000   \n",
       "base_stats                       348.000000     316.000000     292.000000   \n",
       "pac                               77.000000      77.000000      54.000000   \n",
       "sho                               59.000000      49.000000      30.000000   \n",
       "pas                               62.000000      55.000000      37.000000   \n",
       "dri                               72.000000      61.000000      50.000000   \n",
       "def                               29.000000      24.000000      59.000000   \n",
       "phy                               49.000000      50.000000      62.000000   \n",
       "hits                               2.000000       1.000000       9.000000   \n",
       "height_m                           1.680000       1.770000       1.840000   \n",
       "height_feet                        5.511811       5.807087       6.036745   \n",
       "\n",
       "                                      5779   \n",
       "id                            214884.000000  \n",
       "age                               27.000000  \n",
       "↓ova                              69.000000  \n",
       "pot                               72.000000  \n",
       "weight_kg                         80.000000  \n",
       "bov                               71.000000  \n",
       "value_million_euros                1.600000  \n",
       "annual_wage_million_euros          0.260000  \n",
       "release_clause_million_euros       1.600000  \n",
       "attacking                        231.000000  \n",
       "crossing                          31.000000  \n",
       "finishing                         34.000000  \n",
       "heading_accuracy                  68.000000  \n",
       "short_passing                     56.000000  \n",
       "volleys                           42.000000  \n",
       "skill                            272.000000  \n",
       "dribbling                         57.000000  \n",
       "curve                             43.000000  \n",
       "fk_accuracy                       50.000000  \n",
       "long_passing                      63.000000  \n",
       "ball_control                      59.000000  \n",
       "movement                         223.000000  \n",
       "acceleration                      44.000000  \n",
       "sprint_speed                      48.000000  \n",
       "agility                           33.000000  \n",
       "reactions                         66.000000  \n",
       "balance                           32.000000  \n",
       "power                            348.000000  \n",
       "shot_power                        57.000000  \n",
       "jumping                           73.000000  \n",
       "stamina                           70.000000  \n",
       "strength                          92.000000  \n",
       "long_shots                        56.000000  \n",
       "mentality                        270.000000  \n",
       "aggression                        75.000000  \n",
       "interceptions                     66.000000  \n",
       "positioning                       45.000000  \n",
       "vision                            43.000000  \n",
       "penalties                         41.000000  \n",
       "composure                         68.000000  \n",
       "defending                        199.000000  \n",
       "marking                           67.000000  \n",
       "standing_tackle                   69.000000  \n",
       "sliding_tackle                    63.000000  \n",
       "goalkeeping                       54.000000  \n",
       "gk_diving                         14.000000  \n",
       "gk_handling                       12.000000  \n",
       "gk_kicking                         8.000000  \n",
       "gk_positioning                     7.000000  \n",
       "gk_reflexes                       13.000000  \n",
       "total_stats                     1597.000000  \n",
       "base_stats                       342.000000  \n",
       "pac                               46.000000  \n",
       "sho                               44.000000  \n",
       "pas                               49.000000  \n",
       "dri                               54.000000  \n",
       "def                               67.000000  \n",
       "phy                               82.000000  \n",
       "hits                               2.000000  \n",
       "height_m                           1.890000  \n",
       "height_feet                        6.200787  "
      ]
     },
     "execution_count": 151,
     "metadata": {},
     "output_type": "execute_result"
    }
   ],
   "source": [
    "df[num_vars].sample(10).T"
   ]
  },
  {
   "cell_type": "markdown",
   "id": "9921cac5-8c5e-4853-ba10-d6e4f6790d19",
   "metadata": {},
   "source": [
    "The NaN values in `hits` variable may mean that certain profile websites have never been visited. I will fill them with 0 visits."
   ]
  },
  {
   "cell_type": "code",
   "execution_count": 152,
   "id": "1ae692ce-a009-4a1e-90b0-4c93718ae527",
   "metadata": {
    "tags": []
   },
   "outputs": [
    {
     "data": {
      "text/plain": [
       "2595"
      ]
     },
     "execution_count": 152,
     "metadata": {},
     "output_type": "execute_result"
    }
   ],
   "source": [
    "hits.isna().sum()"
   ]
  },
  {
   "cell_type": "code",
   "execution_count": 153,
   "id": "a8127707-f560-4020-8bf0-ddf04de220ac",
   "metadata": {
    "tags": []
   },
   "outputs": [],
   "source": [
    "hits = hits.fillna(0)"
   ]
  },
  {
   "cell_type": "code",
   "execution_count": 154,
   "id": "e51d02bb-0a5f-4b3b-b6d0-c02533fc01b6",
   "metadata": {
    "tags": []
   },
   "outputs": [
    {
     "data": {
      "text/plain": [
       "2595"
      ]
     },
     "execution_count": 154,
     "metadata": {},
     "output_type": "execute_result"
    }
   ],
   "source": [
    "hits[hits == 0].count()"
   ]
  },
  {
   "cell_type": "markdown",
   "id": "a51ace10-356c-4724-a85e-9a34177de49a",
   "metadata": {},
   "source": [
    "All NaN values from `hits` have been successfully filled with 0 visits values."
   ]
  },
  {
   "cell_type": "markdown",
   "id": "2591a9ed-2fd1-47e4-b063-9a3121bd3e40",
   "metadata": {},
   "source": [
    "## Dealing with outliers"
   ]
  },
  {
   "cell_type": "markdown",
   "id": "aa7fae84-9428-403d-ae77-2ee9f1ac9fc4",
   "metadata": {},
   "source": [
    "There are too may numeric variables, so I will create a function to check if a variable has outliers.  \n",
    "A value is considered an outliers if it lies outside the limits of +/- 1.5 · IR (Interquartile Range). "
   ]
  },
  {
   "cell_type": "code",
   "execution_count": 155,
   "id": "0805d5b9-73cf-4acb-9e27-8b56e67b183a",
   "metadata": {
    "tags": []
   },
   "outputs": [],
   "source": [
    "def has_outliers(series):\n",
    "    Q1, Q3 = series.quantile([.25, .75])\n",
    "    IR = Q3 - Q1\n",
    "    below_Q1 = series < (Q1 - 1.5*IR)\n",
    "    above_Q3 = series > (Q3 + 1.5*IR)\n",
    "    number_outliers = (below_Q1 | above_Q3).sum()\n",
    "    if number_outliers:\n",
    "        return number_outliers"
   ]
  },
  {
   "cell_type": "code",
   "execution_count": 156,
   "id": "9c902076-5721-403d-823d-8cf6d3fde8c0",
   "metadata": {},
   "outputs": [
    {
     "data": {
      "text/html": [
       "<div>\n",
       "<style scoped>\n",
       "    .dataframe tbody tr th:only-of-type {\n",
       "        vertical-align: middle;\n",
       "    }\n",
       "\n",
       "    .dataframe tbody tr th {\n",
       "        vertical-align: top;\n",
       "    }\n",
       "\n",
       "    .dataframe thead th {\n",
       "        text-align: right;\n",
       "    }\n",
       "</style>\n",
       "<table border=\"1\" class=\"dataframe\">\n",
       "  <thead>\n",
       "    <tr style=\"text-align: right;\">\n",
       "      <th></th>\n",
       "      <th>id</th>\n",
       "      <th>age</th>\n",
       "      <th>↓ova</th>\n",
       "      <th>pot</th>\n",
       "      <th>weight_kg</th>\n",
       "      <th>bov</th>\n",
       "      <th>value_million_euros</th>\n",
       "      <th>annual_wage_million_euros</th>\n",
       "      <th>release_clause_million_euros</th>\n",
       "      <th>attacking</th>\n",
       "      <th>crossing</th>\n",
       "      <th>finishing</th>\n",
       "      <th>heading_accuracy</th>\n",
       "      <th>short_passing</th>\n",
       "      <th>volleys</th>\n",
       "      <th>skill</th>\n",
       "      <th>dribbling</th>\n",
       "      <th>curve</th>\n",
       "      <th>fk_accuracy</th>\n",
       "      <th>long_passing</th>\n",
       "      <th>ball_control</th>\n",
       "      <th>movement</th>\n",
       "      <th>acceleration</th>\n",
       "      <th>sprint_speed</th>\n",
       "      <th>agility</th>\n",
       "      <th>reactions</th>\n",
       "      <th>balance</th>\n",
       "      <th>power</th>\n",
       "      <th>shot_power</th>\n",
       "      <th>jumping</th>\n",
       "      <th>stamina</th>\n",
       "      <th>strength</th>\n",
       "      <th>long_shots</th>\n",
       "      <th>mentality</th>\n",
       "      <th>aggression</th>\n",
       "      <th>interceptions</th>\n",
       "      <th>positioning</th>\n",
       "      <th>vision</th>\n",
       "      <th>penalties</th>\n",
       "      <th>composure</th>\n",
       "      <th>defending</th>\n",
       "      <th>marking</th>\n",
       "      <th>standing_tackle</th>\n",
       "      <th>sliding_tackle</th>\n",
       "      <th>goalkeeping</th>\n",
       "      <th>gk_diving</th>\n",
       "      <th>gk_handling</th>\n",
       "      <th>gk_kicking</th>\n",
       "      <th>gk_positioning</th>\n",
       "      <th>gk_reflexes</th>\n",
       "      <th>total_stats</th>\n",
       "      <th>base_stats</th>\n",
       "      <th>pac</th>\n",
       "      <th>sho</th>\n",
       "      <th>pas</th>\n",
       "      <th>dri</th>\n",
       "      <th>def</th>\n",
       "      <th>phy</th>\n",
       "      <th>hits</th>\n",
       "      <th>height_m</th>\n",
       "      <th>height_feet</th>\n",
       "    </tr>\n",
       "  </thead>\n",
       "  <tbody>\n",
       "    <tr>\n",
       "      <th>0</th>\n",
       "      <td>158023</td>\n",
       "      <td>33</td>\n",
       "      <td>93</td>\n",
       "      <td>93</td>\n",
       "      <td>72.0</td>\n",
       "      <td>93</td>\n",
       "      <td>103.50</td>\n",
       "      <td>29.1200</td>\n",
       "      <td>138.400</td>\n",
       "      <td>429</td>\n",
       "      <td>85</td>\n",
       "      <td>95</td>\n",
       "      <td>70</td>\n",
       "      <td>91</td>\n",
       "      <td>88</td>\n",
       "      <td>470</td>\n",
       "      <td>96</td>\n",
       "      <td>93</td>\n",
       "      <td>94</td>\n",
       "      <td>91</td>\n",
       "      <td>96</td>\n",
       "      <td>451</td>\n",
       "      <td>91</td>\n",
       "      <td>80</td>\n",
       "      <td>91</td>\n",
       "      <td>94</td>\n",
       "      <td>95</td>\n",
       "      <td>389</td>\n",
       "      <td>86</td>\n",
       "      <td>68</td>\n",
       "      <td>72</td>\n",
       "      <td>69</td>\n",
       "      <td>94</td>\n",
       "      <td>347</td>\n",
       "      <td>44</td>\n",
       "      <td>40</td>\n",
       "      <td>93</td>\n",
       "      <td>95</td>\n",
       "      <td>75</td>\n",
       "      <td>96</td>\n",
       "      <td>91</td>\n",
       "      <td>32</td>\n",
       "      <td>35</td>\n",
       "      <td>24</td>\n",
       "      <td>54</td>\n",
       "      <td>6</td>\n",
       "      <td>11</td>\n",
       "      <td>15</td>\n",
       "      <td>14</td>\n",
       "      <td>8</td>\n",
       "      <td>2231</td>\n",
       "      <td>466</td>\n",
       "      <td>85</td>\n",
       "      <td>92</td>\n",
       "      <td>91</td>\n",
       "      <td>95</td>\n",
       "      <td>38</td>\n",
       "      <td>65</td>\n",
       "      <td>771.0</td>\n",
       "      <td>1.70</td>\n",
       "      <td>5.577428</td>\n",
       "    </tr>\n",
       "    <tr>\n",
       "      <th>1</th>\n",
       "      <td>20801</td>\n",
       "      <td>35</td>\n",
       "      <td>92</td>\n",
       "      <td>92</td>\n",
       "      <td>83.0</td>\n",
       "      <td>92</td>\n",
       "      <td>63.00</td>\n",
       "      <td>11.4400</td>\n",
       "      <td>75.900</td>\n",
       "      <td>437</td>\n",
       "      <td>84</td>\n",
       "      <td>95</td>\n",
       "      <td>90</td>\n",
       "      <td>82</td>\n",
       "      <td>86</td>\n",
       "      <td>414</td>\n",
       "      <td>88</td>\n",
       "      <td>81</td>\n",
       "      <td>76</td>\n",
       "      <td>77</td>\n",
       "      <td>92</td>\n",
       "      <td>431</td>\n",
       "      <td>87</td>\n",
       "      <td>91</td>\n",
       "      <td>87</td>\n",
       "      <td>95</td>\n",
       "      <td>71</td>\n",
       "      <td>444</td>\n",
       "      <td>94</td>\n",
       "      <td>95</td>\n",
       "      <td>84</td>\n",
       "      <td>78</td>\n",
       "      <td>93</td>\n",
       "      <td>353</td>\n",
       "      <td>63</td>\n",
       "      <td>29</td>\n",
       "      <td>95</td>\n",
       "      <td>82</td>\n",
       "      <td>84</td>\n",
       "      <td>95</td>\n",
       "      <td>84</td>\n",
       "      <td>28</td>\n",
       "      <td>32</td>\n",
       "      <td>24</td>\n",
       "      <td>58</td>\n",
       "      <td>7</td>\n",
       "      <td>11</td>\n",
       "      <td>15</td>\n",
       "      <td>14</td>\n",
       "      <td>11</td>\n",
       "      <td>2221</td>\n",
       "      <td>464</td>\n",
       "      <td>89</td>\n",
       "      <td>93</td>\n",
       "      <td>81</td>\n",
       "      <td>89</td>\n",
       "      <td>35</td>\n",
       "      <td>77</td>\n",
       "      <td>562.0</td>\n",
       "      <td>1.87</td>\n",
       "      <td>6.135171</td>\n",
       "    </tr>\n",
       "    <tr>\n",
       "      <th>2</th>\n",
       "      <td>200389</td>\n",
       "      <td>27</td>\n",
       "      <td>91</td>\n",
       "      <td>93</td>\n",
       "      <td>87.0</td>\n",
       "      <td>91</td>\n",
       "      <td>120.00</td>\n",
       "      <td>6.5000</td>\n",
       "      <td>159.400</td>\n",
       "      <td>95</td>\n",
       "      <td>13</td>\n",
       "      <td>11</td>\n",
       "      <td>15</td>\n",
       "      <td>43</td>\n",
       "      <td>13</td>\n",
       "      <td>109</td>\n",
       "      <td>12</td>\n",
       "      <td>13</td>\n",
       "      <td>14</td>\n",
       "      <td>40</td>\n",
       "      <td>30</td>\n",
       "      <td>307</td>\n",
       "      <td>43</td>\n",
       "      <td>60</td>\n",
       "      <td>67</td>\n",
       "      <td>88</td>\n",
       "      <td>49</td>\n",
       "      <td>268</td>\n",
       "      <td>59</td>\n",
       "      <td>78</td>\n",
       "      <td>41</td>\n",
       "      <td>78</td>\n",
       "      <td>12</td>\n",
       "      <td>140</td>\n",
       "      <td>34</td>\n",
       "      <td>19</td>\n",
       "      <td>11</td>\n",
       "      <td>65</td>\n",
       "      <td>11</td>\n",
       "      <td>68</td>\n",
       "      <td>57</td>\n",
       "      <td>27</td>\n",
       "      <td>12</td>\n",
       "      <td>18</td>\n",
       "      <td>437</td>\n",
       "      <td>87</td>\n",
       "      <td>92</td>\n",
       "      <td>78</td>\n",
       "      <td>90</td>\n",
       "      <td>90</td>\n",
       "      <td>1413</td>\n",
       "      <td>489</td>\n",
       "      <td>87</td>\n",
       "      <td>92</td>\n",
       "      <td>78</td>\n",
       "      <td>90</td>\n",
       "      <td>52</td>\n",
       "      <td>90</td>\n",
       "      <td>150.0</td>\n",
       "      <td>1.88</td>\n",
       "      <td>6.167979</td>\n",
       "    </tr>\n",
       "    <tr>\n",
       "      <th>3</th>\n",
       "      <td>192985</td>\n",
       "      <td>29</td>\n",
       "      <td>91</td>\n",
       "      <td>91</td>\n",
       "      <td>70.0</td>\n",
       "      <td>91</td>\n",
       "      <td>129.00</td>\n",
       "      <td>19.2400</td>\n",
       "      <td>161.000</td>\n",
       "      <td>407</td>\n",
       "      <td>94</td>\n",
       "      <td>82</td>\n",
       "      <td>55</td>\n",
       "      <td>94</td>\n",
       "      <td>82</td>\n",
       "      <td>441</td>\n",
       "      <td>88</td>\n",
       "      <td>85</td>\n",
       "      <td>83</td>\n",
       "      <td>93</td>\n",
       "      <td>92</td>\n",
       "      <td>398</td>\n",
       "      <td>77</td>\n",
       "      <td>76</td>\n",
       "      <td>78</td>\n",
       "      <td>91</td>\n",
       "      <td>76</td>\n",
       "      <td>408</td>\n",
       "      <td>91</td>\n",
       "      <td>63</td>\n",
       "      <td>89</td>\n",
       "      <td>74</td>\n",
       "      <td>91</td>\n",
       "      <td>408</td>\n",
       "      <td>76</td>\n",
       "      <td>66</td>\n",
       "      <td>88</td>\n",
       "      <td>94</td>\n",
       "      <td>84</td>\n",
       "      <td>91</td>\n",
       "      <td>186</td>\n",
       "      <td>68</td>\n",
       "      <td>65</td>\n",
       "      <td>53</td>\n",
       "      <td>56</td>\n",
       "      <td>15</td>\n",
       "      <td>13</td>\n",
       "      <td>5</td>\n",
       "      <td>10</td>\n",
       "      <td>13</td>\n",
       "      <td>2304</td>\n",
       "      <td>485</td>\n",
       "      <td>76</td>\n",
       "      <td>86</td>\n",
       "      <td>93</td>\n",
       "      <td>88</td>\n",
       "      <td>64</td>\n",
       "      <td>78</td>\n",
       "      <td>207.0</td>\n",
       "      <td>1.81</td>\n",
       "      <td>5.938320</td>\n",
       "    </tr>\n",
       "    <tr>\n",
       "      <th>4</th>\n",
       "      <td>190871</td>\n",
       "      <td>28</td>\n",
       "      <td>91</td>\n",
       "      <td>91</td>\n",
       "      <td>68.0</td>\n",
       "      <td>91</td>\n",
       "      <td>132.00</td>\n",
       "      <td>14.0400</td>\n",
       "      <td>166.500</td>\n",
       "      <td>408</td>\n",
       "      <td>85</td>\n",
       "      <td>87</td>\n",
       "      <td>62</td>\n",
       "      <td>87</td>\n",
       "      <td>87</td>\n",
       "      <td>448</td>\n",
       "      <td>95</td>\n",
       "      <td>88</td>\n",
       "      <td>89</td>\n",
       "      <td>81</td>\n",
       "      <td>95</td>\n",
       "      <td>453</td>\n",
       "      <td>94</td>\n",
       "      <td>89</td>\n",
       "      <td>96</td>\n",
       "      <td>91</td>\n",
       "      <td>83</td>\n",
       "      <td>357</td>\n",
       "      <td>80</td>\n",
       "      <td>62</td>\n",
       "      <td>81</td>\n",
       "      <td>50</td>\n",
       "      <td>84</td>\n",
       "      <td>356</td>\n",
       "      <td>51</td>\n",
       "      <td>36</td>\n",
       "      <td>87</td>\n",
       "      <td>90</td>\n",
       "      <td>92</td>\n",
       "      <td>93</td>\n",
       "      <td>94</td>\n",
       "      <td>35</td>\n",
       "      <td>30</td>\n",
       "      <td>29</td>\n",
       "      <td>59</td>\n",
       "      <td>9</td>\n",
       "      <td>9</td>\n",
       "      <td>15</td>\n",
       "      <td>15</td>\n",
       "      <td>11</td>\n",
       "      <td>2175</td>\n",
       "      <td>451</td>\n",
       "      <td>91</td>\n",
       "      <td>85</td>\n",
       "      <td>86</td>\n",
       "      <td>94</td>\n",
       "      <td>36</td>\n",
       "      <td>59</td>\n",
       "      <td>595.0</td>\n",
       "      <td>1.75</td>\n",
       "      <td>5.741470</td>\n",
       "    </tr>\n",
       "    <tr>\n",
       "      <th>...</th>\n",
       "      <td>...</td>\n",
       "      <td>...</td>\n",
       "      <td>...</td>\n",
       "      <td>...</td>\n",
       "      <td>...</td>\n",
       "      <td>...</td>\n",
       "      <td>...</td>\n",
       "      <td>...</td>\n",
       "      <td>...</td>\n",
       "      <td>...</td>\n",
       "      <td>...</td>\n",
       "      <td>...</td>\n",
       "      <td>...</td>\n",
       "      <td>...</td>\n",
       "      <td>...</td>\n",
       "      <td>...</td>\n",
       "      <td>...</td>\n",
       "      <td>...</td>\n",
       "      <td>...</td>\n",
       "      <td>...</td>\n",
       "      <td>...</td>\n",
       "      <td>...</td>\n",
       "      <td>...</td>\n",
       "      <td>...</td>\n",
       "      <td>...</td>\n",
       "      <td>...</td>\n",
       "      <td>...</td>\n",
       "      <td>...</td>\n",
       "      <td>...</td>\n",
       "      <td>...</td>\n",
       "      <td>...</td>\n",
       "      <td>...</td>\n",
       "      <td>...</td>\n",
       "      <td>...</td>\n",
       "      <td>...</td>\n",
       "      <td>...</td>\n",
       "      <td>...</td>\n",
       "      <td>...</td>\n",
       "      <td>...</td>\n",
       "      <td>...</td>\n",
       "      <td>...</td>\n",
       "      <td>...</td>\n",
       "      <td>...</td>\n",
       "      <td>...</td>\n",
       "      <td>...</td>\n",
       "      <td>...</td>\n",
       "      <td>...</td>\n",
       "      <td>...</td>\n",
       "      <td>...</td>\n",
       "      <td>...</td>\n",
       "      <td>...</td>\n",
       "      <td>...</td>\n",
       "      <td>...</td>\n",
       "      <td>...</td>\n",
       "      <td>...</td>\n",
       "      <td>...</td>\n",
       "      <td>...</td>\n",
       "      <td>...</td>\n",
       "      <td>...</td>\n",
       "      <td>...</td>\n",
       "      <td>...</td>\n",
       "    </tr>\n",
       "    <tr>\n",
       "      <th>18974</th>\n",
       "      <td>247223</td>\n",
       "      <td>21</td>\n",
       "      <td>47</td>\n",
       "      <td>55</td>\n",
       "      <td>66.0</td>\n",
       "      <td>49</td>\n",
       "      <td>0.10</td>\n",
       "      <td>0.0520</td>\n",
       "      <td>0.070</td>\n",
       "      <td>145</td>\n",
       "      <td>23</td>\n",
       "      <td>26</td>\n",
       "      <td>43</td>\n",
       "      <td>26</td>\n",
       "      <td>27</td>\n",
       "      <td>142</td>\n",
       "      <td>27</td>\n",
       "      <td>23</td>\n",
       "      <td>21</td>\n",
       "      <td>29</td>\n",
       "      <td>42</td>\n",
       "      <td>294</td>\n",
       "      <td>68</td>\n",
       "      <td>60</td>\n",
       "      <td>69</td>\n",
       "      <td>46</td>\n",
       "      <td>51</td>\n",
       "      <td>221</td>\n",
       "      <td>36</td>\n",
       "      <td>57</td>\n",
       "      <td>54</td>\n",
       "      <td>50</td>\n",
       "      <td>24</td>\n",
       "      <td>192</td>\n",
       "      <td>48</td>\n",
       "      <td>50</td>\n",
       "      <td>28</td>\n",
       "      <td>28</td>\n",
       "      <td>38</td>\n",
       "      <td>44</td>\n",
       "      <td>147</td>\n",
       "      <td>45</td>\n",
       "      <td>52</td>\n",
       "      <td>50</td>\n",
       "      <td>45</td>\n",
       "      <td>7</td>\n",
       "      <td>8</td>\n",
       "      <td>5</td>\n",
       "      <td>14</td>\n",
       "      <td>11</td>\n",
       "      <td>1186</td>\n",
       "      <td>255</td>\n",
       "      <td>64</td>\n",
       "      <td>28</td>\n",
       "      <td>26</td>\n",
       "      <td>38</td>\n",
       "      <td>48</td>\n",
       "      <td>51</td>\n",
       "      <td>NaN</td>\n",
       "      <td>1.78</td>\n",
       "      <td>5.839895</td>\n",
       "    </tr>\n",
       "    <tr>\n",
       "      <th>18975</th>\n",
       "      <td>258760</td>\n",
       "      <td>17</td>\n",
       "      <td>47</td>\n",
       "      <td>67</td>\n",
       "      <td>65.0</td>\n",
       "      <td>51</td>\n",
       "      <td>0.13</td>\n",
       "      <td>0.0026</td>\n",
       "      <td>0.165</td>\n",
       "      <td>211</td>\n",
       "      <td>38</td>\n",
       "      <td>42</td>\n",
       "      <td>40</td>\n",
       "      <td>56</td>\n",
       "      <td>35</td>\n",
       "      <td>219</td>\n",
       "      <td>46</td>\n",
       "      <td>40</td>\n",
       "      <td>35</td>\n",
       "      <td>50</td>\n",
       "      <td>48</td>\n",
       "      <td>305</td>\n",
       "      <td>63</td>\n",
       "      <td>64</td>\n",
       "      <td>61</td>\n",
       "      <td>51</td>\n",
       "      <td>66</td>\n",
       "      <td>226</td>\n",
       "      <td>48</td>\n",
       "      <td>58</td>\n",
       "      <td>43</td>\n",
       "      <td>47</td>\n",
       "      <td>30</td>\n",
       "      <td>193</td>\n",
       "      <td>40</td>\n",
       "      <td>23</td>\n",
       "      <td>47</td>\n",
       "      <td>47</td>\n",
       "      <td>36</td>\n",
       "      <td>38</td>\n",
       "      <td>116</td>\n",
       "      <td>32</td>\n",
       "      <td>44</td>\n",
       "      <td>40</td>\n",
       "      <td>45</td>\n",
       "      <td>12</td>\n",
       "      <td>10</td>\n",
       "      <td>9</td>\n",
       "      <td>6</td>\n",
       "      <td>8</td>\n",
       "      <td>1315</td>\n",
       "      <td>281</td>\n",
       "      <td>64</td>\n",
       "      <td>40</td>\n",
       "      <td>48</td>\n",
       "      <td>49</td>\n",
       "      <td>35</td>\n",
       "      <td>45</td>\n",
       "      <td>NaN</td>\n",
       "      <td>1.75</td>\n",
       "      <td>5.741470</td>\n",
       "    </tr>\n",
       "    <tr>\n",
       "      <th>18976</th>\n",
       "      <td>252757</td>\n",
       "      <td>18</td>\n",
       "      <td>47</td>\n",
       "      <td>65</td>\n",
       "      <td>74.0</td>\n",
       "      <td>49</td>\n",
       "      <td>0.12</td>\n",
       "      <td>0.0026</td>\n",
       "      <td>0.131</td>\n",
       "      <td>200</td>\n",
       "      <td>30</td>\n",
       "      <td>34</td>\n",
       "      <td>43</td>\n",
       "      <td>54</td>\n",
       "      <td>39</td>\n",
       "      <td>207</td>\n",
       "      <td>43</td>\n",
       "      <td>39</td>\n",
       "      <td>31</td>\n",
       "      <td>47</td>\n",
       "      <td>47</td>\n",
       "      <td>290</td>\n",
       "      <td>59</td>\n",
       "      <td>66</td>\n",
       "      <td>51</td>\n",
       "      <td>47</td>\n",
       "      <td>67</td>\n",
       "      <td>242</td>\n",
       "      <td>45</td>\n",
       "      <td>52</td>\n",
       "      <td>50</td>\n",
       "      <td>54</td>\n",
       "      <td>41</td>\n",
       "      <td>230</td>\n",
       "      <td>56</td>\n",
       "      <td>42</td>\n",
       "      <td>47</td>\n",
       "      <td>43</td>\n",
       "      <td>42</td>\n",
       "      <td>43</td>\n",
       "      <td>121</td>\n",
       "      <td>33</td>\n",
       "      <td>43</td>\n",
       "      <td>45</td>\n",
       "      <td>48</td>\n",
       "      <td>13</td>\n",
       "      <td>12</td>\n",
       "      <td>6</td>\n",
       "      <td>6</td>\n",
       "      <td>11</td>\n",
       "      <td>1338</td>\n",
       "      <td>285</td>\n",
       "      <td>63</td>\n",
       "      <td>39</td>\n",
       "      <td>44</td>\n",
       "      <td>46</td>\n",
       "      <td>40</td>\n",
       "      <td>53</td>\n",
       "      <td>NaN</td>\n",
       "      <td>1.79</td>\n",
       "      <td>5.872703</td>\n",
       "    </tr>\n",
       "    <tr>\n",
       "      <th>18977</th>\n",
       "      <td>243790</td>\n",
       "      <td>20</td>\n",
       "      <td>47</td>\n",
       "      <td>57</td>\n",
       "      <td>69.0</td>\n",
       "      <td>48</td>\n",
       "      <td>0.10</td>\n",
       "      <td>0.1040</td>\n",
       "      <td>0.088</td>\n",
       "      <td>215</td>\n",
       "      <td>45</td>\n",
       "      <td>52</td>\n",
       "      <td>34</td>\n",
       "      <td>42</td>\n",
       "      <td>42</td>\n",
       "      <td>194</td>\n",
       "      <td>51</td>\n",
       "      <td>35</td>\n",
       "      <td>31</td>\n",
       "      <td>31</td>\n",
       "      <td>46</td>\n",
       "      <td>254</td>\n",
       "      <td>62</td>\n",
       "      <td>55</td>\n",
       "      <td>50</td>\n",
       "      <td>33</td>\n",
       "      <td>54</td>\n",
       "      <td>235</td>\n",
       "      <td>56</td>\n",
       "      <td>45</td>\n",
       "      <td>46</td>\n",
       "      <td>48</td>\n",
       "      <td>40</td>\n",
       "      <td>190</td>\n",
       "      <td>31</td>\n",
       "      <td>25</td>\n",
       "      <td>42</td>\n",
       "      <td>46</td>\n",
       "      <td>46</td>\n",
       "      <td>45</td>\n",
       "      <td>100</td>\n",
       "      <td>26</td>\n",
       "      <td>32</td>\n",
       "      <td>42</td>\n",
       "      <td>55</td>\n",
       "      <td>14</td>\n",
       "      <td>12</td>\n",
       "      <td>9</td>\n",
       "      <td>8</td>\n",
       "      <td>12</td>\n",
       "      <td>1243</td>\n",
       "      <td>271</td>\n",
       "      <td>58</td>\n",
       "      <td>49</td>\n",
       "      <td>41</td>\n",
       "      <td>49</td>\n",
       "      <td>30</td>\n",
       "      <td>44</td>\n",
       "      <td>NaN</td>\n",
       "      <td>1.75</td>\n",
       "      <td>5.741470</td>\n",
       "    </tr>\n",
       "    <tr>\n",
       "      <th>18978</th>\n",
       "      <td>252520</td>\n",
       "      <td>21</td>\n",
       "      <td>47</td>\n",
       "      <td>57</td>\n",
       "      <td>75.0</td>\n",
       "      <td>50</td>\n",
       "      <td>0.10</td>\n",
       "      <td>0.0520</td>\n",
       "      <td>0.079</td>\n",
       "      <td>163</td>\n",
       "      <td>40</td>\n",
       "      <td>18</td>\n",
       "      <td>40</td>\n",
       "      <td>45</td>\n",
       "      <td>20</td>\n",
       "      <td>171</td>\n",
       "      <td>40</td>\n",
       "      <td>33</td>\n",
       "      <td>20</td>\n",
       "      <td>40</td>\n",
       "      <td>38</td>\n",
       "      <td>279</td>\n",
       "      <td>60</td>\n",
       "      <td>63</td>\n",
       "      <td>57</td>\n",
       "      <td>47</td>\n",
       "      <td>52</td>\n",
       "      <td>231</td>\n",
       "      <td>37</td>\n",
       "      <td>66</td>\n",
       "      <td>60</td>\n",
       "      <td>55</td>\n",
       "      <td>13</td>\n",
       "      <td>185</td>\n",
       "      <td>45</td>\n",
       "      <td>47</td>\n",
       "      <td>33</td>\n",
       "      <td>33</td>\n",
       "      <td>27</td>\n",
       "      <td>33</td>\n",
       "      <td>136</td>\n",
       "      <td>45</td>\n",
       "      <td>46</td>\n",
       "      <td>45</td>\n",
       "      <td>50</td>\n",
       "      <td>10</td>\n",
       "      <td>11</td>\n",
       "      <td>7</td>\n",
       "      <td>10</td>\n",
       "      <td>12</td>\n",
       "      <td>1215</td>\n",
       "      <td>265</td>\n",
       "      <td>62</td>\n",
       "      <td>22</td>\n",
       "      <td>39</td>\n",
       "      <td>42</td>\n",
       "      <td>45</td>\n",
       "      <td>55</td>\n",
       "      <td>NaN</td>\n",
       "      <td>1.88</td>\n",
       "      <td>6.167979</td>\n",
       "    </tr>\n",
       "  </tbody>\n",
       "</table>\n",
       "<p>18979 rows × 61 columns</p>\n",
       "</div>"
      ],
      "text/plain": [
       "           id  age  ↓ova  pot  weight_kg  bov  value_million_euros  \\\n",
       "0      158023   33    93   93       72.0   93               103.50   \n",
       "1       20801   35    92   92       83.0   92                63.00   \n",
       "2      200389   27    91   93       87.0   91               120.00   \n",
       "3      192985   29    91   91       70.0   91               129.00   \n",
       "4      190871   28    91   91       68.0   91               132.00   \n",
       "...       ...  ...   ...  ...        ...  ...                  ...   \n",
       "18974  247223   21    47   55       66.0   49                 0.10   \n",
       "18975  258760   17    47   67       65.0   51                 0.13   \n",
       "18976  252757   18    47   65       74.0   49                 0.12   \n",
       "18977  243790   20    47   57       69.0   48                 0.10   \n",
       "18978  252520   21    47   57       75.0   50                 0.10   \n",
       "\n",
       "       annual_wage_million_euros  release_clause_million_euros  attacking  \\\n",
       "0                        29.1200                       138.400        429   \n",
       "1                        11.4400                        75.900        437   \n",
       "2                         6.5000                       159.400         95   \n",
       "3                        19.2400                       161.000        407   \n",
       "4                        14.0400                       166.500        408   \n",
       "...                          ...                           ...        ...   \n",
       "18974                     0.0520                         0.070        145   \n",
       "18975                     0.0026                         0.165        211   \n",
       "18976                     0.0026                         0.131        200   \n",
       "18977                     0.1040                         0.088        215   \n",
       "18978                     0.0520                         0.079        163   \n",
       "\n",
       "       crossing  finishing  heading_accuracy  short_passing  volleys  skill  \\\n",
       "0            85         95                70             91       88    470   \n",
       "1            84         95                90             82       86    414   \n",
       "2            13         11                15             43       13    109   \n",
       "3            94         82                55             94       82    441   \n",
       "4            85         87                62             87       87    448   \n",
       "...         ...        ...               ...            ...      ...    ...   \n",
       "18974        23         26                43             26       27    142   \n",
       "18975        38         42                40             56       35    219   \n",
       "18976        30         34                43             54       39    207   \n",
       "18977        45         52                34             42       42    194   \n",
       "18978        40         18                40             45       20    171   \n",
       "\n",
       "       dribbling  curve  fk_accuracy  long_passing  ball_control  movement  \\\n",
       "0             96     93           94            91            96       451   \n",
       "1             88     81           76            77            92       431   \n",
       "2             12     13           14            40            30       307   \n",
       "3             88     85           83            93            92       398   \n",
       "4             95     88           89            81            95       453   \n",
       "...          ...    ...          ...           ...           ...       ...   \n",
       "18974         27     23           21            29            42       294   \n",
       "18975         46     40           35            50            48       305   \n",
       "18976         43     39           31            47            47       290   \n",
       "18977         51     35           31            31            46       254   \n",
       "18978         40     33           20            40            38       279   \n",
       "\n",
       "       acceleration  sprint_speed  agility  reactions  balance  power  \\\n",
       "0                91            80       91         94       95    389   \n",
       "1                87            91       87         95       71    444   \n",
       "2                43            60       67         88       49    268   \n",
       "3                77            76       78         91       76    408   \n",
       "4                94            89       96         91       83    357   \n",
       "...             ...           ...      ...        ...      ...    ...   \n",
       "18974            68            60       69         46       51    221   \n",
       "18975            63            64       61         51       66    226   \n",
       "18976            59            66       51         47       67    242   \n",
       "18977            62            55       50         33       54    235   \n",
       "18978            60            63       57         47       52    231   \n",
       "\n",
       "       shot_power  jumping  stamina  strength  long_shots  mentality  \\\n",
       "0              86       68       72        69          94        347   \n",
       "1              94       95       84        78          93        353   \n",
       "2              59       78       41        78          12        140   \n",
       "3              91       63       89        74          91        408   \n",
       "4              80       62       81        50          84        356   \n",
       "...           ...      ...      ...       ...         ...        ...   \n",
       "18974          36       57       54        50          24        192   \n",
       "18975          48       58       43        47          30        193   \n",
       "18976          45       52       50        54          41        230   \n",
       "18977          56       45       46        48          40        190   \n",
       "18978          37       66       60        55          13        185   \n",
       "\n",
       "       aggression  interceptions  positioning  vision  penalties  composure  \\\n",
       "0              44             40           93      95         75         96   \n",
       "1              63             29           95      82         84         95   \n",
       "2              34             19           11      65         11         68   \n",
       "3              76             66           88      94         84         91   \n",
       "4              51             36           87      90         92         93   \n",
       "...           ...            ...          ...     ...        ...        ...   \n",
       "18974          48             50           28      28         38         44   \n",
       "18975          40             23           47      47         36         38   \n",
       "18976          56             42           47      43         42         43   \n",
       "18977          31             25           42      46         46         45   \n",
       "18978          45             47           33      33         27         33   \n",
       "\n",
       "       defending  marking  standing_tackle  sliding_tackle  goalkeeping  \\\n",
       "0             91       32               35              24           54   \n",
       "1             84       28               32              24           58   \n",
       "2             57       27               12              18          437   \n",
       "3            186       68               65              53           56   \n",
       "4             94       35               30              29           59   \n",
       "...          ...      ...              ...             ...          ...   \n",
       "18974        147       45               52              50           45   \n",
       "18975        116       32               44              40           45   \n",
       "18976        121       33               43              45           48   \n",
       "18977        100       26               32              42           55   \n",
       "18978        136       45               46              45           50   \n",
       "\n",
       "       gk_diving  gk_handling  gk_kicking  gk_positioning  gk_reflexes  \\\n",
       "0              6           11          15              14            8   \n",
       "1              7           11          15              14           11   \n",
       "2             87           92          78              90           90   \n",
       "3             15           13           5              10           13   \n",
       "4              9            9          15              15           11   \n",
       "...          ...          ...         ...             ...          ...   \n",
       "18974          7            8           5              14           11   \n",
       "18975         12           10           9               6            8   \n",
       "18976         13           12           6               6           11   \n",
       "18977         14           12           9               8           12   \n",
       "18978         10           11           7              10           12   \n",
       "\n",
       "       total_stats  base_stats  pac  sho  pas  dri  def  phy   hits  height_m  \\\n",
       "0             2231         466   85   92   91   95   38   65  771.0      1.70   \n",
       "1             2221         464   89   93   81   89   35   77  562.0      1.87   \n",
       "2             1413         489   87   92   78   90   52   90  150.0      1.88   \n",
       "3             2304         485   76   86   93   88   64   78  207.0      1.81   \n",
       "4             2175         451   91   85   86   94   36   59  595.0      1.75   \n",
       "...            ...         ...  ...  ...  ...  ...  ...  ...    ...       ...   \n",
       "18974         1186         255   64   28   26   38   48   51    NaN      1.78   \n",
       "18975         1315         281   64   40   48   49   35   45    NaN      1.75   \n",
       "18976         1338         285   63   39   44   46   40   53    NaN      1.79   \n",
       "18977         1243         271   58   49   41   49   30   44    NaN      1.75   \n",
       "18978         1215         265   62   22   39   42   45   55    NaN      1.88   \n",
       "\n",
       "       height_feet  \n",
       "0         5.577428  \n",
       "1         6.135171  \n",
       "2         6.167979  \n",
       "3         5.938320  \n",
       "4         5.741470  \n",
       "...            ...  \n",
       "18974     5.839895  \n",
       "18975     5.741470  \n",
       "18976     5.872703  \n",
       "18977     5.741470  \n",
       "18978     6.167979  \n",
       "\n",
       "[18979 rows x 61 columns]"
      ]
     },
     "execution_count": 156,
     "metadata": {},
     "output_type": "execute_result"
    }
   ],
   "source": [
    "df[num_vars]"
   ]
  },
  {
   "cell_type": "code",
   "execution_count": 157,
   "id": "812b6e7f-015a-44b7-bdf5-cd7e8ef0c2dc",
   "metadata": {
    "tags": []
   },
   "outputs": [
    {
     "data": {
      "text/plain": [
       "hits                            2202.0\n",
       "value_million_euros             2199.0\n",
       "goalkeeping                     2181.0\n",
       "gk_kicking                      2089.0\n",
       "gk_positioning                  2086.0\n",
       "gk_reflexes                     2085.0\n",
       "gk_handling                     2085.0\n",
       "gk_diving                       2085.0\n",
       "ball_control                    2053.0\n",
       "release_clause_million_euros    2020.0\n",
       "attacking                       2016.0\n",
       "annual_wage_million_euros       1999.0\n",
       "dribbling                       1962.0\n",
       "short_passing                   1748.0\n",
       "mentality                       1493.0\n",
       "dtype: float64"
      ]
     },
     "execution_count": 157,
     "metadata": {},
     "output_type": "execute_result"
    }
   ],
   "source": [
    "df[num_vars].apply(has_outliers, axis=0).T.sort_values(ascending=False)[:15]"
   ]
  },
  {
   "cell_type": "markdown",
   "id": "ae7bfe21-bd3f-472c-ba87-c4fe67d1e1fb",
   "metadata": {},
   "source": [
    "There seems to be a huge range of values for wages, value and hits. Outliers in `hit` column could be due to big differences in popularity (famous players get huge amounts of clicks in their websites, compared to almost none for unknown players). The same for wage and value: wide difference between Messi and a relatively unknown player of a modest football club."
   ]
  },
  {
   "cell_type": "markdown",
   "id": "e27db852-d2ba-4325-982b-bf03dd31456e",
   "metadata": {},
   "source": [
    "I see many outliers in the goalkeeper variables. Not all players are goalkeepers, so maybe a good idea would be to set NaN at those variables for non-goalkeeper players."
   ]
  },
  {
   "cell_type": "markdown",
   "id": "50f25268-11d2-400a-b9ef-dbfe8db45766",
   "metadata": {},
   "source": [
    "### Soccer / football position abbreviations"
   ]
  },
  {
   "cell_type": "markdown",
   "id": "03f183df-3a9a-4aad-886a-f079bcdc461e",
   "metadata": {},
   "source": [
    "Abbreviations for Soccer Midfielder Positions\n",
    "- CB: Center-back; Stop other team from getting near GK\n",
    "- GK: Goal Keeper; Stops ball from going in goal\n",
    "- LB: Left Full-Back; Block other team and hold a line\n",
    "- LWB: Left Wing-Back; Play near sidelines and block other team\n",
    "- RB: Right Full-Back; Block other team and hold a line\n",
    "- RWB: Right Wing-Back; Play near sidelines and block other team\n",
    "- SW: Sweeper; Stands between GK and everyone else as last line of defense\n",
    "\n",
    "Midfielders need to be good at both offense and defense because they typically play toward the middle of the field and near their opponent’s goal.\n",
    "\n",
    "- AM: Attacking Midfielder; Focuses on shooting and scoring\n",
    "- CM: Center Midfielder; Links defense and offense of a team\n",
    "- DM: Defensive Midfielder; Organize attacking plays\n",
    "- LW: Left Winger; Plays along sideline to shoot, assist, and score\n",
    "- RW: Right Winger; Plays along sideline to shoot, assist, and score\n",
    "\n",
    "Abbreviations for Soccer Forward Positions\n",
    "\n",
    "Forwards are the players who play closer to their opponent’s goal and try to score goals.\n",
    "\n",
    "- CF: Center Forward; Link offense and defense of a team\n",
    "- S: Striker; Focuses on scoring"
   ]
  },
  {
   "cell_type": "code",
   "execution_count": 158,
   "id": "a7b69bab-7639-47be-a8d4-3d70f32e416c",
   "metadata": {
    "tags": []
   },
   "outputs": [
    {
     "data": {
      "text/html": [
       "<div>\n",
       "<style scoped>\n",
       "    .dataframe tbody tr th:only-of-type {\n",
       "        vertical-align: middle;\n",
       "    }\n",
       "\n",
       "    .dataframe tbody tr th {\n",
       "        vertical-align: top;\n",
       "    }\n",
       "\n",
       "    .dataframe thead th {\n",
       "        text-align: right;\n",
       "    }\n",
       "</style>\n",
       "<table border=\"1\" class=\"dataframe\">\n",
       "  <thead>\n",
       "    <tr style=\"text-align: right;\">\n",
       "      <th></th>\n",
       "      <th>positions</th>\n",
       "      <th>gk_diving</th>\n",
       "      <th>gk_handling</th>\n",
       "      <th>gk_kicking</th>\n",
       "      <th>gk_positioning</th>\n",
       "      <th>gk_reflexes</th>\n",
       "    </tr>\n",
       "  </thead>\n",
       "  <tbody>\n",
       "    <tr>\n",
       "      <th>0</th>\n",
       "      <td>[RW, ST, CF]</td>\n",
       "      <td>6</td>\n",
       "      <td>11</td>\n",
       "      <td>15</td>\n",
       "      <td>14</td>\n",
       "      <td>8</td>\n",
       "    </tr>\n",
       "    <tr>\n",
       "      <th>1</th>\n",
       "      <td>[ST, LW]</td>\n",
       "      <td>7</td>\n",
       "      <td>11</td>\n",
       "      <td>15</td>\n",
       "      <td>14</td>\n",
       "      <td>11</td>\n",
       "    </tr>\n",
       "    <tr>\n",
       "      <th>2</th>\n",
       "      <td>[GK]</td>\n",
       "      <td>87</td>\n",
       "      <td>92</td>\n",
       "      <td>78</td>\n",
       "      <td>90</td>\n",
       "      <td>90</td>\n",
       "    </tr>\n",
       "    <tr>\n",
       "      <th>3</th>\n",
       "      <td>[CAM, CM]</td>\n",
       "      <td>15</td>\n",
       "      <td>13</td>\n",
       "      <td>5</td>\n",
       "      <td>10</td>\n",
       "      <td>13</td>\n",
       "    </tr>\n",
       "    <tr>\n",
       "      <th>4</th>\n",
       "      <td>[LW, CAM]</td>\n",
       "      <td>9</td>\n",
       "      <td>9</td>\n",
       "      <td>15</td>\n",
       "      <td>15</td>\n",
       "      <td>11</td>\n",
       "    </tr>\n",
       "    <tr>\n",
       "      <th>...</th>\n",
       "      <td>...</td>\n",
       "      <td>...</td>\n",
       "      <td>...</td>\n",
       "      <td>...</td>\n",
       "      <td>...</td>\n",
       "      <td>...</td>\n",
       "    </tr>\n",
       "    <tr>\n",
       "      <th>18974</th>\n",
       "      <td>[CB]</td>\n",
       "      <td>7</td>\n",
       "      <td>8</td>\n",
       "      <td>5</td>\n",
       "      <td>14</td>\n",
       "      <td>11</td>\n",
       "    </tr>\n",
       "    <tr>\n",
       "      <th>18975</th>\n",
       "      <td>[CM]</td>\n",
       "      <td>12</td>\n",
       "      <td>10</td>\n",
       "      <td>9</td>\n",
       "      <td>6</td>\n",
       "      <td>8</td>\n",
       "    </tr>\n",
       "    <tr>\n",
       "      <th>18976</th>\n",
       "      <td>[CM]</td>\n",
       "      <td>13</td>\n",
       "      <td>12</td>\n",
       "      <td>6</td>\n",
       "      <td>6</td>\n",
       "      <td>11</td>\n",
       "    </tr>\n",
       "    <tr>\n",
       "      <th>18977</th>\n",
       "      <td>[RW]</td>\n",
       "      <td>14</td>\n",
       "      <td>12</td>\n",
       "      <td>9</td>\n",
       "      <td>8</td>\n",
       "      <td>12</td>\n",
       "    </tr>\n",
       "    <tr>\n",
       "      <th>18978</th>\n",
       "      <td>[CB, LB]</td>\n",
       "      <td>10</td>\n",
       "      <td>11</td>\n",
       "      <td>7</td>\n",
       "      <td>10</td>\n",
       "      <td>12</td>\n",
       "    </tr>\n",
       "  </tbody>\n",
       "</table>\n",
       "<p>18979 rows × 6 columns</p>\n",
       "</div>"
      ],
      "text/plain": [
       "          positions  gk_diving  gk_handling  gk_kicking  gk_positioning  \\\n",
       "0      [RW, ST, CF]          6           11          15              14   \n",
       "1          [ST, LW]          7           11          15              14   \n",
       "2              [GK]         87           92          78              90   \n",
       "3         [CAM, CM]         15           13           5              10   \n",
       "4         [LW, CAM]          9            9          15              15   \n",
       "...             ...        ...          ...         ...             ...   \n",
       "18974          [CB]          7            8           5              14   \n",
       "18975          [CM]         12           10           9               6   \n",
       "18976          [CM]         13           12           6               6   \n",
       "18977          [RW]         14           12           9               8   \n",
       "18978      [CB, LB]         10           11           7              10   \n",
       "\n",
       "       gk_reflexes  \n",
       "0                8  \n",
       "1               11  \n",
       "2               90  \n",
       "3               13  \n",
       "4               11  \n",
       "...            ...  \n",
       "18974           11  \n",
       "18975            8  \n",
       "18976           11  \n",
       "18977           12  \n",
       "18978           12  \n",
       "\n",
       "[18979 rows x 6 columns]"
      ]
     },
     "execution_count": 158,
     "metadata": {},
     "output_type": "execute_result"
    }
   ],
   "source": [
    "goalkeeper_attributes = [i for i in df.columns if i.startswith('gk') ]\n",
    "df[['positions'] + goalkeeper_attributes]"
   ]
  },
  {
   "cell_type": "code",
   "execution_count": 159,
   "id": "bf35f87b-ebf0-4d52-a571-3bb31fa659e3",
   "metadata": {
    "tags": []
   },
   "outputs": [
    {
     "data": {
      "text/plain": [
       "gk_diving         65.245783\n",
       "gk_handling       62.944578\n",
       "gk_kicking        61.772048\n",
       "gk_positioning    63.296867\n",
       "gk_reflexes       66.186506\n",
       "dtype: float64"
      ]
     },
     "execution_count": 159,
     "metadata": {},
     "output_type": "execute_result"
    }
   ],
   "source": [
    "df[goalkeeper_attributes][df.positions.apply(lambda x : 'GK' in x)].mean()"
   ]
  },
  {
   "cell_type": "markdown",
   "id": "374475f7-bb15-42aa-b94b-9cf7145ab0be",
   "metadata": {},
   "source": [
    "Watching the mean values of goalkeeper's attributes, one can see that the presence of outliers in those variables is due to most players not being a goalkeeper. The average values for goalkeepers are higher than those for non-goalkeeper players."
   ]
  },
  {
   "cell_type": "markdown",
   "id": "8fad3c7d-ed0e-4c3a-9fa1-d4d1bf6d65a6",
   "metadata": {},
   "source": [
    "One last step about analyzing outliers: the percentage of outliers. I will take into acount only those variables that have a significative % (% >= 5) of outliers. This minimum threshold can be easily changed in the code below."
   ]
  },
  {
   "cell_type": "code",
   "execution_count": 160,
   "id": "8971b2a7-bc3e-49b2-a203-4dddace5b075",
   "metadata": {
    "tags": []
   },
   "outputs": [
    {
     "data": {
      "text/plain": [
       "hits                            11.60\n",
       "value_million_euros             11.59\n",
       "goalkeeping                     11.49\n",
       "gk_kicking                      11.01\n",
       "gk_reflexes                     10.99\n",
       "gk_positioning                  10.99\n",
       "gk_handling                     10.99\n",
       "gk_diving                       10.99\n",
       "ball_control                    10.82\n",
       "release_clause_million_euros    10.64\n",
       "attacking                       10.62\n",
       "annual_wage_million_euros       10.53\n",
       "dribbling                       10.34\n",
       "short_passing                    9.21\n",
       "mentality                        7.87\n",
       "skill                            6.50\n",
       "heading_accuracy                 5.84\n",
       "dtype: float64"
      ]
     },
     "execution_count": 160,
     "metadata": {},
     "output_type": "execute_result"
    }
   ],
   "source": [
    "outliers_pctg = ( df[num_vars].apply(has_outliers, axis=0) / df.shape[0] * 100 ).dropna()\n",
    "outliers_pctg = round( outliers_pctg, 2).sort_values(ascending=False)\n",
    "outliers_pctg[outliers_pctg >= 5]"
   ]
  },
  {
   "cell_type": "markdown",
   "id": "a2d9dbec-2c46-4fd6-85c3-5f250145f186",
   "metadata": {},
   "source": [
    "## Renaming some numeric variables"
   ]
  },
  {
   "cell_type": "markdown",
   "id": "50c29563-c3b8-4fd2-8c84-323aaec5a67b",
   "metadata": {},
   "source": [
    "Some of the numeric variables have a non-descriptive name, so making use of the dataset dictionary, I will give them a more self-explanatory name.  \n",
    "At the beginning of the dataset i created a dataframe (`var_description_df`) with the description of the variables. I will use it now to help me with the renaming."
   ]
  },
  {
   "cell_type": "code",
   "execution_count": 161,
   "id": "3d6c4036-7233-4f88-b130-2caff14b4608",
   "metadata": {
    "tags": []
   },
   "outputs": [
    {
     "data": {
      "text/html": [
       "<div>\n",
       "<style scoped>\n",
       "    .dataframe tbody tr th:only-of-type {\n",
       "        vertical-align: middle;\n",
       "    }\n",
       "\n",
       "    .dataframe tbody tr th {\n",
       "        vertical-align: top;\n",
       "    }\n",
       "\n",
       "    .dataframe thead th {\n",
       "        text-align: right;\n",
       "    }\n",
       "</style>\n",
       "<table border=\"1\" class=\"dataframe\">\n",
       "  <thead>\n",
       "    <tr style=\"text-align: right;\">\n",
       "      <th></th>\n",
       "      <th>description</th>\n",
       "    </tr>\n",
       "    <tr>\n",
       "      <th>variable</th>\n",
       "      <th></th>\n",
       "    </tr>\n",
       "  </thead>\n",
       "  <tbody>\n",
       "    <tr>\n",
       "      <th>photoUrl</th>\n",
       "      <td>The URL of the player's photo.</td>\n",
       "    </tr>\n",
       "    <tr>\n",
       "      <th>LongName</th>\n",
       "      <td>The full name of the player.</td>\n",
       "    </tr>\n",
       "    <tr>\n",
       "      <th>playerUrl</th>\n",
       "      <td>The URL of the player's page on sofifa.com.</td>\n",
       "    </tr>\n",
       "    <tr>\n",
       "      <th>Nationality</th>\n",
       "      <td>The nationality of the player.</td>\n",
       "    </tr>\n",
       "    <tr>\n",
       "      <th>Positions</th>\n",
       "      <td>The positions the player can play.</td>\n",
       "    </tr>\n",
       "  </tbody>\n",
       "</table>\n",
       "</div>"
      ],
      "text/plain": [
       "                                             description\n",
       "variable                                                \n",
       "photoUrl                  The URL of the player's photo.\n",
       "LongName                    The full name of the player.\n",
       "playerUrl    The URL of the player's page on sofifa.com.\n",
       "Nationality               The nationality of the player.\n",
       "Positions             The positions the player can play."
      ]
     },
     "execution_count": 161,
     "metadata": {},
     "output_type": "execute_result"
    }
   ],
   "source": [
    "var_description_df.head()"
   ]
  },
  {
   "cell_type": "markdown",
   "id": "d0280c6d-c0ea-4699-a47b-f183fc8f4269",
   "metadata": {},
   "source": [
    "Variable names with only about 3 or 4 letters need some more explanatory names. Let's figure out which of them, making a pandas query..."
   ]
  },
  {
   "cell_type": "code",
   "execution_count": 162,
   "id": "a2f2e4bb-6ed9-42bd-9a73-11daaffcc908",
   "metadata": {
    "tags": []
   },
   "outputs": [
    {
     "name": "stdout",
     "output_type": "stream",
     "text": [
      "['id', 'name', 'age', '↓ova', 'pot', 'club', 'bov', 'w/f', 'sm', 'a/w', 'd/w', 'ir', 'pac', 'sho', 'pas', 'dri', 'def', 'phy', 'hits']\n"
     ]
    }
   ],
   "source": [
    "short_var_names = [i for i in df.columns if len(i) <=4]\n",
    "print(short_var_names, sep=', ')"
   ]
  },
  {
   "cell_type": "markdown",
   "id": "54f59653-f306-41e5-9d7b-3457c60f3577",
   "metadata": {},
   "source": [
    "Now I will retrieve the variable names and their description from the dataframe"
   ]
  },
  {
   "cell_type": "markdown",
   "id": "b5c07168-0e3f-4c4f-945b-5c798f540608",
   "metadata": {
    "tags": [],
    "toc-hr-collapsed": true
   },
   "source": [
    "#### Error: `KeyError: \"None of [Index(['id', 'name', 'age', '↓ova', 'pot', 'club', 'bov', 'w/f', 'sm', 'a/w',\\n       'd/w', 'ir', 'pac', 'sho', 'pas', 'dri', 'def', 'phy', 'hits'],\\n      dtype='object')] are in the [columns]\"`\n",
    "Uncomment the cell below to see the whole error output."
   ]
  },
  {
   "cell_type": "code",
   "execution_count": 163,
   "id": "dbe587ca-ae4a-4675-aa36-0a8579c5a6a4",
   "metadata": {
    "tags": []
   },
   "outputs": [],
   "source": [
    "#var_description_df[short_var_names]"
   ]
  },
  {
   "cell_type": "markdown",
   "id": "21c29712-3841-401e-ac72-1be29fb36b9c",
   "metadata": {},
   "source": [
    "The above error was caused because the `var_description_df` had the *old* names, before they were processed to replace spaces by underscore (_) and set to lowercase.  \n",
    "I will update the dataframe to reflect the changes."
   ]
  },
  {
   "cell_type": "code",
   "execution_count": 164,
   "id": "a371fbf1-4a79-4ba2-b5d5-e4e49649408c",
   "metadata": {
    "tags": []
   },
   "outputs": [
    {
     "data": {
      "text/plain": [
       "Index(['photoUrl', 'LongName', 'playerUrl', 'Nationality', 'Positions', 'Name',\n",
       "       'Age', 'OVA', 'POT', 'Team & Contract', 'ID', 'Height', 'Weight',\n",
       "       'foot', 'BOV', 'BP', 'Growth', 'Joined', 'Loan Date End', 'Value',\n",
       "       'Wage', 'Release Clause', 'Attacking', 'Crossing', 'Finishing',\n",
       "       'Heading Accuracy', 'Short Passing', 'Volleys', 'Skill', 'Dribbling',\n",
       "       'Curve', 'FK Accuracy', 'Long Passing', 'Ball Control', 'Movement',\n",
       "       'Acceleration', 'Sprint Speed', 'Agility', 'Reactions', 'Balance',\n",
       "       'Power', 'Shot Power', 'Jumping', 'Stamina', 'Strength', 'Long Shots',\n",
       "       'Mentality', 'Aggression', 'Interceptions', 'Positioning', 'Vision',\n",
       "       'Penalties', 'Composure', 'Defending', 'Marking', 'Standing Tackle',\n",
       "       'Sliding Tackle', 'Goalkeeping', 'GK Diving', 'GK Handling',\n",
       "       'GK Kicking', 'GK Positioning', 'GK Reflexes', 'Total Stats',\n",
       "       'Base Stats', 'W/F', 'SM', 'A/W', 'D/W', 'IR', 'PAC', 'SHO', 'PAS',\n",
       "       'DRI', 'DEF', 'PHY', 'Hits'],\n",
       "      dtype='object', name='variable')"
      ]
     },
     "execution_count": 164,
     "metadata": {},
     "output_type": "execute_result"
    }
   ],
   "source": [
    "old_var_names = var_description_df.index\n",
    "old_var_names"
   ]
  },
  {
   "cell_type": "code",
   "execution_count": 165,
   "id": "a07adea6-a5f7-49a9-9968-9f6224268e26",
   "metadata": {
    "tags": []
   },
   "outputs": [
    {
     "data": {
      "text/plain": [
       "Index(['id', 'name', 'longname', 'photourl', 'playerurl', 'nationality', 'age',\n",
       "       '↓ova', 'pot', 'club', 'positions', 'weight_kg', 'preferred_foot',\n",
       "       'bov', 'best_position', 'joined', 'loan_date_end',\n",
       "       'value_million_euros', 'annual_wage_million_euros',\n",
       "       'release_clause_million_euros', 'attacking', 'crossing', 'finishing',\n",
       "       'heading_accuracy', 'short_passing', 'volleys', 'skill', 'dribbling',\n",
       "       'curve', 'fk_accuracy', 'long_passing', 'ball_control', 'movement',\n",
       "       'acceleration', 'sprint_speed', 'agility', 'reactions', 'balance',\n",
       "       'power', 'shot_power', 'jumping', 'stamina', 'strength', 'long_shots',\n",
       "       'mentality', 'aggression', 'interceptions', 'positioning', 'vision',\n",
       "       'penalties', 'composure', 'defending', 'marking', 'standing_tackle',\n",
       "       'sliding_tackle', 'goalkeeping', 'gk_diving', 'gk_handling',\n",
       "       'gk_kicking', 'gk_positioning', 'gk_reflexes', 'total_stats',\n",
       "       'base_stats', 'w/f', 'sm', 'a/w', 'd/w', 'ir', 'pac', 'sho', 'pas',\n",
       "       'dri', 'def', 'phy', 'hits', 'height_m', 'height_feet', 'on_loan_from',\n",
       "       'contract_started', 'contract_ends', 'has_contract'],\n",
       "      dtype='object')"
      ]
     },
     "execution_count": 165,
     "metadata": {},
     "output_type": "execute_result"
    }
   ],
   "source": [
    "current_var_names = df.columns\n",
    "current_var_names"
   ]
  },
  {
   "cell_type": "markdown",
   "id": "b60dade9-b7c2-446d-8a38-252b66cd3b5f",
   "metadata": {},
   "source": [
    "Some of the old variables have disappeared, so the description dataframe needs some processing. I will take out the variables that have remained the same and later I will process the ones that have changed."
   ]
  },
  {
   "cell_type": "code",
   "execution_count": 166,
   "id": "21fed39f-2821-4ca9-8307-eec30d719443",
   "metadata": {
    "tags": []
   },
   "outputs": [],
   "source": [
    "var_descrip2 = var_description_df.copy()"
   ]
  },
  {
   "cell_type": "markdown",
   "id": "3a58686f-c6ae-449d-aad9-408f25114710",
   "metadata": {},
   "source": [
    "Now the cleaning of the variables must be done to this copy of the description dataframe (refer to Proposed Actions, 1. Rename columns)"
   ]
  },
  {
   "cell_type": "code",
   "execution_count": 167,
   "id": "c84d0333-b6a4-4fb1-b7b9-3770845d9caf",
   "metadata": {
    "tags": []
   },
   "outputs": [],
   "source": [
    "var_descrip2_backup = var_descrip2.columns.to_list()\n",
    "var_descrip2.index = [i.replace(' & ', '_').replace(' ', '_').lower() for i in var_descrip2.index]"
   ]
  },
  {
   "cell_type": "code",
   "execution_count": 168,
   "id": "41df8b0c-ef23-479c-b264-dd864062a66c",
   "metadata": {
    "tags": []
   },
   "outputs": [
    {
     "data": {
      "text/html": [
       "<div>\n",
       "<style scoped>\n",
       "    .dataframe tbody tr th:only-of-type {\n",
       "        vertical-align: middle;\n",
       "    }\n",
       "\n",
       "    .dataframe tbody tr th {\n",
       "        vertical-align: top;\n",
       "    }\n",
       "\n",
       "    .dataframe thead th {\n",
       "        text-align: right;\n",
       "    }\n",
       "</style>\n",
       "<table border=\"1\" class=\"dataframe\">\n",
       "  <thead>\n",
       "    <tr style=\"text-align: right;\">\n",
       "      <th></th>\n",
       "      <th>description</th>\n",
       "    </tr>\n",
       "  </thead>\n",
       "  <tbody>\n",
       "    <tr>\n",
       "      <th>age</th>\n",
       "      <td>The age of the player.</td>\n",
       "    </tr>\n",
       "    <tr>\n",
       "      <th>foot</th>\n",
       "      <td>The preferred foot of the player.</td>\n",
       "    </tr>\n",
       "    <tr>\n",
       "      <th>name</th>\n",
       "      <td>The short name of the player.</td>\n",
       "    </tr>\n",
       "    <tr>\n",
       "      <th>hits</th>\n",
       "      <td>This refers to the number of times the player'...</td>\n",
       "    </tr>\n",
       "    <tr>\n",
       "      <th>growth</th>\n",
       "      <td>The difference between the potential rating an...</td>\n",
       "    </tr>\n",
       "    <tr>\n",
       "      <th>sm</th>\n",
       "      <td>This refers to the player's skill moves ability.</td>\n",
       "    </tr>\n",
       "    <tr>\n",
       "      <th>gk_positioning</th>\n",
       "      <td>The goalkeeper positioning attribute of the pl...</td>\n",
       "    </tr>\n",
       "    <tr>\n",
       "      <th>ova</th>\n",
       "      <td>The overall rating of the player in FIFA 21.</td>\n",
       "    </tr>\n",
       "    <tr>\n",
       "      <th>positions</th>\n",
       "      <td>The positions the player can play.</td>\n",
       "    </tr>\n",
       "    <tr>\n",
       "      <th>id</th>\n",
       "      <td>The unique identifier for the player.</td>\n",
       "    </tr>\n",
       "  </tbody>\n",
       "</table>\n",
       "</div>"
      ],
      "text/plain": [
       "                                                      description\n",
       "age                                        The age of the player.\n",
       "foot                            The preferred foot of the player.\n",
       "name                                The short name of the player.\n",
       "hits            This refers to the number of times the player'...\n",
       "growth          The difference between the potential rating an...\n",
       "sm              This refers to the player's skill moves ability. \n",
       "gk_positioning  The goalkeeper positioning attribute of the pl...\n",
       "ova                  The overall rating of the player in FIFA 21.\n",
       "positions                      The positions the player can play.\n",
       "id                          The unique identifier for the player."
      ]
     },
     "execution_count": 168,
     "metadata": {},
     "output_type": "execute_result"
    }
   ],
   "source": [
    "var_descrip2.sample(10)"
   ]
  },
  {
   "cell_type": "code",
   "execution_count": 169,
   "id": "d1117177-c8d7-44b0-8977-cce2ab60ae9d",
   "metadata": {
    "tags": []
   },
   "outputs": [
    {
     "data": {
      "text/plain": [
       "Index(['photourl', 'longname', 'playerurl', 'nationality', 'positions', 'name',\n",
       "       'age', 'ova', 'pot', 'team_contract', 'id', 'height', 'weight', 'foot',\n",
       "       'bov', 'bp', 'growth', 'joined', 'loan_date_end', 'value', 'wage',\n",
       "       'release_clause', 'attacking', 'crossing', 'finishing',\n",
       "       'heading_accuracy', 'short_passing', 'volleys', 'skill', 'dribbling',\n",
       "       'curve', 'fk_accuracy', 'long_passing', 'ball_control', 'movement',\n",
       "       'acceleration', 'sprint_speed', 'agility', 'reactions', 'balance',\n",
       "       'power', 'shot_power', 'jumping', 'stamina', 'strength', 'long_shots',\n",
       "       'mentality', 'aggression', 'interceptions', 'positioning', 'vision',\n",
       "       'penalties', 'composure', 'defending', 'marking', 'standing_tackle',\n",
       "       'sliding_tackle', 'goalkeeping', 'gk_diving', 'gk_handling',\n",
       "       'gk_kicking', 'gk_positioning', 'gk_reflexes', 'total_stats',\n",
       "       'base_stats', 'w/f', 'sm', 'a/w', 'd/w', 'ir', 'pac', 'sho', 'pas',\n",
       "       'dri', 'def', 'phy', 'hits'],\n",
       "      dtype='object')"
      ]
     },
     "execution_count": 169,
     "metadata": {},
     "output_type": "execute_result"
    }
   ],
   "source": [
    "var_descrip2.index"
   ]
  },
  {
   "cell_type": "markdown",
   "id": "39c77321-c9e6-44ce-bbca-c28e933f13d5",
   "metadata": {},
   "source": [
    "`unchanged_vars` are the ones who are in the clean dataframe and also have a description in `var_description_df`. I have noticed that some variables from the fifa21 version 2 are not in the descriptions."
   ]
  },
  {
   "cell_type": "code",
   "execution_count": 170,
   "id": "f488944d-00cc-4188-a553-2e37ad6a3d95",
   "metadata": {
    "tags": []
   },
   "outputs": [
    {
     "name": "stdout",
     "output_type": "stream",
     "text": [
      "['photourl', 'longname', 'playerurl', 'nationality', 'positions', 'name', 'age', 'pot', 'id', 'bov', 'joined', 'loan_date_end', 'attacking', 'crossing', 'finishing', 'heading_accuracy', 'short_passing', 'volleys', 'skill', 'dribbling', 'curve', 'fk_accuracy', 'long_passing', 'ball_control', 'movement', 'acceleration', 'sprint_speed', 'agility', 'reactions', 'balance', 'power', 'shot_power', 'jumping', 'stamina', 'strength', 'long_shots', 'mentality', 'aggression', 'interceptions', 'positioning', 'vision', 'penalties', 'composure', 'defending', 'marking', 'standing_tackle', 'sliding_tackle', 'goalkeeping', 'gk_diving', 'gk_handling', 'gk_kicking', 'gk_positioning', 'gk_reflexes', 'total_stats', 'base_stats', 'w/f', 'sm', 'a/w', 'd/w', 'ir', 'pac', 'sho', 'pas', 'dri', 'def', 'phy', 'hits']\n"
     ]
    }
   ],
   "source": [
    "unchanged_vars = [i for i in var_descrip2.index if i in df.columns]\n",
    "print(unchanged_vars, sep=', ')"
   ]
  },
  {
   "cell_type": "code",
   "execution_count": 171,
   "id": "973836f6-a0b5-470c-b94f-64fac115e371",
   "metadata": {
    "tags": []
   },
   "outputs": [
    {
     "name": "stdout",
     "output_type": "stream",
     "text": [
      "['ova', 'team_contract', 'height', 'weight', 'foot', 'bp', 'growth', 'value', 'wage', 'release_clause']\n"
     ]
    }
   ],
   "source": [
    "changed_vars = [i for i in var_descrip2.index if i not in df.columns]\n",
    "print(changed_vars, sep=', ')"
   ]
  },
  {
   "cell_type": "markdown",
   "id": "7ebd4c9d-64cf-4194-832f-471b25089968",
   "metadata": {},
   "source": [
    "Remove the changed vars in the description dataframe. They will be added manually (as they are only a few) with a description."
   ]
  },
  {
   "cell_type": "code",
   "execution_count": 172,
   "id": "5d08cbd5-7574-43b3-b106-aca87f741717",
   "metadata": {
    "tags": []
   },
   "outputs": [
    {
     "data": {
      "text/html": [
       "<div>\n",
       "<style scoped>\n",
       "    .dataframe tbody tr th:only-of-type {\n",
       "        vertical-align: middle;\n",
       "    }\n",
       "\n",
       "    .dataframe tbody tr th {\n",
       "        vertical-align: top;\n",
       "    }\n",
       "\n",
       "    .dataframe thead th {\n",
       "        text-align: right;\n",
       "    }\n",
       "</style>\n",
       "<table border=\"1\" class=\"dataframe\">\n",
       "  <thead>\n",
       "    <tr style=\"text-align: right;\">\n",
       "      <th></th>\n",
       "      <th>description</th>\n",
       "    </tr>\n",
       "  </thead>\n",
       "  <tbody>\n",
       "    <tr>\n",
       "      <th>name</th>\n",
       "      <td>The short name of the player.</td>\n",
       "    </tr>\n",
       "    <tr>\n",
       "      <th>loan_date_end</th>\n",
       "      <td>The date the player's loan contract ends.</td>\n",
       "    </tr>\n",
       "    <tr>\n",
       "      <th>gk_reflexes</th>\n",
       "      <td>This refers to the goalkeeper's ability to rea...</td>\n",
       "    </tr>\n",
       "    <tr>\n",
       "      <th>positioning</th>\n",
       "      <td>The positioning attribute of the player.</td>\n",
       "    </tr>\n",
       "    <tr>\n",
       "      <th>pac</th>\n",
       "      <td>This refers to the player's pace or speed attr...</td>\n",
       "    </tr>\n",
       "  </tbody>\n",
       "</table>\n",
       "</div>"
      ],
      "text/plain": [
       "                                                     description\n",
       "name                               The short name of the player.\n",
       "loan_date_end          The date the player's loan contract ends.\n",
       "gk_reflexes    This refers to the goalkeeper's ability to rea...\n",
       "positioning             The positioning attribute of the player.\n",
       "pac            This refers to the player's pace or speed attr..."
      ]
     },
     "execution_count": 172,
     "metadata": {},
     "output_type": "execute_result"
    }
   ],
   "source": [
    "# the var_descript2 dataframe keeps (by now) only the unchanged variables\n",
    "var_descrip2 = var_descrip2.loc[unchanged_vars]\n",
    "var_descrip2.sample(5)"
   ]
  },
  {
   "cell_type": "markdown",
   "id": "2a8132b9-8de0-4315-b356-470aa02e590c",
   "metadata": {},
   "source": [
    "Maybe some of them don't belong to the clean dataframe anymore, not even in a renamed version. I will create a function that correlates the old variable name and its new renamed variables."
   ]
  },
  {
   "cell_type": "code",
   "execution_count": 173,
   "id": "3280cfa0-9a9a-4fe2-b874-09b870070eeb",
   "metadata": {
    "tags": []
   },
   "outputs": [
    {
     "name": "stdout",
     "output_type": "stream",
     "text": [
      "Old name: ova --> new name: ['↓ova']\n",
      "Old name: height --> new name: ['height_m' 'height_feet']\n",
      "Old name: weight --> new name: ['weight_kg']\n",
      "Old name: foot --> new name: ['preferred_foot']\n",
      "Old name: value --> new name: ['value_million_euros']\n",
      "Old name: wage --> new name: ['annual_wage_million_euros']\n",
      "Old name: release_clause --> new name: ['release_clause_million_euros']\n",
      "\n",
      "\n",
      "These variables need to be removed from variable description dataframe:\n",
      "['team_contract', 'bp', 'growth']\n"
     ]
    }
   ],
   "source": [
    "columns = df.columns\n",
    "var_to_be_removed = []\n",
    "for var in changed_vars:\n",
    "    new_cols = columns[columns.str.contains(var)]\n",
    "    if new_cols.any():\n",
    "        print(f'Old name: {var} --> new name: {new_cols.values}')\n",
    "    else:\n",
    "        var_to_be_removed.append(var)\n",
    "print('\\n\\nThese variables need to be removed from variable description dataframe:')\n",
    "print(var_to_be_removed)"
   ]
  },
  {
   "cell_type": "markdown",
   "id": "c0803851-50f6-46c8-8d14-a7b168673c17",
   "metadata": {
    "tags": []
   },
   "source": [
    "### Process manually the changed variables"
   ]
  },
  {
   "cell_type": "markdown",
   "id": "5b391b36-b3dd-43a6-b816-1fc1cc37cd89",
   "metadata": {},
   "source": [
    "#### `ova` var.  \n",
    "This needs to be cleaned in the clean dataframe to remove the downside arrow in the var name (copy and paste to get the arrow character)"
   ]
  },
  {
   "cell_type": "code",
   "execution_count": 174,
   "id": "9829fc1b-f989-4654-851f-055e51099aa1",
   "metadata": {
    "tags": []
   },
   "outputs": [
    {
     "data": {
      "text/plain": [
       "Index(['↓ova'], dtype='object')"
      ]
     },
     "execution_count": 174,
     "metadata": {},
     "output_type": "execute_result"
    }
   ],
   "source": [
    "df.columns[df.columns.str.endswith('ova')]"
   ]
  },
  {
   "cell_type": "code",
   "execution_count": 175,
   "id": "405f324d-47c3-440e-89ea-3667797b95c5",
   "metadata": {
    "tags": []
   },
   "outputs": [],
   "source": [
    "df.rename(columns = { '↓ova' : 'ova'}, inplace=True)"
   ]
  },
  {
   "cell_type": "code",
   "execution_count": 176,
   "id": "59cbc6f2-e677-4b05-abc8-cecad4fa3432",
   "metadata": {
    "tags": []
   },
   "outputs": [
    {
     "data": {
      "text/plain": [
       "Index(['ova'], dtype='object')"
      ]
     },
     "execution_count": 176,
     "metadata": {},
     "output_type": "execute_result"
    }
   ],
   "source": [
    "df.columns[df.columns.str.endswith('ova')]"
   ]
  },
  {
   "cell_type": "markdown",
   "id": "b312fe0d-afb2-415a-af68-9864f19da779",
   "metadata": {},
   "source": [
    "#### In order to add rows to `var_descrip2` dataframe I will reset the index"
   ]
  },
  {
   "cell_type": "code",
   "execution_count": 177,
   "id": "568581b3-9ddc-4a2a-9389-a8b98a712569",
   "metadata": {
    "tags": []
   },
   "outputs": [],
   "source": [
    "var_descrip2.reset_index(inplace=True)"
   ]
  },
  {
   "cell_type": "code",
   "execution_count": 178,
   "id": "2482c6a9-bd34-4281-9034-747e50dcd1ca",
   "metadata": {
    "tags": []
   },
   "outputs": [],
   "source": [
    "var_descrip2.rename(columns = {'index' : 'variable'}, inplace=True)"
   ]
  },
  {
   "cell_type": "code",
   "execution_count": 179,
   "id": "8f727d27-210e-494f-8876-1bbc24659197",
   "metadata": {
    "tags": []
   },
   "outputs": [
    {
     "data": {
      "text/html": [
       "<div>\n",
       "<style scoped>\n",
       "    .dataframe tbody tr th:only-of-type {\n",
       "        vertical-align: middle;\n",
       "    }\n",
       "\n",
       "    .dataframe tbody tr th {\n",
       "        vertical-align: top;\n",
       "    }\n",
       "\n",
       "    .dataframe thead th {\n",
       "        text-align: right;\n",
       "    }\n",
       "</style>\n",
       "<table border=\"1\" class=\"dataframe\">\n",
       "  <thead>\n",
       "    <tr style=\"text-align: right;\">\n",
       "      <th></th>\n",
       "      <th>variable</th>\n",
       "      <th>description</th>\n",
       "    </tr>\n",
       "  </thead>\n",
       "  <tbody>\n",
       "    <tr>\n",
       "      <th>0</th>\n",
       "      <td>photourl</td>\n",
       "      <td>The URL of the player's photo.</td>\n",
       "    </tr>\n",
       "    <tr>\n",
       "      <th>1</th>\n",
       "      <td>longname</td>\n",
       "      <td>The full name of the player.</td>\n",
       "    </tr>\n",
       "    <tr>\n",
       "      <th>2</th>\n",
       "      <td>playerurl</td>\n",
       "      <td>The URL of the player's page on sofifa.com.</td>\n",
       "    </tr>\n",
       "    <tr>\n",
       "      <th>3</th>\n",
       "      <td>nationality</td>\n",
       "      <td>The nationality of the player.</td>\n",
       "    </tr>\n",
       "    <tr>\n",
       "      <th>4</th>\n",
       "      <td>positions</td>\n",
       "      <td>The positions the player can play.</td>\n",
       "    </tr>\n",
       "  </tbody>\n",
       "</table>\n",
       "</div>"
      ],
      "text/plain": [
       "      variable                                  description\n",
       "0     photourl               The URL of the player's photo.\n",
       "1     longname                 The full name of the player.\n",
       "2    playerurl  The URL of the player's page on sofifa.com.\n",
       "3  nationality               The nationality of the player.\n",
       "4    positions           The positions the player can play."
      ]
     },
     "execution_count": 179,
     "metadata": {},
     "output_type": "execute_result"
    }
   ],
   "source": [
    "var_descrip2.head()"
   ]
  },
  {
   "cell_type": "markdown",
   "id": "8a2978c6-29cd-4464-acc2-769308b8548c",
   "metadata": {},
   "source": [
    "#### Get and process the description of the variables to be added"
   ]
  },
  {
   "cell_type": "code",
   "execution_count": 180,
   "id": "b6251992-7da9-4adc-9e91-ec5e911479c5",
   "metadata": {
    "tags": []
   },
   "outputs": [],
   "source": [
    "ova_descript = var_description_df.loc['OVA'].values[0]\n",
    "height_m_descript = var_description_df.loc['Height'].values[0].replace('feet and inches', 'metres')\n",
    "height_feet_descript = var_description_df.loc['Height'].values[0].replace('feet and inches', 'feet')\n",
    "weight_descript = var_description_df.loc['Weight'].values[0].replace('pounds', 'kg')\n",
    "foot_descript = var_description_df.loc['foot'].values[0]\n",
    "value_descript = var_description_df.loc['Value'].values[0][:-1] + ', in millions of euros.'\n",
    "wage_descript = var_description_df.loc['Wage'].values[0][:-1] + ', in millions of euros.'\n",
    "release_clause_descript = var_description_df.loc['Release Clause'].values[0][:-1] + ', in millions of euros.'"
   ]
  },
  {
   "cell_type": "code",
   "execution_count": 181,
   "id": "7b862c23-cded-45e2-a391-8a307ff07f8a",
   "metadata": {
    "tags": []
   },
   "outputs": [],
   "source": [
    "new_entries = {'ova' : ova_descript,\n",
    "               'height_m' : height_m_descript,\n",
    "               'height_ft' : height_feet_descript,\n",
    "               'weight_kg' : weight_descript,\n",
    "               'preferred_foot' : foot_descript,\n",
    "               'value_million_euros' : value_descript,\n",
    "               'annual_wage_million_euros' : wage_descript,\n",
    "               'release_clause_million_euros' : release_clause_descript\n",
    "              }"
   ]
  },
  {
   "cell_type": "code",
   "execution_count": 182,
   "id": "7ab52e44-b57d-4102-be1c-80faad08c7e7",
   "metadata": {
    "tags": []
   },
   "outputs": [
    {
     "data": {
      "text/html": [
       "<div>\n",
       "<style scoped>\n",
       "    .dataframe tbody tr th:only-of-type {\n",
       "        vertical-align: middle;\n",
       "    }\n",
       "\n",
       "    .dataframe tbody tr th {\n",
       "        vertical-align: top;\n",
       "    }\n",
       "\n",
       "    .dataframe thead th {\n",
       "        text-align: right;\n",
       "    }\n",
       "</style>\n",
       "<table border=\"1\" class=\"dataframe\">\n",
       "  <thead>\n",
       "    <tr style=\"text-align: right;\">\n",
       "      <th></th>\n",
       "      <th>variable</th>\n",
       "      <th>description</th>\n",
       "    </tr>\n",
       "  </thead>\n",
       "  <tbody>\n",
       "    <tr>\n",
       "      <th>0</th>\n",
       "      <td>ova</td>\n",
       "      <td>The overall rating of the player in FIFA 21.</td>\n",
       "    </tr>\n",
       "    <tr>\n",
       "      <th>1</th>\n",
       "      <td>height_m</td>\n",
       "      <td>The height of the player in metres.</td>\n",
       "    </tr>\n",
       "    <tr>\n",
       "      <th>2</th>\n",
       "      <td>height_ft</td>\n",
       "      <td>The height of the player in feet.</td>\n",
       "    </tr>\n",
       "    <tr>\n",
       "      <th>3</th>\n",
       "      <td>weight_kg</td>\n",
       "      <td>The weight of the player in kg.</td>\n",
       "    </tr>\n",
       "    <tr>\n",
       "      <th>4</th>\n",
       "      <td>preferred_foot</td>\n",
       "      <td>The preferred foot of the player.</td>\n",
       "    </tr>\n",
       "    <tr>\n",
       "      <th>5</th>\n",
       "      <td>value_million_euros</td>\n",
       "      <td>The market value of the player in FIFA 21, in ...</td>\n",
       "    </tr>\n",
       "    <tr>\n",
       "      <th>6</th>\n",
       "      <td>annual_wage_million_euros</td>\n",
       "      <td>The weekly wage of the player in FIFA 21, in m...</td>\n",
       "    </tr>\n",
       "    <tr>\n",
       "      <th>7</th>\n",
       "      <td>release_clause_million_euros</td>\n",
       "      <td>The release clause value of the player in FIFA...</td>\n",
       "    </tr>\n",
       "  </tbody>\n",
       "</table>\n",
       "</div>"
      ],
      "text/plain": [
       "                       variable  \\\n",
       "0                           ova   \n",
       "1                      height_m   \n",
       "2                     height_ft   \n",
       "3                     weight_kg   \n",
       "4                preferred_foot   \n",
       "5           value_million_euros   \n",
       "6     annual_wage_million_euros   \n",
       "7  release_clause_million_euros   \n",
       "\n",
       "                                         description  \n",
       "0       The overall rating of the player in FIFA 21.  \n",
       "1                The height of the player in metres.  \n",
       "2                  The height of the player in feet.  \n",
       "3                    The weight of the player in kg.  \n",
       "4                  The preferred foot of the player.  \n",
       "5  The market value of the player in FIFA 21, in ...  \n",
       "6  The weekly wage of the player in FIFA 21, in m...  \n",
       "7  The release clause value of the player in FIFA...  "
      ]
     },
     "execution_count": 182,
     "metadata": {},
     "output_type": "execute_result"
    }
   ],
   "source": [
    "new_description = pd.DataFrame({'variable': new_entries.keys(),\n",
    "                                'description' : new_entries.values()\n",
    "                               })\n",
    "new_description"
   ]
  },
  {
   "cell_type": "markdown",
   "id": "d4e94a0c-664c-48a9-bf4f-96d9d644dd38",
   "metadata": {},
   "source": [
    "### Final steps with description dataframe\n",
    "1. Concat the var dataframe and the new entries\n",
    "2. Replace the processed description dataset by the original one\n",
    "3. Export to csv."
   ]
  },
  {
   "cell_type": "code",
   "execution_count": 183,
   "id": "884b420f-12b6-4a9a-b27b-1ff015e3f5ea",
   "metadata": {
    "tags": []
   },
   "outputs": [],
   "source": [
    "var_description_df = pd.concat([var_descrip2, new_description], axis=0)\n",
    "var_description_df.set_index('variable', inplace=True)"
   ]
  },
  {
   "cell_type": "code",
   "execution_count": 184,
   "id": "f0ede61e-d2be-4231-b2cd-53f6a9bb6a48",
   "metadata": {
    "tags": []
   },
   "outputs": [
    {
     "data": {
      "text/html": [
       "<div>\n",
       "<style scoped>\n",
       "    .dataframe tbody tr th:only-of-type {\n",
       "        vertical-align: middle;\n",
       "    }\n",
       "\n",
       "    .dataframe tbody tr th {\n",
       "        vertical-align: top;\n",
       "    }\n",
       "\n",
       "    .dataframe thead th {\n",
       "        text-align: right;\n",
       "    }\n",
       "</style>\n",
       "<table border=\"1\" class=\"dataframe\">\n",
       "  <thead>\n",
       "    <tr style=\"text-align: right;\">\n",
       "      <th></th>\n",
       "      <th>description</th>\n",
       "    </tr>\n",
       "    <tr>\n",
       "      <th>variable</th>\n",
       "      <th></th>\n",
       "    </tr>\n",
       "  </thead>\n",
       "  <tbody>\n",
       "    <tr>\n",
       "      <th>phy</th>\n",
       "      <td>This refers to the player's physicality or str...</td>\n",
       "    </tr>\n",
       "    <tr>\n",
       "      <th>hits</th>\n",
       "      <td>This refers to the number of times the player'...</td>\n",
       "    </tr>\n",
       "    <tr>\n",
       "      <th>ova</th>\n",
       "      <td>The overall rating of the player in FIFA 21.</td>\n",
       "    </tr>\n",
       "    <tr>\n",
       "      <th>height_m</th>\n",
       "      <td>The height of the player in metres.</td>\n",
       "    </tr>\n",
       "    <tr>\n",
       "      <th>height_ft</th>\n",
       "      <td>The height of the player in feet.</td>\n",
       "    </tr>\n",
       "    <tr>\n",
       "      <th>weight_kg</th>\n",
       "      <td>The weight of the player in kg.</td>\n",
       "    </tr>\n",
       "    <tr>\n",
       "      <th>preferred_foot</th>\n",
       "      <td>The preferred foot of the player.</td>\n",
       "    </tr>\n",
       "    <tr>\n",
       "      <th>value_million_euros</th>\n",
       "      <td>The market value of the player in FIFA 21, in ...</td>\n",
       "    </tr>\n",
       "    <tr>\n",
       "      <th>annual_wage_million_euros</th>\n",
       "      <td>The weekly wage of the player in FIFA 21, in m...</td>\n",
       "    </tr>\n",
       "    <tr>\n",
       "      <th>release_clause_million_euros</th>\n",
       "      <td>The release clause value of the player in FIFA...</td>\n",
       "    </tr>\n",
       "  </tbody>\n",
       "</table>\n",
       "</div>"
      ],
      "text/plain": [
       "                                                                    description\n",
       "variable                                                                       \n",
       "phy                           This refers to the player's physicality or str...\n",
       "hits                          This refers to the number of times the player'...\n",
       "ova                                The overall rating of the player in FIFA 21.\n",
       "height_m                                    The height of the player in metres.\n",
       "height_ft                                     The height of the player in feet.\n",
       "weight_kg                                       The weight of the player in kg.\n",
       "preferred_foot                                The preferred foot of the player.\n",
       "value_million_euros           The market value of the player in FIFA 21, in ...\n",
       "annual_wage_million_euros     The weekly wage of the player in FIFA 21, in m...\n",
       "release_clause_million_euros  The release clause value of the player in FIFA..."
      ]
     },
     "execution_count": 184,
     "metadata": {},
     "output_type": "execute_result"
    }
   ],
   "source": [
    "var_description_df.tail(10)"
   ]
  },
  {
   "cell_type": "markdown",
   "id": "a241c097-529d-4ef6-bbf9-9593d0bfbd4c",
   "metadata": {},
   "source": [
    "A bit of preparation before exportation to csv: reset index and add it as the variable column"
   ]
  },
  {
   "cell_type": "code",
   "execution_count": 185,
   "id": "075b0923-6788-4c19-9e0e-d19a58417c3b",
   "metadata": {
    "tags": []
   },
   "outputs": [],
   "source": [
    "var_descript_csv = var_description_df.reset_index()\n",
    "var_descript_csv = var_descript_csv.rename(columns = {'index' : 'variable'})"
   ]
  },
  {
   "cell_type": "code",
   "execution_count": 186,
   "id": "85a7dd9b-e6e0-4ffc-926c-0d006627f2c2",
   "metadata": {
    "tags": []
   },
   "outputs": [],
   "source": [
    "var_descript_csv.to_csv('variable_descriptions.csv', index=False)"
   ]
  },
  {
   "cell_type": "markdown",
   "id": "5b0985a5-3d1d-4a1c-8826-403905b47710",
   "metadata": {
    "toc-hr-collapsed": true
   },
   "source": [
    "### Rename the short named variables"
   ]
  },
  {
   "cell_type": "code",
   "execution_count": 187,
   "id": "70efb242-351e-47ab-9d97-e65d16f9e91a",
   "metadata": {
    "tags": []
   },
   "outputs": [
    {
     "data": {
      "text/plain": [
       "['id',\n",
       " 'name',\n",
       " 'age',\n",
       " '↓ova',\n",
       " 'pot',\n",
       " 'club',\n",
       " 'bov',\n",
       " 'w/f',\n",
       " 'sm',\n",
       " 'a/w',\n",
       " 'd/w',\n",
       " 'ir',\n",
       " 'pac',\n",
       " 'sho',\n",
       " 'pas',\n",
       " 'dri',\n",
       " 'def',\n",
       " 'phy',\n",
       " 'hits']"
      ]
     },
     "execution_count": 187,
     "metadata": {},
     "output_type": "execute_result"
    }
   ],
   "source": [
    "short_var_names"
   ]
  },
  {
   "cell_type": "markdown",
   "id": "2fce85cb-57ed-43ca-b694-c3e2e644309e",
   "metadata": {},
   "source": [
    "I will remove `id`, `name`, `age`, and `club` from list of variables to be renamed. I have just thought `hits` can be renamed to `profile_web_visits`."
   ]
  },
  {
   "cell_type": "code",
   "execution_count": 188,
   "id": "601cff8c-45a9-49a4-bb1a-a5ea683b1e05",
   "metadata": {
    "tags": []
   },
   "outputs": [
    {
     "data": {
      "text/plain": [
       "['↓ova',\n",
       " 'pot',\n",
       " 'club',\n",
       " 'bov',\n",
       " 'w/f',\n",
       " 'sm',\n",
       " 'a/w',\n",
       " 'd/w',\n",
       " 'ir',\n",
       " 'pac',\n",
       " 'sho',\n",
       " 'pas',\n",
       " 'dri',\n",
       " 'def',\n",
       " 'phy',\n",
       " 'hits']"
      ]
     },
     "execution_count": 188,
     "metadata": {},
     "output_type": "execute_result"
    }
   ],
   "source": [
    "short_var_names = short_var_names[3:]\n",
    "short_var_names"
   ]
  },
  {
   "cell_type": "markdown",
   "id": "13c82e8e-716d-414a-b75a-fcfd0479d1d0",
   "metadata": {
    "tags": [],
    "toc-hr-collapsed": true
   },
   "source": [
    "#### Error: `KeyError: '↓ova'\"`\n",
    "Uncomment the cell below to see the whole error output."
   ]
  },
  {
   "cell_type": "code",
   "execution_count": 189,
   "id": "13efe78c-04aa-48d3-acde-fda2f6f4e320",
   "metadata": {
    "tags": []
   },
   "outputs": [],
   "source": [
    "#for var in short_var_names:\n",
    "#    print(f'Var: {var}. Description: {var_description_df.loc[var]}')"
   ]
  },
  {
   "cell_type": "code",
   "execution_count": 190,
   "id": "9bba51e9-1ef7-46a1-9376-c5cd6d7d8bac",
   "metadata": {
    "tags": []
   },
   "outputs": [],
   "source": [
    "short_var_names[0] = 'ova'"
   ]
  },
  {
   "cell_type": "code",
   "execution_count": 191,
   "id": "31649ca9-23d3-434a-bd3b-44604cc3180f",
   "metadata": {
    "tags": []
   },
   "outputs": [],
   "source": [
    "short_var_names.remove('club')"
   ]
  },
  {
   "cell_type": "code",
   "execution_count": 192,
   "id": "1b7532c6-2844-4a33-befe-cfbf88c00358",
   "metadata": {
    "tags": []
   },
   "outputs": [
    {
     "name": "stdout",
     "output_type": "stream",
     "text": [
      "Var: ova -  Description: The overall rating of the player in FIFA 21.\n",
      "Var: pot -  Description: The potential rating of the player in FIFA 21.\n",
      "Var: bov -  Description: The best overall rating the player has achieved in their career.\n",
      "Var: w/f -  Description: This refers to the player's weaker foot ability.\n",
      "Var: sm -  Description: This refers to the player's skill moves ability. \n",
      "Var: a/w -  Description: This refers to the player's attacking work rate. It measures how frequently the player participates in attacking actions, such as making runs or positioning themselves in the opponent's half.\n",
      "Var: d/w -  Description: This refers to the player's defensive work rate. It measures how frequently the player participates in defensive actions, such as tracking back or making tackles.\n",
      "Var: ir -  Description: This refers to the player's injury resistance. It measures the player's ability to avoid injuries and how quickly they recover from them.\n",
      "Var: pac -  Description: This refers to the player's pace or speed attribute. It measures how quickly the player can move with and without the ball.\n",
      "Var: sho -  Description: This refers to the player's shooting ability. It measures the player's accuracy and power when shooting the ball.\n",
      "Var: pas -  Description: This refers to the player's passing ability. It measures the player's accuracy and range when passing the ball.\n",
      "Var: dri -  Description: This refers to the player's dribbling ability. It measures the player's agility, balance, and ball control when dribbling the ball.\n",
      "Var: def -  Description: This refers to the player's defensive ability. It measures the player's ability to tackle, intercept, and defend against opposing players. \n",
      "Var: phy -  Description: This refers to the player's physicality or strength. It measures the player's ability to win physical battles and maintain possession of the ball. \n",
      "Var: hits -  Description: This refers to the number of times the player's profile has been viewed on the website.\n"
     ]
    }
   ],
   "source": [
    "for var in short_var_names:\n",
    "    print(f'Var: {var} -  Description: {var_description_df.loc[var].values[0]}')"
   ]
  },
  {
   "cell_type": "markdown",
   "id": "844a501e-9996-4595-87de-32fbd9cb1506",
   "metadata": {},
   "source": [
    "With the descriptions, I have the information to rename to a more descriptive way the variables:"
   ]
  },
  {
   "cell_type": "code",
   "execution_count": 193,
   "id": "7949d096-88ee-46db-955b-64214e2c4490",
   "metadata": {
    "tags": []
   },
   "outputs": [],
   "source": [
    "renaming_dict = {\n",
    "    'ova': 'overall_rating',\n",
    "    'pot' : 'potential_rating',\n",
    "    'bov' : 'best_overall_rating',\n",
    "    'w/f' : 'weaker_foot_ability',\n",
    "    'sm' : 'skill_moves_ability',\n",
    "    'a/w' : 'attack_work_rate',\n",
    "    'd/w' : 'defense_work_rate',\n",
    "    'ir' : 'injury_resistance',\n",
    "    'pac' : 'player_speed',\n",
    "    'sho' : 'shooting_ability',\n",
    "    'pas' : 'passing_ability',\n",
    "    'dri' : 'dribbling_ability',\n",
    "    'def' : 'defensive_ability',\n",
    "    'phy' : 'player_strength',\n",
    "    'hits' : 'profile_web_visits',\n",
    "    'photourl' : 'photo_url',\n",
    "    'playerurl' : 'player_profile_web',\n",
    "}    "
   ]
  },
  {
   "cell_type": "code",
   "execution_count": 194,
   "id": "0a964ea4-de2b-4633-b9d2-708538c6df90",
   "metadata": {
    "tags": []
   },
   "outputs": [],
   "source": [
    "df.rename(columns = renaming_dict, inplace=True)"
   ]
  },
  {
   "cell_type": "code",
   "execution_count": 195,
   "id": "756ad6b2-eb13-40b2-abf5-d19fed909611",
   "metadata": {
    "tags": []
   },
   "outputs": [
    {
     "data": {
      "text/plain": [
       "Index(['id', 'name', 'longname', 'photo_url', 'player_profile_web',\n",
       "       'nationality', 'age', 'overall_rating', 'potential_rating', 'club',\n",
       "       'positions', 'weight_kg', 'preferred_foot', 'best_overall_rating',\n",
       "       'best_position', 'joined', 'loan_date_end', 'value_million_euros',\n",
       "       'annual_wage_million_euros', 'release_clause_million_euros',\n",
       "       'attacking', 'crossing', 'finishing', 'heading_accuracy',\n",
       "       'short_passing', 'volleys', 'skill', 'dribbling', 'curve',\n",
       "       'fk_accuracy', 'long_passing', 'ball_control', 'movement',\n",
       "       'acceleration', 'sprint_speed', 'agility', 'reactions', 'balance',\n",
       "       'power', 'shot_power', 'jumping', 'stamina', 'strength', 'long_shots',\n",
       "       'mentality', 'aggression', 'interceptions', 'positioning', 'vision',\n",
       "       'penalties', 'composure', 'defending', 'marking', 'standing_tackle',\n",
       "       'sliding_tackle', 'goalkeeping', 'gk_diving', 'gk_handling',\n",
       "       'gk_kicking', 'gk_positioning', 'gk_reflexes', 'total_stats',\n",
       "       'base_stats', 'weaker_foot_ability', 'skill_moves_ability',\n",
       "       'attack_work_rate', 'defense_work_rate', 'injury_resistance',\n",
       "       'player_speed', 'shooting_ability', 'passing_ability',\n",
       "       'dribbling_ability', 'defensive_ability', 'player_strength',\n",
       "       'profile_web_visits', 'height_m', 'height_feet', 'on_loan_from',\n",
       "       'contract_started', 'contract_ends', 'has_contract'],\n",
       "      dtype='object')"
      ]
     },
     "execution_count": 195,
     "metadata": {},
     "output_type": "execute_result"
    }
   ],
   "source": [
    "df.columns"
   ]
  },
  {
   "cell_type": "markdown",
   "id": "f9efcba6-8fbc-4514-ba1d-667874491523",
   "metadata": {},
   "source": [
    "# TODO (after renaming of columns the variable description dataset should be updated)"
   ]
  },
  {
   "cell_type": "markdown",
   "id": "6a2f5016-05b4-476c-8f5f-6f71647fe468",
   "metadata": {},
   "source": [
    "## Final review of whole dataset"
   ]
  },
  {
   "cell_type": "code",
   "execution_count": 196,
   "id": "6334c256-e721-493b-9542-7a8e57021df9",
   "metadata": {
    "tags": []
   },
   "outputs": [
    {
     "data": {
      "text/html": [
       "<div>\n",
       "<style scoped>\n",
       "    .dataframe tbody tr th:only-of-type {\n",
       "        vertical-align: middle;\n",
       "    }\n",
       "\n",
       "    .dataframe tbody tr th {\n",
       "        vertical-align: top;\n",
       "    }\n",
       "\n",
       "    .dataframe thead th {\n",
       "        text-align: right;\n",
       "    }\n",
       "</style>\n",
       "<table border=\"1\" class=\"dataframe\">\n",
       "  <thead>\n",
       "    <tr style=\"text-align: right;\">\n",
       "      <th></th>\n",
       "      <th>12880</th>\n",
       "      <th>5425</th>\n",
       "      <th>391</th>\n",
       "      <th>18086</th>\n",
       "      <th>11240</th>\n",
       "    </tr>\n",
       "  </thead>\n",
       "  <tbody>\n",
       "    <tr>\n",
       "      <th>id</th>\n",
       "      <td>210898</td>\n",
       "      <td>232452</td>\n",
       "      <td>232656</td>\n",
       "      <td>236337</td>\n",
       "      <td>248702</td>\n",
       "    </tr>\n",
       "    <tr>\n",
       "      <th>name</th>\n",
       "      <td>A. Al Fahad</td>\n",
       "      <td>K. Hachisuka</td>\n",
       "      <td>T. Hernández</td>\n",
       "      <td>J. Turner</td>\n",
       "      <td>J. Castro</td>\n",
       "    </tr>\n",
       "    <tr>\n",
       "      <th>longname</th>\n",
       "      <td>Abdullah Al Fahad</td>\n",
       "      <td>Koji Hachisuka</td>\n",
       "      <td>Theo Hernández</td>\n",
       "      <td>Jake Turner</td>\n",
       "      <td>Juan Castro</td>\n",
       "    </tr>\n",
       "    <tr>\n",
       "      <th>photo_url</th>\n",
       "      <td>https://cdn.sofifa.com/players/210/898/21_60.png</td>\n",
       "      <td>https://cdn.sofifa.com/players/232/452/21_60.png</td>\n",
       "      <td>https://cdn.sofifa.com/players/232/656/21_60.png</td>\n",
       "      <td>https://cdn.sofifa.com/players/236/337/21_60.png</td>\n",
       "      <td>https://cdn.sofifa.com/players/248/702/21_60.png</td>\n",
       "    </tr>\n",
       "    <tr>\n",
       "      <th>player_profile_web</th>\n",
       "      <td>http://sofifa.com/player/210898/abdullah-al-fa...</td>\n",
       "      <td>http://sofifa.com/player/232452/koji-hachisuka...</td>\n",
       "      <td>http://sofifa.com/player/232656/theo-hernandez...</td>\n",
       "      <td>http://sofifa.com/player/236337/jake-turner/21...</td>\n",
       "      <td>http://sofifa.com/player/248702/juan-castro/21...</td>\n",
       "    </tr>\n",
       "    <tr>\n",
       "      <th>nationality</th>\n",
       "      <td>Saudi Arabia</td>\n",
       "      <td>Japan</td>\n",
       "      <td>France</td>\n",
       "      <td>England</td>\n",
       "      <td>Mexico</td>\n",
       "    </tr>\n",
       "    <tr>\n",
       "      <th>age</th>\n",
       "      <td>26</td>\n",
       "      <td>29</td>\n",
       "      <td>22</td>\n",
       "      <td>21</td>\n",
       "      <td>28</td>\n",
       "    </tr>\n",
       "    <tr>\n",
       "      <th>overall_rating</th>\n",
       "      <td>63</td>\n",
       "      <td>69</td>\n",
       "      <td>80</td>\n",
       "      <td>54</td>\n",
       "      <td>64</td>\n",
       "    </tr>\n",
       "    <tr>\n",
       "      <th>potential_rating</th>\n",
       "      <td>66</td>\n",
       "      <td>69</td>\n",
       "      <td>85</td>\n",
       "      <td>68</td>\n",
       "      <td>64</td>\n",
       "    </tr>\n",
       "    <tr>\n",
       "      <th>club</th>\n",
       "      <td>Al Raed</td>\n",
       "      <td>Vegalta Sendai</td>\n",
       "      <td>Milan</td>\n",
       "      <td>Morecambe</td>\n",
       "      <td>Atlético de San Luis</td>\n",
       "    </tr>\n",
       "    <tr>\n",
       "      <th>positions</th>\n",
       "      <td>[CB, RB]</td>\n",
       "      <td>[RB, RM, LB]</td>\n",
       "      <td>[LB]</td>\n",
       "      <td>[GK]</td>\n",
       "      <td>[LM, CAM]</td>\n",
       "    </tr>\n",
       "    <tr>\n",
       "      <th>weight_kg</th>\n",
       "      <td>73.0</td>\n",
       "      <td>76.0</td>\n",
       "      <td>82.0</td>\n",
       "      <td>82.0</td>\n",
       "      <td>69.0</td>\n",
       "    </tr>\n",
       "    <tr>\n",
       "      <th>preferred_foot</th>\n",
       "      <td>Right</td>\n",
       "      <td>Right</td>\n",
       "      <td>Left</td>\n",
       "      <td>Right</td>\n",
       "      <td>Right</td>\n",
       "    </tr>\n",
       "    <tr>\n",
       "      <th>best_overall_rating</th>\n",
       "      <td>65</td>\n",
       "      <td>69</td>\n",
       "      <td>80</td>\n",
       "      <td>54</td>\n",
       "      <td>64</td>\n",
       "    </tr>\n",
       "    <tr>\n",
       "      <th>best_position</th>\n",
       "      <td>CB</td>\n",
       "      <td>RB</td>\n",
       "      <td>LB</td>\n",
       "      <td>GK</td>\n",
       "      <td>LM</td>\n",
       "    </tr>\n",
       "    <tr>\n",
       "      <th>joined</th>\n",
       "      <td>2018-06-09 00:00:00</td>\n",
       "      <td>2013-01-01 00:00:00</td>\n",
       "      <td>2019-07-05 00:00:00</td>\n",
       "      <td>2019-07-29 00:00:00</td>\n",
       "      <td>2017-06-01 00:00:00</td>\n",
       "    </tr>\n",
       "    <tr>\n",
       "      <th>loan_date_end</th>\n",
       "      <td>NaT</td>\n",
       "      <td>NaT</td>\n",
       "      <td>NaT</td>\n",
       "      <td>2021-06-30 00:00:00</td>\n",
       "      <td>NaT</td>\n",
       "    </tr>\n",
       "    <tr>\n",
       "      <th>value_million_euros</th>\n",
       "      <td>0.55</td>\n",
       "      <td>1.2</td>\n",
       "      <td>30.0</td>\n",
       "      <td>0.23</td>\n",
       "      <td>0.6</td>\n",
       "    </tr>\n",
       "    <tr>\n",
       "      <th>annual_wage_million_euros</th>\n",
       "      <td>0.208</td>\n",
       "      <td>0.156</td>\n",
       "      <td>1.924</td>\n",
       "      <td>0.156</td>\n",
       "      <td>0.208</td>\n",
       "    </tr>\n",
       "    <tr>\n",
       "      <th>release_clause_million_euros</th>\n",
       "      <td>0.69</td>\n",
       "      <td>1.1</td>\n",
       "      <td>31.1</td>\n",
       "      <td>4.244997</td>\n",
       "      <td>0.765</td>\n",
       "    </tr>\n",
       "    <tr>\n",
       "      <th>attacking</th>\n",
       "      <td>248</td>\n",
       "      <td>272</td>\n",
       "      <td>361</td>\n",
       "      <td>60</td>\n",
       "      <td>257</td>\n",
       "    </tr>\n",
       "    <tr>\n",
       "      <th>crossing</th>\n",
       "      <td>38</td>\n",
       "      <td>69</td>\n",
       "      <td>80</td>\n",
       "      <td>13</td>\n",
       "      <td>62</td>\n",
       "    </tr>\n",
       "    <tr>\n",
       "      <th>finishing</th>\n",
       "      <td>54</td>\n",
       "      <td>46</td>\n",
       "      <td>65</td>\n",
       "      <td>5</td>\n",
       "      <td>45</td>\n",
       "    </tr>\n",
       "    <tr>\n",
       "      <th>heading_accuracy</th>\n",
       "      <td>63</td>\n",
       "      <td>66</td>\n",
       "      <td>72</td>\n",
       "      <td>13</td>\n",
       "      <td>52</td>\n",
       "    </tr>\n",
       "    <tr>\n",
       "      <th>short_passing</th>\n",
       "      <td>57</td>\n",
       "      <td>62</td>\n",
       "      <td>78</td>\n",
       "      <td>24</td>\n",
       "      <td>64</td>\n",
       "    </tr>\n",
       "    <tr>\n",
       "      <th>volleys</th>\n",
       "      <td>36</td>\n",
       "      <td>29</td>\n",
       "      <td>66</td>\n",
       "      <td>5</td>\n",
       "      <td>34</td>\n",
       "    </tr>\n",
       "    <tr>\n",
       "      <th>skill</th>\n",
       "      <td>222</td>\n",
       "      <td>260</td>\n",
       "      <td>342</td>\n",
       "      <td>77</td>\n",
       "      <td>268</td>\n",
       "    </tr>\n",
       "    <tr>\n",
       "      <th>dribbling</th>\n",
       "      <td>43</td>\n",
       "      <td>61</td>\n",
       "      <td>79</td>\n",
       "      <td>7</td>\n",
       "      <td>62</td>\n",
       "    </tr>\n",
       "    <tr>\n",
       "      <th>curve</th>\n",
       "      <td>41</td>\n",
       "      <td>36</td>\n",
       "      <td>63</td>\n",
       "      <td>12</td>\n",
       "      <td>41</td>\n",
       "    </tr>\n",
       "    <tr>\n",
       "      <th>fk_accuracy</th>\n",
       "      <td>33</td>\n",
       "      <td>36</td>\n",
       "      <td>64</td>\n",
       "      <td>14</td>\n",
       "      <td>36</td>\n",
       "    </tr>\n",
       "    <tr>\n",
       "      <th>long_passing</th>\n",
       "      <td>58</td>\n",
       "      <td>64</td>\n",
       "      <td>60</td>\n",
       "      <td>25</td>\n",
       "      <td>65</td>\n",
       "    </tr>\n",
       "    <tr>\n",
       "      <th>ball_control</th>\n",
       "      <td>47</td>\n",
       "      <td>63</td>\n",
       "      <td>76</td>\n",
       "      <td>19</td>\n",
       "      <td>64</td>\n",
       "    </tr>\n",
       "    <tr>\n",
       "      <th>movement</th>\n",
       "      <td>331</td>\n",
       "      <td>328</td>\n",
       "      <td>395</td>\n",
       "      <td>153</td>\n",
       "      <td>369</td>\n",
       "    </tr>\n",
       "    <tr>\n",
       "      <th>acceleration</th>\n",
       "      <td>65</td>\n",
       "      <td>66</td>\n",
       "      <td>90</td>\n",
       "      <td>18</td>\n",
       "      <td>74</td>\n",
       "    </tr>\n",
       "    <tr>\n",
       "      <th>sprint_speed</th>\n",
       "      <td>69</td>\n",
       "      <td>74</td>\n",
       "      <td>93</td>\n",
       "      <td>29</td>\n",
       "      <td>76</td>\n",
       "    </tr>\n",
       "    <tr>\n",
       "      <th>agility</th>\n",
       "      <td>72</td>\n",
       "      <td>61</td>\n",
       "      <td>75</td>\n",
       "      <td>22</td>\n",
       "      <td>73</td>\n",
       "    </tr>\n",
       "    <tr>\n",
       "      <th>reactions</th>\n",
       "      <td>61</td>\n",
       "      <td>65</td>\n",
       "      <td>76</td>\n",
       "      <td>36</td>\n",
       "      <td>58</td>\n",
       "    </tr>\n",
       "    <tr>\n",
       "      <th>balance</th>\n",
       "      <td>64</td>\n",
       "      <td>62</td>\n",
       "      <td>61</td>\n",
       "      <td>48</td>\n",
       "      <td>88</td>\n",
       "    </tr>\n",
       "    <tr>\n",
       "      <th>power</th>\n",
       "      <td>343</td>\n",
       "      <td>304</td>\n",
       "      <td>363</td>\n",
       "      <td>183</td>\n",
       "      <td>260</td>\n",
       "    </tr>\n",
       "    <tr>\n",
       "      <th>shot_power</th>\n",
       "      <td>53</td>\n",
       "      <td>39</td>\n",
       "      <td>75</td>\n",
       "      <td>39</td>\n",
       "      <td>57</td>\n",
       "    </tr>\n",
       "    <tr>\n",
       "      <th>jumping</th>\n",
       "      <td>82</td>\n",
       "      <td>75</td>\n",
       "      <td>61</td>\n",
       "      <td>60</td>\n",
       "      <td>59</td>\n",
       "    </tr>\n",
       "    <tr>\n",
       "      <th>stamina</th>\n",
       "      <td>76</td>\n",
       "      <td>79</td>\n",
       "      <td>80</td>\n",
       "      <td>27</td>\n",
       "      <td>65</td>\n",
       "    </tr>\n",
       "    <tr>\n",
       "      <th>strength</th>\n",
       "      <td>80</td>\n",
       "      <td>75</td>\n",
       "      <td>78</td>\n",
       "      <td>49</td>\n",
       "      <td>44</td>\n",
       "    </tr>\n",
       "    <tr>\n",
       "      <th>long_shots</th>\n",
       "      <td>52</td>\n",
       "      <td>36</td>\n",
       "      <td>69</td>\n",
       "      <td>8</td>\n",
       "      <td>35</td>\n",
       "    </tr>\n",
       "    <tr>\n",
       "      <th>mentality</th>\n",
       "      <td>259</td>\n",
       "      <td>297</td>\n",
       "      <td>331</td>\n",
       "      <td>82</td>\n",
       "      <td>291</td>\n",
       "    </tr>\n",
       "    <tr>\n",
       "      <th>aggression</th>\n",
       "      <td>58</td>\n",
       "      <td>64</td>\n",
       "      <td>75</td>\n",
       "      <td>21</td>\n",
       "      <td>60</td>\n",
       "    </tr>\n",
       "    <tr>\n",
       "      <th>interceptions</th>\n",
       "      <td>64</td>\n",
       "      <td>68</td>\n",
       "      <td>69</td>\n",
       "      <td>11</td>\n",
       "      <td>62</td>\n",
       "    </tr>\n",
       "    <tr>\n",
       "      <th>positioning</th>\n",
       "      <td>39</td>\n",
       "      <td>60</td>\n",
       "      <td>76</td>\n",
       "      <td>4</td>\n",
       "      <td>64</td>\n",
       "    </tr>\n",
       "    <tr>\n",
       "      <th>vision</th>\n",
       "      <td>43</td>\n",
       "      <td>68</td>\n",
       "      <td>70</td>\n",
       "      <td>32</td>\n",
       "      <td>60</td>\n",
       "    </tr>\n",
       "    <tr>\n",
       "      <th>penalties</th>\n",
       "      <td>55</td>\n",
       "      <td>37</td>\n",
       "      <td>41</td>\n",
       "      <td>14</td>\n",
       "      <td>45</td>\n",
       "    </tr>\n",
       "    <tr>\n",
       "      <th>composure</th>\n",
       "      <td>45</td>\n",
       "      <td>57</td>\n",
       "      <td>77</td>\n",
       "      <td>23</td>\n",
       "      <td>57</td>\n",
       "    </tr>\n",
       "    <tr>\n",
       "      <th>defending</th>\n",
       "      <td>180</td>\n",
       "      <td>196</td>\n",
       "      <td>229</td>\n",
       "      <td>33</td>\n",
       "      <td>188</td>\n",
       "    </tr>\n",
       "    <tr>\n",
       "      <th>marking</th>\n",
       "      <td>59</td>\n",
       "      <td>66</td>\n",
       "      <td>72</td>\n",
       "      <td>9</td>\n",
       "      <td>62</td>\n",
       "    </tr>\n",
       "    <tr>\n",
       "      <th>standing_tackle</th>\n",
       "      <td>63</td>\n",
       "      <td>66</td>\n",
       "      <td>78</td>\n",
       "      <td>11</td>\n",
       "      <td>64</td>\n",
       "    </tr>\n",
       "    <tr>\n",
       "      <th>sliding_tackle</th>\n",
       "      <td>58</td>\n",
       "      <td>64</td>\n",
       "      <td>79</td>\n",
       "      <td>13</td>\n",
       "      <td>62</td>\n",
       "    </tr>\n",
       "    <tr>\n",
       "      <th>goalkeeping</th>\n",
       "      <td>51</td>\n",
       "      <td>51</td>\n",
       "      <td>43</td>\n",
       "      <td>275</td>\n",
       "      <td>46</td>\n",
       "    </tr>\n",
       "    <tr>\n",
       "      <th>gk_diving</th>\n",
       "      <td>6</td>\n",
       "      <td>8</td>\n",
       "      <td>12</td>\n",
       "      <td>56</td>\n",
       "      <td>14</td>\n",
       "    </tr>\n",
       "    <tr>\n",
       "      <th>gk_handling</th>\n",
       "      <td>10</td>\n",
       "      <td>10</td>\n",
       "      <td>10</td>\n",
       "      <td>57</td>\n",
       "      <td>6</td>\n",
       "    </tr>\n",
       "    <tr>\n",
       "      <th>gk_kicking</th>\n",
       "      <td>11</td>\n",
       "      <td>7</td>\n",
       "      <td>7</td>\n",
       "      <td>52</td>\n",
       "      <td>5</td>\n",
       "    </tr>\n",
       "    <tr>\n",
       "      <th>gk_positioning</th>\n",
       "      <td>8</td>\n",
       "      <td>12</td>\n",
       "      <td>7</td>\n",
       "      <td>54</td>\n",
       "      <td>10</td>\n",
       "    </tr>\n",
       "    <tr>\n",
       "      <th>gk_reflexes</th>\n",
       "      <td>16</td>\n",
       "      <td>14</td>\n",
       "      <td>7</td>\n",
       "      <td>56</td>\n",
       "      <td>11</td>\n",
       "    </tr>\n",
       "    <tr>\n",
       "      <th>total_stats</th>\n",
       "      <td>1634</td>\n",
       "      <td>1708</td>\n",
       "      <td>2064</td>\n",
       "      <td>863</td>\n",
       "      <td>1679</td>\n",
       "    </tr>\n",
       "    <tr>\n",
       "      <th>base_stats</th>\n",
       "      <td>354</td>\n",
       "      <td>376</td>\n",
       "      <td>460</td>\n",
       "      <td>299</td>\n",
       "      <td>361</td>\n",
       "    </tr>\n",
       "    <tr>\n",
       "      <th>weaker_foot_ability</th>\n",
       "      <td>3</td>\n",
       "      <td>4</td>\n",
       "      <td>3</td>\n",
       "      <td>3</td>\n",
       "      <td>3</td>\n",
       "    </tr>\n",
       "    <tr>\n",
       "      <th>skill_moves_ability</th>\n",
       "      <td>2</td>\n",
       "      <td>2</td>\n",
       "      <td>3</td>\n",
       "      <td>1</td>\n",
       "      <td>2</td>\n",
       "    </tr>\n",
       "    <tr>\n",
       "      <th>attack_work_rate</th>\n",
       "      <td>Medium</td>\n",
       "      <td>Medium</td>\n",
       "      <td>High</td>\n",
       "      <td>Medium</td>\n",
       "      <td>High</td>\n",
       "    </tr>\n",
       "    <tr>\n",
       "      <th>defense_work_rate</th>\n",
       "      <td>High</td>\n",
       "      <td>Medium</td>\n",
       "      <td>Medium</td>\n",
       "      <td>Medium</td>\n",
       "      <td>High</td>\n",
       "    </tr>\n",
       "    <tr>\n",
       "      <th>injury_resistance</th>\n",
       "      <td>1</td>\n",
       "      <td>1</td>\n",
       "      <td>1</td>\n",
       "      <td>1</td>\n",
       "      <td>1</td>\n",
       "    </tr>\n",
       "    <tr>\n",
       "      <th>player_speed</th>\n",
       "      <td>67</td>\n",
       "      <td>70</td>\n",
       "      <td>92</td>\n",
       "      <td>56</td>\n",
       "      <td>75</td>\n",
       "    </tr>\n",
       "    <tr>\n",
       "      <th>shooting_ability</th>\n",
       "      <td>52</td>\n",
       "      <td>42</td>\n",
       "      <td>67</td>\n",
       "      <td>57</td>\n",
       "      <td>46</td>\n",
       "    </tr>\n",
       "    <tr>\n",
       "      <th>passing_ability</th>\n",
       "      <td>49</td>\n",
       "      <td>62</td>\n",
       "      <td>73</td>\n",
       "      <td>52</td>\n",
       "      <td>60</td>\n",
       "    </tr>\n",
       "    <tr>\n",
       "      <th>dribbling_ability</th>\n",
       "      <td>49</td>\n",
       "      <td>62</td>\n",
       "      <td>77</td>\n",
       "      <td>56</td>\n",
       "      <td>65</td>\n",
       "    </tr>\n",
       "    <tr>\n",
       "      <th>defensive_ability</th>\n",
       "      <td>62</td>\n",
       "      <td>66</td>\n",
       "      <td>74</td>\n",
       "      <td>24</td>\n",
       "      <td>62</td>\n",
       "    </tr>\n",
       "    <tr>\n",
       "      <th>player_strength</th>\n",
       "      <td>75</td>\n",
       "      <td>74</td>\n",
       "      <td>77</td>\n",
       "      <td>54</td>\n",
       "      <td>53</td>\n",
       "    </tr>\n",
       "    <tr>\n",
       "      <th>profile_web_visits</th>\n",
       "      <td>1.0</td>\n",
       "      <td>1.0</td>\n",
       "      <td>480.0</td>\n",
       "      <td>NaN</td>\n",
       "      <td>6.0</td>\n",
       "    </tr>\n",
       "    <tr>\n",
       "      <th>height_m</th>\n",
       "      <td>1.76</td>\n",
       "      <td>1.8</td>\n",
       "      <td>1.84</td>\n",
       "      <td>1.94</td>\n",
       "      <td>1.65</td>\n",
       "    </tr>\n",
       "    <tr>\n",
       "      <th>height_feet</th>\n",
       "      <td>5.774278</td>\n",
       "      <td>5.905512</td>\n",
       "      <td>6.036745</td>\n",
       "      <td>6.364829</td>\n",
       "      <td>5.413386</td>\n",
       "    </tr>\n",
       "    <tr>\n",
       "      <th>on_loan_from</th>\n",
       "      <td>NaT</td>\n",
       "      <td>NaT</td>\n",
       "      <td>NaT</td>\n",
       "      <td>2021-06-30 00:00:00</td>\n",
       "      <td>NaT</td>\n",
       "    </tr>\n",
       "    <tr>\n",
       "      <th>contract_started</th>\n",
       "      <td>2018-01-01 00:00:00</td>\n",
       "      <td>2013-01-01 00:00:00</td>\n",
       "      <td>2019-01-01 00:00:00</td>\n",
       "      <td>NaT</td>\n",
       "      <td>2017-01-01 00:00:00</td>\n",
       "    </tr>\n",
       "    <tr>\n",
       "      <th>contract_ends</th>\n",
       "      <td>2021-01-01 00:00:00</td>\n",
       "      <td>2021-01-01 00:00:00</td>\n",
       "      <td>2024-01-01 00:00:00</td>\n",
       "      <td>NaT</td>\n",
       "      <td>2021-01-01 00:00:00</td>\n",
       "    </tr>\n",
       "    <tr>\n",
       "      <th>has_contract</th>\n",
       "      <td>True</td>\n",
       "      <td>True</td>\n",
       "      <td>True</td>\n",
       "      <td>True</td>\n",
       "      <td>True</td>\n",
       "    </tr>\n",
       "  </tbody>\n",
       "</table>\n",
       "</div>"
      ],
      "text/plain": [
       "                                                                          12880  \\\n",
       "id                                                                       210898   \n",
       "name                                                                A. Al Fahad   \n",
       "longname                                                      Abdullah Al Fahad   \n",
       "photo_url                      https://cdn.sofifa.com/players/210/898/21_60.png   \n",
       "player_profile_web            http://sofifa.com/player/210898/abdullah-al-fa...   \n",
       "nationality                                                        Saudi Arabia   \n",
       "age                                                                          26   \n",
       "overall_rating                                                               63   \n",
       "potential_rating                                                             66   \n",
       "club                                                                    Al Raed   \n",
       "positions                                                              [CB, RB]   \n",
       "weight_kg                                                                  73.0   \n",
       "preferred_foot                                                            Right   \n",
       "best_overall_rating                                                          65   \n",
       "best_position                                                                CB   \n",
       "joined                                                      2018-06-09 00:00:00   \n",
       "loan_date_end                                                               NaT   \n",
       "value_million_euros                                                        0.55   \n",
       "annual_wage_million_euros                                                 0.208   \n",
       "release_clause_million_euros                                               0.69   \n",
       "attacking                                                                   248   \n",
       "crossing                                                                     38   \n",
       "finishing                                                                    54   \n",
       "heading_accuracy                                                             63   \n",
       "short_passing                                                                57   \n",
       "volleys                                                                      36   \n",
       "skill                                                                       222   \n",
       "dribbling                                                                    43   \n",
       "curve                                                                        41   \n",
       "fk_accuracy                                                                  33   \n",
       "long_passing                                                                 58   \n",
       "ball_control                                                                 47   \n",
       "movement                                                                    331   \n",
       "acceleration                                                                 65   \n",
       "sprint_speed                                                                 69   \n",
       "agility                                                                      72   \n",
       "reactions                                                                    61   \n",
       "balance                                                                      64   \n",
       "power                                                                       343   \n",
       "shot_power                                                                   53   \n",
       "jumping                                                                      82   \n",
       "stamina                                                                      76   \n",
       "strength                                                                     80   \n",
       "long_shots                                                                   52   \n",
       "mentality                                                                   259   \n",
       "aggression                                                                   58   \n",
       "interceptions                                                                64   \n",
       "positioning                                                                  39   \n",
       "vision                                                                       43   \n",
       "penalties                                                                    55   \n",
       "composure                                                                    45   \n",
       "defending                                                                   180   \n",
       "marking                                                                      59   \n",
       "standing_tackle                                                              63   \n",
       "sliding_tackle                                                               58   \n",
       "goalkeeping                                                                  51   \n",
       "gk_diving                                                                     6   \n",
       "gk_handling                                                                  10   \n",
       "gk_kicking                                                                   11   \n",
       "gk_positioning                                                                8   \n",
       "gk_reflexes                                                                  16   \n",
       "total_stats                                                                1634   \n",
       "base_stats                                                                  354   \n",
       "weaker_foot_ability                                                           3   \n",
       "skill_moves_ability                                                           2   \n",
       "attack_work_rate                                                         Medium   \n",
       "defense_work_rate                                                          High   \n",
       "injury_resistance                                                             1   \n",
       "player_speed                                                                 67   \n",
       "shooting_ability                                                             52   \n",
       "passing_ability                                                              49   \n",
       "dribbling_ability                                                            49   \n",
       "defensive_ability                                                            62   \n",
       "player_strength                                                              75   \n",
       "profile_web_visits                                                          1.0   \n",
       "height_m                                                                   1.76   \n",
       "height_feet                                                            5.774278   \n",
       "on_loan_from                                                                NaT   \n",
       "contract_started                                            2018-01-01 00:00:00   \n",
       "contract_ends                                               2021-01-01 00:00:00   \n",
       "has_contract                                                               True   \n",
       "\n",
       "                                                                          5425   \\\n",
       "id                                                                       232452   \n",
       "name                                                               K. Hachisuka   \n",
       "longname                                                         Koji Hachisuka   \n",
       "photo_url                      https://cdn.sofifa.com/players/232/452/21_60.png   \n",
       "player_profile_web            http://sofifa.com/player/232452/koji-hachisuka...   \n",
       "nationality                                                               Japan   \n",
       "age                                                                          29   \n",
       "overall_rating                                                               69   \n",
       "potential_rating                                                             69   \n",
       "club                                                             Vegalta Sendai   \n",
       "positions                                                          [RB, RM, LB]   \n",
       "weight_kg                                                                  76.0   \n",
       "preferred_foot                                                            Right   \n",
       "best_overall_rating                                                          69   \n",
       "best_position                                                                RB   \n",
       "joined                                                      2013-01-01 00:00:00   \n",
       "loan_date_end                                                               NaT   \n",
       "value_million_euros                                                         1.2   \n",
       "annual_wage_million_euros                                                 0.156   \n",
       "release_clause_million_euros                                                1.1   \n",
       "attacking                                                                   272   \n",
       "crossing                                                                     69   \n",
       "finishing                                                                    46   \n",
       "heading_accuracy                                                             66   \n",
       "short_passing                                                                62   \n",
       "volleys                                                                      29   \n",
       "skill                                                                       260   \n",
       "dribbling                                                                    61   \n",
       "curve                                                                        36   \n",
       "fk_accuracy                                                                  36   \n",
       "long_passing                                                                 64   \n",
       "ball_control                                                                 63   \n",
       "movement                                                                    328   \n",
       "acceleration                                                                 66   \n",
       "sprint_speed                                                                 74   \n",
       "agility                                                                      61   \n",
       "reactions                                                                    65   \n",
       "balance                                                                      62   \n",
       "power                                                                       304   \n",
       "shot_power                                                                   39   \n",
       "jumping                                                                      75   \n",
       "stamina                                                                      79   \n",
       "strength                                                                     75   \n",
       "long_shots                                                                   36   \n",
       "mentality                                                                   297   \n",
       "aggression                                                                   64   \n",
       "interceptions                                                                68   \n",
       "positioning                                                                  60   \n",
       "vision                                                                       68   \n",
       "penalties                                                                    37   \n",
       "composure                                                                    57   \n",
       "defending                                                                   196   \n",
       "marking                                                                      66   \n",
       "standing_tackle                                                              66   \n",
       "sliding_tackle                                                               64   \n",
       "goalkeeping                                                                  51   \n",
       "gk_diving                                                                     8   \n",
       "gk_handling                                                                  10   \n",
       "gk_kicking                                                                    7   \n",
       "gk_positioning                                                               12   \n",
       "gk_reflexes                                                                  14   \n",
       "total_stats                                                                1708   \n",
       "base_stats                                                                  376   \n",
       "weaker_foot_ability                                                           4   \n",
       "skill_moves_ability                                                           2   \n",
       "attack_work_rate                                                         Medium   \n",
       "defense_work_rate                                                        Medium   \n",
       "injury_resistance                                                             1   \n",
       "player_speed                                                                 70   \n",
       "shooting_ability                                                             42   \n",
       "passing_ability                                                              62   \n",
       "dribbling_ability                                                            62   \n",
       "defensive_ability                                                            66   \n",
       "player_strength                                                              74   \n",
       "profile_web_visits                                                          1.0   \n",
       "height_m                                                                    1.8   \n",
       "height_feet                                                            5.905512   \n",
       "on_loan_from                                                                NaT   \n",
       "contract_started                                            2013-01-01 00:00:00   \n",
       "contract_ends                                               2021-01-01 00:00:00   \n",
       "has_contract                                                               True   \n",
       "\n",
       "                                                                          391    \\\n",
       "id                                                                       232656   \n",
       "name                                                               T. Hernández   \n",
       "longname                                                         Theo Hernández   \n",
       "photo_url                      https://cdn.sofifa.com/players/232/656/21_60.png   \n",
       "player_profile_web            http://sofifa.com/player/232656/theo-hernandez...   \n",
       "nationality                                                              France   \n",
       "age                                                                          22   \n",
       "overall_rating                                                               80   \n",
       "potential_rating                                                             85   \n",
       "club                                                                      Milan   \n",
       "positions                                                                  [LB]   \n",
       "weight_kg                                                                  82.0   \n",
       "preferred_foot                                                             Left   \n",
       "best_overall_rating                                                          80   \n",
       "best_position                                                                LB   \n",
       "joined                                                      2019-07-05 00:00:00   \n",
       "loan_date_end                                                               NaT   \n",
       "value_million_euros                                                        30.0   \n",
       "annual_wage_million_euros                                                 1.924   \n",
       "release_clause_million_euros                                               31.1   \n",
       "attacking                                                                   361   \n",
       "crossing                                                                     80   \n",
       "finishing                                                                    65   \n",
       "heading_accuracy                                                             72   \n",
       "short_passing                                                                78   \n",
       "volleys                                                                      66   \n",
       "skill                                                                       342   \n",
       "dribbling                                                                    79   \n",
       "curve                                                                        63   \n",
       "fk_accuracy                                                                  64   \n",
       "long_passing                                                                 60   \n",
       "ball_control                                                                 76   \n",
       "movement                                                                    395   \n",
       "acceleration                                                                 90   \n",
       "sprint_speed                                                                 93   \n",
       "agility                                                                      75   \n",
       "reactions                                                                    76   \n",
       "balance                                                                      61   \n",
       "power                                                                       363   \n",
       "shot_power                                                                   75   \n",
       "jumping                                                                      61   \n",
       "stamina                                                                      80   \n",
       "strength                                                                     78   \n",
       "long_shots                                                                   69   \n",
       "mentality                                                                   331   \n",
       "aggression                                                                   75   \n",
       "interceptions                                                                69   \n",
       "positioning                                                                  76   \n",
       "vision                                                                       70   \n",
       "penalties                                                                    41   \n",
       "composure                                                                    77   \n",
       "defending                                                                   229   \n",
       "marking                                                                      72   \n",
       "standing_tackle                                                              78   \n",
       "sliding_tackle                                                               79   \n",
       "goalkeeping                                                                  43   \n",
       "gk_diving                                                                    12   \n",
       "gk_handling                                                                  10   \n",
       "gk_kicking                                                                    7   \n",
       "gk_positioning                                                                7   \n",
       "gk_reflexes                                                                   7   \n",
       "total_stats                                                                2064   \n",
       "base_stats                                                                  460   \n",
       "weaker_foot_ability                                                           3   \n",
       "skill_moves_ability                                                           3   \n",
       "attack_work_rate                                                           High   \n",
       "defense_work_rate                                                        Medium   \n",
       "injury_resistance                                                             1   \n",
       "player_speed                                                                 92   \n",
       "shooting_ability                                                             67   \n",
       "passing_ability                                                              73   \n",
       "dribbling_ability                                                            77   \n",
       "defensive_ability                                                            74   \n",
       "player_strength                                                              77   \n",
       "profile_web_visits                                                        480.0   \n",
       "height_m                                                                   1.84   \n",
       "height_feet                                                            6.036745   \n",
       "on_loan_from                                                                NaT   \n",
       "contract_started                                            2019-01-01 00:00:00   \n",
       "contract_ends                                               2024-01-01 00:00:00   \n",
       "has_contract                                                               True   \n",
       "\n",
       "                                                                          18086  \\\n",
       "id                                                                       236337   \n",
       "name                                                                  J. Turner   \n",
       "longname                                                            Jake Turner   \n",
       "photo_url                      https://cdn.sofifa.com/players/236/337/21_60.png   \n",
       "player_profile_web            http://sofifa.com/player/236337/jake-turner/21...   \n",
       "nationality                                                             England   \n",
       "age                                                                          21   \n",
       "overall_rating                                                               54   \n",
       "potential_rating                                                             68   \n",
       "club                                                                  Morecambe   \n",
       "positions                                                                  [GK]   \n",
       "weight_kg                                                                  82.0   \n",
       "preferred_foot                                                            Right   \n",
       "best_overall_rating                                                          54   \n",
       "best_position                                                                GK   \n",
       "joined                                                      2019-07-29 00:00:00   \n",
       "loan_date_end                                               2021-06-30 00:00:00   \n",
       "value_million_euros                                                        0.23   \n",
       "annual_wage_million_euros                                                 0.156   \n",
       "release_clause_million_euros                                           4.244997   \n",
       "attacking                                                                    60   \n",
       "crossing                                                                     13   \n",
       "finishing                                                                     5   \n",
       "heading_accuracy                                                             13   \n",
       "short_passing                                                                24   \n",
       "volleys                                                                       5   \n",
       "skill                                                                        77   \n",
       "dribbling                                                                     7   \n",
       "curve                                                                        12   \n",
       "fk_accuracy                                                                  14   \n",
       "long_passing                                                                 25   \n",
       "ball_control                                                                 19   \n",
       "movement                                                                    153   \n",
       "acceleration                                                                 18   \n",
       "sprint_speed                                                                 29   \n",
       "agility                                                                      22   \n",
       "reactions                                                                    36   \n",
       "balance                                                                      48   \n",
       "power                                                                       183   \n",
       "shot_power                                                                   39   \n",
       "jumping                                                                      60   \n",
       "stamina                                                                      27   \n",
       "strength                                                                     49   \n",
       "long_shots                                                                    8   \n",
       "mentality                                                                    82   \n",
       "aggression                                                                   21   \n",
       "interceptions                                                                11   \n",
       "positioning                                                                   4   \n",
       "vision                                                                       32   \n",
       "penalties                                                                    14   \n",
       "composure                                                                    23   \n",
       "defending                                                                    33   \n",
       "marking                                                                       9   \n",
       "standing_tackle                                                              11   \n",
       "sliding_tackle                                                               13   \n",
       "goalkeeping                                                                 275   \n",
       "gk_diving                                                                    56   \n",
       "gk_handling                                                                  57   \n",
       "gk_kicking                                                                   52   \n",
       "gk_positioning                                                               54   \n",
       "gk_reflexes                                                                  56   \n",
       "total_stats                                                                 863   \n",
       "base_stats                                                                  299   \n",
       "weaker_foot_ability                                                           3   \n",
       "skill_moves_ability                                                           1   \n",
       "attack_work_rate                                                         Medium   \n",
       "defense_work_rate                                                        Medium   \n",
       "injury_resistance                                                             1   \n",
       "player_speed                                                                 56   \n",
       "shooting_ability                                                             57   \n",
       "passing_ability                                                              52   \n",
       "dribbling_ability                                                            56   \n",
       "defensive_ability                                                            24   \n",
       "player_strength                                                              54   \n",
       "profile_web_visits                                                          NaN   \n",
       "height_m                                                                   1.94   \n",
       "height_feet                                                            6.364829   \n",
       "on_loan_from                                                2021-06-30 00:00:00   \n",
       "contract_started                                                            NaT   \n",
       "contract_ends                                                               NaT   \n",
       "has_contract                                                               True   \n",
       "\n",
       "                                                                          11240  \n",
       "id                                                                       248702  \n",
       "name                                                                  J. Castro  \n",
       "longname                                                            Juan Castro  \n",
       "photo_url                      https://cdn.sofifa.com/players/248/702/21_60.png  \n",
       "player_profile_web            http://sofifa.com/player/248702/juan-castro/21...  \n",
       "nationality                                                              Mexico  \n",
       "age                                                                          28  \n",
       "overall_rating                                                               64  \n",
       "potential_rating                                                             64  \n",
       "club                                                       Atlético de San Luis  \n",
       "positions                                                             [LM, CAM]  \n",
       "weight_kg                                                                  69.0  \n",
       "preferred_foot                                                            Right  \n",
       "best_overall_rating                                                          64  \n",
       "best_position                                                                LM  \n",
       "joined                                                      2017-06-01 00:00:00  \n",
       "loan_date_end                                                               NaT  \n",
       "value_million_euros                                                         0.6  \n",
       "annual_wage_million_euros                                                 0.208  \n",
       "release_clause_million_euros                                              0.765  \n",
       "attacking                                                                   257  \n",
       "crossing                                                                     62  \n",
       "finishing                                                                    45  \n",
       "heading_accuracy                                                             52  \n",
       "short_passing                                                                64  \n",
       "volleys                                                                      34  \n",
       "skill                                                                       268  \n",
       "dribbling                                                                    62  \n",
       "curve                                                                        41  \n",
       "fk_accuracy                                                                  36  \n",
       "long_passing                                                                 65  \n",
       "ball_control                                                                 64  \n",
       "movement                                                                    369  \n",
       "acceleration                                                                 74  \n",
       "sprint_speed                                                                 76  \n",
       "agility                                                                      73  \n",
       "reactions                                                                    58  \n",
       "balance                                                                      88  \n",
       "power                                                                       260  \n",
       "shot_power                                                                   57  \n",
       "jumping                                                                      59  \n",
       "stamina                                                                      65  \n",
       "strength                                                                     44  \n",
       "long_shots                                                                   35  \n",
       "mentality                                                                   291  \n",
       "aggression                                                                   60  \n",
       "interceptions                                                                62  \n",
       "positioning                                                                  64  \n",
       "vision                                                                       60  \n",
       "penalties                                                                    45  \n",
       "composure                                                                    57  \n",
       "defending                                                                   188  \n",
       "marking                                                                      62  \n",
       "standing_tackle                                                              64  \n",
       "sliding_tackle                                                               62  \n",
       "goalkeeping                                                                  46  \n",
       "gk_diving                                                                    14  \n",
       "gk_handling                                                                   6  \n",
       "gk_kicking                                                                    5  \n",
       "gk_positioning                                                               10  \n",
       "gk_reflexes                                                                  11  \n",
       "total_stats                                                                1679  \n",
       "base_stats                                                                  361  \n",
       "weaker_foot_ability                                                           3  \n",
       "skill_moves_ability                                                           2  \n",
       "attack_work_rate                                                           High  \n",
       "defense_work_rate                                                          High  \n",
       "injury_resistance                                                             1  \n",
       "player_speed                                                                 75  \n",
       "shooting_ability                                                             46  \n",
       "passing_ability                                                              60  \n",
       "dribbling_ability                                                            65  \n",
       "defensive_ability                                                            62  \n",
       "player_strength                                                              53  \n",
       "profile_web_visits                                                          6.0  \n",
       "height_m                                                                   1.65  \n",
       "height_feet                                                            5.413386  \n",
       "on_loan_from                                                                NaT  \n",
       "contract_started                                            2017-01-01 00:00:00  \n",
       "contract_ends                                               2021-01-01 00:00:00  \n",
       "has_contract                                                               True  "
      ]
     },
     "execution_count": 196,
     "metadata": {},
     "output_type": "execute_result"
    }
   ],
   "source": [
    "df.sample(5).T"
   ]
  },
  {
   "cell_type": "markdown",
   "id": "acdd559b-c644-4ce7-b0cb-8bd09348992c",
   "metadata": {},
   "source": [
    "Watching the results, most of the variable with more or less high percentages are due to the before mentioned reasons, so I won't take action regarding to outliers."
   ]
  },
  {
   "cell_type": "code",
   "execution_count": 197,
   "id": "8d2d76fc-08d2-423d-9999-6033d5d2dabf",
   "metadata": {
    "tags": []
   },
   "outputs": [],
   "source": [
    "df.to_csv('clean_fifa21_dataset.csv', index=False, na_rep='NULL')"
   ]
  },
  {
   "cell_type": "code",
   "execution_count": null,
   "id": "c00830c4-37b8-4bff-9eb9-d65ad35e79c4",
   "metadata": {},
   "outputs": [],
   "source": []
  }
 ],
 "metadata": {
  "kernelspec": {
   "display_name": "Python 3 (ipykernel)",
   "language": "python",
   "name": "python3"
  },
  "language_info": {
   "codemirror_mode": {
    "name": "ipython",
    "version": 3
   },
   "file_extension": ".py",
   "mimetype": "text/x-python",
   "name": "python",
   "nbconvert_exporter": "python",
   "pygments_lexer": "ipython3",
   "version": "3.10.9"
  }
 },
 "nbformat": 4,
 "nbformat_minor": 5
}
