{
 "cells": [
  {
   "cell_type": "code",
   "execution_count": 1,
   "id": "3ebd3f14-3942-41da-8718-1068d5006ee0",
   "metadata": {
    "tags": []
   },
   "outputs": [],
   "source": [
    "import pandas as pd\n",
    "import numpy as np\n",
    "import seaborn as sns\n",
    "import matplotlib.pyplot as plt\n",
    "pd.set_option('display.max_columns', 100)"
   ]
  },
  {
   "cell_type": "markdown",
   "id": "3bd39c0d-012b-4f69-971a-1d798cee2e59",
   "metadata": {},
   "source": [
    "## Extract information from columns descriptions using the text file `dataset dictionary.txt`"
   ]
  },
  {
   "cell_type": "code",
   "execution_count": 2,
   "id": "a78d5b07-261a-4bc4-a015-8f56f4c0c07c",
   "metadata": {
    "tags": []
   },
   "outputs": [],
   "source": [
    "content = []\n",
    "with open('dataset dictionary.txt', 'r') as f:\n",
    "    for line in f.readlines():\n",
    "        content.append(line)"
   ]
  },
  {
   "cell_type": "code",
   "execution_count": 3,
   "id": "a8ba30f3-1b93-4230-a900-6d1c52ad0fe4",
   "metadata": {
    "tags": []
   },
   "outputs": [],
   "source": [
    "content = [i.strip('\\n').split(': ') for i in content]"
   ]
  },
  {
   "cell_type": "code",
   "execution_count": 4,
   "id": "7bc2b235-1beb-4c42-854b-20d213eb9b9b",
   "metadata": {
    "tags": []
   },
   "outputs": [],
   "source": [
    "content = {i[0]: i[1] for i in content} "
   ]
  },
  {
   "cell_type": "code",
   "execution_count": 5,
   "id": "0dbd5a8b-5e15-4959-9290-8e2236cec011",
   "metadata": {
    "tags": []
   },
   "outputs": [],
   "source": [
    "var_description_df = pd.DataFrame({'variable': content.keys(), 'description': content.values()}, index = np.arange(len(content)))"
   ]
  },
  {
   "cell_type": "code",
   "execution_count": 6,
   "id": "18fb9f66-a076-42f1-af14-7f644a510a18",
   "metadata": {
    "tags": []
   },
   "outputs": [],
   "source": [
    "var_description_df.set_index('variable', inplace=True)"
   ]
  },
  {
   "cell_type": "code",
   "execution_count": 7,
   "id": "d1a49665-958a-4cee-938b-117b9245c92b",
   "metadata": {
    "tags": []
   },
   "outputs": [],
   "source": [
    "var_description_df.to_csv('variable_descriptions.csv', index=False)"
   ]
  },
  {
   "cell_type": "code",
   "execution_count": 8,
   "id": "f2ae7366-8a9b-47df-a458-aaade24f21a1",
   "metadata": {
    "tags": []
   },
   "outputs": [
    {
     "data": {
      "text/html": [
       "<div>\n",
       "<style scoped>\n",
       "    .dataframe tbody tr th:only-of-type {\n",
       "        vertical-align: middle;\n",
       "    }\n",
       "\n",
       "    .dataframe tbody tr th {\n",
       "        vertical-align: top;\n",
       "    }\n",
       "\n",
       "    .dataframe thead th {\n",
       "        text-align: right;\n",
       "    }\n",
       "</style>\n",
       "<table border=\"1\" class=\"dataframe\">\n",
       "  <thead>\n",
       "    <tr style=\"text-align: right;\">\n",
       "      <th></th>\n",
       "      <th>description</th>\n",
       "    </tr>\n",
       "    <tr>\n",
       "      <th>variable</th>\n",
       "      <th></th>\n",
       "    </tr>\n",
       "  </thead>\n",
       "  <tbody>\n",
       "    <tr>\n",
       "      <th>photoUrl</th>\n",
       "      <td>The URL of the player's photo.</td>\n",
       "    </tr>\n",
       "    <tr>\n",
       "      <th>LongName</th>\n",
       "      <td>The full name of the player.</td>\n",
       "    </tr>\n",
       "    <tr>\n",
       "      <th>playerUrl</th>\n",
       "      <td>The URL of the player's page on sofifa.com.</td>\n",
       "    </tr>\n",
       "    <tr>\n",
       "      <th>Nationality</th>\n",
       "      <td>The nationality of the player.</td>\n",
       "    </tr>\n",
       "    <tr>\n",
       "      <th>Positions</th>\n",
       "      <td>The positions the player can play.</td>\n",
       "    </tr>\n",
       "    <tr>\n",
       "      <th>...</th>\n",
       "      <td>...</td>\n",
       "    </tr>\n",
       "    <tr>\n",
       "      <th>PAS</th>\n",
       "      <td>This refers to the player's passing ability. I...</td>\n",
       "    </tr>\n",
       "    <tr>\n",
       "      <th>DRI</th>\n",
       "      <td>This refers to the player's dribbling ability....</td>\n",
       "    </tr>\n",
       "    <tr>\n",
       "      <th>DEF</th>\n",
       "      <td>This refers to the player's defensive ability....</td>\n",
       "    </tr>\n",
       "    <tr>\n",
       "      <th>PHY</th>\n",
       "      <td>This refers to the player's physicality or str...</td>\n",
       "    </tr>\n",
       "    <tr>\n",
       "      <th>Hits</th>\n",
       "      <td>This refers to the number of times the player'...</td>\n",
       "    </tr>\n",
       "  </tbody>\n",
       "</table>\n",
       "<p>77 rows × 1 columns</p>\n",
       "</div>"
      ],
      "text/plain": [
       "                                                   description\n",
       "variable                                                      \n",
       "photoUrl                        The URL of the player's photo.\n",
       "LongName                          The full name of the player.\n",
       "playerUrl          The URL of the player's page on sofifa.com.\n",
       "Nationality                     The nationality of the player.\n",
       "Positions                   The positions the player can play.\n",
       "...                                                        ...\n",
       "PAS          This refers to the player's passing ability. I...\n",
       "DRI          This refers to the player's dribbling ability....\n",
       "DEF          This refers to the player's defensive ability....\n",
       "PHY          This refers to the player's physicality or str...\n",
       "Hits         This refers to the number of times the player'...\n",
       "\n",
       "[77 rows x 1 columns]"
      ]
     },
     "execution_count": 8,
     "metadata": {},
     "output_type": "execute_result"
    }
   ],
   "source": [
    "var_description_df"
   ]
  },
  {
   "cell_type": "markdown",
   "id": "864c51de-0904-4b67-8ce5-3dd3cff42f02",
   "metadata": {},
   "source": [
    "# Start of cleaning"
   ]
  },
  {
   "cell_type": "code",
   "execution_count": 9,
   "id": "8f315006-bbad-4618-839e-350a968f1732",
   "metadata": {
    "tags": []
   },
   "outputs": [],
   "source": [
    "df = pd.read_csv('fifa21 raw data v2.csv', low_memory=False)"
   ]
  },
  {
   "cell_type": "code",
   "execution_count": 10,
   "id": "dcecb9cd-7a47-4d6e-9cf0-be6a7404f7d7",
   "metadata": {
    "tags": []
   },
   "outputs": [
    {
     "data": {
      "text/html": [
       "<div>\n",
       "<style scoped>\n",
       "    .dataframe tbody tr th:only-of-type {\n",
       "        vertical-align: middle;\n",
       "    }\n",
       "\n",
       "    .dataframe tbody tr th {\n",
       "        vertical-align: top;\n",
       "    }\n",
       "\n",
       "    .dataframe thead th {\n",
       "        text-align: right;\n",
       "    }\n",
       "</style>\n",
       "<table border=\"1\" class=\"dataframe\">\n",
       "  <thead>\n",
       "    <tr style=\"text-align: right;\">\n",
       "      <th></th>\n",
       "      <th>ID</th>\n",
       "      <th>Name</th>\n",
       "      <th>LongName</th>\n",
       "      <th>photoUrl</th>\n",
       "      <th>playerUrl</th>\n",
       "      <th>Nationality</th>\n",
       "      <th>Age</th>\n",
       "      <th>↓OVA</th>\n",
       "      <th>POT</th>\n",
       "      <th>Club</th>\n",
       "      <th>Contract</th>\n",
       "      <th>Positions</th>\n",
       "      <th>Height</th>\n",
       "      <th>Weight</th>\n",
       "      <th>Preferred Foot</th>\n",
       "      <th>BOV</th>\n",
       "      <th>Best Position</th>\n",
       "      <th>Joined</th>\n",
       "      <th>Loan Date End</th>\n",
       "      <th>Value</th>\n",
       "      <th>Wage</th>\n",
       "      <th>Release Clause</th>\n",
       "      <th>Attacking</th>\n",
       "      <th>Crossing</th>\n",
       "      <th>Finishing</th>\n",
       "      <th>Heading Accuracy</th>\n",
       "      <th>Short Passing</th>\n",
       "      <th>Volleys</th>\n",
       "      <th>Skill</th>\n",
       "      <th>Dribbling</th>\n",
       "      <th>Curve</th>\n",
       "      <th>FK Accuracy</th>\n",
       "      <th>Long Passing</th>\n",
       "      <th>Ball Control</th>\n",
       "      <th>Movement</th>\n",
       "      <th>Acceleration</th>\n",
       "      <th>Sprint Speed</th>\n",
       "      <th>Agility</th>\n",
       "      <th>Reactions</th>\n",
       "      <th>Balance</th>\n",
       "      <th>Power</th>\n",
       "      <th>Shot Power</th>\n",
       "      <th>Jumping</th>\n",
       "      <th>Stamina</th>\n",
       "      <th>Strength</th>\n",
       "      <th>Long Shots</th>\n",
       "      <th>Mentality</th>\n",
       "      <th>Aggression</th>\n",
       "      <th>Interceptions</th>\n",
       "      <th>Positioning</th>\n",
       "      <th>Vision</th>\n",
       "      <th>Penalties</th>\n",
       "      <th>Composure</th>\n",
       "      <th>Defending</th>\n",
       "      <th>Marking</th>\n",
       "      <th>Standing Tackle</th>\n",
       "      <th>Sliding Tackle</th>\n",
       "      <th>Goalkeeping</th>\n",
       "      <th>GK Diving</th>\n",
       "      <th>GK Handling</th>\n",
       "      <th>GK Kicking</th>\n",
       "      <th>GK Positioning</th>\n",
       "      <th>GK Reflexes</th>\n",
       "      <th>Total Stats</th>\n",
       "      <th>Base Stats</th>\n",
       "      <th>W/F</th>\n",
       "      <th>SM</th>\n",
       "      <th>A/W</th>\n",
       "      <th>D/W</th>\n",
       "      <th>IR</th>\n",
       "      <th>PAC</th>\n",
       "      <th>SHO</th>\n",
       "      <th>PAS</th>\n",
       "      <th>DRI</th>\n",
       "      <th>DEF</th>\n",
       "      <th>PHY</th>\n",
       "      <th>Hits</th>\n",
       "    </tr>\n",
       "  </thead>\n",
       "  <tbody>\n",
       "    <tr>\n",
       "      <th>0</th>\n",
       "      <td>158023</td>\n",
       "      <td>L. Messi</td>\n",
       "      <td>Lionel Messi</td>\n",
       "      <td>https://cdn.sofifa.com/players/158/023/21_60.png</td>\n",
       "      <td>http://sofifa.com/player/158023/lionel-messi/2...</td>\n",
       "      <td>Argentina</td>\n",
       "      <td>33</td>\n",
       "      <td>93</td>\n",
       "      <td>93</td>\n",
       "      <td>\\n\\n\\n\\nFC Barcelona</td>\n",
       "      <td>2004 ~ 2021</td>\n",
       "      <td>RW, ST, CF</td>\n",
       "      <td>170cm</td>\n",
       "      <td>72kg</td>\n",
       "      <td>Left</td>\n",
       "      <td>93</td>\n",
       "      <td>RW</td>\n",
       "      <td>Jul 1, 2004</td>\n",
       "      <td>NaN</td>\n",
       "      <td>€103.5M</td>\n",
       "      <td>€560K</td>\n",
       "      <td>€138.4M</td>\n",
       "      <td>429</td>\n",
       "      <td>85</td>\n",
       "      <td>95</td>\n",
       "      <td>70</td>\n",
       "      <td>91</td>\n",
       "      <td>88</td>\n",
       "      <td>470</td>\n",
       "      <td>96</td>\n",
       "      <td>93</td>\n",
       "      <td>94</td>\n",
       "      <td>91</td>\n",
       "      <td>96</td>\n",
       "      <td>451</td>\n",
       "      <td>91</td>\n",
       "      <td>80</td>\n",
       "      <td>91</td>\n",
       "      <td>94</td>\n",
       "      <td>95</td>\n",
       "      <td>389</td>\n",
       "      <td>86</td>\n",
       "      <td>68</td>\n",
       "      <td>72</td>\n",
       "      <td>69</td>\n",
       "      <td>94</td>\n",
       "      <td>347</td>\n",
       "      <td>44</td>\n",
       "      <td>40</td>\n",
       "      <td>93</td>\n",
       "      <td>95</td>\n",
       "      <td>75</td>\n",
       "      <td>96</td>\n",
       "      <td>91</td>\n",
       "      <td>32</td>\n",
       "      <td>35</td>\n",
       "      <td>24</td>\n",
       "      <td>54</td>\n",
       "      <td>6</td>\n",
       "      <td>11</td>\n",
       "      <td>15</td>\n",
       "      <td>14</td>\n",
       "      <td>8</td>\n",
       "      <td>2231</td>\n",
       "      <td>466</td>\n",
       "      <td>4 ★</td>\n",
       "      <td>4★</td>\n",
       "      <td>Medium</td>\n",
       "      <td>Low</td>\n",
       "      <td>5 ★</td>\n",
       "      <td>85</td>\n",
       "      <td>92</td>\n",
       "      <td>91</td>\n",
       "      <td>95</td>\n",
       "      <td>38</td>\n",
       "      <td>65</td>\n",
       "      <td>771</td>\n",
       "    </tr>\n",
       "    <tr>\n",
       "      <th>1</th>\n",
       "      <td>20801</td>\n",
       "      <td>Cristiano Ronaldo</td>\n",
       "      <td>C. Ronaldo dos Santos Aveiro</td>\n",
       "      <td>https://cdn.sofifa.com/players/020/801/21_60.png</td>\n",
       "      <td>http://sofifa.com/player/20801/c-ronaldo-dos-s...</td>\n",
       "      <td>Portugal</td>\n",
       "      <td>35</td>\n",
       "      <td>92</td>\n",
       "      <td>92</td>\n",
       "      <td>\\n\\n\\n\\nJuventus</td>\n",
       "      <td>2018 ~ 2022</td>\n",
       "      <td>ST, LW</td>\n",
       "      <td>187cm</td>\n",
       "      <td>83kg</td>\n",
       "      <td>Right</td>\n",
       "      <td>92</td>\n",
       "      <td>ST</td>\n",
       "      <td>Jul 10, 2018</td>\n",
       "      <td>NaN</td>\n",
       "      <td>€63M</td>\n",
       "      <td>€220K</td>\n",
       "      <td>€75.9M</td>\n",
       "      <td>437</td>\n",
       "      <td>84</td>\n",
       "      <td>95</td>\n",
       "      <td>90</td>\n",
       "      <td>82</td>\n",
       "      <td>86</td>\n",
       "      <td>414</td>\n",
       "      <td>88</td>\n",
       "      <td>81</td>\n",
       "      <td>76</td>\n",
       "      <td>77</td>\n",
       "      <td>92</td>\n",
       "      <td>431</td>\n",
       "      <td>87</td>\n",
       "      <td>91</td>\n",
       "      <td>87</td>\n",
       "      <td>95</td>\n",
       "      <td>71</td>\n",
       "      <td>444</td>\n",
       "      <td>94</td>\n",
       "      <td>95</td>\n",
       "      <td>84</td>\n",
       "      <td>78</td>\n",
       "      <td>93</td>\n",
       "      <td>353</td>\n",
       "      <td>63</td>\n",
       "      <td>29</td>\n",
       "      <td>95</td>\n",
       "      <td>82</td>\n",
       "      <td>84</td>\n",
       "      <td>95</td>\n",
       "      <td>84</td>\n",
       "      <td>28</td>\n",
       "      <td>32</td>\n",
       "      <td>24</td>\n",
       "      <td>58</td>\n",
       "      <td>7</td>\n",
       "      <td>11</td>\n",
       "      <td>15</td>\n",
       "      <td>14</td>\n",
       "      <td>11</td>\n",
       "      <td>2221</td>\n",
       "      <td>464</td>\n",
       "      <td>4 ★</td>\n",
       "      <td>5★</td>\n",
       "      <td>High</td>\n",
       "      <td>Low</td>\n",
       "      <td>5 ★</td>\n",
       "      <td>89</td>\n",
       "      <td>93</td>\n",
       "      <td>81</td>\n",
       "      <td>89</td>\n",
       "      <td>35</td>\n",
       "      <td>77</td>\n",
       "      <td>562</td>\n",
       "    </tr>\n",
       "    <tr>\n",
       "      <th>2</th>\n",
       "      <td>200389</td>\n",
       "      <td>J. Oblak</td>\n",
       "      <td>Jan Oblak</td>\n",
       "      <td>https://cdn.sofifa.com/players/200/389/21_60.png</td>\n",
       "      <td>http://sofifa.com/player/200389/jan-oblak/210006/</td>\n",
       "      <td>Slovenia</td>\n",
       "      <td>27</td>\n",
       "      <td>91</td>\n",
       "      <td>93</td>\n",
       "      <td>\\n\\n\\n\\nAtlético Madrid</td>\n",
       "      <td>2014 ~ 2023</td>\n",
       "      <td>GK</td>\n",
       "      <td>188cm</td>\n",
       "      <td>87kg</td>\n",
       "      <td>Right</td>\n",
       "      <td>91</td>\n",
       "      <td>GK</td>\n",
       "      <td>Jul 16, 2014</td>\n",
       "      <td>NaN</td>\n",
       "      <td>€120M</td>\n",
       "      <td>€125K</td>\n",
       "      <td>€159.4M</td>\n",
       "      <td>95</td>\n",
       "      <td>13</td>\n",
       "      <td>11</td>\n",
       "      <td>15</td>\n",
       "      <td>43</td>\n",
       "      <td>13</td>\n",
       "      <td>109</td>\n",
       "      <td>12</td>\n",
       "      <td>13</td>\n",
       "      <td>14</td>\n",
       "      <td>40</td>\n",
       "      <td>30</td>\n",
       "      <td>307</td>\n",
       "      <td>43</td>\n",
       "      <td>60</td>\n",
       "      <td>67</td>\n",
       "      <td>88</td>\n",
       "      <td>49</td>\n",
       "      <td>268</td>\n",
       "      <td>59</td>\n",
       "      <td>78</td>\n",
       "      <td>41</td>\n",
       "      <td>78</td>\n",
       "      <td>12</td>\n",
       "      <td>140</td>\n",
       "      <td>34</td>\n",
       "      <td>19</td>\n",
       "      <td>11</td>\n",
       "      <td>65</td>\n",
       "      <td>11</td>\n",
       "      <td>68</td>\n",
       "      <td>57</td>\n",
       "      <td>27</td>\n",
       "      <td>12</td>\n",
       "      <td>18</td>\n",
       "      <td>437</td>\n",
       "      <td>87</td>\n",
       "      <td>92</td>\n",
       "      <td>78</td>\n",
       "      <td>90</td>\n",
       "      <td>90</td>\n",
       "      <td>1413</td>\n",
       "      <td>489</td>\n",
       "      <td>3 ★</td>\n",
       "      <td>1★</td>\n",
       "      <td>Medium</td>\n",
       "      <td>Medium</td>\n",
       "      <td>3 ★</td>\n",
       "      <td>87</td>\n",
       "      <td>92</td>\n",
       "      <td>78</td>\n",
       "      <td>90</td>\n",
       "      <td>52</td>\n",
       "      <td>90</td>\n",
       "      <td>150</td>\n",
       "    </tr>\n",
       "    <tr>\n",
       "      <th>3</th>\n",
       "      <td>192985</td>\n",
       "      <td>K. De Bruyne</td>\n",
       "      <td>Kevin De Bruyne</td>\n",
       "      <td>https://cdn.sofifa.com/players/192/985/21_60.png</td>\n",
       "      <td>http://sofifa.com/player/192985/kevin-de-bruyn...</td>\n",
       "      <td>Belgium</td>\n",
       "      <td>29</td>\n",
       "      <td>91</td>\n",
       "      <td>91</td>\n",
       "      <td>\\n\\n\\n\\nManchester City</td>\n",
       "      <td>2015 ~ 2023</td>\n",
       "      <td>CAM, CM</td>\n",
       "      <td>181cm</td>\n",
       "      <td>70kg</td>\n",
       "      <td>Right</td>\n",
       "      <td>91</td>\n",
       "      <td>CAM</td>\n",
       "      <td>Aug 30, 2015</td>\n",
       "      <td>NaN</td>\n",
       "      <td>€129M</td>\n",
       "      <td>€370K</td>\n",
       "      <td>€161M</td>\n",
       "      <td>407</td>\n",
       "      <td>94</td>\n",
       "      <td>82</td>\n",
       "      <td>55</td>\n",
       "      <td>94</td>\n",
       "      <td>82</td>\n",
       "      <td>441</td>\n",
       "      <td>88</td>\n",
       "      <td>85</td>\n",
       "      <td>83</td>\n",
       "      <td>93</td>\n",
       "      <td>92</td>\n",
       "      <td>398</td>\n",
       "      <td>77</td>\n",
       "      <td>76</td>\n",
       "      <td>78</td>\n",
       "      <td>91</td>\n",
       "      <td>76</td>\n",
       "      <td>408</td>\n",
       "      <td>91</td>\n",
       "      <td>63</td>\n",
       "      <td>89</td>\n",
       "      <td>74</td>\n",
       "      <td>91</td>\n",
       "      <td>408</td>\n",
       "      <td>76</td>\n",
       "      <td>66</td>\n",
       "      <td>88</td>\n",
       "      <td>94</td>\n",
       "      <td>84</td>\n",
       "      <td>91</td>\n",
       "      <td>186</td>\n",
       "      <td>68</td>\n",
       "      <td>65</td>\n",
       "      <td>53</td>\n",
       "      <td>56</td>\n",
       "      <td>15</td>\n",
       "      <td>13</td>\n",
       "      <td>5</td>\n",
       "      <td>10</td>\n",
       "      <td>13</td>\n",
       "      <td>2304</td>\n",
       "      <td>485</td>\n",
       "      <td>5 ★</td>\n",
       "      <td>4★</td>\n",
       "      <td>High</td>\n",
       "      <td>High</td>\n",
       "      <td>4 ★</td>\n",
       "      <td>76</td>\n",
       "      <td>86</td>\n",
       "      <td>93</td>\n",
       "      <td>88</td>\n",
       "      <td>64</td>\n",
       "      <td>78</td>\n",
       "      <td>207</td>\n",
       "    </tr>\n",
       "    <tr>\n",
       "      <th>4</th>\n",
       "      <td>190871</td>\n",
       "      <td>Neymar Jr</td>\n",
       "      <td>Neymar da Silva Santos Jr.</td>\n",
       "      <td>https://cdn.sofifa.com/players/190/871/21_60.png</td>\n",
       "      <td>http://sofifa.com/player/190871/neymar-da-silv...</td>\n",
       "      <td>Brazil</td>\n",
       "      <td>28</td>\n",
       "      <td>91</td>\n",
       "      <td>91</td>\n",
       "      <td>\\n\\n\\n\\nParis Saint-Germain</td>\n",
       "      <td>2017 ~ 2022</td>\n",
       "      <td>LW, CAM</td>\n",
       "      <td>175cm</td>\n",
       "      <td>68kg</td>\n",
       "      <td>Right</td>\n",
       "      <td>91</td>\n",
       "      <td>LW</td>\n",
       "      <td>Aug 3, 2017</td>\n",
       "      <td>NaN</td>\n",
       "      <td>€132M</td>\n",
       "      <td>€270K</td>\n",
       "      <td>€166.5M</td>\n",
       "      <td>408</td>\n",
       "      <td>85</td>\n",
       "      <td>87</td>\n",
       "      <td>62</td>\n",
       "      <td>87</td>\n",
       "      <td>87</td>\n",
       "      <td>448</td>\n",
       "      <td>95</td>\n",
       "      <td>88</td>\n",
       "      <td>89</td>\n",
       "      <td>81</td>\n",
       "      <td>95</td>\n",
       "      <td>453</td>\n",
       "      <td>94</td>\n",
       "      <td>89</td>\n",
       "      <td>96</td>\n",
       "      <td>91</td>\n",
       "      <td>83</td>\n",
       "      <td>357</td>\n",
       "      <td>80</td>\n",
       "      <td>62</td>\n",
       "      <td>81</td>\n",
       "      <td>50</td>\n",
       "      <td>84</td>\n",
       "      <td>356</td>\n",
       "      <td>51</td>\n",
       "      <td>36</td>\n",
       "      <td>87</td>\n",
       "      <td>90</td>\n",
       "      <td>92</td>\n",
       "      <td>93</td>\n",
       "      <td>94</td>\n",
       "      <td>35</td>\n",
       "      <td>30</td>\n",
       "      <td>29</td>\n",
       "      <td>59</td>\n",
       "      <td>9</td>\n",
       "      <td>9</td>\n",
       "      <td>15</td>\n",
       "      <td>15</td>\n",
       "      <td>11</td>\n",
       "      <td>2175</td>\n",
       "      <td>451</td>\n",
       "      <td>5 ★</td>\n",
       "      <td>5★</td>\n",
       "      <td>High</td>\n",
       "      <td>Medium</td>\n",
       "      <td>5 ★</td>\n",
       "      <td>91</td>\n",
       "      <td>85</td>\n",
       "      <td>86</td>\n",
       "      <td>94</td>\n",
       "      <td>36</td>\n",
       "      <td>59</td>\n",
       "      <td>595</td>\n",
       "    </tr>\n",
       "  </tbody>\n",
       "</table>\n",
       "</div>"
      ],
      "text/plain": [
       "       ID               Name                      LongName  \\\n",
       "0  158023           L. Messi                  Lionel Messi   \n",
       "1   20801  Cristiano Ronaldo  C. Ronaldo dos Santos Aveiro   \n",
       "2  200389           J. Oblak                     Jan Oblak   \n",
       "3  192985       K. De Bruyne               Kevin De Bruyne   \n",
       "4  190871          Neymar Jr    Neymar da Silva Santos Jr.   \n",
       "\n",
       "                                           photoUrl  \\\n",
       "0  https://cdn.sofifa.com/players/158/023/21_60.png   \n",
       "1  https://cdn.sofifa.com/players/020/801/21_60.png   \n",
       "2  https://cdn.sofifa.com/players/200/389/21_60.png   \n",
       "3  https://cdn.sofifa.com/players/192/985/21_60.png   \n",
       "4  https://cdn.sofifa.com/players/190/871/21_60.png   \n",
       "\n",
       "                                           playerUrl Nationality  Age  ↓OVA  \\\n",
       "0  http://sofifa.com/player/158023/lionel-messi/2...   Argentina   33    93   \n",
       "1  http://sofifa.com/player/20801/c-ronaldo-dos-s...    Portugal   35    92   \n",
       "2  http://sofifa.com/player/200389/jan-oblak/210006/    Slovenia   27    91   \n",
       "3  http://sofifa.com/player/192985/kevin-de-bruyn...     Belgium   29    91   \n",
       "4  http://sofifa.com/player/190871/neymar-da-silv...      Brazil   28    91   \n",
       "\n",
       "   POT                         Club     Contract   Positions Height Weight  \\\n",
       "0   93         \\n\\n\\n\\nFC Barcelona  2004 ~ 2021  RW, ST, CF  170cm   72kg   \n",
       "1   92             \\n\\n\\n\\nJuventus  2018 ~ 2022      ST, LW  187cm   83kg   \n",
       "2   93      \\n\\n\\n\\nAtlético Madrid  2014 ~ 2023          GK  188cm   87kg   \n",
       "3   91      \\n\\n\\n\\nManchester City  2015 ~ 2023     CAM, CM  181cm   70kg   \n",
       "4   91  \\n\\n\\n\\nParis Saint-Germain  2017 ~ 2022     LW, CAM  175cm   68kg   \n",
       "\n",
       "  Preferred Foot  BOV Best Position        Joined Loan Date End    Value  \\\n",
       "0           Left   93            RW   Jul 1, 2004           NaN  €103.5M   \n",
       "1          Right   92            ST  Jul 10, 2018           NaN     €63M   \n",
       "2          Right   91            GK  Jul 16, 2014           NaN    €120M   \n",
       "3          Right   91           CAM  Aug 30, 2015           NaN    €129M   \n",
       "4          Right   91            LW   Aug 3, 2017           NaN    €132M   \n",
       "\n",
       "    Wage Release Clause  Attacking  Crossing  Finishing  Heading Accuracy  \\\n",
       "0  €560K        €138.4M        429        85         95                70   \n",
       "1  €220K         €75.9M        437        84         95                90   \n",
       "2  €125K        €159.4M         95        13         11                15   \n",
       "3  €370K          €161M        407        94         82                55   \n",
       "4  €270K        €166.5M        408        85         87                62   \n",
       "\n",
       "   Short Passing  Volleys  Skill  Dribbling  Curve  FK Accuracy  Long Passing  \\\n",
       "0             91       88    470         96     93           94            91   \n",
       "1             82       86    414         88     81           76            77   \n",
       "2             43       13    109         12     13           14            40   \n",
       "3             94       82    441         88     85           83            93   \n",
       "4             87       87    448         95     88           89            81   \n",
       "\n",
       "   Ball Control  Movement  Acceleration  Sprint Speed  Agility  Reactions  \\\n",
       "0            96       451            91            80       91         94   \n",
       "1            92       431            87            91       87         95   \n",
       "2            30       307            43            60       67         88   \n",
       "3            92       398            77            76       78         91   \n",
       "4            95       453            94            89       96         91   \n",
       "\n",
       "   Balance  Power  Shot Power  Jumping  Stamina  Strength  Long Shots  \\\n",
       "0       95    389          86       68       72        69          94   \n",
       "1       71    444          94       95       84        78          93   \n",
       "2       49    268          59       78       41        78          12   \n",
       "3       76    408          91       63       89        74          91   \n",
       "4       83    357          80       62       81        50          84   \n",
       "\n",
       "   Mentality  Aggression  Interceptions  Positioning  Vision  Penalties  \\\n",
       "0        347          44             40           93      95         75   \n",
       "1        353          63             29           95      82         84   \n",
       "2        140          34             19           11      65         11   \n",
       "3        408          76             66           88      94         84   \n",
       "4        356          51             36           87      90         92   \n",
       "\n",
       "   Composure  Defending  Marking  Standing Tackle  Sliding Tackle  \\\n",
       "0         96         91       32               35              24   \n",
       "1         95         84       28               32              24   \n",
       "2         68         57       27               12              18   \n",
       "3         91        186       68               65              53   \n",
       "4         93         94       35               30              29   \n",
       "\n",
       "   Goalkeeping  GK Diving  GK Handling  GK Kicking  GK Positioning  \\\n",
       "0           54          6           11          15              14   \n",
       "1           58          7           11          15              14   \n",
       "2          437         87           92          78              90   \n",
       "3           56         15           13           5              10   \n",
       "4           59          9            9          15              15   \n",
       "\n",
       "   GK Reflexes  Total Stats  Base Stats  W/F  SM     A/W     D/W   IR  PAC  \\\n",
       "0            8         2231         466  4 ★  4★  Medium     Low  5 ★   85   \n",
       "1           11         2221         464  4 ★  5★    High     Low  5 ★   89   \n",
       "2           90         1413         489  3 ★  1★  Medium  Medium  3 ★   87   \n",
       "3           13         2304         485  5 ★  4★    High    High  4 ★   76   \n",
       "4           11         2175         451  5 ★  5★    High  Medium  5 ★   91   \n",
       "\n",
       "   SHO  PAS  DRI  DEF  PHY Hits  \n",
       "0   92   91   95   38   65  771  \n",
       "1   93   81   89   35   77  562  \n",
       "2   92   78   90   52   90  150  \n",
       "3   86   93   88   64   78  207  \n",
       "4   85   86   94   36   59  595  "
      ]
     },
     "execution_count": 10,
     "metadata": {},
     "output_type": "execute_result"
    }
   ],
   "source": [
    "df.head()"
   ]
  },
  {
   "cell_type": "markdown",
   "id": "7646bc76-719c-4781-a229-18900a2cd064",
   "metadata": {},
   "source": [
    "Wow!! 77 columns. Let's see them more in depth:"
   ]
  },
  {
   "cell_type": "code",
   "execution_count": 11,
   "id": "6455aa99-e22e-40b4-9897-3dec1e8998f8",
   "metadata": {
    "tags": []
   },
   "outputs": [
    {
     "data": {
      "text/plain": [
       "Index(['ID', 'Name', 'LongName', 'photoUrl', 'playerUrl', 'Nationality', 'Age',\n",
       "       '↓OVA', 'POT', 'Club', 'Contract', 'Positions', 'Height', 'Weight',\n",
       "       'Preferred Foot', 'BOV', 'Best Position', 'Joined', 'Loan Date End',\n",
       "       'Value', 'Wage', 'Release Clause', 'Attacking', 'Crossing', 'Finishing',\n",
       "       'Heading Accuracy', 'Short Passing', 'Volleys', 'Skill', 'Dribbling',\n",
       "       'Curve', 'FK Accuracy', 'Long Passing', 'Ball Control', 'Movement',\n",
       "       'Acceleration', 'Sprint Speed', 'Agility', 'Reactions', 'Balance',\n",
       "       'Power', 'Shot Power', 'Jumping', 'Stamina', 'Strength', 'Long Shots',\n",
       "       'Mentality', 'Aggression', 'Interceptions', 'Positioning', 'Vision',\n",
       "       'Penalties', 'Composure', 'Defending', 'Marking', 'Standing Tackle',\n",
       "       'Sliding Tackle', 'Goalkeeping', 'GK Diving', 'GK Handling',\n",
       "       'GK Kicking', 'GK Positioning', 'GK Reflexes', 'Total Stats',\n",
       "       'Base Stats', 'W/F', 'SM', 'A/W', 'D/W', 'IR', 'PAC', 'SHO', 'PAS',\n",
       "       'DRI', 'DEF', 'PHY', 'Hits'],\n",
       "      dtype='object')"
      ]
     },
     "execution_count": 11,
     "metadata": {},
     "output_type": "execute_result"
    }
   ],
   "source": [
    "df.columns"
   ]
  },
  {
   "cell_type": "markdown",
   "id": "9adb9661-b5dd-4131-be2a-dc908f3b9e39",
   "metadata": {},
   "source": [
    "## Missing values study"
   ]
  },
  {
   "cell_type": "markdown",
   "id": "85ba3229-ee0b-4557-b5dc-067f65068624",
   "metadata": {},
   "source": [
    "Let's study the missing values and their counts  \n",
    "It's not the prettiest method but I can't remember now how to do it in a more elegant way..."
   ]
  },
  {
   "cell_type": "code",
   "execution_count": 12,
   "id": "e03ccea8-d758-4434-acfb-46f9c717f18b",
   "metadata": {
    "tags": []
   },
   "outputs": [
    {
     "data": {
      "text/plain": [
       "Loan Date End       17966\n",
       "Hits                 2595\n",
       "GK Diving               0\n",
       "Sliding Tackle          0\n",
       "Standing Tackle         0\n",
       "                    ...  \n",
       "Heading Accuracy        0\n",
       "Finishing               0\n",
       "Crossing                0\n",
       "Attacking               0\n",
       "Reactions               0\n",
       "Name: missing values count, Length: 77, dtype: int64"
      ]
     },
     "execution_count": 12,
     "metadata": {},
     "output_type": "execute_result"
    }
   ],
   "source": [
    "s = pd.Series([df[i].isnull().sum() for i in df.columns], index=df.columns).sort_values(ascending=False)\n",
    "s.name = 'missing values count'\n",
    "s"
   ]
  },
  {
   "cell_type": "markdown",
   "id": "2e661b4e-8e56-4a3a-bcef-99d617117671",
   "metadata": {},
   "source": [
    "Study of the dtypes:"
   ]
  },
  {
   "cell_type": "code",
   "execution_count": 13,
   "id": "6290bad7-caa2-4d63-bd60-6b15fed9a26d",
   "metadata": {
    "tags": []
   },
   "outputs": [
    {
     "name": "stdout",
     "output_type": "stream",
     "text": [
      "<class 'pandas.core.frame.DataFrame'>\n",
      "RangeIndex: 18979 entries, 0 to 18978\n",
      "Data columns (total 77 columns):\n",
      " #   Column            Non-Null Count  Dtype \n",
      "---  ------            --------------  ----- \n",
      " 0   ID                18979 non-null  int64 \n",
      " 1   Name              18979 non-null  object\n",
      " 2   LongName          18979 non-null  object\n",
      " 3   photoUrl          18979 non-null  object\n",
      " 4   playerUrl         18979 non-null  object\n",
      " 5   Nationality       18979 non-null  object\n",
      " 6   Age               18979 non-null  int64 \n",
      " 7   ↓OVA              18979 non-null  int64 \n",
      " 8   POT               18979 non-null  int64 \n",
      " 9   Club              18979 non-null  object\n",
      " 10  Contract          18979 non-null  object\n",
      " 11  Positions         18979 non-null  object\n",
      " 12  Height            18979 non-null  object\n",
      " 13  Weight            18979 non-null  object\n",
      " 14  Preferred Foot    18979 non-null  object\n",
      " 15  BOV               18979 non-null  int64 \n",
      " 16  Best Position     18979 non-null  object\n",
      " 17  Joined            18979 non-null  object\n",
      " 18  Loan Date End     1013 non-null   object\n",
      " 19  Value             18979 non-null  object\n",
      " 20  Wage              18979 non-null  object\n",
      " 21  Release Clause    18979 non-null  object\n",
      " 22  Attacking         18979 non-null  int64 \n",
      " 23  Crossing          18979 non-null  int64 \n",
      " 24  Finishing         18979 non-null  int64 \n",
      " 25  Heading Accuracy  18979 non-null  int64 \n",
      " 26  Short Passing     18979 non-null  int64 \n",
      " 27  Volleys           18979 non-null  int64 \n",
      " 28  Skill             18979 non-null  int64 \n",
      " 29  Dribbling         18979 non-null  int64 \n",
      " 30  Curve             18979 non-null  int64 \n",
      " 31  FK Accuracy       18979 non-null  int64 \n",
      " 32  Long Passing      18979 non-null  int64 \n",
      " 33  Ball Control      18979 non-null  int64 \n",
      " 34  Movement          18979 non-null  int64 \n",
      " 35  Acceleration      18979 non-null  int64 \n",
      " 36  Sprint Speed      18979 non-null  int64 \n",
      " 37  Agility           18979 non-null  int64 \n",
      " 38  Reactions         18979 non-null  int64 \n",
      " 39  Balance           18979 non-null  int64 \n",
      " 40  Power             18979 non-null  int64 \n",
      " 41  Shot Power        18979 non-null  int64 \n",
      " 42  Jumping           18979 non-null  int64 \n",
      " 43  Stamina           18979 non-null  int64 \n",
      " 44  Strength          18979 non-null  int64 \n",
      " 45  Long Shots        18979 non-null  int64 \n",
      " 46  Mentality         18979 non-null  int64 \n",
      " 47  Aggression        18979 non-null  int64 \n",
      " 48  Interceptions     18979 non-null  int64 \n",
      " 49  Positioning       18979 non-null  int64 \n",
      " 50  Vision            18979 non-null  int64 \n",
      " 51  Penalties         18979 non-null  int64 \n",
      " 52  Composure         18979 non-null  int64 \n",
      " 53  Defending         18979 non-null  int64 \n",
      " 54  Marking           18979 non-null  int64 \n",
      " 55  Standing Tackle   18979 non-null  int64 \n",
      " 56  Sliding Tackle    18979 non-null  int64 \n",
      " 57  Goalkeeping       18979 non-null  int64 \n",
      " 58  GK Diving         18979 non-null  int64 \n",
      " 59  GK Handling       18979 non-null  int64 \n",
      " 60  GK Kicking        18979 non-null  int64 \n",
      " 61  GK Positioning    18979 non-null  int64 \n",
      " 62  GK Reflexes       18979 non-null  int64 \n",
      " 63  Total Stats       18979 non-null  int64 \n",
      " 64  Base Stats        18979 non-null  int64 \n",
      " 65  W/F               18979 non-null  object\n",
      " 66  SM                18979 non-null  object\n",
      " 67  A/W               18979 non-null  object\n",
      " 68  D/W               18979 non-null  object\n",
      " 69  IR                18979 non-null  object\n",
      " 70  PAC               18979 non-null  int64 \n",
      " 71  SHO               18979 non-null  int64 \n",
      " 72  PAS               18979 non-null  int64 \n",
      " 73  DRI               18979 non-null  int64 \n",
      " 74  DEF               18979 non-null  int64 \n",
      " 75  PHY               18979 non-null  int64 \n",
      " 76  Hits              16384 non-null  object\n",
      "dtypes: int64(54), object(23)\n",
      "memory usage: 11.1+ MB\n"
     ]
    }
   ],
   "source": [
    "df.info()"
   ]
  },
  {
   "cell_type": "markdown",
   "id": "978e9c75-efab-46ac-bd88-b4869a61ea2b",
   "metadata": {},
   "source": [
    "## Study of object variables"
   ]
  },
  {
   "cell_type": "markdown",
   "id": "7d1346aa-625f-46de-9c1d-d1267ad88864",
   "metadata": {},
   "source": [
    "See if any object (mainly string) variable should be numeric"
   ]
  },
  {
   "cell_type": "code",
   "execution_count": 14,
   "id": "7c763eb8-6069-4917-a534-ad405c90fa67",
   "metadata": {
    "tags": []
   },
   "outputs": [
    {
     "data": {
      "text/plain": [
       "Index(['Name', 'LongName', 'photoUrl', 'playerUrl', 'Nationality', 'Club',\n",
       "       'Contract', 'Positions', 'Height', 'Weight', 'Preferred Foot',\n",
       "       'Best Position', 'Joined', 'Loan Date End', 'Value', 'Wage',\n",
       "       'Release Clause', 'W/F', 'SM', 'A/W', 'D/W', 'IR', 'Hits'],\n",
       "      dtype='object')"
      ]
     },
     "execution_count": 14,
     "metadata": {},
     "output_type": "execute_result"
    }
   ],
   "source": [
    "df.select_dtypes(object).columns"
   ]
  },
  {
   "cell_type": "code",
   "execution_count": 15,
   "id": "ead52659-86f3-41e1-b941-ca5ab0c36222",
   "metadata": {
    "tags": []
   },
   "outputs": [
    {
     "data": {
      "text/html": [
       "<div>\n",
       "<style scoped>\n",
       "    .dataframe tbody tr th:only-of-type {\n",
       "        vertical-align: middle;\n",
       "    }\n",
       "\n",
       "    .dataframe tbody tr th {\n",
       "        vertical-align: top;\n",
       "    }\n",
       "\n",
       "    .dataframe thead th {\n",
       "        text-align: right;\n",
       "    }\n",
       "</style>\n",
       "<table border=\"1\" class=\"dataframe\">\n",
       "  <thead>\n",
       "    <tr style=\"text-align: right;\">\n",
       "      <th></th>\n",
       "      <th>18583</th>\n",
       "      <th>5533</th>\n",
       "      <th>18511</th>\n",
       "      <th>7526</th>\n",
       "      <th>14693</th>\n",
       "    </tr>\n",
       "  </thead>\n",
       "  <tbody>\n",
       "    <tr>\n",
       "      <th>Name</th>\n",
       "      <td>R. Wikström</td>\n",
       "      <td>A. Aseri</td>\n",
       "      <td>J. Currie</td>\n",
       "      <td>E. Berggreen</td>\n",
       "      <td>J. Gustavsson</td>\n",
       "    </tr>\n",
       "    <tr>\n",
       "      <th>LongName</th>\n",
       "      <td>Rasmus Wikström</td>\n",
       "      <td>Abdulfatah Aseri</td>\n",
       "      <td>Jack Currie</td>\n",
       "      <td>Emil Berggreen</td>\n",
       "      <td>Jesper Gustavsson</td>\n",
       "    </tr>\n",
       "    <tr>\n",
       "      <th>photoUrl</th>\n",
       "      <td>https://cdn.sofifa.com/players/246/654/21_60.png</td>\n",
       "      <td>https://cdn.sofifa.com/players/213/007/21_60.png</td>\n",
       "      <td>https://cdn.sofifa.com/players/258/702/21_60.png</td>\n",
       "      <td>https://cdn.sofifa.com/players/223/537/21_60.png</td>\n",
       "      <td>https://cdn.sofifa.com/players/219/865/21_60.png</td>\n",
       "    </tr>\n",
       "    <tr>\n",
       "      <th>playerUrl</th>\n",
       "      <td>http://sofifa.com/player/246654/rasmus-wikstro...</td>\n",
       "      <td>http://sofifa.com/player/213007/abdulfatah-ase...</td>\n",
       "      <td>http://sofifa.com/player/258702/jack-currie/21...</td>\n",
       "      <td>http://sofifa.com/player/223537/emil-berggreen...</td>\n",
       "      <td>http://sofifa.com/player/219865/jesper-gustavs...</td>\n",
       "    </tr>\n",
       "    <tr>\n",
       "      <th>Nationality</th>\n",
       "      <td>Sweden</td>\n",
       "      <td>Saudi Arabia</td>\n",
       "      <td>England</td>\n",
       "      <td>Denmark</td>\n",
       "      <td>Sweden</td>\n",
       "    </tr>\n",
       "    <tr>\n",
       "      <th>Club</th>\n",
       "      <td>\\n\\n\\n\\nIFK Göteborg</td>\n",
       "      <td>\\n\\n\\n\\nAl Nassr</td>\n",
       "      <td>\\n\\n\\n\\nAFC Wimbledon</td>\n",
       "      <td>\\n\\n\\n\\nSpVgg Greuther Fürth</td>\n",
       "      <td>\\n\\n\\n\\nMjällby AIF</td>\n",
       "    </tr>\n",
       "    <tr>\n",
       "      <th>Contract</th>\n",
       "      <td>2018 ~ 2021</td>\n",
       "      <td>2020 ~ 2023</td>\n",
       "      <td>2020 ~ 2024</td>\n",
       "      <td>2020 ~ 2022</td>\n",
       "      <td>2013 ~ 2021</td>\n",
       "    </tr>\n",
       "    <tr>\n",
       "      <th>Positions</th>\n",
       "      <td>CB</td>\n",
       "      <td>RM, CAM</td>\n",
       "      <td>LB</td>\n",
       "      <td>ST</td>\n",
       "      <td>CDM, CM</td>\n",
       "    </tr>\n",
       "    <tr>\n",
       "      <th>Height</th>\n",
       "      <td>186cm</td>\n",
       "      <td>167cm</td>\n",
       "      <td>175cm</td>\n",
       "      <td>194cm</td>\n",
       "      <td>174cm</td>\n",
       "    </tr>\n",
       "    <tr>\n",
       "      <th>Weight</th>\n",
       "      <td>73kg</td>\n",
       "      <td>64kg</td>\n",
       "      <td>67kg</td>\n",
       "      <td>89kg</td>\n",
       "      <td>74kg</td>\n",
       "    </tr>\n",
       "    <tr>\n",
       "      <th>Preferred Foot</th>\n",
       "      <td>Right</td>\n",
       "      <td>Left</td>\n",
       "      <td>Left</td>\n",
       "      <td>Right</td>\n",
       "      <td>Right</td>\n",
       "    </tr>\n",
       "    <tr>\n",
       "      <th>Best Position</th>\n",
       "      <td>CB</td>\n",
       "      <td>RM</td>\n",
       "      <td>LB</td>\n",
       "      <td>ST</td>\n",
       "      <td>CDM</td>\n",
       "    </tr>\n",
       "    <tr>\n",
       "      <th>Joined</th>\n",
       "      <td>Dec 14, 2018</td>\n",
       "      <td>Sep 10, 2020</td>\n",
       "      <td>Jul 1, 2020</td>\n",
       "      <td>Sep 15, 2020</td>\n",
       "      <td>Aug 19, 2013</td>\n",
       "    </tr>\n",
       "    <tr>\n",
       "      <th>Loan Date End</th>\n",
       "      <td>NaN</td>\n",
       "      <td>NaN</td>\n",
       "      <td>NaN</td>\n",
       "      <td>NaN</td>\n",
       "      <td>NaN</td>\n",
       "    </tr>\n",
       "    <tr>\n",
       "      <th>Value</th>\n",
       "      <td>€140K</td>\n",
       "      <td>€1.6M</td>\n",
       "      <td>€190K</td>\n",
       "      <td>€1.2M</td>\n",
       "      <td>€450K</td>\n",
       "    </tr>\n",
       "    <tr>\n",
       "      <th>Wage</th>\n",
       "      <td>€500</td>\n",
       "      <td>€17K</td>\n",
       "      <td>€500</td>\n",
       "      <td>€4K</td>\n",
       "      <td>€600</td>\n",
       "    </tr>\n",
       "    <tr>\n",
       "      <th>Release Clause</th>\n",
       "      <td>€131K</td>\n",
       "      <td>€2.1M</td>\n",
       "      <td>€238K</td>\n",
       "      <td>€1.5M</td>\n",
       "      <td>€435K</td>\n",
       "    </tr>\n",
       "    <tr>\n",
       "      <th>W/F</th>\n",
       "      <td>3 ★</td>\n",
       "      <td>3 ★</td>\n",
       "      <td>2 ★</td>\n",
       "      <td>4 ★</td>\n",
       "      <td>3 ★</td>\n",
       "    </tr>\n",
       "    <tr>\n",
       "      <th>SM</th>\n",
       "      <td>2★</td>\n",
       "      <td>4★</td>\n",
       "      <td>2★</td>\n",
       "      <td>2★</td>\n",
       "      <td>2★</td>\n",
       "    </tr>\n",
       "    <tr>\n",
       "      <th>A/W</th>\n",
       "      <td>Medium</td>\n",
       "      <td>High</td>\n",
       "      <td>Medium</td>\n",
       "      <td>Medium</td>\n",
       "      <td>Medium</td>\n",
       "    </tr>\n",
       "    <tr>\n",
       "      <th>D/W</th>\n",
       "      <td>Medium</td>\n",
       "      <td>Medium</td>\n",
       "      <td>Medium</td>\n",
       "      <td>Low</td>\n",
       "      <td>Medium</td>\n",
       "    </tr>\n",
       "    <tr>\n",
       "      <th>IR</th>\n",
       "      <td>1 ★</td>\n",
       "      <td>1 ★</td>\n",
       "      <td>1 ★</td>\n",
       "      <td>1 ★</td>\n",
       "      <td>1 ★</td>\n",
       "    </tr>\n",
       "    <tr>\n",
       "      <th>Hits</th>\n",
       "      <td>NaN</td>\n",
       "      <td>6</td>\n",
       "      <td>NaN</td>\n",
       "      <td>5</td>\n",
       "      <td>2</td>\n",
       "    </tr>\n",
       "  </tbody>\n",
       "</table>\n",
       "</div>"
      ],
      "text/plain": [
       "                                                            18583  \\\n",
       "Name                                                  R. Wikström   \n",
       "LongName                                          Rasmus Wikström   \n",
       "photoUrl         https://cdn.sofifa.com/players/246/654/21_60.png   \n",
       "playerUrl       http://sofifa.com/player/246654/rasmus-wikstro...   \n",
       "Nationality                                                Sweden   \n",
       "Club                                         \\n\\n\\n\\nIFK Göteborg   \n",
       "Contract                                              2018 ~ 2021   \n",
       "Positions                                                      CB   \n",
       "Height                                                      186cm   \n",
       "Weight                                                       73kg   \n",
       "Preferred Foot                                              Right   \n",
       "Best Position                                                  CB   \n",
       "Joined                                               Dec 14, 2018   \n",
       "Loan Date End                                                 NaN   \n",
       "Value                                                       €140K   \n",
       "Wage                                                         €500   \n",
       "Release Clause                                              €131K   \n",
       "W/F                                                           3 ★   \n",
       "SM                                                             2★   \n",
       "A/W                                                        Medium   \n",
       "D/W                                                        Medium   \n",
       "IR                                                            1 ★   \n",
       "Hits                                                          NaN   \n",
       "\n",
       "                                                            5533   \\\n",
       "Name                                                     A. Aseri   \n",
       "LongName                                         Abdulfatah Aseri   \n",
       "photoUrl         https://cdn.sofifa.com/players/213/007/21_60.png   \n",
       "playerUrl       http://sofifa.com/player/213007/abdulfatah-ase...   \n",
       "Nationality                                          Saudi Arabia   \n",
       "Club                                             \\n\\n\\n\\nAl Nassr   \n",
       "Contract                                              2020 ~ 2023   \n",
       "Positions                                                 RM, CAM   \n",
       "Height                                                      167cm   \n",
       "Weight                                                       64kg   \n",
       "Preferred Foot                                               Left   \n",
       "Best Position                                                  RM   \n",
       "Joined                                               Sep 10, 2020   \n",
       "Loan Date End                                                 NaN   \n",
       "Value                                                       €1.6M   \n",
       "Wage                                                         €17K   \n",
       "Release Clause                                              €2.1M   \n",
       "W/F                                                           3 ★   \n",
       "SM                                                             4★   \n",
       "A/W                                                          High   \n",
       "D/W                                                        Medium   \n",
       "IR                                                            1 ★   \n",
       "Hits                                                            6   \n",
       "\n",
       "                                                            18511  \\\n",
       "Name                                                    J. Currie   \n",
       "LongName                                              Jack Currie   \n",
       "photoUrl         https://cdn.sofifa.com/players/258/702/21_60.png   \n",
       "playerUrl       http://sofifa.com/player/258702/jack-currie/21...   \n",
       "Nationality                                               England   \n",
       "Club                                        \\n\\n\\n\\nAFC Wimbledon   \n",
       "Contract                                              2020 ~ 2024   \n",
       "Positions                                                      LB   \n",
       "Height                                                      175cm   \n",
       "Weight                                                       67kg   \n",
       "Preferred Foot                                               Left   \n",
       "Best Position                                                  LB   \n",
       "Joined                                                Jul 1, 2020   \n",
       "Loan Date End                                                 NaN   \n",
       "Value                                                       €190K   \n",
       "Wage                                                         €500   \n",
       "Release Clause                                              €238K   \n",
       "W/F                                                           2 ★   \n",
       "SM                                                             2★   \n",
       "A/W                                                        Medium   \n",
       "D/W                                                        Medium   \n",
       "IR                                                            1 ★   \n",
       "Hits                                                          NaN   \n",
       "\n",
       "                                                            7526   \\\n",
       "Name                                                 E. Berggreen   \n",
       "LongName                                           Emil Berggreen   \n",
       "photoUrl         https://cdn.sofifa.com/players/223/537/21_60.png   \n",
       "playerUrl       http://sofifa.com/player/223537/emil-berggreen...   \n",
       "Nationality                                               Denmark   \n",
       "Club                                 \\n\\n\\n\\nSpVgg Greuther Fürth   \n",
       "Contract                                              2020 ~ 2022   \n",
       "Positions                                                      ST   \n",
       "Height                                                      194cm   \n",
       "Weight                                                       89kg   \n",
       "Preferred Foot                                              Right   \n",
       "Best Position                                                  ST   \n",
       "Joined                                               Sep 15, 2020   \n",
       "Loan Date End                                                 NaN   \n",
       "Value                                                       €1.2M   \n",
       "Wage                                                          €4K   \n",
       "Release Clause                                              €1.5M   \n",
       "W/F                                                           4 ★   \n",
       "SM                                                             2★   \n",
       "A/W                                                        Medium   \n",
       "D/W                                                           Low   \n",
       "IR                                                            1 ★   \n",
       "Hits                                                            5   \n",
       "\n",
       "                                                            14693  \n",
       "Name                                                J. Gustavsson  \n",
       "LongName                                        Jesper Gustavsson  \n",
       "photoUrl         https://cdn.sofifa.com/players/219/865/21_60.png  \n",
       "playerUrl       http://sofifa.com/player/219865/jesper-gustavs...  \n",
       "Nationality                                                Sweden  \n",
       "Club                                          \\n\\n\\n\\nMjällby AIF  \n",
       "Contract                                              2013 ~ 2021  \n",
       "Positions                                                 CDM, CM  \n",
       "Height                                                      174cm  \n",
       "Weight                                                       74kg  \n",
       "Preferred Foot                                              Right  \n",
       "Best Position                                                 CDM  \n",
       "Joined                                               Aug 19, 2013  \n",
       "Loan Date End                                                 NaN  \n",
       "Value                                                       €450K  \n",
       "Wage                                                         €600  \n",
       "Release Clause                                              €435K  \n",
       "W/F                                                           3 ★  \n",
       "SM                                                             2★  \n",
       "A/W                                                        Medium  \n",
       "D/W                                                        Medium  \n",
       "IR                                                            1 ★  \n",
       "Hits                                                            2  "
      ]
     },
     "execution_count": 15,
     "metadata": {},
     "output_type": "execute_result"
    }
   ],
   "source": [
    "# just take 5 rows to check the values and see if they effectively must be integers or some need a type conversion\n",
    "string_vars = df.select_dtypes(object).sample(5)\n",
    "string_vars.T"
   ]
  },
  {
   "cell_type": "markdown",
   "id": "45096263-9010-49a6-aa7e-f6a28e99aeb9",
   "metadata": {},
   "source": [
    "## Proposed actions"
   ]
  },
  {
   "cell_type": "markdown",
   "id": "a4fc1b0e-056d-43a5-b627-cd17b544efcb",
   "metadata": {},
   "source": [
    "Some conclusions after observing the data from some `object` type columns:  \n",
    "1. Rename columns so it's easier to access them using dot notation (df.wage)\n",
    "2. `Height` could be transformed to feet and converted to float\n",
    "3. `Weight` can be converted to integer after removing lbs\n",
    "4. `Foot` definitely must be converted to categorical\n",
    "5. `Value` and `Release Clause` can be converted to float and remove euro sign (or maybe there's some dollar sign)\n",
    "6. `W/F`, `SM` and `IR` must be converted to integer (or categorical and then ordered category)\n",
    "7. `Joined` must be datetime dtype\n",
    "8. `Hits` can be cleaned and transformed into integer (later converted to ordered categorical)\n",
    "9. Set `a/w` and `d/w` to categorical and sort their category values\n",
    "10. Study `contract` column\n",
    "11. Clean `club` values\n",
    "12. Reestructuration and/or removal of columns after all processing"
   ]
  },
  {
   "cell_type": "markdown",
   "id": "2e4fe62e-1d7b-4e75-8c3f-ce340bfb75d3",
   "metadata": {},
   "source": [
    "### 1 Rename columns"
   ]
  },
  {
   "cell_type": "code",
   "execution_count": 16,
   "id": "fd23323d-ab2f-438e-bb7c-d6bd7c808bc8",
   "metadata": {
    "tags": []
   },
   "outputs": [],
   "source": [
    "columns_backup = df.columns.to_list()\n",
    "df.columns = [i.replace(' & ', '_').replace(' ', '_').lower() for i in df.columns]"
   ]
  },
  {
   "cell_type": "code",
   "execution_count": 17,
   "id": "4b036b3e-f95d-4e8b-9864-f9805e10e4ee",
   "metadata": {
    "tags": []
   },
   "outputs": [
    {
     "data": {
      "text/plain": [
       "Index(['id', 'name', 'longname', 'photourl', 'playerurl', 'nationality', 'age',\n",
       "       '↓ova', 'pot', 'club', 'contract', 'positions', 'height', 'weight',\n",
       "       'preferred_foot', 'bov', 'best_position', 'joined', 'loan_date_end',\n",
       "       'value', 'wage', 'release_clause', 'attacking', 'crossing', 'finishing',\n",
       "       'heading_accuracy', 'short_passing', 'volleys', 'skill', 'dribbling',\n",
       "       'curve', 'fk_accuracy', 'long_passing', 'ball_control', 'movement',\n",
       "       'acceleration', 'sprint_speed', 'agility', 'reactions', 'balance',\n",
       "       'power', 'shot_power', 'jumping', 'stamina', 'strength', 'long_shots',\n",
       "       'mentality', 'aggression', 'interceptions', 'positioning', 'vision',\n",
       "       'penalties', 'composure', 'defending', 'marking', 'standing_tackle',\n",
       "       'sliding_tackle', 'goalkeeping', 'gk_diving', 'gk_handling',\n",
       "       'gk_kicking', 'gk_positioning', 'gk_reflexes', 'total_stats',\n",
       "       'base_stats', 'w/f', 'sm', 'a/w', 'd/w', 'ir', 'pac', 'sho', 'pas',\n",
       "       'dri', 'def', 'phy', 'hits'],\n",
       "      dtype='object')"
      ]
     },
     "execution_count": 17,
     "metadata": {},
     "output_type": "execute_result"
    }
   ],
   "source": [
    "df.columns"
   ]
  },
  {
   "cell_type": "markdown",
   "id": "2f802a1d-6688-4211-902b-2871c32c6f45",
   "metadata": {},
   "source": [
    "### 2. `Height` could be transformed to feet and converted to float"
   ]
  },
  {
   "cell_type": "code",
   "execution_count": 18,
   "id": "71fc43e9-9d84-4f4e-b6ce-23fa130ac48e",
   "metadata": {
    "tags": []
   },
   "outputs": [
    {
     "data": {
      "text/plain": [
       "6385     200cm\n",
       "2754     184cm\n",
       "5008     183cm\n",
       "11148    165cm\n",
       "11029    183cm\n",
       "14509    178cm\n",
       "13787    177cm\n",
       "14717    179cm\n",
       "1018     185cm\n",
       "18963    174cm\n",
       "Name: height, dtype: object"
      ]
     },
     "execution_count": 18,
     "metadata": {},
     "output_type": "execute_result"
    }
   ],
   "source": [
    "height = df.height\n",
    "height.sample(10)"
   ]
  },
  {
   "cell_type": "markdown",
   "id": "3b2e6fd0-8e1a-4bc7-9ca8-0cf837fedf34",
   "metadata": {},
   "source": [
    "All heights seem to be in cm. Let's see if there are some feet or inches"
   ]
  },
  {
   "cell_type": "code",
   "execution_count": 19,
   "id": "b837301c-ee56-4781-961f-2f501888c99d",
   "metadata": {
    "tags": []
   },
   "outputs": [
    {
     "data": {
      "text/plain": [
       "0"
      ]
     },
     "execution_count": 19,
     "metadata": {},
     "output_type": "execute_result"
    }
   ],
   "source": [
    "# number of row with cm in the value\n",
    "height.str.contains('ft').sum()"
   ]
  },
  {
   "cell_type": "code",
   "execution_count": 20,
   "id": "9223132e-445c-4c4f-b941-5ce096cb9992",
   "metadata": {
    "tags": []
   },
   "outputs": [
    {
     "data": {
      "text/plain": [
       "0"
      ]
     },
     "execution_count": 20,
     "metadata": {},
     "output_type": "execute_result"
    }
   ],
   "source": [
    "# number of row with cm in the value\n",
    "height.str.contains('inch').sum()"
   ]
  },
  {
   "cell_type": "code",
   "execution_count": 21,
   "id": "e0a1b6bf-0c0a-4ea3-8c6a-1a3202b65626",
   "metadata": {
    "tags": []
   },
   "outputs": [
    {
     "data": {
      "text/plain": [
       "0"
      ]
     },
     "execution_count": 21,
     "metadata": {},
     "output_type": "execute_result"
    }
   ],
   "source": [
    "# number of row with cm in the value\n",
    "height.str.contains('feet').sum()"
   ]
  },
  {
   "cell_type": "markdown",
   "id": "934d604b-3bc6-4d2f-8c87-6ad1381da559",
   "metadata": {},
   "source": [
    "All of the heights (which are not null) are in cm?"
   ]
  },
  {
   "cell_type": "code",
   "execution_count": 22,
   "id": "935ece00-d14d-4ff8-9750-fd5f33e2fe50",
   "metadata": {},
   "outputs": [
    {
     "data": {
      "text/plain": [
       "False"
      ]
     },
     "execution_count": 22,
     "metadata": {},
     "output_type": "execute_result"
    }
   ],
   "source": [
    "df.height[df.height.notnull()].str.endswith('cm').all()"
   ]
  },
  {
   "cell_type": "markdown",
   "id": "b9e869e9-5b5f-443a-be9f-bb671a0d1524",
   "metadata": {},
   "source": [
    "Let's check what other units there are."
   ]
  },
  {
   "cell_type": "code",
   "execution_count": 23,
   "id": "84db9e3f-264b-4c01-80cb-5697cff9443c",
   "metadata": {},
   "outputs": [],
   "source": [
    "notnull_height = df.height.dropna()"
   ]
  },
  {
   "cell_type": "code",
   "execution_count": 24,
   "id": "35cdebc6-2e4d-4d81-9421-02fde102a1c2",
   "metadata": {},
   "outputs": [
    {
     "data": {
      "text/plain": [
       "array(['cm', '\"', '1\"', '0\"'], dtype=object)"
      ]
     },
     "execution_count": 24,
     "metadata": {},
     "output_type": "execute_result"
    }
   ],
   "source": [
    "notnull_height.str[3:].unique()"
   ]
  },
  {
   "cell_type": "markdown",
   "id": "120b3e0b-cd7e-4044-927d-e6139208a24b",
   "metadata": {},
   "source": [
    "The results show that there are some values in inches ( \" )"
   ]
  },
  {
   "cell_type": "code",
   "execution_count": 25,
   "id": "96d17dbf-9677-4a44-bd85-73c733770099",
   "metadata": {},
   "outputs": [
    {
     "data": {
      "text/plain": [
       "793     6'2\"\n",
       "847     6'3\"\n",
       "848     6'5\"\n",
       "860    5'11\"\n",
       "861     6'4\"\n",
       "862     6'1\"\n",
       "863     6'0\"\n",
       "864     6'1\"\n",
       "865    5'11\"\n",
       "866     6'2\"\n",
       "867     6'0\"\n",
       "868     6'3\"\n",
       "869     6'0\"\n",
       "871    5'10\"\n",
       "872     5'9\"\n",
       "873    5'11\"\n",
       "874     5'6\"\n",
       "875     6'1\"\n",
       "876     6'0\"\n",
       "877     6'4\"\n",
       "878     5'7\"\n",
       "879     6'0\"\n",
       "880    5'11\"\n",
       "881    5'11\"\n",
       "883     6'0\"\n",
       "884    5'10\"\n",
       "885     6'3\"\n",
       "886     6'0\"\n",
       "887     5'4\"\n",
       "888    5'11\"\n",
       "889     5'9\"\n",
       "890     5'7\"\n",
       "891     6'0\"\n",
       "892    5'10\"\n",
       "893     6'2\"\n",
       "894     6'2\"\n",
       "895     6'3\"\n",
       "896     5'7\"\n",
       "897    5'10\"\n",
       "898     5'9\"\n",
       "Name: height, dtype: object"
      ]
     },
     "execution_count": 25,
     "metadata": {},
     "output_type": "execute_result"
    }
   ],
   "source": [
    "notnull_height[notnull_height.str.endswith('\"')]"
   ]
  },
  {
   "cell_type": "markdown",
   "id": "93a1fc32-29dd-4266-94a2-ce700467aae0",
   "metadata": {},
   "source": [
    "Definitely `height` needs some cleaning and uniform units for height. I will create `height_m` and `height_feet` columns."
   ]
  },
  {
   "cell_type": "code",
   "execution_count": 26,
   "id": "99dd5127-63cb-43f3-acec-b92f4fe4d23c",
   "metadata": {},
   "outputs": [],
   "source": [
    "df['height_m'] = df.height\n",
    "df['height_feet'] = df.height"
   ]
  },
  {
   "cell_type": "markdown",
   "id": "f7f430eb-cec9-4eca-944d-79269fccb534",
   "metadata": {},
   "source": [
    "1 metre = 0.3048 feet\n",
    "1 inch = 1/12 feet"
   ]
  },
  {
   "cell_type": "code",
   "execution_count": 27,
   "id": "e82b7591-6df3-41f2-8e9b-0ba1f033844a",
   "metadata": {},
   "outputs": [],
   "source": [
    "def to_metres(value):\n",
    "    # if unit is cm\n",
    "    if value.endswith('cm'):\n",
    "        value = int(value[:-2])\n",
    "        # conversion from cm to metre\n",
    "        value = value / 100\n",
    "        \n",
    "    # if value is in feet and inches\n",
    "    else:\n",
    "        value = value.strip('\"').split(\"'\")\n",
    "        # conversion from feet and inches to just feet\n",
    "        value = float(value[0]) + float(value[1])/12\n",
    "        # conversion from feet to metre\n",
    "        value *= 0.3048\n",
    "        \n",
    "    return value"
   ]
  },
  {
   "cell_type": "code",
   "execution_count": 28,
   "id": "bd45a56f-d778-4a04-91d5-44611df22787",
   "metadata": {},
   "outputs": [],
   "source": [
    "def to_feet(value):\n",
    "    # if unit is cm\n",
    "    if value.endswith('cm'):\n",
    "        value = int(value[:-2])\n",
    "        # conversion from cm to feet\n",
    "        value = value / 30.48\n",
    "        \n",
    "    # if value is in feet and inches\n",
    "    else:\n",
    "        value = value.strip('\"').split(\"'\")\n",
    "        # conversion to feet\n",
    "        value = float(value[0]) + float(value[1])/12\n",
    "        \n",
    "    return value"
   ]
  },
  {
   "cell_type": "code",
   "execution_count": 29,
   "id": "495e48ad-21fd-4ab3-b2b6-fc1a19e8dba7",
   "metadata": {},
   "outputs": [],
   "source": [
    "df.height_m = df.height_m.apply(to_metres)"
   ]
  },
  {
   "cell_type": "code",
   "execution_count": 30,
   "id": "6d22c1c9-7ae0-474c-b2d7-1d39e929161b",
   "metadata": {},
   "outputs": [],
   "source": [
    "df.height_feet = df.height_feet.apply(to_feet)"
   ]
  },
  {
   "cell_type": "markdown",
   "id": "ce477b91-83b9-41cd-a61d-ee82ec1f2e97",
   "metadata": {},
   "source": [
    "At the end, I will remove the unnecessary columns. By now, I will keep all the height columns."
   ]
  },
  {
   "cell_type": "markdown",
   "id": "e7813615-93ed-4ac5-8dcb-20d5463c1d9b",
   "metadata": {
    "tags": [],
    "toc-hr-collapsed": true
   },
   "source": [
    "### 3. `Weight` can be converted to integer after removing `kg`"
   ]
  },
  {
   "cell_type": "code",
   "execution_count": 31,
   "id": "7bc97c3e-412e-47e9-ab25-023ae7ab62a4",
   "metadata": {
    "tags": []
   },
   "outputs": [
    {
     "data": {
      "text/plain": [
       "4413     66kg\n",
       "4816     74kg\n",
       "10808    70kg\n",
       "12773    80kg\n",
       "17125    76kg\n",
       "Name: weight, dtype: object"
      ]
     },
     "execution_count": 31,
     "metadata": {},
     "output_type": "execute_result"
    }
   ],
   "source": [
    "weight = df.weight\n",
    "weight.sample(5)"
   ]
  },
  {
   "cell_type": "markdown",
   "id": "fb90a973-28af-40d8-b75d-1e39486537d2",
   "metadata": {
    "tags": []
   },
   "source": [
    "#### Error: `ValueError: invalid literal for int() with base 10: '183l'`\n",
    "Uncomment the cell below to see the whole error output."
   ]
  },
  {
   "cell_type": "code",
   "execution_count": 32,
   "id": "2adf05d6-7565-4bdd-b484-d171721eaaee",
   "metadata": {
    "tags": []
   },
   "outputs": [],
   "source": [
    "#weight = weight.apply(lambda x : int(x[:-2]) )"
   ]
  },
  {
   "cell_type": "markdown",
   "id": "099c9652-8c0b-479e-93ad-f9d88186c949",
   "metadata": {},
   "source": [
    "It seems as if some weights are in lb and others in Kg"
   ]
  },
  {
   "cell_type": "code",
   "execution_count": 33,
   "id": "9fb60894-5928-47ce-9ed7-6e3c607e1ac2",
   "metadata": {
    "tags": []
   },
   "outputs": [
    {
     "data": {
      "text/plain": [
       "array(['2kg', '3kg', '7kg', '0kg', '8kg', '1kg', '5kg', '9kg', '4kg',\n",
       "       '6kg', 'lbs'], dtype=object)"
      ]
     },
     "execution_count": 33,
     "metadata": {},
     "output_type": "execute_result"
    }
   ],
   "source": [
    "weight.str[-3:].unique()"
   ]
  },
  {
   "cell_type": "code",
   "execution_count": 34,
   "id": "e2caebce-fa25-42e3-aa68-12e878e3cfed",
   "metadata": {
    "tags": []
   },
   "outputs": [],
   "source": [
    "def convert_weight(value):\n",
    "    if value.endswith('kg'):\n",
    "        return float(value[:-2])  # lbs to kg will throw float values\n",
    "    else:\n",
    "        value = value[:-3]\n",
    "        value = float(value) / 2.204623  # 1 Kg = 2,204623 lb\n",
    "        return value"
   ]
  },
  {
   "cell_type": "code",
   "execution_count": 35,
   "id": "f748905b-73f5-481f-a7ae-b872e188c627",
   "metadata": {
    "tags": []
   },
   "outputs": [],
   "source": [
    "weight = weight.apply(convert_weight)"
   ]
  },
  {
   "cell_type": "code",
   "execution_count": 36,
   "id": "734951e3-9adb-4c40-9554-40e50c95a52e",
   "metadata": {
    "tags": []
   },
   "outputs": [
    {
     "data": {
      "text/plain": [
       "0        72.0\n",
       "1        83.0\n",
       "2        87.0\n",
       "3        70.0\n",
       "4        68.0\n",
       "         ... \n",
       "18974    66.0\n",
       "18975    65.0\n",
       "18976    74.0\n",
       "18977    69.0\n",
       "18978    75.0\n",
       "Name: weight, Length: 18979, dtype: float64"
      ]
     },
     "execution_count": 36,
     "metadata": {},
     "output_type": "execute_result"
    }
   ],
   "source": [
    "weight"
   ]
  },
  {
   "cell_type": "code",
   "execution_count": 37,
   "id": "6facf82d-ef95-46a2-99ac-c541ba344edd",
   "metadata": {
    "tags": []
   },
   "outputs": [],
   "source": [
    "df.weight = weight"
   ]
  },
  {
   "cell_type": "markdown",
   "id": "dc2e5f9f-5c99-4278-b58a-fc3969bf708d",
   "metadata": {},
   "source": [
    "### 4. `Preferred Foot` definitely must be converted to categorical"
   ]
  },
  {
   "cell_type": "code",
   "execution_count": 38,
   "id": "984a3fc9-c7da-43a6-b14b-9b7f9f813ca1",
   "metadata": {},
   "outputs": [
    {
     "data": {
      "text/plain": [
       "0         Left\n",
       "1        Right\n",
       "2        Right\n",
       "3        Right\n",
       "4        Right\n",
       "         ...  \n",
       "18974    Right\n",
       "18975    Right\n",
       "18976    Right\n",
       "18977    Right\n",
       "18978     Left\n",
       "Name: preferred_foot, Length: 18979, dtype: object"
      ]
     },
     "execution_count": 38,
     "metadata": {},
     "output_type": "execute_result"
    }
   ],
   "source": [
    "df.preferred_foot"
   ]
  },
  {
   "cell_type": "code",
   "execution_count": 39,
   "id": "151e9e1b-0fb1-4590-93a6-be2889deeb01",
   "metadata": {
    "tags": []
   },
   "outputs": [
    {
     "data": {
      "text/plain": [
       "array(['Left', 'Right'], dtype=object)"
      ]
     },
     "execution_count": 39,
     "metadata": {},
     "output_type": "execute_result"
    }
   ],
   "source": [
    "foot =df.preferred_foot\n",
    "foot.unique()"
   ]
  },
  {
   "cell_type": "code",
   "execution_count": 40,
   "id": "6f98e606-f944-456b-aa50-3c4d7584d617",
   "metadata": {
    "tags": []
   },
   "outputs": [],
   "source": [
    "df.preferred_foot = foot.astype('category')"
   ]
  },
  {
   "cell_type": "code",
   "execution_count": 41,
   "id": "ac607ea9-d16a-494e-9850-b4c5cb5309f8",
   "metadata": {
    "tags": []
   },
   "outputs": [
    {
     "data": {
      "text/plain": [
       "CategoricalDtype(categories=['Left', 'Right'], ordered=False)"
      ]
     },
     "execution_count": 41,
     "metadata": {},
     "output_type": "execute_result"
    }
   ],
   "source": [
    "df.dtypes['preferred_foot']"
   ]
  },
  {
   "cell_type": "markdown",
   "id": "624a3aa6-7adf-464c-b642-8fb0c8db0a3d",
   "metadata": {
    "toc-hr-collapsed": true
   },
   "source": [
    "### 5. `value`, `wage` and `release_clause` can be converted to float and remove euro sign (or maybe there's some dollar sign)"
   ]
  },
  {
   "cell_type": "code",
   "execution_count": 42,
   "id": "4693d360-7805-4cb1-933d-2ddf54cebad5",
   "metadata": {
    "tags": []
   },
   "outputs": [],
   "source": [
    "value = df.value\n",
    "wage = df.wage\n",
    "release_clause = df.release_clause"
   ]
  },
  {
   "cell_type": "code",
   "execution_count": 43,
   "id": "d3d7113e-f01d-4f3c-a9ed-86a9d785304e",
   "metadata": {
    "tags": []
   },
   "outputs": [
    {
     "data": {
      "text/plain": [
       "3418     €18K\n",
       "8480      €7K\n",
       "18699     €3K\n",
       "13977     €3K\n",
       "9399      €2K\n",
       "Name: wage, dtype: object"
      ]
     },
     "execution_count": 43,
     "metadata": {},
     "output_type": "execute_result"
    }
   ],
   "source": [
    "wage.sample(5)"
   ]
  },
  {
   "cell_type": "code",
   "execution_count": 44,
   "id": "d5687c0a-0269-494d-a0a2-692c8ec5dfc2",
   "metadata": {
    "tags": []
   },
   "outputs": [
    {
     "data": {
      "text/plain": [
       "15837    €550K\n",
       "9396     €1.8M\n",
       "1176       €7M\n",
       "11377    €400K\n",
       "18558     €90K\n",
       "Name: value, dtype: object"
      ]
     },
     "execution_count": 44,
     "metadata": {},
     "output_type": "execute_result"
    }
   ],
   "source": [
    "value.sample(5)"
   ]
  },
  {
   "cell_type": "code",
   "execution_count": 45,
   "id": "aee10918-eec5-4264-b82f-9add3519dd1f",
   "metadata": {
    "tags": []
   },
   "outputs": [
    {
     "data": {
      "text/plain": [
       "10412     €991K\n",
       "756      €18.9M\n",
       "14015     €276K\n",
       "2264      €6.5M\n",
       "1653       €16M\n",
       "Name: release_clause, dtype: object"
      ]
     },
     "execution_count": 45,
     "metadata": {},
     "output_type": "execute_result"
    }
   ],
   "source": [
    "release_clause.sample(5)"
   ]
  },
  {
   "cell_type": "markdown",
   "id": "9e9964c3-da93-4289-97ea-1044eb03ea26",
   "metadata": {},
   "source": [
    "#### 5.1 Check if all values are in euros or there are in dollars"
   ]
  },
  {
   "cell_type": "code",
   "execution_count": 46,
   "id": "556c1f4f-bd85-4d87-83d6-99404643b203",
   "metadata": {
    "tags": []
   },
   "outputs": [
    {
     "data": {
      "text/plain": [
       "array(['€'], dtype=object)"
      ]
     },
     "execution_count": 46,
     "metadata": {},
     "output_type": "execute_result"
    }
   ],
   "source": [
    "value.str[0].unique()"
   ]
  },
  {
   "cell_type": "code",
   "execution_count": 47,
   "id": "6d8169af-2027-4237-a72a-1e61f7474dc6",
   "metadata": {
    "tags": []
   },
   "outputs": [
    {
     "data": {
      "text/plain": [
       "array(['€'], dtype=object)"
      ]
     },
     "execution_count": 47,
     "metadata": {},
     "output_type": "execute_result"
    }
   ],
   "source": [
    "wage.str[0].unique()"
   ]
  },
  {
   "cell_type": "code",
   "execution_count": 48,
   "id": "6288f6fb-3cd1-4d4a-8b3e-607afff284c9",
   "metadata": {
    "tags": []
   },
   "outputs": [
    {
     "data": {
      "text/plain": [
       "array(['€'], dtype=object)"
      ]
     },
     "execution_count": 48,
     "metadata": {},
     "output_type": "execute_result"
    }
   ],
   "source": [
    "release_clause.str[0].unique()"
   ]
  },
  {
   "cell_type": "markdown",
   "id": "402f396b-6de5-4798-9765-cf069f8805b0",
   "metadata": {},
   "source": [
    "#### 5.2 Remove euro sign"
   ]
  },
  {
   "cell_type": "code",
   "execution_count": 49,
   "id": "bfbbc469-bd47-41bc-9d4d-e477d34c9e4a",
   "metadata": {
    "tags": []
   },
   "outputs": [],
   "source": [
    "value = value.str[1:]\n",
    "wage = wage.str[1:]\n",
    "release_clause = release_clause.str[1:]"
   ]
  },
  {
   "cell_type": "markdown",
   "id": "e7b00647-7ab2-4962-853a-88587b8c2e44",
   "metadata": {},
   "source": [
    "#### 5.3 Convert to million euros using a custom function"
   ]
  },
  {
   "cell_type": "code",
   "execution_count": 50,
   "id": "25dc7b80-3616-4040-8e5b-c7bd599b65b5",
   "metadata": {
    "tags": []
   },
   "outputs": [],
   "source": [
    "def to_millions(i):\n",
    "    if i[-1] == 'K':\n",
    "        return float(i[:-1]) / 1000\n",
    "    else:\n",
    "        return float(i[:-1])"
   ]
  },
  {
   "cell_type": "markdown",
   "id": "8461b8be-446c-4e45-90cc-dc3c719939ed",
   "metadata": {},
   "source": [
    "#### Error: `ValueError: could not convert string to float: ''`\n",
    "Uncomment the cell below to see the whole error output."
   ]
  },
  {
   "cell_type": "code",
   "execution_count": 51,
   "id": "c29ec2e7-4b50-4385-b0c4-3f308b75e0bb",
   "metadata": {
    "tags": []
   },
   "outputs": [],
   "source": [
    "#value.apply(to_millions)"
   ]
  },
  {
   "cell_type": "markdown",
   "id": "2e34e03b-4541-452d-8050-c5ff1ddb2332",
   "metadata": {},
   "source": [
    "It looks as if there are some empty values. Count the nan for every variable"
   ]
  },
  {
   "cell_type": "code",
   "execution_count": 52,
   "id": "6ea64460-b9c9-4154-8487-ef08d4209477",
   "metadata": {
    "tags": []
   },
   "outputs": [
    {
     "data": {
      "text/plain": [
       "248"
      ]
     },
     "execution_count": 52,
     "metadata": {},
     "output_type": "execute_result"
    }
   ],
   "source": [
    "v = value.str[:-1]\n",
    "(v == '').sum()"
   ]
  },
  {
   "cell_type": "code",
   "execution_count": 53,
   "id": "825c83f7-29ec-4e04-aee3-a529d51f4041",
   "metadata": {
    "tags": []
   },
   "outputs": [
    {
     "data": {
      "text/plain": [
       "237"
      ]
     },
     "execution_count": 53,
     "metadata": {},
     "output_type": "execute_result"
    }
   ],
   "source": [
    "w = wage.str[:-1]\n",
    "(w == '').sum()"
   ]
  },
  {
   "cell_type": "code",
   "execution_count": 54,
   "id": "8a8f7cdc-6f3c-4943-8db9-7b735865317c",
   "metadata": {
    "tags": []
   },
   "outputs": [
    {
     "data": {
      "text/plain": [
       "1261"
      ]
     },
     "execution_count": 54,
     "metadata": {},
     "output_type": "execute_result"
    }
   ],
   "source": [
    "r = release_clause.str[:-1]\n",
    "(r == '').sum()"
   ]
  },
  {
   "cell_type": "markdown",
   "id": "0671ff7f-aada-4f63-a753-2cdef95951af",
   "metadata": {},
   "source": [
    "Last count of nan values was really high. What is the percentage of nan in the variable?"
   ]
  },
  {
   "cell_type": "code",
   "execution_count": 55,
   "id": "1e4c6cef-bab8-4e95-a7b2-684bbbf399a4",
   "metadata": {
    "tags": []
   },
   "outputs": [
    {
     "name": "stdout",
     "output_type": "stream",
     "text": [
      "The percentage of nan values in release_clause variable is: 6.64\n"
     ]
    }
   ],
   "source": [
    "nan_count = (r == '').sum()\n",
    "print(f'The percentage of nan values in release_clause variable is: {round(nan_count / len(r) * 100, 2)}')"
   ]
  },
  {
   "cell_type": "markdown",
   "id": "b3f81e09-aba9-4334-b0bc-dba24a35e429",
   "metadata": {},
   "source": [
    "So the count was not so high in the end."
   ]
  },
  {
   "cell_type": "markdown",
   "id": "b5319219-4458-4280-b32d-359804cbd2a7",
   "metadata": {},
   "source": [
    "There are empty values: ''. I will use a slightly modified version of function `to_millions` that replaces the '' values for '0M'."
   ]
  },
  {
   "cell_type": "code",
   "execution_count": 56,
   "id": "4bd43dc5-c431-4a40-94b8-817c4cd99717",
   "metadata": {
    "tags": []
   },
   "outputs": [],
   "source": [
    "def to_millions(i):\n",
    "    if i[:-1] == '':\n",
    "        return np.nan\n",
    "    elif i[-1] == 'K':\n",
    "        return float(i[:-1]) / 1000\n",
    "    else:\n",
    "        return float(i[:-1])"
   ]
  },
  {
   "cell_type": "code",
   "execution_count": 57,
   "id": "661d3622-1ab0-4798-ae1a-6e5f3663a81c",
   "metadata": {
    "tags": []
   },
   "outputs": [],
   "source": [
    "value = value.apply(to_millions)\n",
    "wage = wage.apply(to_millions)\n",
    "release_clause = release_clause.apply(to_millions)"
   ]
  },
  {
   "cell_type": "markdown",
   "id": "46d1d876-83bd-40a9-82fc-f178cfd9992c",
   "metadata": {},
   "source": [
    "#### 5.4 Impute nan values by the mean value"
   ]
  },
  {
   "cell_type": "markdown",
   "id": "828757e3-14fa-449e-aef0-333350f9153d",
   "metadata": {},
   "source": [
    "Remember that there were empty values, which are now nan values:"
   ]
  },
  {
   "cell_type": "code",
   "execution_count": 58,
   "id": "13e73fc9-975a-43ef-85e6-7081c0aa9628",
   "metadata": {
    "tags": []
   },
   "outputs": [
    {
     "data": {
      "text/plain": [
       "248"
      ]
     },
     "execution_count": 58,
     "metadata": {},
     "output_type": "execute_result"
    }
   ],
   "source": [
    "value.isna().sum()"
   ]
  },
  {
   "cell_type": "markdown",
   "id": "c9702a47-12ce-4007-a08b-6c023777166d",
   "metadata": {},
   "source": [
    "I will impute nan values by the mean of every variable"
   ]
  },
  {
   "cell_type": "code",
   "execution_count": 59,
   "id": "f302d114-6f04-4753-9a25-437d52234363",
   "metadata": {
    "tags": []
   },
   "outputs": [
    {
     "data": {
      "text/plain": [
       "2.9029965832043136"
      ]
     },
     "execution_count": 59,
     "metadata": {},
     "output_type": "execute_result"
    }
   ],
   "source": [
    "value_mean = value[value.notnull()].mean()\n",
    "value_mean"
   ]
  },
  {
   "cell_type": "code",
   "execution_count": 60,
   "id": "7afad853-2199-4ead-a0e2-e66fdc6de4a1",
   "metadata": {
    "tags": []
   },
   "outputs": [
    {
     "data": {
      "text/plain": [
       "12.132925301461956"
      ]
     },
     "execution_count": 60,
     "metadata": {},
     "output_type": "execute_result"
    }
   ],
   "source": [
    "wage_mean = wage[wage.notnull()].mean()\n",
    "wage_mean"
   ]
  },
  {
   "cell_type": "code",
   "execution_count": 61,
   "id": "015c4afa-5458-482c-9ddb-35305523f95f",
   "metadata": {
    "tags": []
   },
   "outputs": [
    {
     "data": {
      "text/plain": [
       "4.24499678293261"
      ]
     },
     "execution_count": 61,
     "metadata": {},
     "output_type": "execute_result"
    }
   ],
   "source": [
    "release_clause_mean = release_clause[release_clause.notnull()].mean()\n",
    "release_clause_mean"
   ]
  },
  {
   "cell_type": "code",
   "execution_count": 62,
   "id": "6e9836de-69e7-4b13-9533-5f6e5d76c5cf",
   "metadata": {
    "tags": []
   },
   "outputs": [],
   "source": [
    "value = value.fillna(value_mean)\n",
    "wage = wage.fillna(wage_mean)\n",
    "release_clause = release_clause.fillna(release_clause_mean)"
   ]
  },
  {
   "cell_type": "markdown",
   "id": "50174e21-5005-45a8-8a38-10b5d47d0a96",
   "metadata": {},
   "source": [
    "#### 5.5 Save the clean variables to the dataframe and rename column to `euros_M`"
   ]
  },
  {
   "cell_type": "code",
   "execution_count": 63,
   "id": "cc794e61-f0bf-4783-9d38-54c8ca22bf54",
   "metadata": {
    "tags": []
   },
   "outputs": [],
   "source": [
    "df.value = value\n",
    "df.wage = wage\n",
    "df.release_clause = release_clause"
   ]
  },
  {
   "cell_type": "code",
   "execution_count": 64,
   "id": "d775e26c-9d0c-4147-aa3c-1eb1cd59594b",
   "metadata": {
    "tags": []
   },
   "outputs": [],
   "source": [
    "df.rename(columns = {'value' : 'value_euros_M',\n",
    "                    'wage': 'wage_euros_M',\n",
    "                    'release_clause': 'release_clause_euros_M'},\n",
    "          inplace='True')"
   ]
  },
  {
   "cell_type": "markdown",
   "id": "f52d4291-3a5a-4f64-a54d-8be101b96618",
   "metadata": {},
   "source": [
    "### 6. `W/F`, `SM` and `IR` must be converted to integer (or categorical and then ordered category)"
   ]
  },
  {
   "cell_type": "code",
   "execution_count": 65,
   "id": "913f08f2-d6fb-4451-8bf6-0c8e6549c439",
   "metadata": {
    "tags": []
   },
   "outputs": [],
   "source": [
    "wf = df['w/f']\n",
    "sm = df.sm\n",
    "ir = df.ir"
   ]
  },
  {
   "cell_type": "markdown",
   "id": "26c8b6ff-928b-441a-bb08-52c2fa33f6fc",
   "metadata": {
    "tags": []
   },
   "source": [
    "Inspect wf, sm and ir values"
   ]
  },
  {
   "cell_type": "code",
   "execution_count": 66,
   "id": "3c84d82b-ef78-491e-8388-62654d1ad131",
   "metadata": {
    "tags": []
   },
   "outputs": [
    {
     "data": {
      "text/plain": [
       "array(['4 ★', '3 ★', '5 ★', '2 ★', '1 ★'], dtype=object)"
      ]
     },
     "execution_count": 66,
     "metadata": {},
     "output_type": "execute_result"
    }
   ],
   "source": [
    "wf.unique()"
   ]
  },
  {
   "cell_type": "code",
   "execution_count": 67,
   "id": "943d0d25-f1da-4461-862b-33e83c71d01d",
   "metadata": {
    "tags": []
   },
   "outputs": [
    {
     "data": {
      "text/plain": [
       "array(['4★', '5★', '1★', '2★', '3★'], dtype=object)"
      ]
     },
     "execution_count": 67,
     "metadata": {},
     "output_type": "execute_result"
    }
   ],
   "source": [
    "sm.unique()"
   ]
  },
  {
   "cell_type": "code",
   "execution_count": 68,
   "id": "533284a2-a46c-4ed4-8f37-e2bce1f343d2",
   "metadata": {
    "tags": []
   },
   "outputs": [
    {
     "data": {
      "text/plain": [
       "array(['5 ★', '3 ★', '4 ★', '2 ★', '1 ★'], dtype=object)"
      ]
     },
     "execution_count": 68,
     "metadata": {},
     "output_type": "execute_result"
    }
   ],
   "source": [
    "ir.unique()"
   ]
  },
  {
   "cell_type": "markdown",
   "id": "9db4e868-6364-43d9-894b-cdf10809c7ac",
   "metadata": {},
   "source": [
    "Custom function to process data:"
   ]
  },
  {
   "cell_type": "code",
   "execution_count": 69,
   "id": "004f2d9f-5e8b-4014-867d-ca9d0cadc045",
   "metadata": {
    "tags": []
   },
   "outputs": [],
   "source": [
    "def remove_star(i):\n",
    "    return int(i[0])"
   ]
  },
  {
   "cell_type": "code",
   "execution_count": 70,
   "id": "bcb14d0a-cc9c-4a6d-b2f3-4ab91f4c1e16",
   "metadata": {
    "tags": []
   },
   "outputs": [
    {
     "data": {
      "text/plain": [
       "0        4\n",
       "1        4\n",
       "2        3\n",
       "3        5\n",
       "4        5\n",
       "        ..\n",
       "18974    2\n",
       "18975    2\n",
       "18976    2\n",
       "18977    3\n",
       "18978    3\n",
       "Name: w/f, Length: 18979, dtype: int64"
      ]
     },
     "execution_count": 70,
     "metadata": {},
     "output_type": "execute_result"
    }
   ],
   "source": [
    "wf.apply(remove_star)"
   ]
  },
  {
   "cell_type": "code",
   "execution_count": 71,
   "id": "c2e816d4-4d19-4f81-8c5a-87dd89d92a1d",
   "metadata": {
    "tags": []
   },
   "outputs": [],
   "source": [
    "wf = wf.apply(remove_star)\n",
    "sm = sm.apply(remove_star)\n",
    "ir = ir.apply(remove_star)"
   ]
  },
  {
   "cell_type": "markdown",
   "id": "bc2905b2-d18d-4ed4-aeb9-0469d262580a",
   "metadata": {},
   "source": [
    "Now lets convert to category dtype"
   ]
  },
  {
   "cell_type": "code",
   "execution_count": 72,
   "id": "5f0f6afe-67a1-4129-82e3-2d30dc9d5e6f",
   "metadata": {
    "tags": []
   },
   "outputs": [],
   "source": [
    "wf = wf.astype('category')\n",
    "sm = sm.astype('category')\n",
    "ir = ir.astype('category')"
   ]
  },
  {
   "cell_type": "markdown",
   "id": "248baf54-93fe-458f-b8eb-e48dd0c7a3d1",
   "metadata": {},
   "source": [
    "Check if categories are ordered:"
   ]
  },
  {
   "cell_type": "markdown",
   "id": "ea15554b-b706-406e-b73d-0eec8fbb17e8",
   "metadata": {
    "tags": [],
    "toc-hr-collapsed": true
   },
   "source": [
    "#### Error: `TypeError: Unordered Categoricals can only compare equality or not`\n",
    "Uncomment the cell below to see the whole error output."
   ]
  },
  {
   "cell_type": "code",
   "execution_count": 73,
   "id": "da2752c2-cdea-4497-a34f-1111307b1c74",
   "metadata": {
    "tags": []
   },
   "outputs": [],
   "source": [
    "#ir[ir >=3]"
   ]
  },
  {
   "cell_type": "markdown",
   "id": "1d3b95d0-f803-4286-89f4-c16d6a1fda74",
   "metadata": {},
   "source": [
    "Set ordered categories using `.cat.set_categories([ordered values], ordered=True)`"
   ]
  },
  {
   "cell_type": "code",
   "execution_count": 74,
   "id": "a85eab35-8453-4eed-a1c6-4cf7ebb91b6c",
   "metadata": {
    "tags": []
   },
   "outputs": [],
   "source": [
    "wf = wf.cat.set_categories([1,2,3,4,5], ordered=True)\n",
    "sm = sm.cat.set_categories([1,2,3,4,5], ordered=True)\n",
    "ir = ir.cat.set_categories([1,2,3,4,5], ordered=True)"
   ]
  },
  {
   "cell_type": "markdown",
   "id": "e2aceffe-e736-454d-ae78-fefb73926cb9",
   "metadata": {},
   "source": [
    "Check if categories are ordered (again):"
   ]
  },
  {
   "cell_type": "code",
   "execution_count": 75,
   "id": "006ec665-db4c-4a50-9b7a-f682616728eb",
   "metadata": {
    "tags": []
   },
   "outputs": [
    {
     "data": {
      "text/plain": [
       "0        5\n",
       "1        5\n",
       "2        3\n",
       "3        4\n",
       "4        5\n",
       "        ..\n",
       "4988     3\n",
       "5792     3\n",
       "6286     3\n",
       "8552     3\n",
       "10101    3\n",
       "Name: ir, Length: 332, dtype: category\n",
       "Categories (5, int64): [1 < 2 < 3 < 4 < 5]"
      ]
     },
     "execution_count": 75,
     "metadata": {},
     "output_type": "execute_result"
    }
   ],
   "source": [
    "ir[ir >=3]"
   ]
  },
  {
   "cell_type": "markdown",
   "id": "0020b415-00c2-472e-80e8-e72e45c1ebf7",
   "metadata": {},
   "source": [
    "Finally, assign to the original dataframe"
   ]
  },
  {
   "cell_type": "code",
   "execution_count": 76,
   "id": "b0602d8b-d8b2-4c1c-b935-04da39c53599",
   "metadata": {
    "tags": []
   },
   "outputs": [],
   "source": [
    "df['w/f'] = wf\n",
    "df.sm = sm\n",
    "df.ir = ir"
   ]
  },
  {
   "cell_type": "markdown",
   "id": "fcd6ba0d-d657-48f6-9ca3-e9f12aaa089b",
   "metadata": {},
   "source": [
    "### 7. `Joined` must be datetime dtype"
   ]
  },
  {
   "cell_type": "code",
   "execution_count": 77,
   "id": "e841c79c-b6b7-431e-a4b2-3b59e4691c70",
   "metadata": {
    "tags": []
   },
   "outputs": [],
   "source": [
    "joined = df.joined"
   ]
  },
  {
   "cell_type": "code",
   "execution_count": 78,
   "id": "ea22c33c-2f4b-44ba-b4e4-4e7268f7f193",
   "metadata": {
    "tags": []
   },
   "outputs": [
    {
     "data": {
      "text/plain": [
       "0       2004-07-01\n",
       "1       2018-07-10\n",
       "2       2014-07-16\n",
       "3       2015-08-30\n",
       "4       2017-08-03\n",
       "           ...    \n",
       "18974   2018-07-13\n",
       "18975   2020-08-01\n",
       "18976   2019-03-08\n",
       "18977   2020-09-22\n",
       "18978   2019-07-29\n",
       "Name: joined, Length: 18979, dtype: datetime64[ns]"
      ]
     },
     "execution_count": 78,
     "metadata": {},
     "output_type": "execute_result"
    }
   ],
   "source": [
    "pd.to_datetime(joined)"
   ]
  },
  {
   "cell_type": "code",
   "execution_count": 79,
   "id": "2162af64-c0fc-43d1-9f3c-4c23afd9d1b9",
   "metadata": {
    "tags": []
   },
   "outputs": [
    {
     "data": {
      "text/plain": [
       "0"
      ]
     },
     "execution_count": 79,
     "metadata": {},
     "output_type": "execute_result"
    }
   ],
   "source": [
    "pd.to_datetime(joined).isna().sum()"
   ]
  },
  {
   "cell_type": "markdown",
   "id": "a3b3163f-82e5-49d7-ad55-2299ed66d6ef",
   "metadata": {},
   "source": [
    "Everything went right, so let's assign"
   ]
  },
  {
   "cell_type": "code",
   "execution_count": 80,
   "id": "ad222c20-2bf9-49f4-897b-dcbccc814c73",
   "metadata": {
    "tags": []
   },
   "outputs": [],
   "source": [
    "df.joined = pd.to_datetime(joined)"
   ]
  },
  {
   "cell_type": "markdown",
   "id": "8442351c-4f2d-4e94-b90a-22dc1ed12332",
   "metadata": {
    "toc-hr-collapsed": true
   },
   "source": [
    "### 8. `Hits` can be cleaned and transformed into integer"
   ]
  },
  {
   "cell_type": "code",
   "execution_count": 81,
   "id": "c8a7566e-e310-4ead-940d-b646837ae829",
   "metadata": {
    "tags": []
   },
   "outputs": [
    {
     "data": {
      "text/plain": [
       "0        771\n",
       "1        562\n",
       "2        150\n",
       "3        207\n",
       "4        595\n",
       "        ... \n",
       "18974    NaN\n",
       "18975    NaN\n",
       "18976    NaN\n",
       "18977    NaN\n",
       "18978    NaN\n",
       "Name: hits, Length: 18979, dtype: object"
      ]
     },
     "execution_count": 81,
     "metadata": {},
     "output_type": "execute_result"
    }
   ],
   "source": [
    "hits = df.hits\n",
    "hits"
   ]
  },
  {
   "cell_type": "markdown",
   "id": "686b890e-3905-40e5-a951-e9660c8e9f03",
   "metadata": {},
   "source": [
    "We see there are some 'NaN' values. Let's make a count of nulls"
   ]
  },
  {
   "cell_type": "code",
   "execution_count": 82,
   "id": "8d4ead2e-8d91-47a4-b545-a5475f4b30d1",
   "metadata": {
    "tags": []
   },
   "outputs": [
    {
     "data": {
      "text/plain": [
       "2595"
      ]
     },
     "execution_count": 82,
     "metadata": {},
     "output_type": "execute_result"
    }
   ],
   "source": [
    "df.hits.isnull().sum()"
   ]
  },
  {
   "cell_type": "markdown",
   "id": "6087b3d1-700d-4502-b8c5-a6ac55f29a07",
   "metadata": {},
   "source": [
    "Let's try a dtype conversion and see what happens..."
   ]
  },
  {
   "cell_type": "markdown",
   "id": "435f28fd-2bd9-4c32-a546-564fa8c729ad",
   "metadata": {
    "tags": [],
    "toc-hr-collapsed": true
   },
   "source": [
    "#### Error: `ValueError: invalid literal for int() with base 10: '1.6K'`\n",
    "Uncomment the cell below to see the whole error output."
   ]
  },
  {
   "cell_type": "code",
   "execution_count": 83,
   "id": "27148614-58ed-4e86-aa0e-7eb5f46554be",
   "metadata": {},
   "outputs": [],
   "source": [
    "#df.hits.astype(int)"
   ]
  },
  {
   "cell_type": "markdown",
   "id": "4c062d60-a612-4619-9a51-306eedf42bb5",
   "metadata": {},
   "source": [
    "Looks like some of them have letters (K for thousands). They need a deeper transformation."
   ]
  },
  {
   "cell_type": "code",
   "execution_count": 84,
   "id": "02bf456c-e706-4a7c-bde7-7f466f5e928d",
   "metadata": {
    "tags": []
   },
   "outputs": [
    {
     "data": {
      "text/plain": [
       "28"
      ]
     },
     "execution_count": 84,
     "metadata": {},
     "output_type": "execute_result"
    }
   ],
   "source": [
    "hits.str.contains('K').sum()"
   ]
  },
  {
   "cell_type": "code",
   "execution_count": 85,
   "id": "b906a0ed-655c-4a5b-8edc-11116851141f",
   "metadata": {},
   "outputs": [
    {
     "data": {
      "text/plain": [
       "0        771\n",
       "1        562\n",
       "2        150\n",
       "3        207\n",
       "4        595\n",
       "        ... \n",
       "18974    NaN\n",
       "18975    NaN\n",
       "18976    NaN\n",
       "18977    NaN\n",
       "18978    NaN\n",
       "Name: hits, Length: 18979, dtype: object"
      ]
     },
     "execution_count": 85,
     "metadata": {},
     "output_type": "execute_result"
    }
   ],
   "source": [
    "hits.str.lstrip()"
   ]
  },
  {
   "cell_type": "code",
   "execution_count": 86,
   "id": "b69d8105-986e-472d-89b4-2b95f75cf81a",
   "metadata": {
    "tags": []
   },
   "outputs": [],
   "source": [
    "def clean_hits(i):\n",
    "    i = i.lstrip()\n",
    "    if i.endswith('K'):\n",
    "        i = i[:-1]\n",
    "        i = float(i) * 1000\n",
    "        i = int(i)\n",
    "    else:\n",
    "        i = int(i)\n",
    "    return i"
   ]
  },
  {
   "cell_type": "markdown",
   "id": "c16c9f23-7fc8-4437-9cb3-49156a5a85be",
   "metadata": {},
   "source": [
    "#### Error: `AttributeError: 'float' object has no attribute 'lstrip'`\n",
    "Uncomment the cell below to see the whole error output."
   ]
  },
  {
   "cell_type": "code",
   "execution_count": 87,
   "id": "c5674210-c88b-4bd6-8ee4-ede84bdcd3e4",
   "metadata": {
    "tags": []
   },
   "outputs": [],
   "source": [
    "#hits = hits.apply(clean_hits)"
   ]
  },
  {
   "cell_type": "markdown",
   "id": "715ea343-a2f7-4160-88b6-6dda92dce556",
   "metadata": {},
   "source": [
    "There's an error when processing because NaN values are of type `float`. I will convert them to 0 and then process."
   ]
  },
  {
   "cell_type": "code",
   "execution_count": 88,
   "id": "5eccfdda-0518-4498-99f1-d631f7a5f4bd",
   "metadata": {},
   "outputs": [],
   "source": [
    "hits = hits.fillna('0')"
   ]
  },
  {
   "cell_type": "code",
   "execution_count": 89,
   "id": "f16b349b-62c1-42b5-a6aa-908d729020b7",
   "metadata": {
    "tags": []
   },
   "outputs": [],
   "source": [
    "hits = hits.apply(clean_hits)"
   ]
  },
  {
   "cell_type": "markdown",
   "id": "6bed2421-ef9d-41fd-bd49-8a5a7ef4fde7",
   "metadata": {},
   "source": [
    "Now convert the 0 values to NaN again, so they can be handled later."
   ]
  },
  {
   "cell_type": "code",
   "execution_count": 90,
   "id": "06499a2b-b5df-4d5e-90cd-23cfb975c92c",
   "metadata": {},
   "outputs": [],
   "source": [
    "hits[hits == 0] = np.nan"
   ]
  },
  {
   "cell_type": "code",
   "execution_count": 91,
   "id": "919ff376-28bf-491e-bfe5-aec190877421",
   "metadata": {
    "tags": []
   },
   "outputs": [
    {
     "data": {
      "text/plain": [
       "2595"
      ]
     },
     "execution_count": 91,
     "metadata": {},
     "output_type": "execute_result"
    }
   ],
   "source": [
    "hits.isna().sum()"
   ]
  },
  {
   "cell_type": "markdown",
   "id": "107696bd-dc47-4754-8ad2-27d7e5df2ce0",
   "metadata": {},
   "source": [
    "Everything is ok now. Assign to dataframe column:"
   ]
  },
  {
   "cell_type": "code",
   "execution_count": 92,
   "id": "39995352-120a-43a3-8c5f-9d9700848d48",
   "metadata": {
    "tags": []
   },
   "outputs": [],
   "source": [
    "df.hits = hits"
   ]
  },
  {
   "cell_type": "markdown",
   "id": "266f70c4-2334-4eba-9663-94c60d87b5f6",
   "metadata": {},
   "source": [
    "### After a first cleaning stage, let's see how things are now"
   ]
  },
  {
   "cell_type": "code",
   "execution_count": 93,
   "id": "1d446656-27a8-4191-a200-fb099da6935a",
   "metadata": {
    "tags": []
   },
   "outputs": [
    {
     "data": {
      "text/html": [
       "<div>\n",
       "<style scoped>\n",
       "    .dataframe tbody tr th:only-of-type {\n",
       "        vertical-align: middle;\n",
       "    }\n",
       "\n",
       "    .dataframe tbody tr th {\n",
       "        vertical-align: top;\n",
       "    }\n",
       "\n",
       "    .dataframe thead th {\n",
       "        text-align: right;\n",
       "    }\n",
       "</style>\n",
       "<table border=\"1\" class=\"dataframe\">\n",
       "  <thead>\n",
       "    <tr style=\"text-align: right;\">\n",
       "      <th></th>\n",
       "      <th>14236</th>\n",
       "      <th>5940</th>\n",
       "      <th>12230</th>\n",
       "      <th>7252</th>\n",
       "      <th>13729</th>\n",
       "    </tr>\n",
       "  </thead>\n",
       "  <tbody>\n",
       "    <tr>\n",
       "      <th>name</th>\n",
       "      <td>B. Palacios</td>\n",
       "      <td>T. Peyre</td>\n",
       "      <td>V. Postolachi</td>\n",
       "      <td>A. O'Brien</td>\n",
       "      <td>G. Gohou</td>\n",
       "    </tr>\n",
       "    <tr>\n",
       "      <th>longname</th>\n",
       "      <td>Brandon Palacios</td>\n",
       "      <td>Thibaut Peyre</td>\n",
       "      <td>Virgiliu Postolachi</td>\n",
       "      <td>Aiden O'Brien</td>\n",
       "      <td>Gerard Bi Goua Gohou</td>\n",
       "    </tr>\n",
       "    <tr>\n",
       "      <th>photourl</th>\n",
       "      <td>https://cdn.sofifa.com/players/253/542/21_60.png</td>\n",
       "      <td>https://cdn.sofifa.com/players/211/089/21_60.png</td>\n",
       "      <td>https://cdn.sofifa.com/players/251/977/21_60.png</td>\n",
       "      <td>https://cdn.sofifa.com/players/203/491/21_60.png</td>\n",
       "      <td>https://cdn.sofifa.com/players/198/590/21_60.png</td>\n",
       "    </tr>\n",
       "    <tr>\n",
       "      <th>playerurl</th>\n",
       "      <td>http://sofifa.com/player/253542/brandon-palaci...</td>\n",
       "      <td>http://sofifa.com/player/211089/thibaut-peyre/...</td>\n",
       "      <td>http://sofifa.com/player/251977/virgiliu-posto...</td>\n",
       "      <td>http://sofifa.com/player/203491/aiden-obrien/2...</td>\n",
       "      <td>http://sofifa.com/player/198590/gerard-bi-goua...</td>\n",
       "    </tr>\n",
       "    <tr>\n",
       "      <th>nationality</th>\n",
       "      <td>Peru</td>\n",
       "      <td>France</td>\n",
       "      <td>France</td>\n",
       "      <td>Republic of Ireland</td>\n",
       "      <td>Ivory Coast</td>\n",
       "    </tr>\n",
       "    <tr>\n",
       "      <th>club</th>\n",
       "      <td>\\n\\n\\n\\nCusco FC</td>\n",
       "      <td>\\n\\n\\n\\nKV Mechelen</td>\n",
       "      <td>\\n\\n\\n\\nRoyal Excel Mouscron</td>\n",
       "      <td>\\n\\n\\n\\nSunderland</td>\n",
       "      <td>\\n\\n\\n\\nKasimpaşa SK</td>\n",
       "    </tr>\n",
       "    <tr>\n",
       "      <th>contract</th>\n",
       "      <td>2020 ~ 2021</td>\n",
       "      <td>2019 ~ 2024</td>\n",
       "      <td>2020 ~ 2021</td>\n",
       "      <td>2020 ~ 2022</td>\n",
       "      <td>2020 ~ 2021</td>\n",
       "    </tr>\n",
       "    <tr>\n",
       "      <th>positions</th>\n",
       "      <td>RM, LW, RW</td>\n",
       "      <td>CB</td>\n",
       "      <td>ST</td>\n",
       "      <td>LM, CAM, ST</td>\n",
       "      <td>ST</td>\n",
       "    </tr>\n",
       "    <tr>\n",
       "      <th>height</th>\n",
       "      <td>176cm</td>\n",
       "      <td>184cm</td>\n",
       "      <td>189cm</td>\n",
       "      <td>183cm</td>\n",
       "      <td>184cm</td>\n",
       "    </tr>\n",
       "    <tr>\n",
       "      <th>best_position</th>\n",
       "      <td>RM</td>\n",
       "      <td>CB</td>\n",
       "      <td>ST</td>\n",
       "      <td>LM</td>\n",
       "      <td>ST</td>\n",
       "    </tr>\n",
       "    <tr>\n",
       "      <th>loan_date_end</th>\n",
       "      <td>NaN</td>\n",
       "      <td>NaN</td>\n",
       "      <td>NaN</td>\n",
       "      <td>NaN</td>\n",
       "      <td>NaN</td>\n",
       "    </tr>\n",
       "    <tr>\n",
       "      <th>a/w</th>\n",
       "      <td>Medium</td>\n",
       "      <td>Medium</td>\n",
       "      <td>High</td>\n",
       "      <td>High</td>\n",
       "      <td>Medium</td>\n",
       "    </tr>\n",
       "    <tr>\n",
       "      <th>d/w</th>\n",
       "      <td>Low</td>\n",
       "      <td>Medium</td>\n",
       "      <td>Medium</td>\n",
       "      <td>Medium</td>\n",
       "      <td>Medium</td>\n",
       "    </tr>\n",
       "  </tbody>\n",
       "</table>\n",
       "</div>"
      ],
      "text/plain": [
       "                                                           14236  \\\n",
       "name                                                 B. Palacios   \n",
       "longname                                        Brandon Palacios   \n",
       "photourl        https://cdn.sofifa.com/players/253/542/21_60.png   \n",
       "playerurl      http://sofifa.com/player/253542/brandon-palaci...   \n",
       "nationality                                                 Peru   \n",
       "club                                            \\n\\n\\n\\nCusco FC   \n",
       "contract                                             2020 ~ 2021   \n",
       "positions                                             RM, LW, RW   \n",
       "height                                                     176cm   \n",
       "best_position                                                 RM   \n",
       "loan_date_end                                                NaN   \n",
       "a/w                                                       Medium   \n",
       "d/w                                                          Low   \n",
       "\n",
       "                                                           5940   \\\n",
       "name                                                    T. Peyre   \n",
       "longname                                           Thibaut Peyre   \n",
       "photourl        https://cdn.sofifa.com/players/211/089/21_60.png   \n",
       "playerurl      http://sofifa.com/player/211089/thibaut-peyre/...   \n",
       "nationality                                               France   \n",
       "club                                         \\n\\n\\n\\nKV Mechelen   \n",
       "contract                                             2019 ~ 2024   \n",
       "positions                                                     CB   \n",
       "height                                                     184cm   \n",
       "best_position                                                 CB   \n",
       "loan_date_end                                                NaN   \n",
       "a/w                                                       Medium   \n",
       "d/w                                                       Medium   \n",
       "\n",
       "                                                           12230  \\\n",
       "name                                               V. Postolachi   \n",
       "longname                                     Virgiliu Postolachi   \n",
       "photourl        https://cdn.sofifa.com/players/251/977/21_60.png   \n",
       "playerurl      http://sofifa.com/player/251977/virgiliu-posto...   \n",
       "nationality                                               France   \n",
       "club                                \\n\\n\\n\\nRoyal Excel Mouscron   \n",
       "contract                                             2020 ~ 2021   \n",
       "positions                                                     ST   \n",
       "height                                                     189cm   \n",
       "best_position                                                 ST   \n",
       "loan_date_end                                                NaN   \n",
       "a/w                                                         High   \n",
       "d/w                                                       Medium   \n",
       "\n",
       "                                                           7252   \\\n",
       "name                                                  A. O'Brien   \n",
       "longname                                           Aiden O'Brien   \n",
       "photourl        https://cdn.sofifa.com/players/203/491/21_60.png   \n",
       "playerurl      http://sofifa.com/player/203491/aiden-obrien/2...   \n",
       "nationality                                  Republic of Ireland   \n",
       "club                                          \\n\\n\\n\\nSunderland   \n",
       "contract                                             2020 ~ 2022   \n",
       "positions                                            LM, CAM, ST   \n",
       "height                                                     183cm   \n",
       "best_position                                                 LM   \n",
       "loan_date_end                                                NaN   \n",
       "a/w                                                         High   \n",
       "d/w                                                       Medium   \n",
       "\n",
       "                                                           13729  \n",
       "name                                                    G. Gohou  \n",
       "longname                                    Gerard Bi Goua Gohou  \n",
       "photourl        https://cdn.sofifa.com/players/198/590/21_60.png  \n",
       "playerurl      http://sofifa.com/player/198590/gerard-bi-goua...  \n",
       "nationality                                          Ivory Coast  \n",
       "club                                        \\n\\n\\n\\nKasimpaşa SK  \n",
       "contract                                             2020 ~ 2021  \n",
       "positions                                                     ST  \n",
       "height                                                     184cm  \n",
       "best_position                                                 ST  \n",
       "loan_date_end                                                NaN  \n",
       "a/w                                                       Medium  \n",
       "d/w                                                       Medium  "
      ]
     },
     "execution_count": 93,
     "metadata": {},
     "output_type": "execute_result"
    }
   ],
   "source": [
    "# just take 5 rows to check the values and see if they effectively must be integers or some need a type conversion\n",
    "string_vars = df.select_dtypes(object).sample(5)\n",
    "string_vars.T"
   ]
  },
  {
   "cell_type": "markdown",
   "id": "cabd2b98-526b-4f56-808d-7271978e02e7",
   "metadata": {},
   "source": [
    "In a second round of cleaning, I will act on variables: `a/w` and `d/w`"
   ]
  },
  {
   "cell_type": "markdown",
   "id": "559bc010-cbde-4062-975d-30b54010ce90",
   "metadata": {},
   "source": [
    "### 9. Set `a/w` and `d/w` to categorical and sort their category values"
   ]
  },
  {
   "cell_type": "code",
   "execution_count": 94,
   "id": "eacd4679-cf7a-46c8-8da6-ecbf5920ee83",
   "metadata": {
    "tags": []
   },
   "outputs": [
    {
     "data": {
      "text/plain": [
       "0"
      ]
     },
     "execution_count": 94,
     "metadata": {},
     "output_type": "execute_result"
    }
   ],
   "source": [
    "df['a/w'].isna().sum()"
   ]
  },
  {
   "cell_type": "code",
   "execution_count": 95,
   "id": "f67a0efe-c89a-473b-9c93-591c1a622e5b",
   "metadata": {
    "tags": []
   },
   "outputs": [
    {
     "data": {
      "text/plain": [
       "0"
      ]
     },
     "execution_count": 95,
     "metadata": {},
     "output_type": "execute_result"
    }
   ],
   "source": [
    "df['d/w'].isna().sum()"
   ]
  },
  {
   "cell_type": "code",
   "execution_count": 96,
   "id": "8469976c-4167-4102-8182-f31dc205baf1",
   "metadata": {
    "tags": []
   },
   "outputs": [],
   "source": [
    "df['a/w'] = df['a/w'].astype('category')\n",
    "df['d/w'] = df['d/w'].astype('category')"
   ]
  },
  {
   "cell_type": "code",
   "execution_count": 97,
   "id": "aceae8ce-3de1-44d9-8ab2-3af086ea67bc",
   "metadata": {
    "tags": []
   },
   "outputs": [
    {
     "data": {
      "text/plain": [
       "['Medium', 'High', 'Low']\n",
       "Categories (3, object): ['High', 'Low', 'Medium']"
      ]
     },
     "execution_count": 97,
     "metadata": {},
     "output_type": "execute_result"
    }
   ],
   "source": [
    "df['a/w'].unique()"
   ]
  },
  {
   "cell_type": "code",
   "execution_count": 98,
   "id": "d0a755bf-30d6-4751-90c8-ad171b783c4a",
   "metadata": {
    "tags": []
   },
   "outputs": [
    {
     "data": {
      "text/plain": [
       "['Low', 'Medium', 'High']\n",
       "Categories (3, object): ['High', 'Low', 'Medium']"
      ]
     },
     "execution_count": 98,
     "metadata": {},
     "output_type": "execute_result"
    }
   ],
   "source": [
    "df['d/w'].unique()"
   ]
  },
  {
   "cell_type": "code",
   "execution_count": 99,
   "id": "5154eda1-fe20-47be-9ac9-896ad90ccdad",
   "metadata": {
    "tags": []
   },
   "outputs": [],
   "source": [
    "df['a/w'] = df['a/w'].cat.set_categories(['Low', 'Medium', 'High'], ordered=True)\n",
    "df['d/w'] = df['d/w'].cat.set_categories(['Low', 'Medium', 'High'], ordered=True)"
   ]
  },
  {
   "cell_type": "code",
   "execution_count": 100,
   "id": "c25f7d1f-a638-4db5-86b0-3d1433161ff6",
   "metadata": {
    "tags": []
   },
   "outputs": [
    {
     "data": {
      "text/plain": [
       "8606      Low\n",
       "3451      Low\n",
       "7347      Low\n",
       "12569     Low\n",
       "15007     Low\n",
       "         ... \n",
       "3767     High\n",
       "3768     High\n",
       "14656    High\n",
       "3758     High\n",
       "8604     High\n",
       "Name: a/w, Length: 18979, dtype: category\n",
       "Categories (3, object): ['Low' < 'Medium' < 'High']"
      ]
     },
     "execution_count": 100,
     "metadata": {},
     "output_type": "execute_result"
    }
   ],
   "source": [
    "df['a/w'].sort_values()"
   ]
  },
  {
   "cell_type": "markdown",
   "id": "b08227e8-5600-4011-86fc-02953888b247",
   "metadata": {},
   "source": [
    "### 10. Clean `contract` variable"
   ]
  },
  {
   "cell_type": "code",
   "execution_count": 101,
   "id": "1a760ae6-91a8-42b2-ac42-a4ab93dcf615",
   "metadata": {},
   "outputs": [
    {
     "data": {
      "text/plain": [
       "0        2004 ~ 2021\n",
       "1        2018 ~ 2022\n",
       "2        2014 ~ 2023\n",
       "3        2015 ~ 2023\n",
       "4        2017 ~ 2022\n",
       "            ...     \n",
       "18974    2018 ~ 2022\n",
       "18975    2020 ~ 2021\n",
       "18976    2019 ~ 2020\n",
       "18977    2020 ~ 2022\n",
       "18978    2019 ~ 2023\n",
       "Name: contract, Length: 18979, dtype: object"
      ]
     },
     "execution_count": 101,
     "metadata": {},
     "output_type": "execute_result"
    }
   ],
   "source": [
    "df.contract"
   ]
  },
  {
   "cell_type": "markdown",
   "id": "e86dc845-f129-4633-aefd-26a76dd077f4",
   "metadata": {},
   "source": [
    "Let's see if there are any other \"strange\" values that don't start with a year"
   ]
  },
  {
   "cell_type": "code",
   "execution_count": 102,
   "id": "2fd593b3-1878-4836-8517-008d7d490481",
   "metadata": {},
   "outputs": [
    {
     "data": {
      "text/plain": [
       "205      Jun 30, 2021 On Loan\n",
       "248      Jun 30, 2021 On Loan\n",
       "254      Jun 30, 2021 On Loan\n",
       "289                      Free\n",
       "292                      Free\n",
       "                 ...         \n",
       "18472    Aug 31, 2021 On Loan\n",
       "18571    Jun 30, 2021 On Loan\n",
       "18600    Dec 31, 2020 On Loan\n",
       "18622    Dec 31, 2020 On Loan\n",
       "18680    Dec 31, 2020 On Loan\n",
       "Name: contract, Length: 1251, dtype: object"
      ]
     },
     "execution_count": 102,
     "metadata": {},
     "output_type": "execute_result"
    }
   ],
   "source": [
    "df.contract[ ~ df.contract.str.startswith('2')]"
   ]
  },
  {
   "cell_type": "markdown",
   "id": "0acc9f93-e2cc-4c76-b921-295031c19673",
   "metadata": {},
   "source": [
    "I will create a new column called `on_loan_from` for those players who are currently on loan.\n",
    "For the rest of them, I will create two new columns: `contract_started` and `contract_ends`.  \n",
    "`contract` column will be reasigned as a boolean column, meaning `free` has a value of False. Otherwise, `True` and will have his/her corresponding `contract_started` and `contract_ends` values.\n",
    "\n",
    "Now I will create a custom function to deal with different types of contract values."
   ]
  },
  {
   "cell_type": "code",
   "execution_count": 103,
   "id": "2e5ee6e2-b2a2-4be9-9835-060599b4080a",
   "metadata": {},
   "outputs": [],
   "source": [
    "contract = df.contract.copy()"
   ]
  },
  {
   "cell_type": "code",
   "execution_count": 104,
   "id": "5b2a9c67-da79-4bfe-b261-8e84cb507acc",
   "metadata": {},
   "outputs": [],
   "source": [
    "def process_contract(value):\n",
    "    # contract has a start and end date\n",
    "    if '~' in value:\n",
    "        dates = value.split(' ~ ')\n",
    "        contract_start = dates[0]\n",
    "        contract_end = dates[1]\n",
    "        return [contract_start, contract_end]\n",
    "    # player has currently no contract\n",
    "    elif value == 'Free':\n",
    "        return ['free_player']\n",
    "    # on loan contract\n",
    "    else:\n",
    "        loan_start = value[:-8]\n",
    "        return ['on_loan', loan_start]      "
   ]
  },
  {
   "cell_type": "code",
   "execution_count": 105,
   "id": "32143d93-6bdc-460d-a916-361ce392857b",
   "metadata": {},
   "outputs": [
    {
     "data": {
      "text/plain": [
       "'Aug 31, 2021'"
      ]
     },
     "execution_count": 105,
     "metadata": {},
     "output_type": "execute_result"
    }
   ],
   "source": [
    "df.contract.iloc[18472][:-8]"
   ]
  },
  {
   "cell_type": "code",
   "execution_count": 106,
   "id": "2d9dadc3-9238-4e72-a1f6-af249898090a",
   "metadata": {},
   "outputs": [],
   "source": [
    "contract = contract.apply(process_contract)"
   ]
  },
  {
   "cell_type": "markdown",
   "id": "4a2fa0ed-6135-47c8-9a29-891d1abdac07",
   "metadata": {},
   "source": [
    "After having applied the function, there will be three types of values:\n",
    "1. a list with start and end years for contract\n",
    "2. a list with only one element: 'free'\n",
    "3. a list with first element equals to 'on_loan' and 2nd element: on_loan_from"
   ]
  },
  {
   "cell_type": "markdown",
   "id": "02e75adc-d352-4a7b-8f5c-20a4ca7b2e36",
   "metadata": {},
   "source": [
    "Now let's create the three new columns: `contract_started`, `contract_ends`, `has_contract` (boolean) and `on_loan_from`"
   ]
  },
  {
   "cell_type": "markdown",
   "id": "eba42ec1-900b-463a-a007-ff823d80699a",
   "metadata": {},
   "source": [
    "Create `on_loan` column:"
   ]
  },
  {
   "cell_type": "code",
   "execution_count": 107,
   "id": "5a5b0a8c-74df-48f7-96af-9ea108a8f67e",
   "metadata": {
    "tags": []
   },
   "outputs": [],
   "source": [
    "df['on_loan_from'] = [i[1] if i[0] == 'on_loan' else np.nan for i in contract]"
   ]
  },
  {
   "cell_type": "code",
   "execution_count": 108,
   "id": "fc160b38-13a3-4880-b0ec-bd1d32b3f894",
   "metadata": {
    "tags": []
   },
   "outputs": [],
   "source": [
    "df['contract_started'] = [i[0] if len(i[0]) == 4 else np.nan for i in contract]"
   ]
  },
  {
   "cell_type": "code",
   "execution_count": 109,
   "id": "de1e53a5-adfe-4ecc-b0f2-8a90950ecf62",
   "metadata": {
    "tags": []
   },
   "outputs": [],
   "source": [
    "df['contract_ends'] = [i[1] if len(i[0]) == 4 else np.nan for i in contract]"
   ]
  },
  {
   "cell_type": "code",
   "execution_count": 110,
   "id": "dc3e7a6c-c196-4f1d-bba6-25ce9b0e977e",
   "metadata": {
    "tags": []
   },
   "outputs": [],
   "source": [
    "df['has_contract'] = [bool(i) for i in df.contract_started]"
   ]
  },
  {
   "cell_type": "code",
   "execution_count": 111,
   "id": "3931db20-0235-44a9-ba7b-cda8d5f50889",
   "metadata": {},
   "outputs": [
    {
     "data": {
      "text/html": [
       "<div>\n",
       "<style scoped>\n",
       "    .dataframe tbody tr th:only-of-type {\n",
       "        vertical-align: middle;\n",
       "    }\n",
       "\n",
       "    .dataframe tbody tr th {\n",
       "        vertical-align: top;\n",
       "    }\n",
       "\n",
       "    .dataframe thead th {\n",
       "        text-align: right;\n",
       "    }\n",
       "</style>\n",
       "<table border=\"1\" class=\"dataframe\">\n",
       "  <thead>\n",
       "    <tr style=\"text-align: right;\">\n",
       "      <th></th>\n",
       "      <th>contract_started</th>\n",
       "      <th>contract_ends</th>\n",
       "      <th>has_contract</th>\n",
       "      <th>on_loan_from</th>\n",
       "    </tr>\n",
       "  </thead>\n",
       "  <tbody>\n",
       "    <tr>\n",
       "      <th>0</th>\n",
       "      <td>2004</td>\n",
       "      <td>2021</td>\n",
       "      <td>True</td>\n",
       "      <td>NaN</td>\n",
       "    </tr>\n",
       "    <tr>\n",
       "      <th>1</th>\n",
       "      <td>2018</td>\n",
       "      <td>2022</td>\n",
       "      <td>True</td>\n",
       "      <td>NaN</td>\n",
       "    </tr>\n",
       "    <tr>\n",
       "      <th>2</th>\n",
       "      <td>2014</td>\n",
       "      <td>2023</td>\n",
       "      <td>True</td>\n",
       "      <td>NaN</td>\n",
       "    </tr>\n",
       "    <tr>\n",
       "      <th>3</th>\n",
       "      <td>2015</td>\n",
       "      <td>2023</td>\n",
       "      <td>True</td>\n",
       "      <td>NaN</td>\n",
       "    </tr>\n",
       "    <tr>\n",
       "      <th>4</th>\n",
       "      <td>2017</td>\n",
       "      <td>2022</td>\n",
       "      <td>True</td>\n",
       "      <td>NaN</td>\n",
       "    </tr>\n",
       "    <tr>\n",
       "      <th>...</th>\n",
       "      <td>...</td>\n",
       "      <td>...</td>\n",
       "      <td>...</td>\n",
       "      <td>...</td>\n",
       "    </tr>\n",
       "    <tr>\n",
       "      <th>18974</th>\n",
       "      <td>2018</td>\n",
       "      <td>2022</td>\n",
       "      <td>True</td>\n",
       "      <td>NaN</td>\n",
       "    </tr>\n",
       "    <tr>\n",
       "      <th>18975</th>\n",
       "      <td>2020</td>\n",
       "      <td>2021</td>\n",
       "      <td>True</td>\n",
       "      <td>NaN</td>\n",
       "    </tr>\n",
       "    <tr>\n",
       "      <th>18976</th>\n",
       "      <td>2019</td>\n",
       "      <td>2020</td>\n",
       "      <td>True</td>\n",
       "      <td>NaN</td>\n",
       "    </tr>\n",
       "    <tr>\n",
       "      <th>18977</th>\n",
       "      <td>2020</td>\n",
       "      <td>2022</td>\n",
       "      <td>True</td>\n",
       "      <td>NaN</td>\n",
       "    </tr>\n",
       "    <tr>\n",
       "      <th>18978</th>\n",
       "      <td>2019</td>\n",
       "      <td>2023</td>\n",
       "      <td>True</td>\n",
       "      <td>NaN</td>\n",
       "    </tr>\n",
       "  </tbody>\n",
       "</table>\n",
       "<p>18979 rows × 4 columns</p>\n",
       "</div>"
      ],
      "text/plain": [
       "      contract_started contract_ends  has_contract on_loan_from\n",
       "0                 2004          2021          True          NaN\n",
       "1                 2018          2022          True          NaN\n",
       "2                 2014          2023          True          NaN\n",
       "3                 2015          2023          True          NaN\n",
       "4                 2017          2022          True          NaN\n",
       "...                ...           ...           ...          ...\n",
       "18974             2018          2022          True          NaN\n",
       "18975             2020          2021          True          NaN\n",
       "18976             2019          2020          True          NaN\n",
       "18977             2020          2022          True          NaN\n",
       "18978             2019          2023          True          NaN\n",
       "\n",
       "[18979 rows x 4 columns]"
      ]
     },
     "execution_count": 111,
     "metadata": {},
     "output_type": "execute_result"
    }
   ],
   "source": [
    "df[['contract_started', 'contract_ends', 'has_contract', 'on_loan_from']]"
   ]
  },
  {
   "cell_type": "markdown",
   "id": "7be55b51-0655-4349-86e0-c15ab1974c1c",
   "metadata": {},
   "source": [
    "The last step is to convert to datetime these new columns"
   ]
  },
  {
   "cell_type": "code",
   "execution_count": 112,
   "id": "0f5175dd-c814-488b-89c9-90f5ed825bc1",
   "metadata": {
    "tags": []
   },
   "outputs": [],
   "source": [
    "df.contract_started = pd.to_datetime(df.contract_started)\n",
    "df.contract_ends = pd.to_datetime(df.contract_ends)\n",
    "df.on_loan_from = df.on_loan_from = pd.to_datetime(df.on_loan_from)"
   ]
  },
  {
   "cell_type": "markdown",
   "id": "b76dfe42-29ef-4460-89c2-ace551f62b5a",
   "metadata": {},
   "source": [
    "### 11. Clean `club` variable"
   ]
  },
  {
   "cell_type": "code",
   "execution_count": 113,
   "id": "b7384585-804b-4a7c-8ea1-4c65e21557c1",
   "metadata": {
    "tags": []
   },
   "outputs": [
    {
     "data": {
      "text/plain": [
       "0               \\n\\n\\n\\nFC Barcelona\n",
       "1                   \\n\\n\\n\\nJuventus\n",
       "2            \\n\\n\\n\\nAtlético Madrid\n",
       "3            \\n\\n\\n\\nManchester City\n",
       "4        \\n\\n\\n\\nParis Saint-Germain\n",
       "                    ...             \n",
       "18974             \\n\\n\\n\\nWuhan Zall\n",
       "18975        \\n\\n\\n\\nOldham Athletic\n",
       "18976             \\n\\n\\n\\nDerry City\n",
       "18977       \\n\\n\\n\\nDalian YiFang FC\n",
       "18978       \\n\\n\\n\\nDalian YiFang FC\n",
       "Name: club, Length: 18979, dtype: object"
      ]
     },
     "execution_count": 113,
     "metadata": {},
     "output_type": "execute_result"
    }
   ],
   "source": [
    "clubs = df.club.copy()\n",
    "clubs"
   ]
  },
  {
   "cell_type": "code",
   "execution_count": 114,
   "id": "adeb66b9-2d49-4652-a390-4c39c582d95a",
   "metadata": {
    "tags": []
   },
   "outputs": [
    {
     "data": {
      "text/plain": [
       "11252            Kristiansund BK\n",
       "1029     Athletic Club de Bilbao\n",
       "9491                  Melgar FBC\n",
       "9573                 Guadalajara\n",
       "450              Manchester City\n",
       "Name: club, dtype: object"
      ]
     },
     "execution_count": 114,
     "metadata": {},
     "output_type": "execute_result"
    }
   ],
   "source": [
    "clubs = clubs.str.strip()\n",
    "clubs.sample(5)"
   ]
  },
  {
   "cell_type": "markdown",
   "id": "03b2430a-d838-4b8b-a904-ed1a53950123",
   "metadata": {},
   "source": [
    "In a previous execution of the cell above, I noticed that some club names have a number at the beginning. I will check and then remove the numbers."
   ]
  },
  {
   "cell_type": "code",
   "execution_count": 115,
   "id": "8ae0f6b9-0f98-48b3-a754-7a89dc0d19a7",
   "metadata": {
    "tags": []
   },
   "outputs": [
    {
     "data": {
      "text/plain": [
       "0"
      ]
     },
     "execution_count": 115,
     "metadata": {},
     "output_type": "execute_result"
    }
   ],
   "source": [
    "clubs.isna().sum()"
   ]
  },
  {
   "cell_type": "code",
   "execution_count": 116,
   "id": "31c79056-8fcb-437d-9c06-29d3c646dfb6",
   "metadata": {
    "tags": []
   },
   "outputs": [
    {
     "data": {
      "text/plain": [
       "355         1. FC Union Berlin\n",
       "818         1. FC Union Berlin\n",
       "967                 1. FC Köln\n",
       "993                 1. FC Köln\n",
       "1164                1. FC Köln\n",
       "                 ...          \n",
       "17576     1. FC Kaiserslautern\n",
       "17874        1. FC Saarbrücken\n",
       "18057    1. FC Heidenheim 1846\n",
       "18134        1. FC Saarbrücken\n",
       "18817     1. FC Kaiserslautern\n",
       "Name: club, Length: 234, dtype: object"
      ]
     },
     "execution_count": 116,
     "metadata": {},
     "output_type": "execute_result"
    }
   ],
   "source": [
    "clubs[clubs.apply(lambda x: x[0].isnumeric() )]"
   ]
  },
  {
   "cell_type": "markdown",
   "id": "2e82991b-e4d5-4e55-b9c3-caf27b785066",
   "metadata": {
    "tags": []
   },
   "source": [
    "234 club names start with '1. '. I Will check if ALL OF THEM start with '1. '"
   ]
  },
  {
   "cell_type": "code",
   "execution_count": 117,
   "id": "a842db9f-963e-40f9-b173-c4135ea26c40",
   "metadata": {
    "tags": []
   },
   "outputs": [
    {
     "data": {
      "text/plain": [
       "234"
      ]
     },
     "execution_count": 117,
     "metadata": {},
     "output_type": "execute_result"
    }
   ],
   "source": [
    "clubs[clubs.str.startswith('1. ')].count()"
   ]
  },
  {
   "cell_type": "markdown",
   "id": "6ba2a735-655d-4e08-8477-ea729474ab8c",
   "metadata": {},
   "source": [
    "Let's remove the string '1. ' from all of them."
   ]
  },
  {
   "cell_type": "code",
   "execution_count": 118,
   "id": "fb2d046a-c9e5-44d0-8a2f-7712d9c8dc05",
   "metadata": {
    "tags": []
   },
   "outputs": [],
   "source": [
    "clubs = clubs.str.lstrip('1. ')"
   ]
  },
  {
   "cell_type": "code",
   "execution_count": 119,
   "id": "b33a80e0-6c8e-43e6-8d91-ff35415f0279",
   "metadata": {
    "tags": []
   },
   "outputs": [
    {
     "data": {
      "text/plain": [
       "0"
      ]
     },
     "execution_count": 119,
     "metadata": {},
     "output_type": "execute_result"
    }
   ],
   "source": [
    "clubs[clubs.str.startswith('1. ')].count()"
   ]
  },
  {
   "cell_type": "markdown",
   "id": "edcedb7a-bad2-4f89-93d7-8d013b205690",
   "metadata": {},
   "source": [
    "All of them have the '1. ' string cleaned!"
   ]
  },
  {
   "cell_type": "code",
   "execution_count": 120,
   "id": "16db65d3-4413-4cbe-a740-ff3edc260885",
   "metadata": {
    "tags": []
   },
   "outputs": [
    {
     "data": {
      "text/plain": [
       "13468               Shenzhen FC\n",
       "18432       Club Atlético Lanús\n",
       "5345                  DC United\n",
       "18706             Oxford United\n",
       "787                  Granada CF\n",
       "5312      DSC Arminia Bielefeld\n",
       "1647            Vélez Sarsfield\n",
       "3438                 Fluminense\n",
       "11442                UD Almería\n",
       "2224               RCD Mallorca\n",
       "2825                   Coritiba\n",
       "2438           Deportivo Alavés\n",
       "12589                 WSG Tirol\n",
       "10796       Peterborough United\n",
       "16566           Shimizu S-Pulse\n",
       "11049    New England Revolution\n",
       "12889        SpVgg Unterhaching\n",
       "14747               Albacete BP\n",
       "11395             FCSB (Steaua)\n",
       "16186            MKE Ankaragücü\n",
       "Name: club, dtype: object"
      ]
     },
     "execution_count": 120,
     "metadata": {},
     "output_type": "execute_result"
    }
   ],
   "source": [
    "clubs.sample(20)"
   ]
  },
  {
   "cell_type": "markdown",
   "id": "cfb729e0-d956-4c38-a5fe-0ac59c68aa8e",
   "metadata": {},
   "source": [
    "From a previous execution where  I took a sample of 20 different club values, a value of `No Club` arose. I will replace them by NaN values."
   ]
  },
  {
   "cell_type": "code",
   "execution_count": 121,
   "id": "f5c91e1e-9cd7-4287-85cd-31d0562bb1f3",
   "metadata": {
    "tags": []
   },
   "outputs": [
    {
     "data": {
      "text/plain": [
       "237"
      ]
     },
     "execution_count": 121,
     "metadata": {},
     "output_type": "execute_result"
    }
   ],
   "source": [
    "clubs[clubs == 'No Club'].count()"
   ]
  },
  {
   "cell_type": "code",
   "execution_count": 122,
   "id": "bb6c10b5-6f76-4dba-b6a7-f70841442bd3",
   "metadata": {
    "tags": []
   },
   "outputs": [],
   "source": [
    "clubs[clubs == 'No Club'] = np.nan"
   ]
  },
  {
   "cell_type": "markdown",
   "id": "dca3bb72-f005-4ebe-aa12-f2a78fb8b558",
   "metadata": {},
   "source": [
    "Finally, set the cleaned club values to `club` variable in the dataset."
   ]
  },
  {
   "cell_type": "code",
   "execution_count": 123,
   "id": "a760b4e4-185b-4590-80af-23384ac0eb8a",
   "metadata": {
    "tags": []
   },
   "outputs": [],
   "source": [
    "df.club = clubs"
   ]
  },
  {
   "cell_type": "markdown",
   "id": "de21bfe4-7136-4c86-97f0-20791c38bf84",
   "metadata": {
    "tags": []
   },
   "source": [
    "### 12. Categorizing more variables"
   ]
  },
  {
   "cell_type": "code",
   "execution_count": 124,
   "id": "2e729c4d-5462-4b5a-b609-bec91eb4fe9c",
   "metadata": {
    "tags": []
   },
   "outputs": [
    {
     "data": {
      "text/plain": [
       "Index(['name', 'longname', 'photourl', 'playerurl', 'nationality', 'club',\n",
       "       'contract', 'positions', 'height', 'best_position', 'loan_date_end'],\n",
       "      dtype='object')"
      ]
     },
     "execution_count": 124,
     "metadata": {},
     "output_type": "execute_result"
    }
   ],
   "source": [
    "df.select_dtypes(object).columns"
   ]
  },
  {
   "cell_type": "markdown",
   "id": "54b0b395-797e-4064-8092-5d1822e0443d",
   "metadata": {},
   "source": [
    "Checking the object variables that could be turned into categories, I have just noticed I haven't processed the `loan_date_end`. Next step will be processing it. But first, let's categorize."
   ]
  },
  {
   "cell_type": "markdown",
   "id": "89449dda-b679-4d0e-a5bb-8dd92c2925fa",
   "metadata": {},
   "source": [
    "`positions` and `best_position` should be processed. As `positions` is a list of all the positions the player can play at, i will transform it to a python list and leave it as string. `best_position` will be converted to category dtype."
   ]
  },
  {
   "cell_type": "markdown",
   "id": "b2d587a4-ae8f-438d-a9b1-e24bb074ae94",
   "metadata": {},
   "source": [
    "For everyone asking themselves why use `category` dtype, it's a matter of memory usage and optimisation. In datasets this size or even larger, memory can be an aspect to take into account."
   ]
  },
  {
   "cell_type": "code",
   "execution_count": 125,
   "id": "2a8f8619-991e-4809-93cf-9572efd486c8",
   "metadata": {
    "tags": []
   },
   "outputs": [],
   "source": [
    "positions = df.positions.copy()"
   ]
  },
  {
   "cell_type": "code",
   "execution_count": 126,
   "id": "997d5ff4-843b-4012-a00b-8291ded30d6d",
   "metadata": {
    "tags": []
   },
   "outputs": [
    {
     "data": {
      "text/plain": [
       "10889         LB, RB\n",
       "4146          ST, LM\n",
       "15973             GK\n",
       "8440          LB, CB\n",
       "11083             GK\n",
       "2760              CB\n",
       "7358      CB, RB, LB\n",
       "11980             ST\n",
       "6913              ST\n",
       "12795    ST, LM, CAM\n",
       "Name: positions, dtype: object"
      ]
     },
     "execution_count": 126,
     "metadata": {},
     "output_type": "execute_result"
    }
   ],
   "source": [
    "positions.sample(10)"
   ]
  },
  {
   "cell_type": "code",
   "execution_count": 127,
   "id": "898113b2-6ce0-4f03-8035-bca4264e7f16",
   "metadata": {
    "tags": []
   },
   "outputs": [],
   "source": [
    "positions = positions.str.split(', ')"
   ]
  },
  {
   "cell_type": "markdown",
   "id": "9ef8e222-dec0-4b90-adf4-485a84c1f95c",
   "metadata": {},
   "source": [
    "If someone asks himself / herself how to work with the positions data...  \n",
    "Every row in the `positions` column has become a list. So you must access the list and inspect its content to look for an especific value. Below there's an example."
   ]
  },
  {
   "cell_type": "markdown",
   "id": "35056813-b2d1-4d21-b10f-a0fb09eb1953",
   "metadata": {},
   "source": [
    "Get all the players that can play in LB (Left Full-Back; Block other team and hold a line)"
   ]
  },
  {
   "cell_type": "code",
   "execution_count": 128,
   "id": "bd3d728f-63b5-404c-ae57-69484a9a4ef1",
   "metadata": {
    "tags": []
   },
   "outputs": [
    {
     "data": {
      "text/plain": [
       "32                [LB]\n",
       "60                [LB]\n",
       "87            [LB, LM]\n",
       "106               [LB]\n",
       "108               [LB]\n",
       "             ...      \n",
       "18854    [LB, LWB, LW]\n",
       "18871         [CB, LB]\n",
       "18906             [LB]\n",
       "18947         [LB, LW]\n",
       "18978         [CB, LB]\n",
       "Name: positions, Length: 2062, dtype: object"
      ]
     },
     "execution_count": 128,
     "metadata": {},
     "output_type": "execute_result"
    }
   ],
   "source": [
    "# maybe not the finest solution, but I'm learning as most of you...\n",
    "positions[positions.apply(lambda i : 'LB' in i)]"
   ]
  },
  {
   "cell_type": "code",
   "execution_count": 129,
   "id": "3762e544-c11d-4d15-b573-f010db81bcdf",
   "metadata": {
    "tags": []
   },
   "outputs": [],
   "source": [
    "df.positions = positions"
   ]
  },
  {
   "cell_type": "markdown",
   "id": "7316de13-3505-46a9-866a-98c45c2b3e70",
   "metadata": {},
   "source": [
    "Now i will categorize the `best_position` variable. But first, some checking for weird values or nans."
   ]
  },
  {
   "cell_type": "code",
   "execution_count": 130,
   "id": "7bf29cb4-90f2-48ed-9b74-0a15f4e3d385",
   "metadata": {
    "tags": []
   },
   "outputs": [],
   "source": [
    "best_pos = df.best_position.copy()"
   ]
  },
  {
   "cell_type": "code",
   "execution_count": 131,
   "id": "7e44287c-95c6-4cc7-a7dd-fe3b3b5a81e6",
   "metadata": {
    "tags": []
   },
   "outputs": [
    {
     "data": {
      "text/plain": [
       "dtype('O')"
      ]
     },
     "execution_count": 131,
     "metadata": {},
     "output_type": "execute_result"
    }
   ],
   "source": [
    "best_pos.dtype"
   ]
  },
  {
   "cell_type": "code",
   "execution_count": 132,
   "id": "0784e2fc-6d46-4c89-9a4c-31aab1e78740",
   "metadata": {
    "tags": []
   },
   "outputs": [
    {
     "data": {
      "text/plain": [
       "array(['RW', 'ST', 'GK', 'CAM', 'LW', 'CB', 'CDM', 'CF', 'CM', 'RB', 'LB',\n",
       "       'LM', 'RM', 'LWB', 'RWB'], dtype=object)"
      ]
     },
     "execution_count": 132,
     "metadata": {},
     "output_type": "execute_result"
    }
   ],
   "source": [
    "best_pos.unique()"
   ]
  },
  {
   "cell_type": "code",
   "execution_count": 133,
   "id": "81696509-ce8e-4755-8b64-dcd34adf5483",
   "metadata": {
    "tags": []
   },
   "outputs": [
    {
     "data": {
      "text/plain": [
       "0"
      ]
     },
     "execution_count": 133,
     "metadata": {},
     "output_type": "execute_result"
    }
   ],
   "source": [
    "best_pos.isna().sum()"
   ]
  },
  {
   "cell_type": "markdown",
   "id": "74252d1b-b3e2-46c3-9a98-0d6097988201",
   "metadata": {},
   "source": [
    "Finally, convert to categorical"
   ]
  },
  {
   "cell_type": "code",
   "execution_count": 134,
   "id": "19af3aae-b2a4-4b2f-8dfa-bc4608715edf",
   "metadata": {
    "tags": []
   },
   "outputs": [],
   "source": [
    "df.best_position = best_pos.astype('category')"
   ]
  },
  {
   "cell_type": "markdown",
   "id": "61b18c7d-ec94-4058-be91-2d74fce9fa3f",
   "metadata": {
    "tags": []
   },
   "source": [
    "### 13. Clean `loan_end_date`"
   ]
  },
  {
   "cell_type": "code",
   "execution_count": 135,
   "id": "ac54c6ac-e7e2-44f7-8d1d-66e31d9235ff",
   "metadata": {
    "tags": []
   },
   "outputs": [],
   "source": [
    "loan = df.loan_date_end.copy()"
   ]
  },
  {
   "cell_type": "code",
   "execution_count": 136,
   "id": "8bfaa535-ee60-44c6-883c-2fea987592bb",
   "metadata": {
    "tags": []
   },
   "outputs": [
    {
     "data": {
      "text/plain": [
       "17966"
      ]
     },
     "execution_count": 136,
     "metadata": {},
     "output_type": "execute_result"
    }
   ],
   "source": [
    "loan.isna().sum()"
   ]
  },
  {
   "cell_type": "code",
   "execution_count": 137,
   "id": "057ceded-b2e2-4ae6-b809-455ab93144ba",
   "metadata": {
    "tags": []
   },
   "outputs": [
    {
     "data": {
      "text/plain": [
       "array([nan, 'Jun 30, 2021', 'Dec 31, 2020', 'Jan 30, 2021',\n",
       "       'Jun 30, 2022', 'May 31, 2021', 'Jul 5, 2021', 'Dec 31, 2021',\n",
       "       'Jul 1, 2021', 'Jan 1, 2021', 'Aug 31, 2021', 'Jan 31, 2021',\n",
       "       'Dec 30, 2021', 'Jun 23, 2021', 'Jan 3, 2021', 'Nov 27, 2021',\n",
       "       'Jan 17, 2021', 'Jun 30, 2023', 'Jul 31, 2021', 'Nov 22, 2020',\n",
       "       'May 31, 2022', 'Dec 30, 2020', 'Jan 4, 2021', 'Nov 30, 2020',\n",
       "       'Aug 1, 2021'], dtype=object)"
      ]
     },
     "execution_count": 137,
     "metadata": {},
     "output_type": "execute_result"
    }
   ],
   "source": [
    "loan.unique()"
   ]
  },
  {
   "cell_type": "markdown",
   "id": "a34760df-086a-4fe5-9da7-137fd1532e79",
   "metadata": {},
   "source": [
    "This variable contains dates, so I will use `pd.to_datetime(variable)` to convert them to `datetime` dtype. Other date formats can be applied (eg. 'DD-MM-YYYY', european format)"
   ]
  },
  {
   "cell_type": "code",
   "execution_count": 138,
   "id": "e8321edf-6b1b-4dca-b077-64ae3ef146de",
   "metadata": {
    "tags": []
   },
   "outputs": [],
   "source": [
    "loan = pd.to_datetime(loan)"
   ]
  },
  {
   "cell_type": "markdown",
   "id": "2c5c54a1-0764-4c9b-b7e1-4ba4e29862a5",
   "metadata": {},
   "source": [
    "Pandas has a special NaN value for dates that have a null value> NaT (Not a Time). I will show you some of them:"
   ]
  },
  {
   "cell_type": "code",
   "execution_count": 139,
   "id": "61045a44-2b94-46da-9fca-adb898513bfe",
   "metadata": {
    "tags": []
   },
   "outputs": [
    {
     "data": {
      "text/plain": [
       "0   NaT\n",
       "1   NaT\n",
       "2   NaT\n",
       "3   NaT\n",
       "4   NaT\n",
       "Name: loan_date_end, dtype: datetime64[ns]"
      ]
     },
     "execution_count": 139,
     "metadata": {},
     "output_type": "execute_result"
    }
   ],
   "source": [
    "loan[loan.isnull()][:5]"
   ]
  },
  {
   "cell_type": "markdown",
   "id": "013ac7da-0855-4ed0-93ea-e55c8e787f01",
   "metadata": {},
   "source": [
    "Check the rest of them to see if datetime conversion was ok"
   ]
  },
  {
   "cell_type": "code",
   "execution_count": 140,
   "id": "c8141f20-792d-45c1-9b1c-c1a1e9a880b9",
   "metadata": {
    "tags": []
   },
   "outputs": [
    {
     "data": {
      "text/plain": [
       "205     2021-06-30\n",
       "248     2021-06-30\n",
       "254     2021-06-30\n",
       "302     2021-06-30\n",
       "306     2021-06-30\n",
       "           ...    \n",
       "18472   2021-08-31\n",
       "18571   2021-06-30\n",
       "18600   2020-12-31\n",
       "18622   2020-12-31\n",
       "18680   2020-12-31\n",
       "Name: loan_date_end, Length: 1013, dtype: datetime64[ns]"
      ]
     },
     "execution_count": 140,
     "metadata": {},
     "output_type": "execute_result"
    }
   ],
   "source": [
    "loan[loan.notnull()]"
   ]
  },
  {
   "cell_type": "code",
   "execution_count": 141,
   "id": "f8b6c977-2a38-4438-8fa1-ea8cc3fdc900",
   "metadata": {
    "tags": []
   },
   "outputs": [],
   "source": [
    "df.loan_date_end = loan"
   ]
  },
  {
   "cell_type": "markdown",
   "id": "dc1fbab8-7199-4959-9f33-51ca2f28ec62",
   "metadata": {
    "tags": []
   },
   "source": [
    "### 14. Reestructuration and/or removal of columns after all processing"
   ]
  },
  {
   "cell_type": "code",
   "execution_count": 142,
   "id": "2dfe869b-2168-4a8f-b57c-f65dd1ad0668",
   "metadata": {
    "tags": []
   },
   "outputs": [
    {
     "data": {
      "text/plain": [
       "Index(['id', 'name', 'longname', 'photourl', 'playerurl', 'nationality', 'age',\n",
       "       '↓ova', 'pot', 'club', 'contract', 'positions', 'height', 'weight',\n",
       "       'preferred_foot', 'bov', 'best_position', 'joined', 'loan_date_end',\n",
       "       'value_euros_M', 'wage_euros_M', 'release_clause_euros_M', 'attacking',\n",
       "       'crossing', 'finishing', 'heading_accuracy', 'short_passing', 'volleys',\n",
       "       'skill', 'dribbling', 'curve', 'fk_accuracy', 'long_passing',\n",
       "       'ball_control', 'movement', 'acceleration', 'sprint_speed', 'agility',\n",
       "       'reactions', 'balance', 'power', 'shot_power', 'jumping', 'stamina',\n",
       "       'strength', 'long_shots', 'mentality', 'aggression', 'interceptions',\n",
       "       'positioning', 'vision', 'penalties', 'composure', 'defending',\n",
       "       'marking', 'standing_tackle', 'sliding_tackle', 'goalkeeping',\n",
       "       'gk_diving', 'gk_handling', 'gk_kicking', 'gk_positioning',\n",
       "       'gk_reflexes', 'total_stats', 'base_stats', 'w/f', 'sm', 'a/w', 'd/w',\n",
       "       'ir', 'pac', 'sho', 'pas', 'dri', 'def', 'phy', 'hits', 'height_m',\n",
       "       'height_feet', 'on_loan_from', 'contract_started', 'contract_ends',\n",
       "       'has_contract'],\n",
       "      dtype='object')"
      ]
     },
     "execution_count": 142,
     "metadata": {},
     "output_type": "execute_result"
    }
   ],
   "source": [
    "df.columns"
   ]
  },
  {
   "cell_type": "markdown",
   "id": "b21b6520-baaa-4a54-8456-c5282065d09e",
   "metadata": {},
   "source": [
    "I will remove the following columns: `contract` and `height`.  \n",
    "In columns `wage_euros_M`, `release_euros_M` and `value_euros_M`, the string 'euros_M' will be replaced by 'million_euros'.  \n",
    "Column `weight` will be renamed to `weight_kg`"
   ]
  },
  {
   "cell_type": "code",
   "execution_count": 143,
   "id": "a4b6753a-306e-4f3c-b59e-728d76ab2961",
   "metadata": {
    "tags": []
   },
   "outputs": [],
   "source": [
    "df.drop(['contract', 'height'], axis=1, inplace=True)"
   ]
  },
  {
   "cell_type": "code",
   "execution_count": 144,
   "id": "5810aeaa-cae7-4066-bf24-7746dae94b18",
   "metadata": {
    "tags": []
   },
   "outputs": [],
   "source": [
    "df = df.rename(columns = {'wage_euros_M' : 'wage_million_euros',\n",
    "                          'release_clause_euros_M' : 'release_clause_million_euros',\n",
    "                          'value_euros_M' : 'value_million_euros',\n",
    "                         'weight' : 'weight_kg'})"
   ]
  },
  {
   "cell_type": "code",
   "execution_count": 145,
   "id": "94388e00-2a37-4c89-a650-f4ff6ad1816a",
   "metadata": {
    "tags": []
   },
   "outputs": [
    {
     "data": {
      "text/plain": [
       "Index(['value_million_euros', 'wage_million_euros',\n",
       "       'release_clause_million_euros'],\n",
       "      dtype='object')"
      ]
     },
     "execution_count": 145,
     "metadata": {},
     "output_type": "execute_result"
    }
   ],
   "source": [
    "df.columns[df.columns.str.contains('euros')]"
   ]
  },
  {
   "cell_type": "markdown",
   "id": "598c2a75-20c6-4d25-a560-f23da888f345",
   "metadata": {},
   "source": [
    "# Study of the numeric variables"
   ]
  },
  {
   "cell_type": "code",
   "execution_count": 146,
   "id": "642325bc-dbac-49c2-8f89-a1def932cd95",
   "metadata": {
    "tags": []
   },
   "outputs": [
    {
     "name": "stdout",
     "output_type": "stream",
     "text": [
      "['id', 'age', '↓ova', 'pot', 'weight_kg', 'bov', 'value_million_euros', 'wage_million_euros', 'release_clause_million_euros', 'attacking', 'crossing', 'finishing', 'heading_accuracy', 'short_passing', 'volleys', 'skill', 'dribbling', 'curve', 'fk_accuracy', 'long_passing', 'ball_control', 'movement', 'acceleration', 'sprint_speed', 'agility', 'reactions', 'balance', 'power', 'shot_power', 'jumping', 'stamina', 'strength', 'long_shots', 'mentality', 'aggression', 'interceptions', 'positioning', 'vision', 'penalties', 'composure', 'defending', 'marking', 'standing_tackle', 'sliding_tackle', 'goalkeeping', 'gk_diving', 'gk_handling', 'gk_kicking', 'gk_positioning', 'gk_reflexes', 'total_stats', 'base_stats', 'pac', 'sho', 'pas', 'dri', 'def', 'phy', 'hits', 'height_m', 'height_feet']\n"
     ]
    }
   ],
   "source": [
    "num_vars = df.select_dtypes('number').columns.to_list()\n",
    "print(num_vars)"
   ]
  },
  {
   "cell_type": "code",
   "execution_count": 147,
   "id": "25c5298a-455d-4e69-b2ba-a3eeb9da80af",
   "metadata": {
    "tags": []
   },
   "outputs": [
    {
     "data": {
      "text/plain": [
       "id               int64\n",
       "age              int64\n",
       "↓ova             int64\n",
       "pot              int64\n",
       "weight_kg      float64\n",
       "                ...   \n",
       "def              int64\n",
       "phy              int64\n",
       "hits           float64\n",
       "height_m       float64\n",
       "height_feet    float64\n",
       "Length: 61, dtype: object"
      ]
     },
     "execution_count": 147,
     "metadata": {},
     "output_type": "execute_result"
    }
   ],
   "source": [
    "df[num_vars].dtypes"
   ]
  },
  {
   "cell_type": "markdown",
   "id": "901f4509-238d-4241-bd4e-5648761e6b9b",
   "metadata": {},
   "source": [
    "## Study of missing values"
   ]
  },
  {
   "cell_type": "code",
   "execution_count": 148,
   "id": "8b34f95a-b214-48c3-a3d3-21bbda0568ed",
   "metadata": {
    "tags": []
   },
   "outputs": [],
   "source": [
    "def nan_percent(series):\n",
    "    nan_count = series.isna().sum()\n",
    "    total_count = series.shape[0]\n",
    "    return round(nan_count / total_count * 100, 2)"
   ]
  },
  {
   "cell_type": "code",
   "execution_count": 149,
   "id": "34e2b859-4b72-40d3-9363-a6cb6b04533e",
   "metadata": {
    "tags": []
   },
   "outputs": [
    {
     "data": {
      "text/plain": [
       "hits           13.67\n",
       "id              0.00\n",
       "gk_diving       0.00\n",
       "mentality       0.00\n",
       "aggression      0.00\n",
       "               ...  \n",
       "reactions       0.00\n",
       "balance         0.00\n",
       "power           0.00\n",
       "shot_power      0.00\n",
       "height_feet     0.00\n",
       "Name: percentage of missing values, Length: 61, dtype: float64"
      ]
     },
     "execution_count": 149,
     "metadata": {},
     "output_type": "execute_result"
    }
   ],
   "source": [
    "missing_values_pctg = df[num_vars].apply(nan_percent, axis=0).sort_values(ascending=False)\n",
    "missing_values_pctg.name = 'percentage of missing values'\n",
    "missing_values_pctg"
   ]
  },
  {
   "cell_type": "markdown",
   "id": "0a15d951-0b8f-4e2c-a93a-ed3fa0c37a3c",
   "metadata": {},
   "source": [
    "Looks like there are no nan values (except for `hits` variable). That doesn't mean that there are no invalid values. It requires a deeper exploration.  \n",
    "I will get a sample of the numeric variables, in order to make a visual inspection for strange values."
   ]
  },
  {
   "cell_type": "code",
   "execution_count": 150,
   "id": "7fe59a25-bf38-4284-a6d2-e1d9885afced",
   "metadata": {
    "tags": []
   },
   "outputs": [],
   "source": [
    "pd.set_option('display.max_rows', 100)"
   ]
  },
  {
   "cell_type": "code",
   "execution_count": 151,
   "id": "a718a585-be3a-43f1-bb3f-250db0fc175e",
   "metadata": {
    "tags": []
   },
   "outputs": [
    {
     "data": {
      "text/html": [
       "<div>\n",
       "<style scoped>\n",
       "    .dataframe tbody tr th:only-of-type {\n",
       "        vertical-align: middle;\n",
       "    }\n",
       "\n",
       "    .dataframe tbody tr th {\n",
       "        vertical-align: top;\n",
       "    }\n",
       "\n",
       "    .dataframe thead th {\n",
       "        text-align: right;\n",
       "    }\n",
       "</style>\n",
       "<table border=\"1\" class=\"dataframe\">\n",
       "  <thead>\n",
       "    <tr style=\"text-align: right;\">\n",
       "      <th></th>\n",
       "      <th>14678</th>\n",
       "      <th>3798</th>\n",
       "      <th>1010</th>\n",
       "      <th>14281</th>\n",
       "      <th>1377</th>\n",
       "      <th>7408</th>\n",
       "      <th>11785</th>\n",
       "      <th>12647</th>\n",
       "      <th>5445</th>\n",
       "      <th>10177</th>\n",
       "    </tr>\n",
       "  </thead>\n",
       "  <tbody>\n",
       "    <tr>\n",
       "      <th>id</th>\n",
       "      <td>204515.000000</td>\n",
       "      <td>232183.000000</td>\n",
       "      <td>213874.000000</td>\n",
       "      <td>240987.000000</td>\n",
       "      <td>212127.00000</td>\n",
       "      <td>205378.000000</td>\n",
       "      <td>236242.000000</td>\n",
       "      <td>251558.000000</td>\n",
       "      <td>217217.000000</td>\n",
       "      <td>253568.000000</td>\n",
       "    </tr>\n",
       "    <tr>\n",
       "      <th>age</th>\n",
       "      <td>27.000000</td>\n",
       "      <td>27.000000</td>\n",
       "      <td>28.000000</td>\n",
       "      <td>20.000000</td>\n",
       "      <td>29.00000</td>\n",
       "      <td>27.000000</td>\n",
       "      <td>26.000000</td>\n",
       "      <td>22.000000</td>\n",
       "      <td>30.000000</td>\n",
       "      <td>20.000000</td>\n",
       "    </tr>\n",
       "    <tr>\n",
       "      <th>↓ova</th>\n",
       "      <td>61.000000</td>\n",
       "      <td>72.000000</td>\n",
       "      <td>77.000000</td>\n",
       "      <td>61.000000</td>\n",
       "      <td>76.00000</td>\n",
       "      <td>67.000000</td>\n",
       "      <td>64.000000</td>\n",
       "      <td>63.000000</td>\n",
       "      <td>69.000000</td>\n",
       "      <td>65.000000</td>\n",
       "    </tr>\n",
       "    <tr>\n",
       "      <th>pot</th>\n",
       "      <td>63.000000</td>\n",
       "      <td>72.000000</td>\n",
       "      <td>77.000000</td>\n",
       "      <td>74.000000</td>\n",
       "      <td>76.00000</td>\n",
       "      <td>68.000000</td>\n",
       "      <td>67.000000</td>\n",
       "      <td>72.000000</td>\n",
       "      <td>69.000000</td>\n",
       "      <td>75.000000</td>\n",
       "    </tr>\n",
       "    <tr>\n",
       "      <th>weight_kg</th>\n",
       "      <td>87.000000</td>\n",
       "      <td>71.000000</td>\n",
       "      <td>80.000000</td>\n",
       "      <td>75.000000</td>\n",
       "      <td>66.00000</td>\n",
       "      <td>78.000000</td>\n",
       "      <td>66.000000</td>\n",
       "      <td>74.000000</td>\n",
       "      <td>73.000000</td>\n",
       "      <td>76.000000</td>\n",
       "    </tr>\n",
       "    <tr>\n",
       "      <th>bov</th>\n",
       "      <td>63.000000</td>\n",
       "      <td>72.000000</td>\n",
       "      <td>78.000000</td>\n",
       "      <td>61.000000</td>\n",
       "      <td>76.00000</td>\n",
       "      <td>67.000000</td>\n",
       "      <td>65.000000</td>\n",
       "      <td>64.000000</td>\n",
       "      <td>69.000000</td>\n",
       "      <td>67.000000</td>\n",
       "    </tr>\n",
       "    <tr>\n",
       "      <th>value_million_euros</th>\n",
       "      <td>0.350000</td>\n",
       "      <td>2.300000</td>\n",
       "      <td>10.500000</td>\n",
       "      <td>0.700000</td>\n",
       "      <td>7.50000</td>\n",
       "      <td>0.875000</td>\n",
       "      <td>2.902997</td>\n",
       "      <td>1.100000</td>\n",
       "      <td>1.200000</td>\n",
       "      <td>1.600000</td>\n",
       "    </tr>\n",
       "    <tr>\n",
       "      <th>wage_million_euros</th>\n",
       "      <td>0.001000</td>\n",
       "      <td>0.011000</td>\n",
       "      <td>0.059000</td>\n",
       "      <td>0.001000</td>\n",
       "      <td>0.02700</td>\n",
       "      <td>0.002000</td>\n",
       "      <td>12.132925</td>\n",
       "      <td>0.002000</td>\n",
       "      <td>0.004000</td>\n",
       "      <td>0.014000</td>\n",
       "    </tr>\n",
       "    <tr>\n",
       "      <th>release_clause_million_euros</th>\n",
       "      <td>0.502000</td>\n",
       "      <td>4.200000</td>\n",
       "      <td>17.100000</td>\n",
       "      <td>0.950000</td>\n",
       "      <td>13.50000</td>\n",
       "      <td>1.100000</td>\n",
       "      <td>4.244997</td>\n",
       "      <td>0.949000</td>\n",
       "      <td>1.300000</td>\n",
       "      <td>4.244997</td>\n",
       "    </tr>\n",
       "    <tr>\n",
       "      <th>attacking</th>\n",
       "      <td>167.000000</td>\n",
       "      <td>223.000000</td>\n",
       "      <td>326.000000</td>\n",
       "      <td>59.000000</td>\n",
       "      <td>340.00000</td>\n",
       "      <td>81.000000</td>\n",
       "      <td>228.000000</td>\n",
       "      <td>273.000000</td>\n",
       "      <td>268.000000</td>\n",
       "      <td>288.000000</td>\n",
       "    </tr>\n",
       "    <tr>\n",
       "      <th>crossing</th>\n",
       "      <td>22.000000</td>\n",
       "      <td>62.000000</td>\n",
       "      <td>67.000000</td>\n",
       "      <td>10.000000</td>\n",
       "      <td>76.00000</td>\n",
       "      <td>12.000000</td>\n",
       "      <td>47.000000</td>\n",
       "      <td>59.000000</td>\n",
       "      <td>52.000000</td>\n",
       "      <td>34.000000</td>\n",
       "    </tr>\n",
       "    <tr>\n",
       "      <th>finishing</th>\n",
       "      <td>18.000000</td>\n",
       "      <td>22.000000</td>\n",
       "      <td>60.000000</td>\n",
       "      <td>8.000000</td>\n",
       "      <td>67.00000</td>\n",
       "      <td>13.000000</td>\n",
       "      <td>29.000000</td>\n",
       "      <td>58.000000</td>\n",
       "      <td>51.000000</td>\n",
       "      <td>73.000000</td>\n",
       "    </tr>\n",
       "    <tr>\n",
       "      <th>heading_accuracy</th>\n",
       "      <td>62.000000</td>\n",
       "      <td>53.000000</td>\n",
       "      <td>59.000000</td>\n",
       "      <td>14.000000</td>\n",
       "      <td>54.00000</td>\n",
       "      <td>13.000000</td>\n",
       "      <td>55.000000</td>\n",
       "      <td>44.000000</td>\n",
       "      <td>49.000000</td>\n",
       "      <td>63.000000</td>\n",
       "    </tr>\n",
       "    <tr>\n",
       "      <th>short_passing</th>\n",
       "      <td>50.000000</td>\n",
       "      <td>63.000000</td>\n",
       "      <td>80.000000</td>\n",
       "      <td>21.000000</td>\n",
       "      <td>73.00000</td>\n",
       "      <td>27.000000</td>\n",
       "      <td>66.000000</td>\n",
       "      <td>59.000000</td>\n",
       "      <td>70.000000</td>\n",
       "      <td>53.000000</td>\n",
       "    </tr>\n",
       "    <tr>\n",
       "      <th>volleys</th>\n",
       "      <td>15.000000</td>\n",
       "      <td>23.000000</td>\n",
       "      <td>60.000000</td>\n",
       "      <td>6.000000</td>\n",
       "      <td>70.00000</td>\n",
       "      <td>16.000000</td>\n",
       "      <td>31.000000</td>\n",
       "      <td>53.000000</td>\n",
       "      <td>46.000000</td>\n",
       "      <td>65.000000</td>\n",
       "    </tr>\n",
       "    <tr>\n",
       "      <th>skill</th>\n",
       "      <td>191.000000</td>\n",
       "      <td>239.000000</td>\n",
       "      <td>377.000000</td>\n",
       "      <td>75.000000</td>\n",
       "      <td>364.00000</td>\n",
       "      <td>86.000000</td>\n",
       "      <td>249.000000</td>\n",
       "      <td>297.000000</td>\n",
       "      <td>305.000000</td>\n",
       "      <td>254.000000</td>\n",
       "    </tr>\n",
       "    <tr>\n",
       "      <th>dribbling</th>\n",
       "      <td>39.000000</td>\n",
       "      <td>66.000000</td>\n",
       "      <td>76.000000</td>\n",
       "      <td>13.000000</td>\n",
       "      <td>78.00000</td>\n",
       "      <td>20.000000</td>\n",
       "      <td>52.000000</td>\n",
       "      <td>66.000000</td>\n",
       "      <td>62.000000</td>\n",
       "      <td>60.000000</td>\n",
       "    </tr>\n",
       "    <tr>\n",
       "      <th>curve</th>\n",
       "      <td>31.000000</td>\n",
       "      <td>21.000000</td>\n",
       "      <td>67.000000</td>\n",
       "      <td>12.000000</td>\n",
       "      <td>66.00000</td>\n",
       "      <td>9.000000</td>\n",
       "      <td>34.000000</td>\n",
       "      <td>57.000000</td>\n",
       "      <td>42.000000</td>\n",
       "      <td>45.000000</td>\n",
       "    </tr>\n",
       "    <tr>\n",
       "      <th>fk_accuracy</th>\n",
       "      <td>32.000000</td>\n",
       "      <td>31.000000</td>\n",
       "      <td>75.000000</td>\n",
       "      <td>11.000000</td>\n",
       "      <td>74.00000</td>\n",
       "      <td>19.000000</td>\n",
       "      <td>40.000000</td>\n",
       "      <td>54.000000</td>\n",
       "      <td>64.000000</td>\n",
       "      <td>38.000000</td>\n",
       "    </tr>\n",
       "    <tr>\n",
       "      <th>long_passing</th>\n",
       "      <td>41.000000</td>\n",
       "      <td>57.000000</td>\n",
       "      <td>79.000000</td>\n",
       "      <td>23.000000</td>\n",
       "      <td>68.00000</td>\n",
       "      <td>19.000000</td>\n",
       "      <td>64.000000</td>\n",
       "      <td>55.000000</td>\n",
       "      <td>72.000000</td>\n",
       "      <td>47.000000</td>\n",
       "    </tr>\n",
       "    <tr>\n",
       "      <th>ball_control</th>\n",
       "      <td>48.000000</td>\n",
       "      <td>64.000000</td>\n",
       "      <td>80.000000</td>\n",
       "      <td>16.000000</td>\n",
       "      <td>78.00000</td>\n",
       "      <td>19.000000</td>\n",
       "      <td>59.000000</td>\n",
       "      <td>65.000000</td>\n",
       "      <td>65.000000</td>\n",
       "      <td>64.000000</td>\n",
       "    </tr>\n",
       "    <tr>\n",
       "      <th>movement</th>\n",
       "      <td>273.000000</td>\n",
       "      <td>415.000000</td>\n",
       "      <td>374.000000</td>\n",
       "      <td>186.000000</td>\n",
       "      <td>389.00000</td>\n",
       "      <td>201.000000</td>\n",
       "      <td>309.000000</td>\n",
       "      <td>359.000000</td>\n",
       "      <td>297.000000</td>\n",
       "      <td>328.000000</td>\n",
       "    </tr>\n",
       "    <tr>\n",
       "      <th>acceleration</th>\n",
       "      <td>60.000000</td>\n",
       "      <td>87.000000</td>\n",
       "      <td>69.000000</td>\n",
       "      <td>30.000000</td>\n",
       "      <td>82.00000</td>\n",
       "      <td>37.000000</td>\n",
       "      <td>57.000000</td>\n",
       "      <td>73.000000</td>\n",
       "      <td>52.000000</td>\n",
       "      <td>65.000000</td>\n",
       "    </tr>\n",
       "    <tr>\n",
       "      <th>sprint_speed</th>\n",
       "      <td>63.000000</td>\n",
       "      <td>82.000000</td>\n",
       "      <td>75.000000</td>\n",
       "      <td>29.000000</td>\n",
       "      <td>88.00000</td>\n",
       "      <td>45.000000</td>\n",
       "      <td>64.000000</td>\n",
       "      <td>74.000000</td>\n",
       "      <td>54.000000</td>\n",
       "      <td>68.000000</td>\n",
       "    </tr>\n",
       "    <tr>\n",
       "      <th>agility</th>\n",
       "      <td>44.000000</td>\n",
       "      <td>91.000000</td>\n",
       "      <td>76.000000</td>\n",
       "      <td>28.000000</td>\n",
       "      <td>77.00000</td>\n",
       "      <td>33.000000</td>\n",
       "      <td>59.000000</td>\n",
       "      <td>75.000000</td>\n",
       "      <td>53.000000</td>\n",
       "      <td>65.000000</td>\n",
       "    </tr>\n",
       "    <tr>\n",
       "      <th>reactions</th>\n",
       "      <td>54.000000</td>\n",
       "      <td>67.000000</td>\n",
       "      <td>78.000000</td>\n",
       "      <td>56.000000</td>\n",
       "      <td>68.00000</td>\n",
       "      <td>54.000000</td>\n",
       "      <td>54.000000</td>\n",
       "      <td>58.000000</td>\n",
       "      <td>60.000000</td>\n",
       "      <td>63.000000</td>\n",
       "    </tr>\n",
       "    <tr>\n",
       "      <th>balance</th>\n",
       "      <td>52.000000</td>\n",
       "      <td>88.000000</td>\n",
       "      <td>76.000000</td>\n",
       "      <td>43.000000</td>\n",
       "      <td>74.00000</td>\n",
       "      <td>32.000000</td>\n",
       "      <td>75.000000</td>\n",
       "      <td>79.000000</td>\n",
       "      <td>78.000000</td>\n",
       "      <td>67.000000</td>\n",
       "    </tr>\n",
       "    <tr>\n",
       "      <th>power</th>\n",
       "      <td>258.000000</td>\n",
       "      <td>310.000000</td>\n",
       "      <td>376.000000</td>\n",
       "      <td>175.000000</td>\n",
       "      <td>313.00000</td>\n",
       "      <td>219.000000</td>\n",
       "      <td>262.000000</td>\n",
       "      <td>272.000000</td>\n",
       "      <td>304.000000</td>\n",
       "      <td>303.000000</td>\n",
       "    </tr>\n",
       "    <tr>\n",
       "      <th>shot_power</th>\n",
       "      <td>43.000000</td>\n",
       "      <td>54.000000</td>\n",
       "      <td>78.000000</td>\n",
       "      <td>44.000000</td>\n",
       "      <td>76.00000</td>\n",
       "      <td>48.000000</td>\n",
       "      <td>49.000000</td>\n",
       "      <td>64.000000</td>\n",
       "      <td>71.000000</td>\n",
       "      <td>64.000000</td>\n",
       "    </tr>\n",
       "    <tr>\n",
       "      <th>jumping</th>\n",
       "      <td>58.000000</td>\n",
       "      <td>89.000000</td>\n",
       "      <td>69.000000</td>\n",
       "      <td>56.000000</td>\n",
       "      <td>44.00000</td>\n",
       "      <td>58.000000</td>\n",
       "      <td>63.000000</td>\n",
       "      <td>44.000000</td>\n",
       "      <td>32.000000</td>\n",
       "      <td>59.000000</td>\n",
       "    </tr>\n",
       "    <tr>\n",
       "      <th>stamina</th>\n",
       "      <td>52.000000</td>\n",
       "      <td>76.000000</td>\n",
       "      <td>85.000000</td>\n",
       "      <td>20.000000</td>\n",
       "      <td>82.00000</td>\n",
       "      <td>37.000000</td>\n",
       "      <td>78.000000</td>\n",
       "      <td>59.000000</td>\n",
       "      <td>74.000000</td>\n",
       "      <td>55.000000</td>\n",
       "    </tr>\n",
       "    <tr>\n",
       "      <th>strength</th>\n",
       "      <td>83.000000</td>\n",
       "      <td>63.000000</td>\n",
       "      <td>69.000000</td>\n",
       "      <td>46.000000</td>\n",
       "      <td>39.00000</td>\n",
       "      <td>62.000000</td>\n",
       "      <td>40.000000</td>\n",
       "      <td>57.000000</td>\n",
       "      <td>68.000000</td>\n",
       "      <td>64.000000</td>\n",
       "    </tr>\n",
       "    <tr>\n",
       "      <th>long_shots</th>\n",
       "      <td>22.000000</td>\n",
       "      <td>28.000000</td>\n",
       "      <td>75.000000</td>\n",
       "      <td>9.000000</td>\n",
       "      <td>72.00000</td>\n",
       "      <td>14.000000</td>\n",
       "      <td>32.000000</td>\n",
       "      <td>48.000000</td>\n",
       "      <td>59.000000</td>\n",
       "      <td>61.000000</td>\n",
       "    </tr>\n",
       "    <tr>\n",
       "      <th>mentality</th>\n",
       "      <td>222.000000</td>\n",
       "      <td>299.000000</td>\n",
       "      <td>360.000000</td>\n",
       "      <td>99.000000</td>\n",
       "      <td>316.00000</td>\n",
       "      <td>118.000000</td>\n",
       "      <td>255.000000</td>\n",
       "      <td>255.000000</td>\n",
       "      <td>323.000000</td>\n",
       "      <td>237.000000</td>\n",
       "    </tr>\n",
       "    <tr>\n",
       "      <th>aggression</th>\n",
       "      <td>74.000000</td>\n",
       "      <td>80.000000</td>\n",
       "      <td>77.000000</td>\n",
       "      <td>24.000000</td>\n",
       "      <td>67.00000</td>\n",
       "      <td>25.000000</td>\n",
       "      <td>60.000000</td>\n",
       "      <td>58.000000</td>\n",
       "      <td>77.000000</td>\n",
       "      <td>50.000000</td>\n",
       "    </tr>\n",
       "    <tr>\n",
       "      <th>interceptions</th>\n",
       "      <td>57.000000</td>\n",
       "      <td>68.000000</td>\n",
       "      <td>80.000000</td>\n",
       "      <td>12.000000</td>\n",
       "      <td>60.00000</td>\n",
       "      <td>21.000000</td>\n",
       "      <td>62.000000</td>\n",
       "      <td>23.000000</td>\n",
       "      <td>66.000000</td>\n",
       "      <td>24.000000</td>\n",
       "    </tr>\n",
       "    <tr>\n",
       "      <th>positioning</th>\n",
       "      <td>29.000000</td>\n",
       "      <td>58.000000</td>\n",
       "      <td>68.000000</td>\n",
       "      <td>7.000000</td>\n",
       "      <td>72.00000</td>\n",
       "      <td>16.000000</td>\n",
       "      <td>35.000000</td>\n",
       "      <td>61.000000</td>\n",
       "      <td>57.000000</td>\n",
       "      <td>63.000000</td>\n",
       "    </tr>\n",
       "    <tr>\n",
       "      <th>vision</th>\n",
       "      <td>29.000000</td>\n",
       "      <td>59.000000</td>\n",
       "      <td>75.000000</td>\n",
       "      <td>45.000000</td>\n",
       "      <td>68.00000</td>\n",
       "      <td>31.000000</td>\n",
       "      <td>57.000000</td>\n",
       "      <td>58.000000</td>\n",
       "      <td>59.000000</td>\n",
       "      <td>58.000000</td>\n",
       "    </tr>\n",
       "    <tr>\n",
       "      <th>penalties</th>\n",
       "      <td>33.000000</td>\n",
       "      <td>34.000000</td>\n",
       "      <td>60.000000</td>\n",
       "      <td>11.000000</td>\n",
       "      <td>49.00000</td>\n",
       "      <td>25.000000</td>\n",
       "      <td>41.000000</td>\n",
       "      <td>55.000000</td>\n",
       "      <td>64.000000</td>\n",
       "      <td>42.000000</td>\n",
       "    </tr>\n",
       "    <tr>\n",
       "      <th>composure</th>\n",
       "      <td>52.000000</td>\n",
       "      <td>70.000000</td>\n",
       "      <td>78.000000</td>\n",
       "      <td>32.000000</td>\n",
       "      <td>68.00000</td>\n",
       "      <td>49.000000</td>\n",
       "      <td>49.000000</td>\n",
       "      <td>58.000000</td>\n",
       "      <td>64.000000</td>\n",
       "      <td>56.000000</td>\n",
       "    </tr>\n",
       "    <tr>\n",
       "      <th>defending</th>\n",
       "      <td>176.000000</td>\n",
       "      <td>213.000000</td>\n",
       "      <td>221.000000</td>\n",
       "      <td>40.000000</td>\n",
       "      <td>188.00000</td>\n",
       "      <td>44.000000</td>\n",
       "      <td>196.000000</td>\n",
       "      <td>78.000000</td>\n",
       "      <td>199.000000</td>\n",
       "      <td>73.000000</td>\n",
       "    </tr>\n",
       "    <tr>\n",
       "      <th>marking</th>\n",
       "      <td>58.000000</td>\n",
       "      <td>70.000000</td>\n",
       "      <td>75.000000</td>\n",
       "      <td>14.000000</td>\n",
       "      <td>62.00000</td>\n",
       "      <td>11.000000</td>\n",
       "      <td>71.000000</td>\n",
       "      <td>23.000000</td>\n",
       "      <td>67.000000</td>\n",
       "      <td>26.000000</td>\n",
       "    </tr>\n",
       "    <tr>\n",
       "      <th>standing_tackle</th>\n",
       "      <td>60.000000</td>\n",
       "      <td>71.000000</td>\n",
       "      <td>74.000000</td>\n",
       "      <td>14.000000</td>\n",
       "      <td>64.00000</td>\n",
       "      <td>18.000000</td>\n",
       "      <td>65.000000</td>\n",
       "      <td>29.000000</td>\n",
       "      <td>68.000000</td>\n",
       "      <td>25.000000</td>\n",
       "    </tr>\n",
       "    <tr>\n",
       "      <th>sliding_tackle</th>\n",
       "      <td>58.000000</td>\n",
       "      <td>72.000000</td>\n",
       "      <td>72.000000</td>\n",
       "      <td>12.000000</td>\n",
       "      <td>62.00000</td>\n",
       "      <td>15.000000</td>\n",
       "      <td>60.000000</td>\n",
       "      <td>26.000000</td>\n",
       "      <td>64.000000</td>\n",
       "      <td>22.000000</td>\n",
       "    </tr>\n",
       "    <tr>\n",
       "      <th>goalkeeping</th>\n",
       "      <td>52.000000</td>\n",
       "      <td>46.000000</td>\n",
       "      <td>56.000000</td>\n",
       "      <td>303.000000</td>\n",
       "      <td>55.00000</td>\n",
       "      <td>333.000000</td>\n",
       "      <td>56.000000</td>\n",
       "      <td>53.000000</td>\n",
       "      <td>58.000000</td>\n",
       "      <td>45.000000</td>\n",
       "    </tr>\n",
       "    <tr>\n",
       "      <th>gk_diving</th>\n",
       "      <td>7.000000</td>\n",
       "      <td>11.000000</td>\n",
       "      <td>14.000000</td>\n",
       "      <td>62.000000</td>\n",
       "      <td>14.00000</td>\n",
       "      <td>69.000000</td>\n",
       "      <td>14.000000</td>\n",
       "      <td>10.000000</td>\n",
       "      <td>7.000000</td>\n",
       "      <td>7.000000</td>\n",
       "    </tr>\n",
       "    <tr>\n",
       "      <th>gk_handling</th>\n",
       "      <td>12.000000</td>\n",
       "      <td>7.000000</td>\n",
       "      <td>9.000000</td>\n",
       "      <td>61.000000</td>\n",
       "      <td>10.00000</td>\n",
       "      <td>66.000000</td>\n",
       "      <td>8.000000</td>\n",
       "      <td>14.000000</td>\n",
       "      <td>14.000000</td>\n",
       "      <td>10.000000</td>\n",
       "    </tr>\n",
       "    <tr>\n",
       "      <th>gk_kicking</th>\n",
       "      <td>15.000000</td>\n",
       "      <td>6.000000</td>\n",
       "      <td>12.000000</td>\n",
       "      <td>59.000000</td>\n",
       "      <td>11.00000</td>\n",
       "      <td>64.000000</td>\n",
       "      <td>13.000000</td>\n",
       "      <td>9.000000</td>\n",
       "      <td>13.000000</td>\n",
       "      <td>5.000000</td>\n",
       "    </tr>\n",
       "    <tr>\n",
       "      <th>gk_positioning</th>\n",
       "      <td>7.000000</td>\n",
       "      <td>10.000000</td>\n",
       "      <td>13.000000</td>\n",
       "      <td>58.000000</td>\n",
       "      <td>11.00000</td>\n",
       "      <td>67.000000</td>\n",
       "      <td>13.000000</td>\n",
       "      <td>11.000000</td>\n",
       "      <td>15.000000</td>\n",
       "      <td>10.000000</td>\n",
       "    </tr>\n",
       "    <tr>\n",
       "      <th>gk_reflexes</th>\n",
       "      <td>11.000000</td>\n",
       "      <td>12.000000</td>\n",
       "      <td>8.000000</td>\n",
       "      <td>63.000000</td>\n",
       "      <td>9.00000</td>\n",
       "      <td>67.000000</td>\n",
       "      <td>8.000000</td>\n",
       "      <td>9.000000</td>\n",
       "      <td>9.000000</td>\n",
       "      <td>13.000000</td>\n",
       "    </tr>\n",
       "    <tr>\n",
       "      <th>total_stats</th>\n",
       "      <td>1339.000000</td>\n",
       "      <td>1745.000000</td>\n",
       "      <td>2090.000000</td>\n",
       "      <td>937.000000</td>\n",
       "      <td>1965.00000</td>\n",
       "      <td>1082.000000</td>\n",
       "      <td>1555.000000</td>\n",
       "      <td>1587.000000</td>\n",
       "      <td>1754.000000</td>\n",
       "      <td>1528.000000</td>\n",
       "    </tr>\n",
       "    <tr>\n",
       "      <th>base_stats</th>\n",
       "      <td>299.000000</td>\n",
       "      <td>381.000000</td>\n",
       "      <td>440.000000</td>\n",
       "      <td>332.000000</td>\n",
       "      <td>420.00000</td>\n",
       "      <td>374.000000</td>\n",
       "      <td>329.000000</td>\n",
       "      <td>340.000000</td>\n",
       "      <td>371.000000</td>\n",
       "      <td>331.000000</td>\n",
       "    </tr>\n",
       "    <tr>\n",
       "      <th>pac</th>\n",
       "      <td>62.000000</td>\n",
       "      <td>84.000000</td>\n",
       "      <td>72.000000</td>\n",
       "      <td>62.000000</td>\n",
       "      <td>85.00000</td>\n",
       "      <td>69.000000</td>\n",
       "      <td>61.000000</td>\n",
       "      <td>74.000000</td>\n",
       "      <td>53.000000</td>\n",
       "      <td>67.000000</td>\n",
       "    </tr>\n",
       "    <tr>\n",
       "      <th>sho</th>\n",
       "      <td>25.000000</td>\n",
       "      <td>32.000000</td>\n",
       "      <td>67.000000</td>\n",
       "      <td>61.000000</td>\n",
       "      <td>69.00000</td>\n",
       "      <td>66.000000</td>\n",
       "      <td>35.000000</td>\n",
       "      <td>57.000000</td>\n",
       "      <td>57.000000</td>\n",
       "      <td>66.000000</td>\n",
       "    </tr>\n",
       "    <tr>\n",
       "      <th>pas</th>\n",
       "      <td>37.000000</td>\n",
       "      <td>57.000000</td>\n",
       "      <td>75.000000</td>\n",
       "      <td>59.000000</td>\n",
       "      <td>72.00000</td>\n",
       "      <td>64.000000</td>\n",
       "      <td>57.000000</td>\n",
       "      <td>58.000000</td>\n",
       "      <td>63.000000</td>\n",
       "      <td>48.000000</td>\n",
       "    </tr>\n",
       "    <tr>\n",
       "      <th>dri</th>\n",
       "      <td>44.000000</td>\n",
       "      <td>69.000000</td>\n",
       "      <td>77.000000</td>\n",
       "      <td>63.000000</td>\n",
       "      <td>77.00000</td>\n",
       "      <td>67.000000</td>\n",
       "      <td>56.000000</td>\n",
       "      <td>67.000000</td>\n",
       "      <td>63.000000</td>\n",
       "      <td>62.000000</td>\n",
       "    </tr>\n",
       "    <tr>\n",
       "      <th>def</th>\n",
       "      <td>59.000000</td>\n",
       "      <td>68.000000</td>\n",
       "      <td>74.000000</td>\n",
       "      <td>29.000000</td>\n",
       "      <td>61.00000</td>\n",
       "      <td>41.000000</td>\n",
       "      <td>65.000000</td>\n",
       "      <td>27.000000</td>\n",
       "      <td>65.000000</td>\n",
       "      <td>29.000000</td>\n",
       "    </tr>\n",
       "    <tr>\n",
       "      <th>phy</th>\n",
       "      <td>72.000000</td>\n",
       "      <td>71.000000</td>\n",
       "      <td>75.000000</td>\n",
       "      <td>58.000000</td>\n",
       "      <td>56.00000</td>\n",
       "      <td>67.000000</td>\n",
       "      <td>55.000000</td>\n",
       "      <td>57.000000</td>\n",
       "      <td>70.000000</td>\n",
       "      <td>59.000000</td>\n",
       "    </tr>\n",
       "    <tr>\n",
       "      <th>hits</th>\n",
       "      <td>2.000000</td>\n",
       "      <td>10.000000</td>\n",
       "      <td>64.000000</td>\n",
       "      <td>8.000000</td>\n",
       "      <td>10.00000</td>\n",
       "      <td>1.000000</td>\n",
       "      <td>7.000000</td>\n",
       "      <td>1.000000</td>\n",
       "      <td>12.000000</td>\n",
       "      <td>25.000000</td>\n",
       "    </tr>\n",
       "    <tr>\n",
       "      <th>height_m</th>\n",
       "      <td>1.890000</td>\n",
       "      <td>1.650000</td>\n",
       "      <td>1.770000</td>\n",
       "      <td>1.860000</td>\n",
       "      <td>1.81000</td>\n",
       "      <td>1.850000</td>\n",
       "      <td>1.690000</td>\n",
       "      <td>1.720000</td>\n",
       "      <td>1.770000</td>\n",
       "      <td>1.870000</td>\n",
       "    </tr>\n",
       "    <tr>\n",
       "      <th>height_feet</th>\n",
       "      <td>6.200787</td>\n",
       "      <td>5.413386</td>\n",
       "      <td>5.807087</td>\n",
       "      <td>6.102362</td>\n",
       "      <td>5.93832</td>\n",
       "      <td>6.069554</td>\n",
       "      <td>5.544619</td>\n",
       "      <td>5.643045</td>\n",
       "      <td>5.807087</td>\n",
       "      <td>6.135171</td>\n",
       "    </tr>\n",
       "  </tbody>\n",
       "</table>\n",
       "</div>"
      ],
      "text/plain": [
       "                                      14678          3798           1010   \\\n",
       "id                            204515.000000  232183.000000  213874.000000   \n",
       "age                               27.000000      27.000000      28.000000   \n",
       "↓ova                              61.000000      72.000000      77.000000   \n",
       "pot                               63.000000      72.000000      77.000000   \n",
       "weight_kg                         87.000000      71.000000      80.000000   \n",
       "bov                               63.000000      72.000000      78.000000   \n",
       "value_million_euros                0.350000       2.300000      10.500000   \n",
       "wage_million_euros                 0.001000       0.011000       0.059000   \n",
       "release_clause_million_euros       0.502000       4.200000      17.100000   \n",
       "attacking                        167.000000     223.000000     326.000000   \n",
       "crossing                          22.000000      62.000000      67.000000   \n",
       "finishing                         18.000000      22.000000      60.000000   \n",
       "heading_accuracy                  62.000000      53.000000      59.000000   \n",
       "short_passing                     50.000000      63.000000      80.000000   \n",
       "volleys                           15.000000      23.000000      60.000000   \n",
       "skill                            191.000000     239.000000     377.000000   \n",
       "dribbling                         39.000000      66.000000      76.000000   \n",
       "curve                             31.000000      21.000000      67.000000   \n",
       "fk_accuracy                       32.000000      31.000000      75.000000   \n",
       "long_passing                      41.000000      57.000000      79.000000   \n",
       "ball_control                      48.000000      64.000000      80.000000   \n",
       "movement                         273.000000     415.000000     374.000000   \n",
       "acceleration                      60.000000      87.000000      69.000000   \n",
       "sprint_speed                      63.000000      82.000000      75.000000   \n",
       "agility                           44.000000      91.000000      76.000000   \n",
       "reactions                         54.000000      67.000000      78.000000   \n",
       "balance                           52.000000      88.000000      76.000000   \n",
       "power                            258.000000     310.000000     376.000000   \n",
       "shot_power                        43.000000      54.000000      78.000000   \n",
       "jumping                           58.000000      89.000000      69.000000   \n",
       "stamina                           52.000000      76.000000      85.000000   \n",
       "strength                          83.000000      63.000000      69.000000   \n",
       "long_shots                        22.000000      28.000000      75.000000   \n",
       "mentality                        222.000000     299.000000     360.000000   \n",
       "aggression                        74.000000      80.000000      77.000000   \n",
       "interceptions                     57.000000      68.000000      80.000000   \n",
       "positioning                       29.000000      58.000000      68.000000   \n",
       "vision                            29.000000      59.000000      75.000000   \n",
       "penalties                         33.000000      34.000000      60.000000   \n",
       "composure                         52.000000      70.000000      78.000000   \n",
       "defending                        176.000000     213.000000     221.000000   \n",
       "marking                           58.000000      70.000000      75.000000   \n",
       "standing_tackle                   60.000000      71.000000      74.000000   \n",
       "sliding_tackle                    58.000000      72.000000      72.000000   \n",
       "goalkeeping                       52.000000      46.000000      56.000000   \n",
       "gk_diving                          7.000000      11.000000      14.000000   \n",
       "gk_handling                       12.000000       7.000000       9.000000   \n",
       "gk_kicking                        15.000000       6.000000      12.000000   \n",
       "gk_positioning                     7.000000      10.000000      13.000000   \n",
       "gk_reflexes                       11.000000      12.000000       8.000000   \n",
       "total_stats                     1339.000000    1745.000000    2090.000000   \n",
       "base_stats                       299.000000     381.000000     440.000000   \n",
       "pac                               62.000000      84.000000      72.000000   \n",
       "sho                               25.000000      32.000000      67.000000   \n",
       "pas                               37.000000      57.000000      75.000000   \n",
       "dri                               44.000000      69.000000      77.000000   \n",
       "def                               59.000000      68.000000      74.000000   \n",
       "phy                               72.000000      71.000000      75.000000   \n",
       "hits                               2.000000      10.000000      64.000000   \n",
       "height_m                           1.890000       1.650000       1.770000   \n",
       "height_feet                        6.200787       5.413386       5.807087   \n",
       "\n",
       "                                      14281         1377           7408   \\\n",
       "id                            240987.000000  212127.00000  205378.000000   \n",
       "age                               20.000000      29.00000      27.000000   \n",
       "↓ova                              61.000000      76.00000      67.000000   \n",
       "pot                               74.000000      76.00000      68.000000   \n",
       "weight_kg                         75.000000      66.00000      78.000000   \n",
       "bov                               61.000000      76.00000      67.000000   \n",
       "value_million_euros                0.700000       7.50000       0.875000   \n",
       "wage_million_euros                 0.001000       0.02700       0.002000   \n",
       "release_clause_million_euros       0.950000      13.50000       1.100000   \n",
       "attacking                         59.000000     340.00000      81.000000   \n",
       "crossing                          10.000000      76.00000      12.000000   \n",
       "finishing                          8.000000      67.00000      13.000000   \n",
       "heading_accuracy                  14.000000      54.00000      13.000000   \n",
       "short_passing                     21.000000      73.00000      27.000000   \n",
       "volleys                            6.000000      70.00000      16.000000   \n",
       "skill                             75.000000     364.00000      86.000000   \n",
       "dribbling                         13.000000      78.00000      20.000000   \n",
       "curve                             12.000000      66.00000       9.000000   \n",
       "fk_accuracy                       11.000000      74.00000      19.000000   \n",
       "long_passing                      23.000000      68.00000      19.000000   \n",
       "ball_control                      16.000000      78.00000      19.000000   \n",
       "movement                         186.000000     389.00000     201.000000   \n",
       "acceleration                      30.000000      82.00000      37.000000   \n",
       "sprint_speed                      29.000000      88.00000      45.000000   \n",
       "agility                           28.000000      77.00000      33.000000   \n",
       "reactions                         56.000000      68.00000      54.000000   \n",
       "balance                           43.000000      74.00000      32.000000   \n",
       "power                            175.000000     313.00000     219.000000   \n",
       "shot_power                        44.000000      76.00000      48.000000   \n",
       "jumping                           56.000000      44.00000      58.000000   \n",
       "stamina                           20.000000      82.00000      37.000000   \n",
       "strength                          46.000000      39.00000      62.000000   \n",
       "long_shots                         9.000000      72.00000      14.000000   \n",
       "mentality                         99.000000     316.00000     118.000000   \n",
       "aggression                        24.000000      67.00000      25.000000   \n",
       "interceptions                     12.000000      60.00000      21.000000   \n",
       "positioning                        7.000000      72.00000      16.000000   \n",
       "vision                            45.000000      68.00000      31.000000   \n",
       "penalties                         11.000000      49.00000      25.000000   \n",
       "composure                         32.000000      68.00000      49.000000   \n",
       "defending                         40.000000     188.00000      44.000000   \n",
       "marking                           14.000000      62.00000      11.000000   \n",
       "standing_tackle                   14.000000      64.00000      18.000000   \n",
       "sliding_tackle                    12.000000      62.00000      15.000000   \n",
       "goalkeeping                      303.000000      55.00000     333.000000   \n",
       "gk_diving                         62.000000      14.00000      69.000000   \n",
       "gk_handling                       61.000000      10.00000      66.000000   \n",
       "gk_kicking                        59.000000      11.00000      64.000000   \n",
       "gk_positioning                    58.000000      11.00000      67.000000   \n",
       "gk_reflexes                       63.000000       9.00000      67.000000   \n",
       "total_stats                      937.000000    1965.00000    1082.000000   \n",
       "base_stats                       332.000000     420.00000     374.000000   \n",
       "pac                               62.000000      85.00000      69.000000   \n",
       "sho                               61.000000      69.00000      66.000000   \n",
       "pas                               59.000000      72.00000      64.000000   \n",
       "dri                               63.000000      77.00000      67.000000   \n",
       "def                               29.000000      61.00000      41.000000   \n",
       "phy                               58.000000      56.00000      67.000000   \n",
       "hits                               8.000000      10.00000       1.000000   \n",
       "height_m                           1.860000       1.81000       1.850000   \n",
       "height_feet                        6.102362       5.93832       6.069554   \n",
       "\n",
       "                                      11785          12647          5445   \\\n",
       "id                            236242.000000  251558.000000  217217.000000   \n",
       "age                               26.000000      22.000000      30.000000   \n",
       "↓ova                              64.000000      63.000000      69.000000   \n",
       "pot                               67.000000      72.000000      69.000000   \n",
       "weight_kg                         66.000000      74.000000      73.000000   \n",
       "bov                               65.000000      64.000000      69.000000   \n",
       "value_million_euros                2.902997       1.100000       1.200000   \n",
       "wage_million_euros                12.132925       0.002000       0.004000   \n",
       "release_clause_million_euros       4.244997       0.949000       1.300000   \n",
       "attacking                        228.000000     273.000000     268.000000   \n",
       "crossing                          47.000000      59.000000      52.000000   \n",
       "finishing                         29.000000      58.000000      51.000000   \n",
       "heading_accuracy                  55.000000      44.000000      49.000000   \n",
       "short_passing                     66.000000      59.000000      70.000000   \n",
       "volleys                           31.000000      53.000000      46.000000   \n",
       "skill                            249.000000     297.000000     305.000000   \n",
       "dribbling                         52.000000      66.000000      62.000000   \n",
       "curve                             34.000000      57.000000      42.000000   \n",
       "fk_accuracy                       40.000000      54.000000      64.000000   \n",
       "long_passing                      64.000000      55.000000      72.000000   \n",
       "ball_control                      59.000000      65.000000      65.000000   \n",
       "movement                         309.000000     359.000000     297.000000   \n",
       "acceleration                      57.000000      73.000000      52.000000   \n",
       "sprint_speed                      64.000000      74.000000      54.000000   \n",
       "agility                           59.000000      75.000000      53.000000   \n",
       "reactions                         54.000000      58.000000      60.000000   \n",
       "balance                           75.000000      79.000000      78.000000   \n",
       "power                            262.000000     272.000000     304.000000   \n",
       "shot_power                        49.000000      64.000000      71.000000   \n",
       "jumping                           63.000000      44.000000      32.000000   \n",
       "stamina                           78.000000      59.000000      74.000000   \n",
       "strength                          40.000000      57.000000      68.000000   \n",
       "long_shots                        32.000000      48.000000      59.000000   \n",
       "mentality                        255.000000     255.000000     323.000000   \n",
       "aggression                        60.000000      58.000000      77.000000   \n",
       "interceptions                     62.000000      23.000000      66.000000   \n",
       "positioning                       35.000000      61.000000      57.000000   \n",
       "vision                            57.000000      58.000000      59.000000   \n",
       "penalties                         41.000000      55.000000      64.000000   \n",
       "composure                         49.000000      58.000000      64.000000   \n",
       "defending                        196.000000      78.000000     199.000000   \n",
       "marking                           71.000000      23.000000      67.000000   \n",
       "standing_tackle                   65.000000      29.000000      68.000000   \n",
       "sliding_tackle                    60.000000      26.000000      64.000000   \n",
       "goalkeeping                       56.000000      53.000000      58.000000   \n",
       "gk_diving                         14.000000      10.000000       7.000000   \n",
       "gk_handling                        8.000000      14.000000      14.000000   \n",
       "gk_kicking                        13.000000       9.000000      13.000000   \n",
       "gk_positioning                    13.000000      11.000000      15.000000   \n",
       "gk_reflexes                        8.000000       9.000000       9.000000   \n",
       "total_stats                     1555.000000    1587.000000    1754.000000   \n",
       "base_stats                       329.000000     340.000000     371.000000   \n",
       "pac                               61.000000      74.000000      53.000000   \n",
       "sho                               35.000000      57.000000      57.000000   \n",
       "pas                               57.000000      58.000000      63.000000   \n",
       "dri                               56.000000      67.000000      63.000000   \n",
       "def                               65.000000      27.000000      65.000000   \n",
       "phy                               55.000000      57.000000      70.000000   \n",
       "hits                               7.000000       1.000000      12.000000   \n",
       "height_m                           1.690000       1.720000       1.770000   \n",
       "height_feet                        5.544619       5.643045       5.807087   \n",
       "\n",
       "                                      10177  \n",
       "id                            253568.000000  \n",
       "age                               20.000000  \n",
       "↓ova                              65.000000  \n",
       "pot                               75.000000  \n",
       "weight_kg                         76.000000  \n",
       "bov                               67.000000  \n",
       "value_million_euros                1.600000  \n",
       "wage_million_euros                 0.014000  \n",
       "release_clause_million_euros       4.244997  \n",
       "attacking                        288.000000  \n",
       "crossing                          34.000000  \n",
       "finishing                         73.000000  \n",
       "heading_accuracy                  63.000000  \n",
       "short_passing                     53.000000  \n",
       "volleys                           65.000000  \n",
       "skill                            254.000000  \n",
       "dribbling                         60.000000  \n",
       "curve                             45.000000  \n",
       "fk_accuracy                       38.000000  \n",
       "long_passing                      47.000000  \n",
       "ball_control                      64.000000  \n",
       "movement                         328.000000  \n",
       "acceleration                      65.000000  \n",
       "sprint_speed                      68.000000  \n",
       "agility                           65.000000  \n",
       "reactions                         63.000000  \n",
       "balance                           67.000000  \n",
       "power                            303.000000  \n",
       "shot_power                        64.000000  \n",
       "jumping                           59.000000  \n",
       "stamina                           55.000000  \n",
       "strength                          64.000000  \n",
       "long_shots                        61.000000  \n",
       "mentality                        237.000000  \n",
       "aggression                        50.000000  \n",
       "interceptions                     24.000000  \n",
       "positioning                       63.000000  \n",
       "vision                            58.000000  \n",
       "penalties                         42.000000  \n",
       "composure                         56.000000  \n",
       "defending                         73.000000  \n",
       "marking                           26.000000  \n",
       "standing_tackle                   25.000000  \n",
       "sliding_tackle                    22.000000  \n",
       "goalkeeping                       45.000000  \n",
       "gk_diving                          7.000000  \n",
       "gk_handling                       10.000000  \n",
       "gk_kicking                         5.000000  \n",
       "gk_positioning                    10.000000  \n",
       "gk_reflexes                       13.000000  \n",
       "total_stats                     1528.000000  \n",
       "base_stats                       331.000000  \n",
       "pac                               67.000000  \n",
       "sho                               66.000000  \n",
       "pas                               48.000000  \n",
       "dri                               62.000000  \n",
       "def                               29.000000  \n",
       "phy                               59.000000  \n",
       "hits                              25.000000  \n",
       "height_m                           1.870000  \n",
       "height_feet                        6.135171  "
      ]
     },
     "execution_count": 151,
     "metadata": {},
     "output_type": "execute_result"
    }
   ],
   "source": [
    "df[num_vars].sample(10).T"
   ]
  },
  {
   "cell_type": "markdown",
   "id": "9921cac5-8c5e-4853-ba10-d6e4f6790d19",
   "metadata": {},
   "source": [
    "The NaN values in `hits` variable may mean that certain profile websites have never been visited. I will fill them with 0 visits."
   ]
  },
  {
   "cell_type": "code",
   "execution_count": 152,
   "id": "1ae692ce-a009-4a1e-90b0-4c93718ae527",
   "metadata": {
    "tags": []
   },
   "outputs": [
    {
     "data": {
      "text/plain": [
       "2595"
      ]
     },
     "execution_count": 152,
     "metadata": {},
     "output_type": "execute_result"
    }
   ],
   "source": [
    "hits.isna().sum()"
   ]
  },
  {
   "cell_type": "code",
   "execution_count": 153,
   "id": "a8127707-f560-4020-8bf0-ddf04de220ac",
   "metadata": {
    "tags": []
   },
   "outputs": [],
   "source": [
    "hits = hits.fillna(0)"
   ]
  },
  {
   "cell_type": "code",
   "execution_count": 154,
   "id": "e51d02bb-0a5f-4b3b-b6d0-c02533fc01b6",
   "metadata": {
    "tags": []
   },
   "outputs": [
    {
     "data": {
      "text/plain": [
       "2595"
      ]
     },
     "execution_count": 154,
     "metadata": {},
     "output_type": "execute_result"
    }
   ],
   "source": [
    "hits[hits == 0].count()"
   ]
  },
  {
   "cell_type": "markdown",
   "id": "a51ace10-356c-4724-a85e-9a34177de49a",
   "metadata": {},
   "source": [
    "All NaN values from `hits` have been successfully filled with 0 visits values."
   ]
  },
  {
   "cell_type": "markdown",
   "id": "2591a9ed-2fd1-47e4-b063-9a3121bd3e40",
   "metadata": {},
   "source": [
    "## Dealing with outliers"
   ]
  },
  {
   "cell_type": "markdown",
   "id": "aa7fae84-9428-403d-ae77-2ee9f1ac9fc4",
   "metadata": {},
   "source": [
    "There are too may numeric variables, so I will create a function to check if a variable has outliers.  \n",
    "A value is considered an outliers if it lies outside the limits of +/- 1.5 · IR (Interquartile Range). "
   ]
  },
  {
   "cell_type": "code",
   "execution_count": 155,
   "id": "0805d5b9-73cf-4acb-9e27-8b56e67b183a",
   "metadata": {
    "tags": []
   },
   "outputs": [],
   "source": [
    "def has_outliers(series):\n",
    "    Q1, Q3 = series.quantile([.25, .75])\n",
    "    IR = Q3 - Q1\n",
    "    below_Q1 = series < (Q1 - 1.5*IR)\n",
    "    above_Q3 = series > (Q3 + 1.5*IR)\n",
    "    number_outliers = (below_Q1 | above_Q3).sum()\n",
    "    if number_outliers:\n",
    "        return number_outliers"
   ]
  },
  {
   "cell_type": "code",
   "execution_count": 156,
   "id": "9c902076-5721-403d-823d-8cf6d3fde8c0",
   "metadata": {},
   "outputs": [
    {
     "data": {
      "text/html": [
       "<div>\n",
       "<style scoped>\n",
       "    .dataframe tbody tr th:only-of-type {\n",
       "        vertical-align: middle;\n",
       "    }\n",
       "\n",
       "    .dataframe tbody tr th {\n",
       "        vertical-align: top;\n",
       "    }\n",
       "\n",
       "    .dataframe thead th {\n",
       "        text-align: right;\n",
       "    }\n",
       "</style>\n",
       "<table border=\"1\" class=\"dataframe\">\n",
       "  <thead>\n",
       "    <tr style=\"text-align: right;\">\n",
       "      <th></th>\n",
       "      <th>id</th>\n",
       "      <th>age</th>\n",
       "      <th>↓ova</th>\n",
       "      <th>pot</th>\n",
       "      <th>weight_kg</th>\n",
       "      <th>bov</th>\n",
       "      <th>value_million_euros</th>\n",
       "      <th>wage_million_euros</th>\n",
       "      <th>release_clause_million_euros</th>\n",
       "      <th>attacking</th>\n",
       "      <th>crossing</th>\n",
       "      <th>finishing</th>\n",
       "      <th>heading_accuracy</th>\n",
       "      <th>short_passing</th>\n",
       "      <th>volleys</th>\n",
       "      <th>skill</th>\n",
       "      <th>dribbling</th>\n",
       "      <th>curve</th>\n",
       "      <th>fk_accuracy</th>\n",
       "      <th>long_passing</th>\n",
       "      <th>ball_control</th>\n",
       "      <th>movement</th>\n",
       "      <th>acceleration</th>\n",
       "      <th>sprint_speed</th>\n",
       "      <th>agility</th>\n",
       "      <th>reactions</th>\n",
       "      <th>balance</th>\n",
       "      <th>power</th>\n",
       "      <th>shot_power</th>\n",
       "      <th>jumping</th>\n",
       "      <th>stamina</th>\n",
       "      <th>strength</th>\n",
       "      <th>long_shots</th>\n",
       "      <th>mentality</th>\n",
       "      <th>aggression</th>\n",
       "      <th>interceptions</th>\n",
       "      <th>positioning</th>\n",
       "      <th>vision</th>\n",
       "      <th>penalties</th>\n",
       "      <th>composure</th>\n",
       "      <th>defending</th>\n",
       "      <th>marking</th>\n",
       "      <th>standing_tackle</th>\n",
       "      <th>sliding_tackle</th>\n",
       "      <th>goalkeeping</th>\n",
       "      <th>gk_diving</th>\n",
       "      <th>gk_handling</th>\n",
       "      <th>gk_kicking</th>\n",
       "      <th>gk_positioning</th>\n",
       "      <th>gk_reflexes</th>\n",
       "      <th>total_stats</th>\n",
       "      <th>base_stats</th>\n",
       "      <th>pac</th>\n",
       "      <th>sho</th>\n",
       "      <th>pas</th>\n",
       "      <th>dri</th>\n",
       "      <th>def</th>\n",
       "      <th>phy</th>\n",
       "      <th>hits</th>\n",
       "      <th>height_m</th>\n",
       "      <th>height_feet</th>\n",
       "    </tr>\n",
       "  </thead>\n",
       "  <tbody>\n",
       "    <tr>\n",
       "      <th>0</th>\n",
       "      <td>158023</td>\n",
       "      <td>33</td>\n",
       "      <td>93</td>\n",
       "      <td>93</td>\n",
       "      <td>72.0</td>\n",
       "      <td>93</td>\n",
       "      <td>103.50</td>\n",
       "      <td>0.560</td>\n",
       "      <td>138.400</td>\n",
       "      <td>429</td>\n",
       "      <td>85</td>\n",
       "      <td>95</td>\n",
       "      <td>70</td>\n",
       "      <td>91</td>\n",
       "      <td>88</td>\n",
       "      <td>470</td>\n",
       "      <td>96</td>\n",
       "      <td>93</td>\n",
       "      <td>94</td>\n",
       "      <td>91</td>\n",
       "      <td>96</td>\n",
       "      <td>451</td>\n",
       "      <td>91</td>\n",
       "      <td>80</td>\n",
       "      <td>91</td>\n",
       "      <td>94</td>\n",
       "      <td>95</td>\n",
       "      <td>389</td>\n",
       "      <td>86</td>\n",
       "      <td>68</td>\n",
       "      <td>72</td>\n",
       "      <td>69</td>\n",
       "      <td>94</td>\n",
       "      <td>347</td>\n",
       "      <td>44</td>\n",
       "      <td>40</td>\n",
       "      <td>93</td>\n",
       "      <td>95</td>\n",
       "      <td>75</td>\n",
       "      <td>96</td>\n",
       "      <td>91</td>\n",
       "      <td>32</td>\n",
       "      <td>35</td>\n",
       "      <td>24</td>\n",
       "      <td>54</td>\n",
       "      <td>6</td>\n",
       "      <td>11</td>\n",
       "      <td>15</td>\n",
       "      <td>14</td>\n",
       "      <td>8</td>\n",
       "      <td>2231</td>\n",
       "      <td>466</td>\n",
       "      <td>85</td>\n",
       "      <td>92</td>\n",
       "      <td>91</td>\n",
       "      <td>95</td>\n",
       "      <td>38</td>\n",
       "      <td>65</td>\n",
       "      <td>771.0</td>\n",
       "      <td>1.70</td>\n",
       "      <td>5.577428</td>\n",
       "    </tr>\n",
       "    <tr>\n",
       "      <th>1</th>\n",
       "      <td>20801</td>\n",
       "      <td>35</td>\n",
       "      <td>92</td>\n",
       "      <td>92</td>\n",
       "      <td>83.0</td>\n",
       "      <td>92</td>\n",
       "      <td>63.00</td>\n",
       "      <td>0.220</td>\n",
       "      <td>75.900</td>\n",
       "      <td>437</td>\n",
       "      <td>84</td>\n",
       "      <td>95</td>\n",
       "      <td>90</td>\n",
       "      <td>82</td>\n",
       "      <td>86</td>\n",
       "      <td>414</td>\n",
       "      <td>88</td>\n",
       "      <td>81</td>\n",
       "      <td>76</td>\n",
       "      <td>77</td>\n",
       "      <td>92</td>\n",
       "      <td>431</td>\n",
       "      <td>87</td>\n",
       "      <td>91</td>\n",
       "      <td>87</td>\n",
       "      <td>95</td>\n",
       "      <td>71</td>\n",
       "      <td>444</td>\n",
       "      <td>94</td>\n",
       "      <td>95</td>\n",
       "      <td>84</td>\n",
       "      <td>78</td>\n",
       "      <td>93</td>\n",
       "      <td>353</td>\n",
       "      <td>63</td>\n",
       "      <td>29</td>\n",
       "      <td>95</td>\n",
       "      <td>82</td>\n",
       "      <td>84</td>\n",
       "      <td>95</td>\n",
       "      <td>84</td>\n",
       "      <td>28</td>\n",
       "      <td>32</td>\n",
       "      <td>24</td>\n",
       "      <td>58</td>\n",
       "      <td>7</td>\n",
       "      <td>11</td>\n",
       "      <td>15</td>\n",
       "      <td>14</td>\n",
       "      <td>11</td>\n",
       "      <td>2221</td>\n",
       "      <td>464</td>\n",
       "      <td>89</td>\n",
       "      <td>93</td>\n",
       "      <td>81</td>\n",
       "      <td>89</td>\n",
       "      <td>35</td>\n",
       "      <td>77</td>\n",
       "      <td>562.0</td>\n",
       "      <td>1.87</td>\n",
       "      <td>6.135171</td>\n",
       "    </tr>\n",
       "    <tr>\n",
       "      <th>2</th>\n",
       "      <td>200389</td>\n",
       "      <td>27</td>\n",
       "      <td>91</td>\n",
       "      <td>93</td>\n",
       "      <td>87.0</td>\n",
       "      <td>91</td>\n",
       "      <td>120.00</td>\n",
       "      <td>0.125</td>\n",
       "      <td>159.400</td>\n",
       "      <td>95</td>\n",
       "      <td>13</td>\n",
       "      <td>11</td>\n",
       "      <td>15</td>\n",
       "      <td>43</td>\n",
       "      <td>13</td>\n",
       "      <td>109</td>\n",
       "      <td>12</td>\n",
       "      <td>13</td>\n",
       "      <td>14</td>\n",
       "      <td>40</td>\n",
       "      <td>30</td>\n",
       "      <td>307</td>\n",
       "      <td>43</td>\n",
       "      <td>60</td>\n",
       "      <td>67</td>\n",
       "      <td>88</td>\n",
       "      <td>49</td>\n",
       "      <td>268</td>\n",
       "      <td>59</td>\n",
       "      <td>78</td>\n",
       "      <td>41</td>\n",
       "      <td>78</td>\n",
       "      <td>12</td>\n",
       "      <td>140</td>\n",
       "      <td>34</td>\n",
       "      <td>19</td>\n",
       "      <td>11</td>\n",
       "      <td>65</td>\n",
       "      <td>11</td>\n",
       "      <td>68</td>\n",
       "      <td>57</td>\n",
       "      <td>27</td>\n",
       "      <td>12</td>\n",
       "      <td>18</td>\n",
       "      <td>437</td>\n",
       "      <td>87</td>\n",
       "      <td>92</td>\n",
       "      <td>78</td>\n",
       "      <td>90</td>\n",
       "      <td>90</td>\n",
       "      <td>1413</td>\n",
       "      <td>489</td>\n",
       "      <td>87</td>\n",
       "      <td>92</td>\n",
       "      <td>78</td>\n",
       "      <td>90</td>\n",
       "      <td>52</td>\n",
       "      <td>90</td>\n",
       "      <td>150.0</td>\n",
       "      <td>1.88</td>\n",
       "      <td>6.167979</td>\n",
       "    </tr>\n",
       "    <tr>\n",
       "      <th>3</th>\n",
       "      <td>192985</td>\n",
       "      <td>29</td>\n",
       "      <td>91</td>\n",
       "      <td>91</td>\n",
       "      <td>70.0</td>\n",
       "      <td>91</td>\n",
       "      <td>129.00</td>\n",
       "      <td>0.370</td>\n",
       "      <td>161.000</td>\n",
       "      <td>407</td>\n",
       "      <td>94</td>\n",
       "      <td>82</td>\n",
       "      <td>55</td>\n",
       "      <td>94</td>\n",
       "      <td>82</td>\n",
       "      <td>441</td>\n",
       "      <td>88</td>\n",
       "      <td>85</td>\n",
       "      <td>83</td>\n",
       "      <td>93</td>\n",
       "      <td>92</td>\n",
       "      <td>398</td>\n",
       "      <td>77</td>\n",
       "      <td>76</td>\n",
       "      <td>78</td>\n",
       "      <td>91</td>\n",
       "      <td>76</td>\n",
       "      <td>408</td>\n",
       "      <td>91</td>\n",
       "      <td>63</td>\n",
       "      <td>89</td>\n",
       "      <td>74</td>\n",
       "      <td>91</td>\n",
       "      <td>408</td>\n",
       "      <td>76</td>\n",
       "      <td>66</td>\n",
       "      <td>88</td>\n",
       "      <td>94</td>\n",
       "      <td>84</td>\n",
       "      <td>91</td>\n",
       "      <td>186</td>\n",
       "      <td>68</td>\n",
       "      <td>65</td>\n",
       "      <td>53</td>\n",
       "      <td>56</td>\n",
       "      <td>15</td>\n",
       "      <td>13</td>\n",
       "      <td>5</td>\n",
       "      <td>10</td>\n",
       "      <td>13</td>\n",
       "      <td>2304</td>\n",
       "      <td>485</td>\n",
       "      <td>76</td>\n",
       "      <td>86</td>\n",
       "      <td>93</td>\n",
       "      <td>88</td>\n",
       "      <td>64</td>\n",
       "      <td>78</td>\n",
       "      <td>207.0</td>\n",
       "      <td>1.81</td>\n",
       "      <td>5.938320</td>\n",
       "    </tr>\n",
       "    <tr>\n",
       "      <th>4</th>\n",
       "      <td>190871</td>\n",
       "      <td>28</td>\n",
       "      <td>91</td>\n",
       "      <td>91</td>\n",
       "      <td>68.0</td>\n",
       "      <td>91</td>\n",
       "      <td>132.00</td>\n",
       "      <td>0.270</td>\n",
       "      <td>166.500</td>\n",
       "      <td>408</td>\n",
       "      <td>85</td>\n",
       "      <td>87</td>\n",
       "      <td>62</td>\n",
       "      <td>87</td>\n",
       "      <td>87</td>\n",
       "      <td>448</td>\n",
       "      <td>95</td>\n",
       "      <td>88</td>\n",
       "      <td>89</td>\n",
       "      <td>81</td>\n",
       "      <td>95</td>\n",
       "      <td>453</td>\n",
       "      <td>94</td>\n",
       "      <td>89</td>\n",
       "      <td>96</td>\n",
       "      <td>91</td>\n",
       "      <td>83</td>\n",
       "      <td>357</td>\n",
       "      <td>80</td>\n",
       "      <td>62</td>\n",
       "      <td>81</td>\n",
       "      <td>50</td>\n",
       "      <td>84</td>\n",
       "      <td>356</td>\n",
       "      <td>51</td>\n",
       "      <td>36</td>\n",
       "      <td>87</td>\n",
       "      <td>90</td>\n",
       "      <td>92</td>\n",
       "      <td>93</td>\n",
       "      <td>94</td>\n",
       "      <td>35</td>\n",
       "      <td>30</td>\n",
       "      <td>29</td>\n",
       "      <td>59</td>\n",
       "      <td>9</td>\n",
       "      <td>9</td>\n",
       "      <td>15</td>\n",
       "      <td>15</td>\n",
       "      <td>11</td>\n",
       "      <td>2175</td>\n",
       "      <td>451</td>\n",
       "      <td>91</td>\n",
       "      <td>85</td>\n",
       "      <td>86</td>\n",
       "      <td>94</td>\n",
       "      <td>36</td>\n",
       "      <td>59</td>\n",
       "      <td>595.0</td>\n",
       "      <td>1.75</td>\n",
       "      <td>5.741470</td>\n",
       "    </tr>\n",
       "    <tr>\n",
       "      <th>...</th>\n",
       "      <td>...</td>\n",
       "      <td>...</td>\n",
       "      <td>...</td>\n",
       "      <td>...</td>\n",
       "      <td>...</td>\n",
       "      <td>...</td>\n",
       "      <td>...</td>\n",
       "      <td>...</td>\n",
       "      <td>...</td>\n",
       "      <td>...</td>\n",
       "      <td>...</td>\n",
       "      <td>...</td>\n",
       "      <td>...</td>\n",
       "      <td>...</td>\n",
       "      <td>...</td>\n",
       "      <td>...</td>\n",
       "      <td>...</td>\n",
       "      <td>...</td>\n",
       "      <td>...</td>\n",
       "      <td>...</td>\n",
       "      <td>...</td>\n",
       "      <td>...</td>\n",
       "      <td>...</td>\n",
       "      <td>...</td>\n",
       "      <td>...</td>\n",
       "      <td>...</td>\n",
       "      <td>...</td>\n",
       "      <td>...</td>\n",
       "      <td>...</td>\n",
       "      <td>...</td>\n",
       "      <td>...</td>\n",
       "      <td>...</td>\n",
       "      <td>...</td>\n",
       "      <td>...</td>\n",
       "      <td>...</td>\n",
       "      <td>...</td>\n",
       "      <td>...</td>\n",
       "      <td>...</td>\n",
       "      <td>...</td>\n",
       "      <td>...</td>\n",
       "      <td>...</td>\n",
       "      <td>...</td>\n",
       "      <td>...</td>\n",
       "      <td>...</td>\n",
       "      <td>...</td>\n",
       "      <td>...</td>\n",
       "      <td>...</td>\n",
       "      <td>...</td>\n",
       "      <td>...</td>\n",
       "      <td>...</td>\n",
       "      <td>...</td>\n",
       "      <td>...</td>\n",
       "      <td>...</td>\n",
       "      <td>...</td>\n",
       "      <td>...</td>\n",
       "      <td>...</td>\n",
       "      <td>...</td>\n",
       "      <td>...</td>\n",
       "      <td>...</td>\n",
       "      <td>...</td>\n",
       "      <td>...</td>\n",
       "    </tr>\n",
       "    <tr>\n",
       "      <th>18974</th>\n",
       "      <td>247223</td>\n",
       "      <td>21</td>\n",
       "      <td>47</td>\n",
       "      <td>55</td>\n",
       "      <td>66.0</td>\n",
       "      <td>49</td>\n",
       "      <td>0.10</td>\n",
       "      <td>0.001</td>\n",
       "      <td>0.070</td>\n",
       "      <td>145</td>\n",
       "      <td>23</td>\n",
       "      <td>26</td>\n",
       "      <td>43</td>\n",
       "      <td>26</td>\n",
       "      <td>27</td>\n",
       "      <td>142</td>\n",
       "      <td>27</td>\n",
       "      <td>23</td>\n",
       "      <td>21</td>\n",
       "      <td>29</td>\n",
       "      <td>42</td>\n",
       "      <td>294</td>\n",
       "      <td>68</td>\n",
       "      <td>60</td>\n",
       "      <td>69</td>\n",
       "      <td>46</td>\n",
       "      <td>51</td>\n",
       "      <td>221</td>\n",
       "      <td>36</td>\n",
       "      <td>57</td>\n",
       "      <td>54</td>\n",
       "      <td>50</td>\n",
       "      <td>24</td>\n",
       "      <td>192</td>\n",
       "      <td>48</td>\n",
       "      <td>50</td>\n",
       "      <td>28</td>\n",
       "      <td>28</td>\n",
       "      <td>38</td>\n",
       "      <td>44</td>\n",
       "      <td>147</td>\n",
       "      <td>45</td>\n",
       "      <td>52</td>\n",
       "      <td>50</td>\n",
       "      <td>45</td>\n",
       "      <td>7</td>\n",
       "      <td>8</td>\n",
       "      <td>5</td>\n",
       "      <td>14</td>\n",
       "      <td>11</td>\n",
       "      <td>1186</td>\n",
       "      <td>255</td>\n",
       "      <td>64</td>\n",
       "      <td>28</td>\n",
       "      <td>26</td>\n",
       "      <td>38</td>\n",
       "      <td>48</td>\n",
       "      <td>51</td>\n",
       "      <td>NaN</td>\n",
       "      <td>1.78</td>\n",
       "      <td>5.839895</td>\n",
       "    </tr>\n",
       "    <tr>\n",
       "      <th>18975</th>\n",
       "      <td>258760</td>\n",
       "      <td>17</td>\n",
       "      <td>47</td>\n",
       "      <td>67</td>\n",
       "      <td>65.0</td>\n",
       "      <td>51</td>\n",
       "      <td>0.13</td>\n",
       "      <td>50.000</td>\n",
       "      <td>0.165</td>\n",
       "      <td>211</td>\n",
       "      <td>38</td>\n",
       "      <td>42</td>\n",
       "      <td>40</td>\n",
       "      <td>56</td>\n",
       "      <td>35</td>\n",
       "      <td>219</td>\n",
       "      <td>46</td>\n",
       "      <td>40</td>\n",
       "      <td>35</td>\n",
       "      <td>50</td>\n",
       "      <td>48</td>\n",
       "      <td>305</td>\n",
       "      <td>63</td>\n",
       "      <td>64</td>\n",
       "      <td>61</td>\n",
       "      <td>51</td>\n",
       "      <td>66</td>\n",
       "      <td>226</td>\n",
       "      <td>48</td>\n",
       "      <td>58</td>\n",
       "      <td>43</td>\n",
       "      <td>47</td>\n",
       "      <td>30</td>\n",
       "      <td>193</td>\n",
       "      <td>40</td>\n",
       "      <td>23</td>\n",
       "      <td>47</td>\n",
       "      <td>47</td>\n",
       "      <td>36</td>\n",
       "      <td>38</td>\n",
       "      <td>116</td>\n",
       "      <td>32</td>\n",
       "      <td>44</td>\n",
       "      <td>40</td>\n",
       "      <td>45</td>\n",
       "      <td>12</td>\n",
       "      <td>10</td>\n",
       "      <td>9</td>\n",
       "      <td>6</td>\n",
       "      <td>8</td>\n",
       "      <td>1315</td>\n",
       "      <td>281</td>\n",
       "      <td>64</td>\n",
       "      <td>40</td>\n",
       "      <td>48</td>\n",
       "      <td>49</td>\n",
       "      <td>35</td>\n",
       "      <td>45</td>\n",
       "      <td>NaN</td>\n",
       "      <td>1.75</td>\n",
       "      <td>5.741470</td>\n",
       "    </tr>\n",
       "    <tr>\n",
       "      <th>18976</th>\n",
       "      <td>252757</td>\n",
       "      <td>18</td>\n",
       "      <td>47</td>\n",
       "      <td>65</td>\n",
       "      <td>74.0</td>\n",
       "      <td>49</td>\n",
       "      <td>0.12</td>\n",
       "      <td>50.000</td>\n",
       "      <td>0.131</td>\n",
       "      <td>200</td>\n",
       "      <td>30</td>\n",
       "      <td>34</td>\n",
       "      <td>43</td>\n",
       "      <td>54</td>\n",
       "      <td>39</td>\n",
       "      <td>207</td>\n",
       "      <td>43</td>\n",
       "      <td>39</td>\n",
       "      <td>31</td>\n",
       "      <td>47</td>\n",
       "      <td>47</td>\n",
       "      <td>290</td>\n",
       "      <td>59</td>\n",
       "      <td>66</td>\n",
       "      <td>51</td>\n",
       "      <td>47</td>\n",
       "      <td>67</td>\n",
       "      <td>242</td>\n",
       "      <td>45</td>\n",
       "      <td>52</td>\n",
       "      <td>50</td>\n",
       "      <td>54</td>\n",
       "      <td>41</td>\n",
       "      <td>230</td>\n",
       "      <td>56</td>\n",
       "      <td>42</td>\n",
       "      <td>47</td>\n",
       "      <td>43</td>\n",
       "      <td>42</td>\n",
       "      <td>43</td>\n",
       "      <td>121</td>\n",
       "      <td>33</td>\n",
       "      <td>43</td>\n",
       "      <td>45</td>\n",
       "      <td>48</td>\n",
       "      <td>13</td>\n",
       "      <td>12</td>\n",
       "      <td>6</td>\n",
       "      <td>6</td>\n",
       "      <td>11</td>\n",
       "      <td>1338</td>\n",
       "      <td>285</td>\n",
       "      <td>63</td>\n",
       "      <td>39</td>\n",
       "      <td>44</td>\n",
       "      <td>46</td>\n",
       "      <td>40</td>\n",
       "      <td>53</td>\n",
       "      <td>NaN</td>\n",
       "      <td>1.79</td>\n",
       "      <td>5.872703</td>\n",
       "    </tr>\n",
       "    <tr>\n",
       "      <th>18977</th>\n",
       "      <td>243790</td>\n",
       "      <td>20</td>\n",
       "      <td>47</td>\n",
       "      <td>57</td>\n",
       "      <td>69.0</td>\n",
       "      <td>48</td>\n",
       "      <td>0.10</td>\n",
       "      <td>0.002</td>\n",
       "      <td>0.088</td>\n",
       "      <td>215</td>\n",
       "      <td>45</td>\n",
       "      <td>52</td>\n",
       "      <td>34</td>\n",
       "      <td>42</td>\n",
       "      <td>42</td>\n",
       "      <td>194</td>\n",
       "      <td>51</td>\n",
       "      <td>35</td>\n",
       "      <td>31</td>\n",
       "      <td>31</td>\n",
       "      <td>46</td>\n",
       "      <td>254</td>\n",
       "      <td>62</td>\n",
       "      <td>55</td>\n",
       "      <td>50</td>\n",
       "      <td>33</td>\n",
       "      <td>54</td>\n",
       "      <td>235</td>\n",
       "      <td>56</td>\n",
       "      <td>45</td>\n",
       "      <td>46</td>\n",
       "      <td>48</td>\n",
       "      <td>40</td>\n",
       "      <td>190</td>\n",
       "      <td>31</td>\n",
       "      <td>25</td>\n",
       "      <td>42</td>\n",
       "      <td>46</td>\n",
       "      <td>46</td>\n",
       "      <td>45</td>\n",
       "      <td>100</td>\n",
       "      <td>26</td>\n",
       "      <td>32</td>\n",
       "      <td>42</td>\n",
       "      <td>55</td>\n",
       "      <td>14</td>\n",
       "      <td>12</td>\n",
       "      <td>9</td>\n",
       "      <td>8</td>\n",
       "      <td>12</td>\n",
       "      <td>1243</td>\n",
       "      <td>271</td>\n",
       "      <td>58</td>\n",
       "      <td>49</td>\n",
       "      <td>41</td>\n",
       "      <td>49</td>\n",
       "      <td>30</td>\n",
       "      <td>44</td>\n",
       "      <td>NaN</td>\n",
       "      <td>1.75</td>\n",
       "      <td>5.741470</td>\n",
       "    </tr>\n",
       "    <tr>\n",
       "      <th>18978</th>\n",
       "      <td>252520</td>\n",
       "      <td>21</td>\n",
       "      <td>47</td>\n",
       "      <td>57</td>\n",
       "      <td>75.0</td>\n",
       "      <td>50</td>\n",
       "      <td>0.10</td>\n",
       "      <td>0.001</td>\n",
       "      <td>0.079</td>\n",
       "      <td>163</td>\n",
       "      <td>40</td>\n",
       "      <td>18</td>\n",
       "      <td>40</td>\n",
       "      <td>45</td>\n",
       "      <td>20</td>\n",
       "      <td>171</td>\n",
       "      <td>40</td>\n",
       "      <td>33</td>\n",
       "      <td>20</td>\n",
       "      <td>40</td>\n",
       "      <td>38</td>\n",
       "      <td>279</td>\n",
       "      <td>60</td>\n",
       "      <td>63</td>\n",
       "      <td>57</td>\n",
       "      <td>47</td>\n",
       "      <td>52</td>\n",
       "      <td>231</td>\n",
       "      <td>37</td>\n",
       "      <td>66</td>\n",
       "      <td>60</td>\n",
       "      <td>55</td>\n",
       "      <td>13</td>\n",
       "      <td>185</td>\n",
       "      <td>45</td>\n",
       "      <td>47</td>\n",
       "      <td>33</td>\n",
       "      <td>33</td>\n",
       "      <td>27</td>\n",
       "      <td>33</td>\n",
       "      <td>136</td>\n",
       "      <td>45</td>\n",
       "      <td>46</td>\n",
       "      <td>45</td>\n",
       "      <td>50</td>\n",
       "      <td>10</td>\n",
       "      <td>11</td>\n",
       "      <td>7</td>\n",
       "      <td>10</td>\n",
       "      <td>12</td>\n",
       "      <td>1215</td>\n",
       "      <td>265</td>\n",
       "      <td>62</td>\n",
       "      <td>22</td>\n",
       "      <td>39</td>\n",
       "      <td>42</td>\n",
       "      <td>45</td>\n",
       "      <td>55</td>\n",
       "      <td>NaN</td>\n",
       "      <td>1.88</td>\n",
       "      <td>6.167979</td>\n",
       "    </tr>\n",
       "  </tbody>\n",
       "</table>\n",
       "<p>18979 rows × 61 columns</p>\n",
       "</div>"
      ],
      "text/plain": [
       "           id  age  ↓ova  pot  weight_kg  bov  value_million_euros  \\\n",
       "0      158023   33    93   93       72.0   93               103.50   \n",
       "1       20801   35    92   92       83.0   92                63.00   \n",
       "2      200389   27    91   93       87.0   91               120.00   \n",
       "3      192985   29    91   91       70.0   91               129.00   \n",
       "4      190871   28    91   91       68.0   91               132.00   \n",
       "...       ...  ...   ...  ...        ...  ...                  ...   \n",
       "18974  247223   21    47   55       66.0   49                 0.10   \n",
       "18975  258760   17    47   67       65.0   51                 0.13   \n",
       "18976  252757   18    47   65       74.0   49                 0.12   \n",
       "18977  243790   20    47   57       69.0   48                 0.10   \n",
       "18978  252520   21    47   57       75.0   50                 0.10   \n",
       "\n",
       "       wage_million_euros  release_clause_million_euros  attacking  crossing  \\\n",
       "0                   0.560                       138.400        429        85   \n",
       "1                   0.220                        75.900        437        84   \n",
       "2                   0.125                       159.400         95        13   \n",
       "3                   0.370                       161.000        407        94   \n",
       "4                   0.270                       166.500        408        85   \n",
       "...                   ...                           ...        ...       ...   \n",
       "18974               0.001                         0.070        145        23   \n",
       "18975              50.000                         0.165        211        38   \n",
       "18976              50.000                         0.131        200        30   \n",
       "18977               0.002                         0.088        215        45   \n",
       "18978               0.001                         0.079        163        40   \n",
       "\n",
       "       finishing  heading_accuracy  short_passing  volleys  skill  dribbling  \\\n",
       "0             95                70             91       88    470         96   \n",
       "1             95                90             82       86    414         88   \n",
       "2             11                15             43       13    109         12   \n",
       "3             82                55             94       82    441         88   \n",
       "4             87                62             87       87    448         95   \n",
       "...          ...               ...            ...      ...    ...        ...   \n",
       "18974         26                43             26       27    142         27   \n",
       "18975         42                40             56       35    219         46   \n",
       "18976         34                43             54       39    207         43   \n",
       "18977         52                34             42       42    194         51   \n",
       "18978         18                40             45       20    171         40   \n",
       "\n",
       "       curve  fk_accuracy  long_passing  ball_control  movement  acceleration  \\\n",
       "0         93           94            91            96       451            91   \n",
       "1         81           76            77            92       431            87   \n",
       "2         13           14            40            30       307            43   \n",
       "3         85           83            93            92       398            77   \n",
       "4         88           89            81            95       453            94   \n",
       "...      ...          ...           ...           ...       ...           ...   \n",
       "18974     23           21            29            42       294            68   \n",
       "18975     40           35            50            48       305            63   \n",
       "18976     39           31            47            47       290            59   \n",
       "18977     35           31            31            46       254            62   \n",
       "18978     33           20            40            38       279            60   \n",
       "\n",
       "       sprint_speed  agility  reactions  balance  power  shot_power  jumping  \\\n",
       "0                80       91         94       95    389          86       68   \n",
       "1                91       87         95       71    444          94       95   \n",
       "2                60       67         88       49    268          59       78   \n",
       "3                76       78         91       76    408          91       63   \n",
       "4                89       96         91       83    357          80       62   \n",
       "...             ...      ...        ...      ...    ...         ...      ...   \n",
       "18974            60       69         46       51    221          36       57   \n",
       "18975            64       61         51       66    226          48       58   \n",
       "18976            66       51         47       67    242          45       52   \n",
       "18977            55       50         33       54    235          56       45   \n",
       "18978            63       57         47       52    231          37       66   \n",
       "\n",
       "       stamina  strength  long_shots  mentality  aggression  interceptions  \\\n",
       "0           72        69          94        347          44             40   \n",
       "1           84        78          93        353          63             29   \n",
       "2           41        78          12        140          34             19   \n",
       "3           89        74          91        408          76             66   \n",
       "4           81        50          84        356          51             36   \n",
       "...        ...       ...         ...        ...         ...            ...   \n",
       "18974       54        50          24        192          48             50   \n",
       "18975       43        47          30        193          40             23   \n",
       "18976       50        54          41        230          56             42   \n",
       "18977       46        48          40        190          31             25   \n",
       "18978       60        55          13        185          45             47   \n",
       "\n",
       "       positioning  vision  penalties  composure  defending  marking  \\\n",
       "0               93      95         75         96         91       32   \n",
       "1               95      82         84         95         84       28   \n",
       "2               11      65         11         68         57       27   \n",
       "3               88      94         84         91        186       68   \n",
       "4               87      90         92         93         94       35   \n",
       "...            ...     ...        ...        ...        ...      ...   \n",
       "18974           28      28         38         44        147       45   \n",
       "18975           47      47         36         38        116       32   \n",
       "18976           47      43         42         43        121       33   \n",
       "18977           42      46         46         45        100       26   \n",
       "18978           33      33         27         33        136       45   \n",
       "\n",
       "       standing_tackle  sliding_tackle  goalkeeping  gk_diving  gk_handling  \\\n",
       "0                   35              24           54          6           11   \n",
       "1                   32              24           58          7           11   \n",
       "2                   12              18          437         87           92   \n",
       "3                   65              53           56         15           13   \n",
       "4                   30              29           59          9            9   \n",
       "...                ...             ...          ...        ...          ...   \n",
       "18974               52              50           45          7            8   \n",
       "18975               44              40           45         12           10   \n",
       "18976               43              45           48         13           12   \n",
       "18977               32              42           55         14           12   \n",
       "18978               46              45           50         10           11   \n",
       "\n",
       "       gk_kicking  gk_positioning  gk_reflexes  total_stats  base_stats  pac  \\\n",
       "0              15              14            8         2231         466   85   \n",
       "1              15              14           11         2221         464   89   \n",
       "2              78              90           90         1413         489   87   \n",
       "3               5              10           13         2304         485   76   \n",
       "4              15              15           11         2175         451   91   \n",
       "...           ...             ...          ...          ...         ...  ...   \n",
       "18974           5              14           11         1186         255   64   \n",
       "18975           9               6            8         1315         281   64   \n",
       "18976           6               6           11         1338         285   63   \n",
       "18977           9               8           12         1243         271   58   \n",
       "18978           7              10           12         1215         265   62   \n",
       "\n",
       "       sho  pas  dri  def  phy   hits  height_m  height_feet  \n",
       "0       92   91   95   38   65  771.0      1.70     5.577428  \n",
       "1       93   81   89   35   77  562.0      1.87     6.135171  \n",
       "2       92   78   90   52   90  150.0      1.88     6.167979  \n",
       "3       86   93   88   64   78  207.0      1.81     5.938320  \n",
       "4       85   86   94   36   59  595.0      1.75     5.741470  \n",
       "...    ...  ...  ...  ...  ...    ...       ...          ...  \n",
       "18974   28   26   38   48   51    NaN      1.78     5.839895  \n",
       "18975   40   48   49   35   45    NaN      1.75     5.741470  \n",
       "18976   39   44   46   40   53    NaN      1.79     5.872703  \n",
       "18977   49   41   49   30   44    NaN      1.75     5.741470  \n",
       "18978   22   39   42   45   55    NaN      1.88     6.167979  \n",
       "\n",
       "[18979 rows x 61 columns]"
      ]
     },
     "execution_count": 156,
     "metadata": {},
     "output_type": "execute_result"
    }
   ],
   "source": [
    "df[num_vars]"
   ]
  },
  {
   "cell_type": "code",
   "execution_count": 157,
   "id": "812b6e7f-015a-44b7-bdf5-cd7e8ef0c2dc",
   "metadata": {
    "tags": []
   },
   "outputs": [
    {
     "data": {
      "text/plain": [
       "wage_million_euros              4098.0\n",
       "hits                            2202.0\n",
       "value_million_euros             2199.0\n",
       "goalkeeping                     2181.0\n",
       "gk_kicking                      2089.0\n",
       "gk_positioning                  2086.0\n",
       "gk_reflexes                     2085.0\n",
       "gk_handling                     2085.0\n",
       "gk_diving                       2085.0\n",
       "ball_control                    2053.0\n",
       "release_clause_million_euros    2020.0\n",
       "attacking                       2016.0\n",
       "dribbling                       1962.0\n",
       "short_passing                   1748.0\n",
       "mentality                       1493.0\n",
       "dtype: float64"
      ]
     },
     "execution_count": 157,
     "metadata": {},
     "output_type": "execute_result"
    }
   ],
   "source": [
    "df[num_vars].apply(has_outliers, axis=0).T.sort_values(ascending=False)[:15]"
   ]
  },
  {
   "cell_type": "markdown",
   "id": "ae7bfe21-bd3f-472c-ba87-c4fe67d1e1fb",
   "metadata": {},
   "source": [
    "There seems to be a huge range of values for wages, value and hits. Outliers in `hit` column could be due to big differences in popularity (famous players get huge amounts of clicks in their websites, compared to almost none for unknown players). The same for wage and value: wide difference between Messi and a relatively unknown player of a modest football club."
   ]
  },
  {
   "cell_type": "markdown",
   "id": "e27db852-d2ba-4325-982b-bf03dd31456e",
   "metadata": {},
   "source": [
    "I see many outliers in the goalkeeper variables. Not all players are goalkeepers, so maybe a good idea would be to set NaN at those variables for non-goalkeeper players."
   ]
  },
  {
   "cell_type": "markdown",
   "id": "50f25268-11d2-400a-b9ef-dbfe8db45766",
   "metadata": {},
   "source": [
    "### Soccer / football position abbreviations"
   ]
  },
  {
   "cell_type": "markdown",
   "id": "03f183df-3a9a-4aad-886a-f079bcdc461e",
   "metadata": {},
   "source": [
    "Abbreviations for Soccer Midfielder Positions\n",
    "- CB: Center-back; Stop other team from getting near GK\n",
    "- GK: Goal Keeper; Stops ball from going in goal\n",
    "- LB: Left Full-Back; Block other team and hold a line\n",
    "- LWB: Left Wing-Back; Play near sidelines and block other team\n",
    "- RB: Right Full-Back; Block other team and hold a line\n",
    "- RWB: Right Wing-Back; Play near sidelines and block other team\n",
    "- SW: Sweeper; Stands between GK and everyone else as last line of defense\n",
    "\n",
    "Midfielders need to be good at both offense and defense because they typically play toward the middle of the field and near their opponent’s goal.\n",
    "\n",
    "- AM: Attacking Midfielder; Focuses on shooting and scoring\n",
    "- CM: Center Midfielder; Links defense and offense of a team\n",
    "- DM: Defensive Midfielder; Organize attacking plays\n",
    "- LW: Left Winger; Plays along sideline to shoot, assist, and score\n",
    "- RW: Right Winger; Plays along sideline to shoot, assist, and score\n",
    "\n",
    "Abbreviations for Soccer Forward Positions\n",
    "\n",
    "Forwards are the players who play closer to their opponent’s goal and try to score goals.\n",
    "\n",
    "- CF: Center Forward; Link offense and defense of a team\n",
    "- S: Striker; Focuses on scoring"
   ]
  },
  {
   "cell_type": "code",
   "execution_count": 158,
   "id": "a7b69bab-7639-47be-a8d4-3d70f32e416c",
   "metadata": {
    "tags": []
   },
   "outputs": [
    {
     "data": {
      "text/html": [
       "<div>\n",
       "<style scoped>\n",
       "    .dataframe tbody tr th:only-of-type {\n",
       "        vertical-align: middle;\n",
       "    }\n",
       "\n",
       "    .dataframe tbody tr th {\n",
       "        vertical-align: top;\n",
       "    }\n",
       "\n",
       "    .dataframe thead th {\n",
       "        text-align: right;\n",
       "    }\n",
       "</style>\n",
       "<table border=\"1\" class=\"dataframe\">\n",
       "  <thead>\n",
       "    <tr style=\"text-align: right;\">\n",
       "      <th></th>\n",
       "      <th>positions</th>\n",
       "      <th>gk_diving</th>\n",
       "      <th>gk_handling</th>\n",
       "      <th>gk_kicking</th>\n",
       "      <th>gk_positioning</th>\n",
       "      <th>gk_reflexes</th>\n",
       "    </tr>\n",
       "  </thead>\n",
       "  <tbody>\n",
       "    <tr>\n",
       "      <th>0</th>\n",
       "      <td>[RW, ST, CF]</td>\n",
       "      <td>6</td>\n",
       "      <td>11</td>\n",
       "      <td>15</td>\n",
       "      <td>14</td>\n",
       "      <td>8</td>\n",
       "    </tr>\n",
       "    <tr>\n",
       "      <th>1</th>\n",
       "      <td>[ST, LW]</td>\n",
       "      <td>7</td>\n",
       "      <td>11</td>\n",
       "      <td>15</td>\n",
       "      <td>14</td>\n",
       "      <td>11</td>\n",
       "    </tr>\n",
       "    <tr>\n",
       "      <th>2</th>\n",
       "      <td>[GK]</td>\n",
       "      <td>87</td>\n",
       "      <td>92</td>\n",
       "      <td>78</td>\n",
       "      <td>90</td>\n",
       "      <td>90</td>\n",
       "    </tr>\n",
       "    <tr>\n",
       "      <th>3</th>\n",
       "      <td>[CAM, CM]</td>\n",
       "      <td>15</td>\n",
       "      <td>13</td>\n",
       "      <td>5</td>\n",
       "      <td>10</td>\n",
       "      <td>13</td>\n",
       "    </tr>\n",
       "    <tr>\n",
       "      <th>4</th>\n",
       "      <td>[LW, CAM]</td>\n",
       "      <td>9</td>\n",
       "      <td>9</td>\n",
       "      <td>15</td>\n",
       "      <td>15</td>\n",
       "      <td>11</td>\n",
       "    </tr>\n",
       "    <tr>\n",
       "      <th>...</th>\n",
       "      <td>...</td>\n",
       "      <td>...</td>\n",
       "      <td>...</td>\n",
       "      <td>...</td>\n",
       "      <td>...</td>\n",
       "      <td>...</td>\n",
       "    </tr>\n",
       "    <tr>\n",
       "      <th>18974</th>\n",
       "      <td>[CB]</td>\n",
       "      <td>7</td>\n",
       "      <td>8</td>\n",
       "      <td>5</td>\n",
       "      <td>14</td>\n",
       "      <td>11</td>\n",
       "    </tr>\n",
       "    <tr>\n",
       "      <th>18975</th>\n",
       "      <td>[CM]</td>\n",
       "      <td>12</td>\n",
       "      <td>10</td>\n",
       "      <td>9</td>\n",
       "      <td>6</td>\n",
       "      <td>8</td>\n",
       "    </tr>\n",
       "    <tr>\n",
       "      <th>18976</th>\n",
       "      <td>[CM]</td>\n",
       "      <td>13</td>\n",
       "      <td>12</td>\n",
       "      <td>6</td>\n",
       "      <td>6</td>\n",
       "      <td>11</td>\n",
       "    </tr>\n",
       "    <tr>\n",
       "      <th>18977</th>\n",
       "      <td>[RW]</td>\n",
       "      <td>14</td>\n",
       "      <td>12</td>\n",
       "      <td>9</td>\n",
       "      <td>8</td>\n",
       "      <td>12</td>\n",
       "    </tr>\n",
       "    <tr>\n",
       "      <th>18978</th>\n",
       "      <td>[CB, LB]</td>\n",
       "      <td>10</td>\n",
       "      <td>11</td>\n",
       "      <td>7</td>\n",
       "      <td>10</td>\n",
       "      <td>12</td>\n",
       "    </tr>\n",
       "  </tbody>\n",
       "</table>\n",
       "<p>18979 rows × 6 columns</p>\n",
       "</div>"
      ],
      "text/plain": [
       "          positions  gk_diving  gk_handling  gk_kicking  gk_positioning  \\\n",
       "0      [RW, ST, CF]          6           11          15              14   \n",
       "1          [ST, LW]          7           11          15              14   \n",
       "2              [GK]         87           92          78              90   \n",
       "3         [CAM, CM]         15           13           5              10   \n",
       "4         [LW, CAM]          9            9          15              15   \n",
       "...             ...        ...          ...         ...             ...   \n",
       "18974          [CB]          7            8           5              14   \n",
       "18975          [CM]         12           10           9               6   \n",
       "18976          [CM]         13           12           6               6   \n",
       "18977          [RW]         14           12           9               8   \n",
       "18978      [CB, LB]         10           11           7              10   \n",
       "\n",
       "       gk_reflexes  \n",
       "0                8  \n",
       "1               11  \n",
       "2               90  \n",
       "3               13  \n",
       "4               11  \n",
       "...            ...  \n",
       "18974           11  \n",
       "18975            8  \n",
       "18976           11  \n",
       "18977           12  \n",
       "18978           12  \n",
       "\n",
       "[18979 rows x 6 columns]"
      ]
     },
     "execution_count": 158,
     "metadata": {},
     "output_type": "execute_result"
    }
   ],
   "source": [
    "goalkeeper_attributes = [i for i in df.columns if i.startswith('gk') ]\n",
    "df[['positions'] + goalkeeper_attributes]"
   ]
  },
  {
   "cell_type": "code",
   "execution_count": 159,
   "id": "bf35f87b-ebf0-4d52-a571-3bb31fa659e3",
   "metadata": {
    "tags": []
   },
   "outputs": [
    {
     "data": {
      "text/plain": [
       "gk_diving         65.245783\n",
       "gk_handling       62.944578\n",
       "gk_kicking        61.772048\n",
       "gk_positioning    63.296867\n",
       "gk_reflexes       66.186506\n",
       "dtype: float64"
      ]
     },
     "execution_count": 159,
     "metadata": {},
     "output_type": "execute_result"
    }
   ],
   "source": [
    "df[goalkeeper_attributes][df.positions.apply(lambda x : 'GK' in x)].mean()"
   ]
  },
  {
   "cell_type": "markdown",
   "id": "374475f7-bb15-42aa-b94b-9cf7145ab0be",
   "metadata": {},
   "source": [
    "Watching the mean values of goalkeeper's attributes, one can see that the presence of outliers in those variables is due to most players not being a goalkeeper. The average values for goalkeepers are higher than those for non-goalkeeper players."
   ]
  },
  {
   "cell_type": "markdown",
   "id": "8fad3c7d-ed0e-4c3a-9fa1-d4d1bf6d65a6",
   "metadata": {},
   "source": [
    "One last step about analyzing outliers: the percentage of outliers. I will take into acount only those variables that have a significative % (% >= 5) of outliers. This minimum threshold can be easily changed in the code below."
   ]
  },
  {
   "cell_type": "code",
   "execution_count": 160,
   "id": "8971b2a7-bc3e-49b2-a203-4dddace5b075",
   "metadata": {
    "tags": []
   },
   "outputs": [
    {
     "data": {
      "text/plain": [
       "wage_million_euros              21.59\n",
       "hits                            11.60\n",
       "value_million_euros             11.59\n",
       "goalkeeping                     11.49\n",
       "gk_kicking                      11.01\n",
       "gk_reflexes                     10.99\n",
       "gk_positioning                  10.99\n",
       "gk_handling                     10.99\n",
       "gk_diving                       10.99\n",
       "ball_control                    10.82\n",
       "release_clause_million_euros    10.64\n",
       "attacking                       10.62\n",
       "dribbling                       10.34\n",
       "short_passing                    9.21\n",
       "mentality                        7.87\n",
       "skill                            6.50\n",
       "heading_accuracy                 5.84\n",
       "dtype: float64"
      ]
     },
     "execution_count": 160,
     "metadata": {},
     "output_type": "execute_result"
    }
   ],
   "source": [
    "outliers_pctg = ( df[num_vars].apply(has_outliers, axis=0) / df.shape[0] * 100 ).dropna()\n",
    "outliers_pctg = round( outliers_pctg, 2).sort_values(ascending=False)\n",
    "outliers_pctg[outliers_pctg >= 5]"
   ]
  },
  {
   "cell_type": "markdown",
   "id": "a2d9dbec-2c46-4fd6-85c3-5f250145f186",
   "metadata": {},
   "source": [
    "## Renaming some numeric variables"
   ]
  },
  {
   "cell_type": "markdown",
   "id": "50c29563-c3b8-4fd2-8c84-323aaec5a67b",
   "metadata": {},
   "source": [
    "Some of the numeric variables have a non-descriptive name, so making use of the dataset dictionary, I will give them a more self-explanatory name.  \n",
    "At the beginning of the dataset i created a dataframe (`var_description_df`) with the description of the variables. I will use it now to help me with the renaming."
   ]
  },
  {
   "cell_type": "code",
   "execution_count": 161,
   "id": "3d6c4036-7233-4f88-b130-2caff14b4608",
   "metadata": {
    "tags": []
   },
   "outputs": [
    {
     "data": {
      "text/html": [
       "<div>\n",
       "<style scoped>\n",
       "    .dataframe tbody tr th:only-of-type {\n",
       "        vertical-align: middle;\n",
       "    }\n",
       "\n",
       "    .dataframe tbody tr th {\n",
       "        vertical-align: top;\n",
       "    }\n",
       "\n",
       "    .dataframe thead th {\n",
       "        text-align: right;\n",
       "    }\n",
       "</style>\n",
       "<table border=\"1\" class=\"dataframe\">\n",
       "  <thead>\n",
       "    <tr style=\"text-align: right;\">\n",
       "      <th></th>\n",
       "      <th>description</th>\n",
       "    </tr>\n",
       "    <tr>\n",
       "      <th>variable</th>\n",
       "      <th></th>\n",
       "    </tr>\n",
       "  </thead>\n",
       "  <tbody>\n",
       "    <tr>\n",
       "      <th>photoUrl</th>\n",
       "      <td>The URL of the player's photo.</td>\n",
       "    </tr>\n",
       "    <tr>\n",
       "      <th>LongName</th>\n",
       "      <td>The full name of the player.</td>\n",
       "    </tr>\n",
       "    <tr>\n",
       "      <th>playerUrl</th>\n",
       "      <td>The URL of the player's page on sofifa.com.</td>\n",
       "    </tr>\n",
       "    <tr>\n",
       "      <th>Nationality</th>\n",
       "      <td>The nationality of the player.</td>\n",
       "    </tr>\n",
       "    <tr>\n",
       "      <th>Positions</th>\n",
       "      <td>The positions the player can play.</td>\n",
       "    </tr>\n",
       "  </tbody>\n",
       "</table>\n",
       "</div>"
      ],
      "text/plain": [
       "                                             description\n",
       "variable                                                \n",
       "photoUrl                  The URL of the player's photo.\n",
       "LongName                    The full name of the player.\n",
       "playerUrl    The URL of the player's page on sofifa.com.\n",
       "Nationality               The nationality of the player.\n",
       "Positions             The positions the player can play."
      ]
     },
     "execution_count": 161,
     "metadata": {},
     "output_type": "execute_result"
    }
   ],
   "source": [
    "var_description_df.head()"
   ]
  },
  {
   "cell_type": "markdown",
   "id": "d0280c6d-c0ea-4699-a47b-f183fc8f4269",
   "metadata": {},
   "source": [
    "Variable names with only about 3 or 4 letters need some more explanatory names. Let's figure out which of them, making a pandas query..."
   ]
  },
  {
   "cell_type": "code",
   "execution_count": 162,
   "id": "a2f2e4bb-6ed9-42bd-9a73-11daaffcc908",
   "metadata": {
    "tags": []
   },
   "outputs": [
    {
     "name": "stdout",
     "output_type": "stream",
     "text": [
      "['id', 'name', 'age', '↓ova', 'pot', 'club', 'bov', 'w/f', 'sm', 'a/w', 'd/w', 'ir', 'pac', 'sho', 'pas', 'dri', 'def', 'phy', 'hits']\n"
     ]
    }
   ],
   "source": [
    "short_var_names = [i for i in df.columns if len(i) <=4]\n",
    "print(short_var_names, sep=', ')"
   ]
  },
  {
   "cell_type": "markdown",
   "id": "54f59653-f306-41e5-9d7b-3457c60f3577",
   "metadata": {},
   "source": [
    "Now I will retrieve the variable names and their description from the dataframe"
   ]
  },
  {
   "cell_type": "markdown",
   "id": "b5c07168-0e3f-4c4f-945b-5c798f540608",
   "metadata": {
    "tags": [],
    "toc-hr-collapsed": true
   },
   "source": [
    "#### Error: `KeyError: \"None of [Index(['id', 'name', 'age', '↓ova', 'pot', 'club', 'bov', 'w/f', 'sm', 'a/w',\\n       'd/w', 'ir', 'pac', 'sho', 'pas', 'dri', 'def', 'phy', 'hits'],\\n      dtype='object')] are in the [columns]\"`\n",
    "Uncomment the cell below to see the whole error output."
   ]
  },
  {
   "cell_type": "code",
   "execution_count": 163,
   "id": "dbe587ca-ae4a-4675-aa36-0a8579c5a6a4",
   "metadata": {
    "tags": []
   },
   "outputs": [],
   "source": [
    "#var_description_df[short_var_names]"
   ]
  },
  {
   "cell_type": "markdown",
   "id": "21c29712-3841-401e-ac72-1be29fb36b9c",
   "metadata": {},
   "source": [
    "The above error was caused because the `var_description_df` had the *old* names, before they were processed to replace spaces by underscore (_) and set to lowercase.  \n",
    "I will update the dataframe to reflect the changes."
   ]
  },
  {
   "cell_type": "code",
   "execution_count": 164,
   "id": "a371fbf1-4a79-4ba2-b5d5-e4e49649408c",
   "metadata": {
    "tags": []
   },
   "outputs": [
    {
     "data": {
      "text/plain": [
       "Index(['photoUrl', 'LongName', 'playerUrl', 'Nationality', 'Positions', 'Name',\n",
       "       'Age', 'OVA', 'POT', 'Team & Contract', 'ID', 'Height', 'Weight',\n",
       "       'foot', 'BOV', 'BP', 'Growth', 'Joined', 'Loan Date End', 'Value',\n",
       "       'Wage', 'Release Clause', 'Attacking', 'Crossing', 'Finishing',\n",
       "       'Heading Accuracy', 'Short Passing', 'Volleys', 'Skill', 'Dribbling',\n",
       "       'Curve', 'FK Accuracy', 'Long Passing', 'Ball Control', 'Movement',\n",
       "       'Acceleration', 'Sprint Speed', 'Agility', 'Reactions', 'Balance',\n",
       "       'Power', 'Shot Power', 'Jumping', 'Stamina', 'Strength', 'Long Shots',\n",
       "       'Mentality', 'Aggression', 'Interceptions', 'Positioning', 'Vision',\n",
       "       'Penalties', 'Composure', 'Defending', 'Marking', 'Standing Tackle',\n",
       "       'Sliding Tackle', 'Goalkeeping', 'GK Diving', 'GK Handling',\n",
       "       'GK Kicking', 'GK Positioning', 'GK Reflexes', 'Total Stats',\n",
       "       'Base Stats', 'W/F', 'SM', 'A/W', 'D/W', 'IR', 'PAC', 'SHO', 'PAS',\n",
       "       'DRI', 'DEF', 'PHY', 'Hits'],\n",
       "      dtype='object', name='variable')"
      ]
     },
     "execution_count": 164,
     "metadata": {},
     "output_type": "execute_result"
    }
   ],
   "source": [
    "old_var_names = var_description_df.index\n",
    "old_var_names"
   ]
  },
  {
   "cell_type": "code",
   "execution_count": 165,
   "id": "a07adea6-a5f7-49a9-9968-9f6224268e26",
   "metadata": {
    "tags": []
   },
   "outputs": [
    {
     "data": {
      "text/plain": [
       "Index(['id', 'name', 'longname', 'photourl', 'playerurl', 'nationality', 'age',\n",
       "       '↓ova', 'pot', 'club', 'positions', 'weight_kg', 'preferred_foot',\n",
       "       'bov', 'best_position', 'joined', 'loan_date_end',\n",
       "       'value_million_euros', 'wage_million_euros',\n",
       "       'release_clause_million_euros', 'attacking', 'crossing', 'finishing',\n",
       "       'heading_accuracy', 'short_passing', 'volleys', 'skill', 'dribbling',\n",
       "       'curve', 'fk_accuracy', 'long_passing', 'ball_control', 'movement',\n",
       "       'acceleration', 'sprint_speed', 'agility', 'reactions', 'balance',\n",
       "       'power', 'shot_power', 'jumping', 'stamina', 'strength', 'long_shots',\n",
       "       'mentality', 'aggression', 'interceptions', 'positioning', 'vision',\n",
       "       'penalties', 'composure', 'defending', 'marking', 'standing_tackle',\n",
       "       'sliding_tackle', 'goalkeeping', 'gk_diving', 'gk_handling',\n",
       "       'gk_kicking', 'gk_positioning', 'gk_reflexes', 'total_stats',\n",
       "       'base_stats', 'w/f', 'sm', 'a/w', 'd/w', 'ir', 'pac', 'sho', 'pas',\n",
       "       'dri', 'def', 'phy', 'hits', 'height_m', 'height_feet', 'on_loan_from',\n",
       "       'contract_started', 'contract_ends', 'has_contract'],\n",
       "      dtype='object')"
      ]
     },
     "execution_count": 165,
     "metadata": {},
     "output_type": "execute_result"
    }
   ],
   "source": [
    "current_var_names = df.columns\n",
    "current_var_names"
   ]
  },
  {
   "cell_type": "markdown",
   "id": "b60dade9-b7c2-446d-8a38-252b66cd3b5f",
   "metadata": {},
   "source": [
    "Some of the old variables have disappeared, so the description dataframe needs some processing. I will take out the variables that have remained the same and later I will process the ones that have changed."
   ]
  },
  {
   "cell_type": "code",
   "execution_count": 166,
   "id": "21fed39f-2821-4ca9-8307-eec30d719443",
   "metadata": {
    "tags": []
   },
   "outputs": [],
   "source": [
    "var_descrip2 = var_description_df.copy()"
   ]
  },
  {
   "cell_type": "markdown",
   "id": "3a58686f-c6ae-449d-aad9-408f25114710",
   "metadata": {},
   "source": [
    "Now the cleaning of the variables must be done to this copy of the description dataframe (refer to Proposed Actions, 1. Rename columns)"
   ]
  },
  {
   "cell_type": "code",
   "execution_count": 167,
   "id": "c84d0333-b6a4-4fb1-b7b9-3770845d9caf",
   "metadata": {
    "tags": []
   },
   "outputs": [],
   "source": [
    "var_descrip2_backup = var_descrip2.columns.to_list()\n",
    "var_descrip2.index = [i.replace(' & ', '_').replace(' ', '_').lower() for i in var_descrip2.index]"
   ]
  },
  {
   "cell_type": "code",
   "execution_count": 168,
   "id": "41df8b0c-ef23-479c-b264-dd864062a66c",
   "metadata": {
    "tags": []
   },
   "outputs": [
    {
     "data": {
      "text/html": [
       "<div>\n",
       "<style scoped>\n",
       "    .dataframe tbody tr th:only-of-type {\n",
       "        vertical-align: middle;\n",
       "    }\n",
       "\n",
       "    .dataframe tbody tr th {\n",
       "        vertical-align: top;\n",
       "    }\n",
       "\n",
       "    .dataframe thead th {\n",
       "        text-align: right;\n",
       "    }\n",
       "</style>\n",
       "<table border=\"1\" class=\"dataframe\">\n",
       "  <thead>\n",
       "    <tr style=\"text-align: right;\">\n",
       "      <th></th>\n",
       "      <th>description</th>\n",
       "    </tr>\n",
       "  </thead>\n",
       "  <tbody>\n",
       "    <tr>\n",
       "      <th>release_clause</th>\n",
       "      <td>The release clause value of the player in FIFA...</td>\n",
       "    </tr>\n",
       "    <tr>\n",
       "      <th>aggression</th>\n",
       "      <td>The aggression attribute of the player.</td>\n",
       "    </tr>\n",
       "    <tr>\n",
       "      <th>short_passing</th>\n",
       "      <td>The short passing attribute of the player.</td>\n",
       "    </tr>\n",
       "    <tr>\n",
       "      <th>photourl</th>\n",
       "      <td>The URL of the player's photo.</td>\n",
       "    </tr>\n",
       "    <tr>\n",
       "      <th>balance</th>\n",
       "      <td>The balance attribute of the player.</td>\n",
       "    </tr>\n",
       "    <tr>\n",
       "      <th>marking</th>\n",
       "      <td>The marking attribute of the player.</td>\n",
       "    </tr>\n",
       "    <tr>\n",
       "      <th>penalties</th>\n",
       "      <td>The penalties attribute of the player.</td>\n",
       "    </tr>\n",
       "    <tr>\n",
       "      <th>foot</th>\n",
       "      <td>The preferred foot of the player.</td>\n",
       "    </tr>\n",
       "    <tr>\n",
       "      <th>fk_accuracy</th>\n",
       "      <td>The free kick accuracy attribute of the player.</td>\n",
       "    </tr>\n",
       "    <tr>\n",
       "      <th>wage</th>\n",
       "      <td>The weekly wage of the player in FIFA 21.</td>\n",
       "    </tr>\n",
       "  </tbody>\n",
       "</table>\n",
       "</div>"
      ],
      "text/plain": [
       "                                                      description\n",
       "release_clause  The release clause value of the player in FIFA...\n",
       "aggression                The aggression attribute of the player.\n",
       "short_passing          The short passing attribute of the player.\n",
       "photourl                           The URL of the player's photo.\n",
       "balance                      The balance attribute of the player.\n",
       "marking                      The marking attribute of the player.\n",
       "penalties                  The penalties attribute of the player.\n",
       "foot                            The preferred foot of the player.\n",
       "fk_accuracy       The free kick accuracy attribute of the player.\n",
       "wage                    The weekly wage of the player in FIFA 21."
      ]
     },
     "execution_count": 168,
     "metadata": {},
     "output_type": "execute_result"
    }
   ],
   "source": [
    "var_descrip2.sample(10)"
   ]
  },
  {
   "cell_type": "code",
   "execution_count": 169,
   "id": "d1117177-c8d7-44b0-8977-cce2ab60ae9d",
   "metadata": {
    "tags": []
   },
   "outputs": [
    {
     "data": {
      "text/plain": [
       "Index(['photourl', 'longname', 'playerurl', 'nationality', 'positions', 'name',\n",
       "       'age', 'ova', 'pot', 'team_contract', 'id', 'height', 'weight', 'foot',\n",
       "       'bov', 'bp', 'growth', 'joined', 'loan_date_end', 'value', 'wage',\n",
       "       'release_clause', 'attacking', 'crossing', 'finishing',\n",
       "       'heading_accuracy', 'short_passing', 'volleys', 'skill', 'dribbling',\n",
       "       'curve', 'fk_accuracy', 'long_passing', 'ball_control', 'movement',\n",
       "       'acceleration', 'sprint_speed', 'agility', 'reactions', 'balance',\n",
       "       'power', 'shot_power', 'jumping', 'stamina', 'strength', 'long_shots',\n",
       "       'mentality', 'aggression', 'interceptions', 'positioning', 'vision',\n",
       "       'penalties', 'composure', 'defending', 'marking', 'standing_tackle',\n",
       "       'sliding_tackle', 'goalkeeping', 'gk_diving', 'gk_handling',\n",
       "       'gk_kicking', 'gk_positioning', 'gk_reflexes', 'total_stats',\n",
       "       'base_stats', 'w/f', 'sm', 'a/w', 'd/w', 'ir', 'pac', 'sho', 'pas',\n",
       "       'dri', 'def', 'phy', 'hits'],\n",
       "      dtype='object')"
      ]
     },
     "execution_count": 169,
     "metadata": {},
     "output_type": "execute_result"
    }
   ],
   "source": [
    "var_descrip2.index"
   ]
  },
  {
   "cell_type": "markdown",
   "id": "39c77321-c9e6-44ce-bbca-c28e933f13d5",
   "metadata": {},
   "source": [
    "`unchanged_vars` are the ones who are in the clean dataframe and also have a description in `var_description_df`. I have noticed that some variables from the fifa21 version 2 are not in the descriptions."
   ]
  },
  {
   "cell_type": "code",
   "execution_count": 170,
   "id": "f488944d-00cc-4188-a553-2e37ad6a3d95",
   "metadata": {
    "tags": []
   },
   "outputs": [
    {
     "name": "stdout",
     "output_type": "stream",
     "text": [
      "['photourl', 'longname', 'playerurl', 'nationality', 'positions', 'name', 'age', 'pot', 'id', 'bov', 'joined', 'loan_date_end', 'attacking', 'crossing', 'finishing', 'heading_accuracy', 'short_passing', 'volleys', 'skill', 'dribbling', 'curve', 'fk_accuracy', 'long_passing', 'ball_control', 'movement', 'acceleration', 'sprint_speed', 'agility', 'reactions', 'balance', 'power', 'shot_power', 'jumping', 'stamina', 'strength', 'long_shots', 'mentality', 'aggression', 'interceptions', 'positioning', 'vision', 'penalties', 'composure', 'defending', 'marking', 'standing_tackle', 'sliding_tackle', 'goalkeeping', 'gk_diving', 'gk_handling', 'gk_kicking', 'gk_positioning', 'gk_reflexes', 'total_stats', 'base_stats', 'w/f', 'sm', 'a/w', 'd/w', 'ir', 'pac', 'sho', 'pas', 'dri', 'def', 'phy', 'hits']\n"
     ]
    }
   ],
   "source": [
    "unchanged_vars = [i for i in var_descrip2.index if i in df.columns]\n",
    "print(unchanged_vars, sep=', ')"
   ]
  },
  {
   "cell_type": "code",
   "execution_count": 171,
   "id": "973836f6-a0b5-470c-b94f-64fac115e371",
   "metadata": {
    "tags": []
   },
   "outputs": [
    {
     "name": "stdout",
     "output_type": "stream",
     "text": [
      "['ova', 'team_contract', 'height', 'weight', 'foot', 'bp', 'growth', 'value', 'wage', 'release_clause']\n"
     ]
    }
   ],
   "source": [
    "changed_vars = [i for i in var_descrip2.index if i not in df.columns]\n",
    "print(changed_vars, sep=', ')"
   ]
  },
  {
   "cell_type": "markdown",
   "id": "7ebd4c9d-64cf-4194-832f-471b25089968",
   "metadata": {},
   "source": [
    "Remove the changed vars in the description dataframe. They will be added manually (as they are only a few) with a description."
   ]
  },
  {
   "cell_type": "code",
   "execution_count": 172,
   "id": "5d08cbd5-7574-43b3-b106-aca87f741717",
   "metadata": {
    "tags": []
   },
   "outputs": [
    {
     "data": {
      "text/html": [
       "<div>\n",
       "<style scoped>\n",
       "    .dataframe tbody tr th:only-of-type {\n",
       "        vertical-align: middle;\n",
       "    }\n",
       "\n",
       "    .dataframe tbody tr th {\n",
       "        vertical-align: top;\n",
       "    }\n",
       "\n",
       "    .dataframe thead th {\n",
       "        text-align: right;\n",
       "    }\n",
       "</style>\n",
       "<table border=\"1\" class=\"dataframe\">\n",
       "  <thead>\n",
       "    <tr style=\"text-align: right;\">\n",
       "      <th></th>\n",
       "      <th>description</th>\n",
       "    </tr>\n",
       "  </thead>\n",
       "  <tbody>\n",
       "    <tr>\n",
       "      <th>strength</th>\n",
       "      <td>The strength attribute of the player.</td>\n",
       "    </tr>\n",
       "    <tr>\n",
       "      <th>gk_positioning</th>\n",
       "      <td>The goalkeeper positioning attribute of the pl...</td>\n",
       "    </tr>\n",
       "    <tr>\n",
       "      <th>attacking</th>\n",
       "      <td>The attacking attributes of the player.</td>\n",
       "    </tr>\n",
       "    <tr>\n",
       "      <th>defending</th>\n",
       "      <td>The defending attributes of the player.</td>\n",
       "    </tr>\n",
       "    <tr>\n",
       "      <th>long_shots</th>\n",
       "      <td>The long shots attribute of the player.</td>\n",
       "    </tr>\n",
       "  </tbody>\n",
       "</table>\n",
       "</div>"
      ],
      "text/plain": [
       "                                                      description\n",
       "strength                    The strength attribute of the player.\n",
       "gk_positioning  The goalkeeper positioning attribute of the pl...\n",
       "attacking                 The attacking attributes of the player.\n",
       "defending                 The defending attributes of the player.\n",
       "long_shots                The long shots attribute of the player."
      ]
     },
     "execution_count": 172,
     "metadata": {},
     "output_type": "execute_result"
    }
   ],
   "source": [
    "# the var_descript2 dataframe keeps (by now) only the unchanged variables\n",
    "var_descrip2 = var_descrip2.loc[unchanged_vars]\n",
    "var_descrip2.sample(5)"
   ]
  },
  {
   "cell_type": "markdown",
   "id": "2a8132b9-8de0-4315-b356-470aa02e590c",
   "metadata": {},
   "source": [
    "Maybe some of them don't belong to the clean dataframe anymore, not even in a renamed version. I will create a function that correlates the old variable name and its new renamed variables."
   ]
  },
  {
   "cell_type": "code",
   "execution_count": 173,
   "id": "3280cfa0-9a9a-4fe2-b874-09b870070eeb",
   "metadata": {
    "tags": []
   },
   "outputs": [
    {
     "name": "stdout",
     "output_type": "stream",
     "text": [
      "Old name: ova --> new name: ['↓ova']\n",
      "Old name: height --> new name: ['height_m' 'height_feet']\n",
      "Old name: weight --> new name: ['weight_kg']\n",
      "Old name: foot --> new name: ['preferred_foot']\n",
      "Old name: value --> new name: ['value_million_euros']\n",
      "Old name: wage --> new name: ['wage_million_euros']\n",
      "Old name: release_clause --> new name: ['release_clause_million_euros']\n",
      "\n",
      "\n",
      "These variables need to be removed from variable description dataframe:\n",
      "['team_contract', 'bp', 'growth']\n"
     ]
    }
   ],
   "source": [
    "columns = df.columns\n",
    "var_to_be_removed = []\n",
    "for var in changed_vars:\n",
    "    new_cols = columns[columns.str.contains(var)]\n",
    "    if new_cols.any():\n",
    "        print(f'Old name: {var} --> new name: {new_cols.values}')\n",
    "    else:\n",
    "        var_to_be_removed.append(var)\n",
    "print('\\n\\nThese variables need to be removed from variable description dataframe:')\n",
    "print(var_to_be_removed)"
   ]
  },
  {
   "cell_type": "markdown",
   "id": "c0803851-50f6-46c8-8d14-a7b168673c17",
   "metadata": {
    "tags": []
   },
   "source": [
    "### Process manually the changed variables"
   ]
  },
  {
   "cell_type": "markdown",
   "id": "5b391b36-b3dd-43a6-b816-1fc1cc37cd89",
   "metadata": {},
   "source": [
    "#### `ova` var.  \n",
    "This needs to be cleaned in the clean dataframe to remove the downside arrow in the var name (copy and paste to get the arrow character)"
   ]
  },
  {
   "cell_type": "code",
   "execution_count": 174,
   "id": "9829fc1b-f989-4654-851f-055e51099aa1",
   "metadata": {
    "tags": []
   },
   "outputs": [
    {
     "data": {
      "text/plain": [
       "Index(['↓ova'], dtype='object')"
      ]
     },
     "execution_count": 174,
     "metadata": {},
     "output_type": "execute_result"
    }
   ],
   "source": [
    "df.columns[df.columns.str.endswith('ova')]"
   ]
  },
  {
   "cell_type": "code",
   "execution_count": 175,
   "id": "405f324d-47c3-440e-89ea-3667797b95c5",
   "metadata": {
    "tags": []
   },
   "outputs": [],
   "source": [
    "df.rename(columns = { '↓ova' : 'ova'}, inplace=True)"
   ]
  },
  {
   "cell_type": "code",
   "execution_count": 176,
   "id": "59cbc6f2-e677-4b05-abc8-cecad4fa3432",
   "metadata": {
    "tags": []
   },
   "outputs": [
    {
     "data": {
      "text/plain": [
       "Index(['ova'], dtype='object')"
      ]
     },
     "execution_count": 176,
     "metadata": {},
     "output_type": "execute_result"
    }
   ],
   "source": [
    "df.columns[df.columns.str.endswith('ova')]"
   ]
  },
  {
   "cell_type": "markdown",
   "id": "b312fe0d-afb2-415a-af68-9864f19da779",
   "metadata": {},
   "source": [
    "#### In order to add rows to `var_descrip2` dataframe I will reset the index"
   ]
  },
  {
   "cell_type": "code",
   "execution_count": 177,
   "id": "568581b3-9ddc-4a2a-9389-a8b98a712569",
   "metadata": {
    "tags": []
   },
   "outputs": [],
   "source": [
    "var_descrip2.reset_index(inplace=True)"
   ]
  },
  {
   "cell_type": "code",
   "execution_count": 178,
   "id": "2482c6a9-bd34-4281-9034-747e50dcd1ca",
   "metadata": {
    "tags": []
   },
   "outputs": [],
   "source": [
    "var_descrip2.rename(columns = {'index' : 'variable'}, inplace=True)"
   ]
  },
  {
   "cell_type": "code",
   "execution_count": 179,
   "id": "8f727d27-210e-494f-8876-1bbc24659197",
   "metadata": {
    "tags": []
   },
   "outputs": [
    {
     "data": {
      "text/html": [
       "<div>\n",
       "<style scoped>\n",
       "    .dataframe tbody tr th:only-of-type {\n",
       "        vertical-align: middle;\n",
       "    }\n",
       "\n",
       "    .dataframe tbody tr th {\n",
       "        vertical-align: top;\n",
       "    }\n",
       "\n",
       "    .dataframe thead th {\n",
       "        text-align: right;\n",
       "    }\n",
       "</style>\n",
       "<table border=\"1\" class=\"dataframe\">\n",
       "  <thead>\n",
       "    <tr style=\"text-align: right;\">\n",
       "      <th></th>\n",
       "      <th>variable</th>\n",
       "      <th>description</th>\n",
       "    </tr>\n",
       "  </thead>\n",
       "  <tbody>\n",
       "    <tr>\n",
       "      <th>0</th>\n",
       "      <td>photourl</td>\n",
       "      <td>The URL of the player's photo.</td>\n",
       "    </tr>\n",
       "    <tr>\n",
       "      <th>1</th>\n",
       "      <td>longname</td>\n",
       "      <td>The full name of the player.</td>\n",
       "    </tr>\n",
       "    <tr>\n",
       "      <th>2</th>\n",
       "      <td>playerurl</td>\n",
       "      <td>The URL of the player's page on sofifa.com.</td>\n",
       "    </tr>\n",
       "    <tr>\n",
       "      <th>3</th>\n",
       "      <td>nationality</td>\n",
       "      <td>The nationality of the player.</td>\n",
       "    </tr>\n",
       "    <tr>\n",
       "      <th>4</th>\n",
       "      <td>positions</td>\n",
       "      <td>The positions the player can play.</td>\n",
       "    </tr>\n",
       "  </tbody>\n",
       "</table>\n",
       "</div>"
      ],
      "text/plain": [
       "      variable                                  description\n",
       "0     photourl               The URL of the player's photo.\n",
       "1     longname                 The full name of the player.\n",
       "2    playerurl  The URL of the player's page on sofifa.com.\n",
       "3  nationality               The nationality of the player.\n",
       "4    positions           The positions the player can play."
      ]
     },
     "execution_count": 179,
     "metadata": {},
     "output_type": "execute_result"
    }
   ],
   "source": [
    "var_descrip2.head()"
   ]
  },
  {
   "cell_type": "markdown",
   "id": "8a2978c6-29cd-4464-acc2-769308b8548c",
   "metadata": {},
   "source": [
    "#### Get and process the description of the variables to be added"
   ]
  },
  {
   "cell_type": "code",
   "execution_count": 180,
   "id": "b6251992-7da9-4adc-9e91-ec5e911479c5",
   "metadata": {
    "tags": []
   },
   "outputs": [],
   "source": [
    "ova_descript = var_description_df.loc['OVA'].values[0]\n",
    "height_m_descript = var_description_df.loc['Height'].values[0].replace('feet and inches', 'metres')\n",
    "height_feet_descript = var_description_df.loc['Height'].values[0].replace('feet and inches', 'feet')\n",
    "weight_descript = var_description_df.loc['Weight'].values[0].replace('pounds', 'kg')\n",
    "foot_descript = var_description_df.loc['foot'].values[0]\n",
    "value_descript = var_description_df.loc['Value'].values[0][:-1] + ', in millions of euros.'\n",
    "wage_descript = var_description_df.loc['Wage'].values[0][:-1] + ', in millions of euros.'\n",
    "release_clause_descript = var_description_df.loc['Release Clause'].values[0][:-1] + ', in millions of euros.'"
   ]
  },
  {
   "cell_type": "code",
   "execution_count": 181,
   "id": "7b862c23-cded-45e2-a391-8a307ff07f8a",
   "metadata": {
    "tags": []
   },
   "outputs": [],
   "source": [
    "new_entries = {'ova' : ova_descript,\n",
    "               'height_m' : height_m_descript,\n",
    "               'height_ft' : height_feet_descript,\n",
    "               'weight_kg' : weight_descript,\n",
    "               'preferred_foot' : foot_descript,\n",
    "               'value_million_euros' : value_descript,\n",
    "               'wage_million_euros' : wage_descript,\n",
    "               'release_clause_million_euros' : release_clause_descript\n",
    "              }"
   ]
  },
  {
   "cell_type": "code",
   "execution_count": 182,
   "id": "7ab52e44-b57d-4102-be1c-80faad08c7e7",
   "metadata": {
    "tags": []
   },
   "outputs": [
    {
     "data": {
      "text/html": [
       "<div>\n",
       "<style scoped>\n",
       "    .dataframe tbody tr th:only-of-type {\n",
       "        vertical-align: middle;\n",
       "    }\n",
       "\n",
       "    .dataframe tbody tr th {\n",
       "        vertical-align: top;\n",
       "    }\n",
       "\n",
       "    .dataframe thead th {\n",
       "        text-align: right;\n",
       "    }\n",
       "</style>\n",
       "<table border=\"1\" class=\"dataframe\">\n",
       "  <thead>\n",
       "    <tr style=\"text-align: right;\">\n",
       "      <th></th>\n",
       "      <th>variable</th>\n",
       "      <th>description</th>\n",
       "    </tr>\n",
       "  </thead>\n",
       "  <tbody>\n",
       "    <tr>\n",
       "      <th>0</th>\n",
       "      <td>ova</td>\n",
       "      <td>The overall rating of the player in FIFA 21.</td>\n",
       "    </tr>\n",
       "    <tr>\n",
       "      <th>1</th>\n",
       "      <td>height_m</td>\n",
       "      <td>The height of the player in metres.</td>\n",
       "    </tr>\n",
       "    <tr>\n",
       "      <th>2</th>\n",
       "      <td>height_ft</td>\n",
       "      <td>The height of the player in feet.</td>\n",
       "    </tr>\n",
       "    <tr>\n",
       "      <th>3</th>\n",
       "      <td>weight_kg</td>\n",
       "      <td>The weight of the player in kg.</td>\n",
       "    </tr>\n",
       "    <tr>\n",
       "      <th>4</th>\n",
       "      <td>preferred_foot</td>\n",
       "      <td>The preferred foot of the player.</td>\n",
       "    </tr>\n",
       "    <tr>\n",
       "      <th>5</th>\n",
       "      <td>value_million_euros</td>\n",
       "      <td>The market value of the player in FIFA 21, in ...</td>\n",
       "    </tr>\n",
       "    <tr>\n",
       "      <th>6</th>\n",
       "      <td>wage_million_euros</td>\n",
       "      <td>The weekly wage of the player in FIFA 21, in m...</td>\n",
       "    </tr>\n",
       "    <tr>\n",
       "      <th>7</th>\n",
       "      <td>release_clause_million_euros</td>\n",
       "      <td>The release clause value of the player in FIFA...</td>\n",
       "    </tr>\n",
       "  </tbody>\n",
       "</table>\n",
       "</div>"
      ],
      "text/plain": [
       "                       variable  \\\n",
       "0                           ova   \n",
       "1                      height_m   \n",
       "2                     height_ft   \n",
       "3                     weight_kg   \n",
       "4                preferred_foot   \n",
       "5           value_million_euros   \n",
       "6            wage_million_euros   \n",
       "7  release_clause_million_euros   \n",
       "\n",
       "                                         description  \n",
       "0       The overall rating of the player in FIFA 21.  \n",
       "1                The height of the player in metres.  \n",
       "2                  The height of the player in feet.  \n",
       "3                    The weight of the player in kg.  \n",
       "4                  The preferred foot of the player.  \n",
       "5  The market value of the player in FIFA 21, in ...  \n",
       "6  The weekly wage of the player in FIFA 21, in m...  \n",
       "7  The release clause value of the player in FIFA...  "
      ]
     },
     "execution_count": 182,
     "metadata": {},
     "output_type": "execute_result"
    }
   ],
   "source": [
    "new_description = pd.DataFrame({'variable': new_entries.keys(),\n",
    "                                'description' : new_entries.values()\n",
    "                               })\n",
    "new_description"
   ]
  },
  {
   "cell_type": "markdown",
   "id": "d4e94a0c-664c-48a9-bf4f-96d9d644dd38",
   "metadata": {},
   "source": [
    "### Final steps with description dataframe\n",
    "1. Concat the var dataframe and the new entries\n",
    "2. Replace the processed description dataset by the original one\n",
    "3. Export to csv."
   ]
  },
  {
   "cell_type": "code",
   "execution_count": 183,
   "id": "884b420f-12b6-4a9a-b27b-1ff015e3f5ea",
   "metadata": {
    "tags": []
   },
   "outputs": [],
   "source": [
    "var_description_df = pd.concat([var_descrip2, new_description], axis=0)\n",
    "var_description_df.set_index('variable', inplace=True)"
   ]
  },
  {
   "cell_type": "code",
   "execution_count": 184,
   "id": "f0ede61e-d2be-4231-b2cd-53f6a9bb6a48",
   "metadata": {
    "tags": []
   },
   "outputs": [
    {
     "data": {
      "text/html": [
       "<div>\n",
       "<style scoped>\n",
       "    .dataframe tbody tr th:only-of-type {\n",
       "        vertical-align: middle;\n",
       "    }\n",
       "\n",
       "    .dataframe tbody tr th {\n",
       "        vertical-align: top;\n",
       "    }\n",
       "\n",
       "    .dataframe thead th {\n",
       "        text-align: right;\n",
       "    }\n",
       "</style>\n",
       "<table border=\"1\" class=\"dataframe\">\n",
       "  <thead>\n",
       "    <tr style=\"text-align: right;\">\n",
       "      <th></th>\n",
       "      <th>description</th>\n",
       "    </tr>\n",
       "    <tr>\n",
       "      <th>variable</th>\n",
       "      <th></th>\n",
       "    </tr>\n",
       "  </thead>\n",
       "  <tbody>\n",
       "    <tr>\n",
       "      <th>phy</th>\n",
       "      <td>This refers to the player's physicality or str...</td>\n",
       "    </tr>\n",
       "    <tr>\n",
       "      <th>hits</th>\n",
       "      <td>This refers to the number of times the player'...</td>\n",
       "    </tr>\n",
       "    <tr>\n",
       "      <th>ova</th>\n",
       "      <td>The overall rating of the player in FIFA 21.</td>\n",
       "    </tr>\n",
       "    <tr>\n",
       "      <th>height_m</th>\n",
       "      <td>The height of the player in metres.</td>\n",
       "    </tr>\n",
       "    <tr>\n",
       "      <th>height_ft</th>\n",
       "      <td>The height of the player in feet.</td>\n",
       "    </tr>\n",
       "    <tr>\n",
       "      <th>weight_kg</th>\n",
       "      <td>The weight of the player in kg.</td>\n",
       "    </tr>\n",
       "    <tr>\n",
       "      <th>preferred_foot</th>\n",
       "      <td>The preferred foot of the player.</td>\n",
       "    </tr>\n",
       "    <tr>\n",
       "      <th>value_million_euros</th>\n",
       "      <td>The market value of the player in FIFA 21, in ...</td>\n",
       "    </tr>\n",
       "    <tr>\n",
       "      <th>wage_million_euros</th>\n",
       "      <td>The weekly wage of the player in FIFA 21, in m...</td>\n",
       "    </tr>\n",
       "    <tr>\n",
       "      <th>release_clause_million_euros</th>\n",
       "      <td>The release clause value of the player in FIFA...</td>\n",
       "    </tr>\n",
       "  </tbody>\n",
       "</table>\n",
       "</div>"
      ],
      "text/plain": [
       "                                                                    description\n",
       "variable                                                                       \n",
       "phy                           This refers to the player's physicality or str...\n",
       "hits                          This refers to the number of times the player'...\n",
       "ova                                The overall rating of the player in FIFA 21.\n",
       "height_m                                    The height of the player in metres.\n",
       "height_ft                                     The height of the player in feet.\n",
       "weight_kg                                       The weight of the player in kg.\n",
       "preferred_foot                                The preferred foot of the player.\n",
       "value_million_euros           The market value of the player in FIFA 21, in ...\n",
       "wage_million_euros            The weekly wage of the player in FIFA 21, in m...\n",
       "release_clause_million_euros  The release clause value of the player in FIFA..."
      ]
     },
     "execution_count": 184,
     "metadata": {},
     "output_type": "execute_result"
    }
   ],
   "source": [
    "var_description_df.tail(10)"
   ]
  },
  {
   "cell_type": "markdown",
   "id": "a241c097-529d-4ef6-bbf9-9593d0bfbd4c",
   "metadata": {},
   "source": [
    "A bit of preparation before exportation to csv: reset index and add it as the variable column"
   ]
  },
  {
   "cell_type": "code",
   "execution_count": 205,
   "id": "075b0923-6788-4c19-9e0e-d19a58417c3b",
   "metadata": {
    "tags": []
   },
   "outputs": [],
   "source": [
    "var_descript_csv = var_description_df.reset_index()\n",
    "var_descript_csv = var_descript_csv.rename(columns = {'index' : 'variable'})"
   ]
  },
  {
   "cell_type": "code",
   "execution_count": 206,
   "id": "85a7dd9b-e6e0-4ffc-926c-0d006627f2c2",
   "metadata": {
    "tags": []
   },
   "outputs": [],
   "source": [
    "var_descript_csv.to_csv('variable_descriptions.csv', index=False)"
   ]
  },
  {
   "cell_type": "markdown",
   "id": "5b0985a5-3d1d-4a1c-8826-403905b47710",
   "metadata": {
    "toc-hr-collapsed": true
   },
   "source": [
    "### Rename the short named variables"
   ]
  },
  {
   "cell_type": "code",
   "execution_count": 187,
   "id": "70efb242-351e-47ab-9d97-e65d16f9e91a",
   "metadata": {
    "tags": []
   },
   "outputs": [
    {
     "data": {
      "text/plain": [
       "['id',\n",
       " 'name',\n",
       " 'age',\n",
       " '↓ova',\n",
       " 'pot',\n",
       " 'club',\n",
       " 'bov',\n",
       " 'w/f',\n",
       " 'sm',\n",
       " 'a/w',\n",
       " 'd/w',\n",
       " 'ir',\n",
       " 'pac',\n",
       " 'sho',\n",
       " 'pas',\n",
       " 'dri',\n",
       " 'def',\n",
       " 'phy',\n",
       " 'hits']"
      ]
     },
     "execution_count": 187,
     "metadata": {},
     "output_type": "execute_result"
    }
   ],
   "source": [
    "short_var_names"
   ]
  },
  {
   "cell_type": "markdown",
   "id": "2fce85cb-57ed-43ca-b694-c3e2e644309e",
   "metadata": {},
   "source": [
    "I will remove `id`, `name`, `age`, and `club` from list of variables to be renamed. I have just thought `hits` can be renamed to `profile_web_visits`."
   ]
  },
  {
   "cell_type": "code",
   "execution_count": 188,
   "id": "601cff8c-45a9-49a4-bb1a-a5ea683b1e05",
   "metadata": {
    "tags": []
   },
   "outputs": [
    {
     "data": {
      "text/plain": [
       "['↓ova',\n",
       " 'pot',\n",
       " 'club',\n",
       " 'bov',\n",
       " 'w/f',\n",
       " 'sm',\n",
       " 'a/w',\n",
       " 'd/w',\n",
       " 'ir',\n",
       " 'pac',\n",
       " 'sho',\n",
       " 'pas',\n",
       " 'dri',\n",
       " 'def',\n",
       " 'phy',\n",
       " 'hits']"
      ]
     },
     "execution_count": 188,
     "metadata": {},
     "output_type": "execute_result"
    }
   ],
   "source": [
    "short_var_names = short_var_names[3:]\n",
    "short_var_names"
   ]
  },
  {
   "cell_type": "markdown",
   "id": "13c82e8e-716d-414a-b75a-fcfd0479d1d0",
   "metadata": {
    "tags": [],
    "toc-hr-collapsed": true
   },
   "source": [
    "#### Error: `KeyError: '↓ova'\"`\n",
    "Uncomment the cell below to see the whole error output."
   ]
  },
  {
   "cell_type": "code",
   "execution_count": 188,
   "id": "13efe78c-04aa-48d3-acde-fda2f6f4e320",
   "metadata": {
    "tags": []
   },
   "outputs": [],
   "source": [
    "#for var in short_var_names:\n",
    "#    print(f'Var: {var}. Description: {var_description_df.loc[var]}')"
   ]
  },
  {
   "cell_type": "code",
   "execution_count": 189,
   "id": "9bba51e9-1ef7-46a1-9376-c5cd6d7d8bac",
   "metadata": {
    "tags": []
   },
   "outputs": [],
   "source": [
    "short_var_names[0] = 'ova'"
   ]
  },
  {
   "cell_type": "code",
   "execution_count": 192,
   "id": "31649ca9-23d3-434a-bd3b-44604cc3180f",
   "metadata": {
    "tags": []
   },
   "outputs": [],
   "source": [
    "short_var_names.remove('club')"
   ]
  },
  {
   "cell_type": "code",
   "execution_count": 194,
   "id": "1b7532c6-2844-4a33-befe-cfbf88c00358",
   "metadata": {
    "tags": []
   },
   "outputs": [
    {
     "name": "stdout",
     "output_type": "stream",
     "text": [
      "Var: ova -  Description: The overall rating of the player in FIFA 21.\n",
      "Var: pot -  Description: The potential rating of the player in FIFA 21.\n",
      "Var: bov -  Description: The best overall rating the player has achieved in their career.\n",
      "Var: w/f -  Description: This refers to the player's weaker foot ability.\n",
      "Var: sm -  Description: This refers to the player's skill moves ability. \n",
      "Var: a/w -  Description: This refers to the player's attacking work rate. It measures how frequently the player participates in attacking actions, such as making runs or positioning themselves in the opponent's half.\n",
      "Var: d/w -  Description: This refers to the player's defensive work rate. It measures how frequently the player participates in defensive actions, such as tracking back or making tackles.\n",
      "Var: ir -  Description: This refers to the player's injury resistance. It measures the player's ability to avoid injuries and how quickly they recover from them.\n",
      "Var: pac -  Description: This refers to the player's pace or speed attribute. It measures how quickly the player can move with and without the ball.\n",
      "Var: sho -  Description: This refers to the player's shooting ability. It measures the player's accuracy and power when shooting the ball.\n",
      "Var: pas -  Description: This refers to the player's passing ability. It measures the player's accuracy and range when passing the ball.\n",
      "Var: dri -  Description: This refers to the player's dribbling ability. It measures the player's agility, balance, and ball control when dribbling the ball.\n",
      "Var: def -  Description: This refers to the player's defensive ability. It measures the player's ability to tackle, intercept, and defend against opposing players. \n",
      "Var: phy -  Description: This refers to the player's physicality or strength. It measures the player's ability to win physical battles and maintain possession of the ball. \n",
      "Var: hits -  Description: This refers to the number of times the player's profile has been viewed on the website.\n"
     ]
    }
   ],
   "source": [
    "for var in short_var_names:\n",
    "    print(f'Var: {var} -  Description: {var_description_df.loc[var].values[0]}')"
   ]
  },
  {
   "cell_type": "markdown",
   "id": "844a501e-9996-4595-87de-32fbd9cb1506",
   "metadata": {},
   "source": [
    "With the descriptions, I have the information to rename to a more descriptive way the variables:"
   ]
  },
  {
   "cell_type": "code",
   "execution_count": 196,
   "id": "7949d096-88ee-46db-955b-64214e2c4490",
   "metadata": {
    "tags": []
   },
   "outputs": [],
   "source": [
    "renaming_dict = {\n",
    "    'ova': 'overall_rating',\n",
    "    'pot' : 'potential_rating',\n",
    "    'bov' : 'best_overall_rating',\n",
    "    'w/f' : 'weaker_foot_ability',\n",
    "    'sm' : 'skill_moves_ability',\n",
    "    'a/w' : 'attack_work_rate',\n",
    "    'd/w' : 'defense_work_rate',\n",
    "    'ir' : 'injury_resistance',\n",
    "    'pac' : 'player_speed',\n",
    "    'sho' : 'shooting_ability',\n",
    "    'pas' : 'passing_ability',\n",
    "    'dri' : 'dribbling_ability',\n",
    "    'def' : 'defensive_ability',\n",
    "    'phy' : 'player_strength',\n",
    "    'hits' : 'profile_web_visits',\n",
    "    'photourl' : 'photo_url',\n",
    "    'playerurl' : 'player_profile_web',\n",
    "}    "
   ]
  },
  {
   "cell_type": "code",
   "execution_count": 198,
   "id": "0a964ea4-de2b-4633-b9d2-708538c6df90",
   "metadata": {
    "tags": []
   },
   "outputs": [],
   "source": [
    "df.rename(columns = renaming_dict, inplace=True)"
   ]
  },
  {
   "cell_type": "code",
   "execution_count": 201,
   "id": "756ad6b2-eb13-40b2-abf5-d19fed909611",
   "metadata": {
    "tags": []
   },
   "outputs": [
    {
     "data": {
      "text/plain": [
       "Index(['id', 'name', 'longname', 'photo_url', 'player_profile_web',\n",
       "       'nationality', 'age', 'overall_rating', 'potential_rating', 'club',\n",
       "       'positions', 'weight_kg', 'preferred_foot', 'best_overall_rating',\n",
       "       'best_position', 'joined', 'loan_date_end', 'value_million_euros',\n",
       "       'wage_million_euros', 'release_clause_million_euros', 'attacking',\n",
       "       'crossing', 'finishing', 'heading_accuracy', 'short_passing', 'volleys',\n",
       "       'skill', 'dribbling', 'curve', 'fk_accuracy', 'long_passing',\n",
       "       'ball_control', 'movement', 'acceleration', 'sprint_speed', 'agility',\n",
       "       'reactions', 'balance', 'power', 'shot_power', 'jumping', 'stamina',\n",
       "       'strength', 'long_shots', 'mentality', 'aggression', 'interceptions',\n",
       "       'positioning', 'vision', 'penalties', 'composure', 'defending',\n",
       "       'marking', 'standing_tackle', 'sliding_tackle', 'goalkeeping',\n",
       "       'gk_diving', 'gk_handling', 'gk_kicking', 'gk_positioning',\n",
       "       'gk_reflexes', 'total_stats', 'base_stats', 'weaker_foot_ability',\n",
       "       'skill_moves_ability', 'attack_work_rate', 'defense_work_rate',\n",
       "       'injury_resistance', 'player_speed', 'shooting_ability',\n",
       "       'passing_ability', 'dribbling_ability', 'defensive_ability',\n",
       "       'player_strength', 'profile_web_visits', 'height_m', 'height_feet',\n",
       "       'on_loan_from', 'contract_started', 'contract_ends', 'has_contract'],\n",
       "      dtype='object')"
      ]
     },
     "execution_count": 201,
     "metadata": {},
     "output_type": "execute_result"
    }
   ],
   "source": [
    "df.columns"
   ]
  },
  {
   "cell_type": "markdown",
   "id": "f9efcba6-8fbc-4514-ba1d-667874491523",
   "metadata": {},
   "source": [
    "# TODO (after renaming of columns the variable description dataset should be updated)"
   ]
  },
  {
   "cell_type": "markdown",
   "id": "6a2f5016-05b4-476c-8f5f-6f71647fe468",
   "metadata": {},
   "source": [
    "## Final review of whole dataset"
   ]
  },
  {
   "cell_type": "code",
   "execution_count": 203,
   "id": "6334c256-e721-493b-9542-7a8e57021df9",
   "metadata": {
    "tags": []
   },
   "outputs": [
    {
     "data": {
      "text/html": [
       "<div>\n",
       "<style scoped>\n",
       "    .dataframe tbody tr th:only-of-type {\n",
       "        vertical-align: middle;\n",
       "    }\n",
       "\n",
       "    .dataframe tbody tr th {\n",
       "        vertical-align: top;\n",
       "    }\n",
       "\n",
       "    .dataframe thead th {\n",
       "        text-align: right;\n",
       "    }\n",
       "</style>\n",
       "<table border=\"1\" class=\"dataframe\">\n",
       "  <thead>\n",
       "    <tr style=\"text-align: right;\">\n",
       "      <th></th>\n",
       "      <th>10934</th>\n",
       "      <th>7506</th>\n",
       "      <th>16178</th>\n",
       "      <th>7749</th>\n",
       "      <th>5702</th>\n",
       "    </tr>\n",
       "  </thead>\n",
       "  <tbody>\n",
       "    <tr>\n",
       "      <th>id</th>\n",
       "      <td>211238</td>\n",
       "      <td>194361</td>\n",
       "      <td>251917</td>\n",
       "      <td>203615</td>\n",
       "      <td>184139</td>\n",
       "    </tr>\n",
       "    <tr>\n",
       "      <th>name</th>\n",
       "      <td>L. Kassi</td>\n",
       "      <td>T. Makino</td>\n",
       "      <td>J. Marrufo</td>\n",
       "      <td>T. Kainz</td>\n",
       "      <td>Ricardo Ferreira</td>\n",
       "    </tr>\n",
       "    <tr>\n",
       "      <th>longname</th>\n",
       "      <td>Luc Kassi</td>\n",
       "      <td>Tomoaki Makino</td>\n",
       "      <td>José Marrufo</td>\n",
       "      <td>Tobias Kainz</td>\n",
       "      <td>Ricardo Abel Barbosa Ferreira</td>\n",
       "    </tr>\n",
       "    <tr>\n",
       "      <th>photo_url</th>\n",
       "      <td>https://cdn.sofifa.com/players/211/238/21_60.png</td>\n",
       "      <td>https://cdn.sofifa.com/players/194/361/21_60.png</td>\n",
       "      <td>https://cdn.sofifa.com/players/251/917/21_60.png</td>\n",
       "      <td>https://cdn.sofifa.com/players/203/615/21_60.png</td>\n",
       "      <td>https://cdn.sofifa.com/players/184/139/21_60.png</td>\n",
       "    </tr>\n",
       "    <tr>\n",
       "      <th>player_profile_web</th>\n",
       "      <td>http://sofifa.com/player/211238/luc-kassi/210006/</td>\n",
       "      <td>http://sofifa.com/player/194361/tomoaki-makino...</td>\n",
       "      <td>http://sofifa.com/player/251917/jose-marrufo/2...</td>\n",
       "      <td>http://sofifa.com/player/203615/tobias-kainz/2...</td>\n",
       "      <td>http://sofifa.com/player/184139/ricardo-abel-b...</td>\n",
       "    </tr>\n",
       "    <tr>\n",
       "      <th>nationality</th>\n",
       "      <td>Ivory Coast</td>\n",
       "      <td>Japan</td>\n",
       "      <td>Venezuela</td>\n",
       "      <td>Austria</td>\n",
       "      <td>Portugal</td>\n",
       "    </tr>\n",
       "    <tr>\n",
       "      <th>age</th>\n",
       "      <td>25</td>\n",
       "      <td>33</td>\n",
       "      <td>24</td>\n",
       "      <td>27</td>\n",
       "      <td>30</td>\n",
       "    </tr>\n",
       "    <tr>\n",
       "      <th>overall_rating</th>\n",
       "      <td>64</td>\n",
       "      <td>67</td>\n",
       "      <td>58</td>\n",
       "      <td>67</td>\n",
       "      <td>69</td>\n",
       "    </tr>\n",
       "    <tr>\n",
       "      <th>potential_rating</th>\n",
       "      <td>67</td>\n",
       "      <td>67</td>\n",
       "      <td>63</td>\n",
       "      <td>69</td>\n",
       "      <td>69</td>\n",
       "    </tr>\n",
       "    <tr>\n",
       "      <th>club</th>\n",
       "      <td>Stabæk Fotball</td>\n",
       "      <td>Urawa Red Diamonds</td>\n",
       "      <td>Estudiantes de Mérida</td>\n",
       "      <td>TSV Hartberg</td>\n",
       "      <td>Portimonense SC</td>\n",
       "    </tr>\n",
       "    <tr>\n",
       "      <th>positions</th>\n",
       "      <td>[CM, LW]</td>\n",
       "      <td>[CB]</td>\n",
       "      <td>[CB, LB]</td>\n",
       "      <td>[CDM, RB, CM]</td>\n",
       "      <td>[GK]</td>\n",
       "    </tr>\n",
       "    <tr>\n",
       "      <th>weight_kg</th>\n",
       "      <td>74.0</td>\n",
       "      <td>77.0</td>\n",
       "      <td>80.0</td>\n",
       "      <td>68.0</td>\n",
       "      <td>80.0</td>\n",
       "    </tr>\n",
       "    <tr>\n",
       "      <th>preferred_foot</th>\n",
       "      <td>Right</td>\n",
       "      <td>Right</td>\n",
       "      <td>Left</td>\n",
       "      <td>Right</td>\n",
       "      <td>Right</td>\n",
       "    </tr>\n",
       "    <tr>\n",
       "      <th>best_overall_rating</th>\n",
       "      <td>67</td>\n",
       "      <td>67</td>\n",
       "      <td>61</td>\n",
       "      <td>68</td>\n",
       "      <td>69</td>\n",
       "    </tr>\n",
       "    <tr>\n",
       "      <th>best_position</th>\n",
       "      <td>CAM</td>\n",
       "      <td>CB</td>\n",
       "      <td>CB</td>\n",
       "      <td>CDM</td>\n",
       "      <td>GK</td>\n",
       "    </tr>\n",
       "    <tr>\n",
       "      <th>joined</th>\n",
       "      <td>2012-08-01 00:00:00</td>\n",
       "      <td>2016-04-14 00:00:00</td>\n",
       "      <td>2020-01-17 00:00:00</td>\n",
       "      <td>2018-07-01 00:00:00</td>\n",
       "      <td>2014-07-17 00:00:00</td>\n",
       "    </tr>\n",
       "    <tr>\n",
       "      <th>loan_date_end</th>\n",
       "      <td>NaT</td>\n",
       "      <td>NaT</td>\n",
       "      <td>NaT</td>\n",
       "      <td>NaT</td>\n",
       "      <td>NaT</td>\n",
       "    </tr>\n",
       "    <tr>\n",
       "      <th>value_million_euros</th>\n",
       "      <td>0.775</td>\n",
       "      <td>0.475</td>\n",
       "      <td>0.275</td>\n",
       "      <td>1.1</td>\n",
       "      <td>0.925</td>\n",
       "    </tr>\n",
       "    <tr>\n",
       "      <th>wage_million_euros</th>\n",
       "      <td>0.001</td>\n",
       "      <td>0.004</td>\n",
       "      <td>50.0</td>\n",
       "      <td>0.003</td>\n",
       "      <td>0.003</td>\n",
       "    </tr>\n",
       "    <tr>\n",
       "      <th>release_clause_million_euros</th>\n",
       "      <td>0.729</td>\n",
       "      <td>0.438</td>\n",
       "      <td>0.334</td>\n",
       "      <td>1.2</td>\n",
       "      <td>1.5</td>\n",
       "    </tr>\n",
       "    <tr>\n",
       "      <th>attacking</th>\n",
       "      <td>297</td>\n",
       "      <td>256</td>\n",
       "      <td>214</td>\n",
       "      <td>289</td>\n",
       "      <td>79</td>\n",
       "    </tr>\n",
       "    <tr>\n",
       "      <th>crossing</th>\n",
       "      <td>59</td>\n",
       "      <td>59</td>\n",
       "      <td>62</td>\n",
       "      <td>65</td>\n",
       "      <td>13</td>\n",
       "    </tr>\n",
       "    <tr>\n",
       "      <th>finishing</th>\n",
       "      <td>58</td>\n",
       "      <td>35</td>\n",
       "      <td>21</td>\n",
       "      <td>53</td>\n",
       "      <td>11</td>\n",
       "    </tr>\n",
       "    <tr>\n",
       "      <th>heading_accuracy</th>\n",
       "      <td>51</td>\n",
       "      <td>71</td>\n",
       "      <td>50</td>\n",
       "      <td>53</td>\n",
       "      <td>13</td>\n",
       "    </tr>\n",
       "    <tr>\n",
       "      <th>short_passing</th>\n",
       "      <td>66</td>\n",
       "      <td>66</td>\n",
       "      <td>58</td>\n",
       "      <td>65</td>\n",
       "      <td>32</td>\n",
       "    </tr>\n",
       "    <tr>\n",
       "      <th>volleys</th>\n",
       "      <td>63</td>\n",
       "      <td>25</td>\n",
       "      <td>23</td>\n",
       "      <td>53</td>\n",
       "      <td>10</td>\n",
       "    </tr>\n",
       "    <tr>\n",
       "      <th>skill</th>\n",
       "      <td>312</td>\n",
       "      <td>277</td>\n",
       "      <td>205</td>\n",
       "      <td>310</td>\n",
       "      <td>91</td>\n",
       "    </tr>\n",
       "    <tr>\n",
       "      <th>dribbling</th>\n",
       "      <td>66</td>\n",
       "      <td>62</td>\n",
       "      <td>47</td>\n",
       "      <td>58</td>\n",
       "      <td>11</td>\n",
       "    </tr>\n",
       "    <tr>\n",
       "      <th>curve</th>\n",
       "      <td>62</td>\n",
       "      <td>27</td>\n",
       "      <td>49</td>\n",
       "      <td>63</td>\n",
       "      <td>14</td>\n",
       "    </tr>\n",
       "    <tr>\n",
       "      <th>fk_accuracy</th>\n",
       "      <td>56</td>\n",
       "      <td>64</td>\n",
       "      <td>28</td>\n",
       "      <td>58</td>\n",
       "      <td>17</td>\n",
       "    </tr>\n",
       "    <tr>\n",
       "      <th>long_passing</th>\n",
       "      <td>62</td>\n",
       "      <td>62</td>\n",
       "      <td>26</td>\n",
       "      <td>68</td>\n",
       "      <td>24</td>\n",
       "    </tr>\n",
       "    <tr>\n",
       "      <th>ball_control</th>\n",
       "      <td>66</td>\n",
       "      <td>62</td>\n",
       "      <td>55</td>\n",
       "      <td>63</td>\n",
       "      <td>25</td>\n",
       "    </tr>\n",
       "    <tr>\n",
       "      <th>movement</th>\n",
       "      <td>359</td>\n",
       "      <td>314</td>\n",
       "      <td>291</td>\n",
       "      <td>337</td>\n",
       "      <td>246</td>\n",
       "    </tr>\n",
       "    <tr>\n",
       "      <th>acceleration</th>\n",
       "      <td>77</td>\n",
       "      <td>68</td>\n",
       "      <td>68</td>\n",
       "      <td>68</td>\n",
       "      <td>55</td>\n",
       "    </tr>\n",
       "    <tr>\n",
       "      <th>sprint_speed</th>\n",
       "      <td>75</td>\n",
       "      <td>64</td>\n",
       "      <td>64</td>\n",
       "      <td>55</td>\n",
       "      <td>38</td>\n",
       "    </tr>\n",
       "    <tr>\n",
       "      <th>agility</th>\n",
       "      <td>82</td>\n",
       "      <td>67</td>\n",
       "      <td>50</td>\n",
       "      <td>71</td>\n",
       "      <td>44</td>\n",
       "    </tr>\n",
       "    <tr>\n",
       "      <th>reactions</th>\n",
       "      <td>59</td>\n",
       "      <td>58</td>\n",
       "      <td>50</td>\n",
       "      <td>63</td>\n",
       "      <td>67</td>\n",
       "    </tr>\n",
       "    <tr>\n",
       "      <th>balance</th>\n",
       "      <td>66</td>\n",
       "      <td>57</td>\n",
       "      <td>59</td>\n",
       "      <td>80</td>\n",
       "      <td>42</td>\n",
       "    </tr>\n",
       "    <tr>\n",
       "      <th>power</th>\n",
       "      <td>344</td>\n",
       "      <td>341</td>\n",
       "      <td>244</td>\n",
       "      <td>346</td>\n",
       "      <td>218</td>\n",
       "    </tr>\n",
       "    <tr>\n",
       "      <th>shot_power</th>\n",
       "      <td>66</td>\n",
       "      <td>72</td>\n",
       "      <td>25</td>\n",
       "      <td>68</td>\n",
       "      <td>47</td>\n",
       "    </tr>\n",
       "    <tr>\n",
       "      <th>jumping</th>\n",
       "      <td>72</td>\n",
       "      <td>78</td>\n",
       "      <td>58</td>\n",
       "      <td>79</td>\n",
       "      <td>62</td>\n",
       "    </tr>\n",
       "    <tr>\n",
       "      <th>stamina</th>\n",
       "      <td>74</td>\n",
       "      <td>76</td>\n",
       "      <td>72</td>\n",
       "      <td>80</td>\n",
       "      <td>38</td>\n",
       "    </tr>\n",
       "    <tr>\n",
       "      <th>strength</th>\n",
       "      <td>69</td>\n",
       "      <td>77</td>\n",
       "      <td>69</td>\n",
       "      <td>58</td>\n",
       "      <td>60</td>\n",
       "    </tr>\n",
       "    <tr>\n",
       "      <th>long_shots</th>\n",
       "      <td>63</td>\n",
       "      <td>38</td>\n",
       "      <td>20</td>\n",
       "      <td>61</td>\n",
       "      <td>11</td>\n",
       "    </tr>\n",
       "    <tr>\n",
       "      <th>mentality</th>\n",
       "      <td>301</td>\n",
       "      <td>289</td>\n",
       "      <td>224</td>\n",
       "      <td>305</td>\n",
       "      <td>111</td>\n",
       "    </tr>\n",
       "    <tr>\n",
       "      <th>aggression</th>\n",
       "      <td>58</td>\n",
       "      <td>74</td>\n",
       "      <td>53</td>\n",
       "      <td>66</td>\n",
       "      <td>22</td>\n",
       "    </tr>\n",
       "    <tr>\n",
       "      <th>interceptions</th>\n",
       "      <td>56</td>\n",
       "      <td>61</td>\n",
       "      <td>55</td>\n",
       "      <td>68</td>\n",
       "      <td>17</td>\n",
       "    </tr>\n",
       "    <tr>\n",
       "      <th>positioning</th>\n",
       "      <td>60</td>\n",
       "      <td>59</td>\n",
       "      <td>41</td>\n",
       "      <td>56</td>\n",
       "      <td>13</td>\n",
       "    </tr>\n",
       "    <tr>\n",
       "      <th>vision</th>\n",
       "      <td>67</td>\n",
       "      <td>57</td>\n",
       "      <td>36</td>\n",
       "      <td>67</td>\n",
       "      <td>46</td>\n",
       "    </tr>\n",
       "    <tr>\n",
       "      <th>penalties</th>\n",
       "      <td>60</td>\n",
       "      <td>38</td>\n",
       "      <td>39</td>\n",
       "      <td>48</td>\n",
       "      <td>13</td>\n",
       "    </tr>\n",
       "    <tr>\n",
       "      <th>composure</th>\n",
       "      <td>60</td>\n",
       "      <td>58</td>\n",
       "      <td>41</td>\n",
       "      <td>63</td>\n",
       "      <td>50</td>\n",
       "    </tr>\n",
       "    <tr>\n",
       "      <th>defending</th>\n",
       "      <td>168</td>\n",
       "      <td>193</td>\n",
       "      <td>178</td>\n",
       "      <td>194</td>\n",
       "      <td>41</td>\n",
       "    </tr>\n",
       "    <tr>\n",
       "      <th>marking</th>\n",
       "      <td>50</td>\n",
       "      <td>61</td>\n",
       "      <td>58</td>\n",
       "      <td>66</td>\n",
       "      <td>19</td>\n",
       "    </tr>\n",
       "    <tr>\n",
       "      <th>standing_tackle</th>\n",
       "      <td>60</td>\n",
       "      <td>65</td>\n",
       "      <td>60</td>\n",
       "      <td>65</td>\n",
       "      <td>12</td>\n",
       "    </tr>\n",
       "    <tr>\n",
       "      <th>sliding_tackle</th>\n",
       "      <td>58</td>\n",
       "      <td>67</td>\n",
       "      <td>60</td>\n",
       "      <td>63</td>\n",
       "      <td>10</td>\n",
       "    </tr>\n",
       "    <tr>\n",
       "      <th>goalkeeping</th>\n",
       "      <td>58</td>\n",
       "      <td>57</td>\n",
       "      <td>50</td>\n",
       "      <td>48</td>\n",
       "      <td>338</td>\n",
       "    </tr>\n",
       "    <tr>\n",
       "      <th>gk_diving</th>\n",
       "      <td>11</td>\n",
       "      <td>13</td>\n",
       "      <td>7</td>\n",
       "      <td>7</td>\n",
       "      <td>71</td>\n",
       "    </tr>\n",
       "    <tr>\n",
       "      <th>gk_handling</th>\n",
       "      <td>15</td>\n",
       "      <td>7</td>\n",
       "      <td>13</td>\n",
       "      <td>12</td>\n",
       "      <td>69</td>\n",
       "    </tr>\n",
       "    <tr>\n",
       "      <th>gk_kicking</th>\n",
       "      <td>10</td>\n",
       "      <td>16</td>\n",
       "      <td>6</td>\n",
       "      <td>7</td>\n",
       "      <td>62</td>\n",
       "    </tr>\n",
       "    <tr>\n",
       "      <th>gk_positioning</th>\n",
       "      <td>16</td>\n",
       "      <td>9</td>\n",
       "      <td>14</td>\n",
       "      <td>9</td>\n",
       "      <td>67</td>\n",
       "    </tr>\n",
       "    <tr>\n",
       "      <th>gk_reflexes</th>\n",
       "      <td>6</td>\n",
       "      <td>12</td>\n",
       "      <td>10</td>\n",
       "      <td>13</td>\n",
       "      <td>69</td>\n",
       "    </tr>\n",
       "    <tr>\n",
       "      <th>total_stats</th>\n",
       "      <td>1839</td>\n",
       "      <td>1727</td>\n",
       "      <td>1406</td>\n",
       "      <td>1829</td>\n",
       "      <td>1124</td>\n",
       "    </tr>\n",
       "    <tr>\n",
       "      <th>base_stats</th>\n",
       "      <td>391</td>\n",
       "      <td>372</td>\n",
       "      <td>311</td>\n",
       "      <td>377</td>\n",
       "      <td>384</td>\n",
       "    </tr>\n",
       "    <tr>\n",
       "      <th>weaker_foot_ability</th>\n",
       "      <td>3</td>\n",
       "      <td>4</td>\n",
       "      <td>2</td>\n",
       "      <td>3</td>\n",
       "      <td>3</td>\n",
       "    </tr>\n",
       "    <tr>\n",
       "      <th>skill_moves_ability</th>\n",
       "      <td>3</td>\n",
       "      <td>2</td>\n",
       "      <td>2</td>\n",
       "      <td>2</td>\n",
       "      <td>1</td>\n",
       "    </tr>\n",
       "    <tr>\n",
       "      <th>attack_work_rate</th>\n",
       "      <td>High</td>\n",
       "      <td>High</td>\n",
       "      <td>Medium</td>\n",
       "      <td>Medium</td>\n",
       "      <td>Medium</td>\n",
       "    </tr>\n",
       "    <tr>\n",
       "      <th>defense_work_rate</th>\n",
       "      <td>Medium</td>\n",
       "      <td>High</td>\n",
       "      <td>High</td>\n",
       "      <td>Medium</td>\n",
       "      <td>Medium</td>\n",
       "    </tr>\n",
       "    <tr>\n",
       "      <th>injury_resistance</th>\n",
       "      <td>1</td>\n",
       "      <td>1</td>\n",
       "      <td>1</td>\n",
       "      <td>1</td>\n",
       "      <td>1</td>\n",
       "    </tr>\n",
       "    <tr>\n",
       "      <th>player_speed</th>\n",
       "      <td>76</td>\n",
       "      <td>66</td>\n",
       "      <td>66</td>\n",
       "      <td>61</td>\n",
       "      <td>71</td>\n",
       "    </tr>\n",
       "    <tr>\n",
       "      <th>shooting_ability</th>\n",
       "      <td>61</td>\n",
       "      <td>44</td>\n",
       "      <td>24</td>\n",
       "      <td>58</td>\n",
       "      <td>69</td>\n",
       "    </tr>\n",
       "    <tr>\n",
       "      <th>passing_ability</th>\n",
       "      <td>64</td>\n",
       "      <td>60</td>\n",
       "      <td>48</td>\n",
       "      <td>65</td>\n",
       "      <td>62</td>\n",
       "    </tr>\n",
       "    <tr>\n",
       "      <th>dribbling_ability</th>\n",
       "      <td>67</td>\n",
       "      <td>62</td>\n",
       "      <td>50</td>\n",
       "      <td>62</td>\n",
       "      <td>69</td>\n",
       "    </tr>\n",
       "    <tr>\n",
       "      <th>defensive_ability</th>\n",
       "      <td>55</td>\n",
       "      <td>64</td>\n",
       "      <td>57</td>\n",
       "      <td>65</td>\n",
       "      <td>46</td>\n",
       "    </tr>\n",
       "    <tr>\n",
       "      <th>player_strength</th>\n",
       "      <td>68</td>\n",
       "      <td>76</td>\n",
       "      <td>66</td>\n",
       "      <td>66</td>\n",
       "      <td>67</td>\n",
       "    </tr>\n",
       "    <tr>\n",
       "      <th>profile_web_visits</th>\n",
       "      <td>3.0</td>\n",
       "      <td>5.0</td>\n",
       "      <td>2.0</td>\n",
       "      <td>1.0</td>\n",
       "      <td>2.0</td>\n",
       "    </tr>\n",
       "    <tr>\n",
       "      <th>height_m</th>\n",
       "      <td>1.79</td>\n",
       "      <td>1.82</td>\n",
       "      <td>1.82</td>\n",
       "      <td>1.74</td>\n",
       "      <td>1.89</td>\n",
       "    </tr>\n",
       "    <tr>\n",
       "      <th>height_feet</th>\n",
       "      <td>5.872703</td>\n",
       "      <td>5.971129</td>\n",
       "      <td>5.971129</td>\n",
       "      <td>5.708661</td>\n",
       "      <td>6.200787</td>\n",
       "    </tr>\n",
       "    <tr>\n",
       "      <th>on_loan_from</th>\n",
       "      <td>NaT</td>\n",
       "      <td>NaT</td>\n",
       "      <td>NaT</td>\n",
       "      <td>NaT</td>\n",
       "      <td>NaT</td>\n",
       "    </tr>\n",
       "    <tr>\n",
       "      <th>contract_started</th>\n",
       "      <td>2012-01-01 00:00:00</td>\n",
       "      <td>2016-01-01 00:00:00</td>\n",
       "      <td>2020-01-01 00:00:00</td>\n",
       "      <td>2018-01-01 00:00:00</td>\n",
       "      <td>2014-01-01 00:00:00</td>\n",
       "    </tr>\n",
       "    <tr>\n",
       "      <th>contract_ends</th>\n",
       "      <td>2021-01-01 00:00:00</td>\n",
       "      <td>2021-01-01 00:00:00</td>\n",
       "      <td>2021-01-01 00:00:00</td>\n",
       "      <td>2021-01-01 00:00:00</td>\n",
       "      <td>2024-01-01 00:00:00</td>\n",
       "    </tr>\n",
       "    <tr>\n",
       "      <th>has_contract</th>\n",
       "      <td>True</td>\n",
       "      <td>True</td>\n",
       "      <td>True</td>\n",
       "      <td>True</td>\n",
       "      <td>True</td>\n",
       "    </tr>\n",
       "  </tbody>\n",
       "</table>\n",
       "</div>"
      ],
      "text/plain": [
       "                                                                          10934  \\\n",
       "id                                                                       211238   \n",
       "name                                                                   L. Kassi   \n",
       "longname                                                              Luc Kassi   \n",
       "photo_url                      https://cdn.sofifa.com/players/211/238/21_60.png   \n",
       "player_profile_web            http://sofifa.com/player/211238/luc-kassi/210006/   \n",
       "nationality                                                         Ivory Coast   \n",
       "age                                                                          25   \n",
       "overall_rating                                                               64   \n",
       "potential_rating                                                             67   \n",
       "club                                                             Stabæk Fotball   \n",
       "positions                                                              [CM, LW]   \n",
       "weight_kg                                                                  74.0   \n",
       "preferred_foot                                                            Right   \n",
       "best_overall_rating                                                          67   \n",
       "best_position                                                               CAM   \n",
       "joined                                                      2012-08-01 00:00:00   \n",
       "loan_date_end                                                               NaT   \n",
       "value_million_euros                                                       0.775   \n",
       "wage_million_euros                                                        0.001   \n",
       "release_clause_million_euros                                              0.729   \n",
       "attacking                                                                   297   \n",
       "crossing                                                                     59   \n",
       "finishing                                                                    58   \n",
       "heading_accuracy                                                             51   \n",
       "short_passing                                                                66   \n",
       "volleys                                                                      63   \n",
       "skill                                                                       312   \n",
       "dribbling                                                                    66   \n",
       "curve                                                                        62   \n",
       "fk_accuracy                                                                  56   \n",
       "long_passing                                                                 62   \n",
       "ball_control                                                                 66   \n",
       "movement                                                                    359   \n",
       "acceleration                                                                 77   \n",
       "sprint_speed                                                                 75   \n",
       "agility                                                                      82   \n",
       "reactions                                                                    59   \n",
       "balance                                                                      66   \n",
       "power                                                                       344   \n",
       "shot_power                                                                   66   \n",
       "jumping                                                                      72   \n",
       "stamina                                                                      74   \n",
       "strength                                                                     69   \n",
       "long_shots                                                                   63   \n",
       "mentality                                                                   301   \n",
       "aggression                                                                   58   \n",
       "interceptions                                                                56   \n",
       "positioning                                                                  60   \n",
       "vision                                                                       67   \n",
       "penalties                                                                    60   \n",
       "composure                                                                    60   \n",
       "defending                                                                   168   \n",
       "marking                                                                      50   \n",
       "standing_tackle                                                              60   \n",
       "sliding_tackle                                                               58   \n",
       "goalkeeping                                                                  58   \n",
       "gk_diving                                                                    11   \n",
       "gk_handling                                                                  15   \n",
       "gk_kicking                                                                   10   \n",
       "gk_positioning                                                               16   \n",
       "gk_reflexes                                                                   6   \n",
       "total_stats                                                                1839   \n",
       "base_stats                                                                  391   \n",
       "weaker_foot_ability                                                           3   \n",
       "skill_moves_ability                                                           3   \n",
       "attack_work_rate                                                           High   \n",
       "defense_work_rate                                                        Medium   \n",
       "injury_resistance                                                             1   \n",
       "player_speed                                                                 76   \n",
       "shooting_ability                                                             61   \n",
       "passing_ability                                                              64   \n",
       "dribbling_ability                                                            67   \n",
       "defensive_ability                                                            55   \n",
       "player_strength                                                              68   \n",
       "profile_web_visits                                                          3.0   \n",
       "height_m                                                                   1.79   \n",
       "height_feet                                                            5.872703   \n",
       "on_loan_from                                                                NaT   \n",
       "contract_started                                            2012-01-01 00:00:00   \n",
       "contract_ends                                               2021-01-01 00:00:00   \n",
       "has_contract                                                               True   \n",
       "\n",
       "                                                                          7506   \\\n",
       "id                                                                       194361   \n",
       "name                                                                  T. Makino   \n",
       "longname                                                         Tomoaki Makino   \n",
       "photo_url                      https://cdn.sofifa.com/players/194/361/21_60.png   \n",
       "player_profile_web            http://sofifa.com/player/194361/tomoaki-makino...   \n",
       "nationality                                                               Japan   \n",
       "age                                                                          33   \n",
       "overall_rating                                                               67   \n",
       "potential_rating                                                             67   \n",
       "club                                                         Urawa Red Diamonds   \n",
       "positions                                                                  [CB]   \n",
       "weight_kg                                                                  77.0   \n",
       "preferred_foot                                                            Right   \n",
       "best_overall_rating                                                          67   \n",
       "best_position                                                                CB   \n",
       "joined                                                      2016-04-14 00:00:00   \n",
       "loan_date_end                                                               NaT   \n",
       "value_million_euros                                                       0.475   \n",
       "wage_million_euros                                                        0.004   \n",
       "release_clause_million_euros                                              0.438   \n",
       "attacking                                                                   256   \n",
       "crossing                                                                     59   \n",
       "finishing                                                                    35   \n",
       "heading_accuracy                                                             71   \n",
       "short_passing                                                                66   \n",
       "volleys                                                                      25   \n",
       "skill                                                                       277   \n",
       "dribbling                                                                    62   \n",
       "curve                                                                        27   \n",
       "fk_accuracy                                                                  64   \n",
       "long_passing                                                                 62   \n",
       "ball_control                                                                 62   \n",
       "movement                                                                    314   \n",
       "acceleration                                                                 68   \n",
       "sprint_speed                                                                 64   \n",
       "agility                                                                      67   \n",
       "reactions                                                                    58   \n",
       "balance                                                                      57   \n",
       "power                                                                       341   \n",
       "shot_power                                                                   72   \n",
       "jumping                                                                      78   \n",
       "stamina                                                                      76   \n",
       "strength                                                                     77   \n",
       "long_shots                                                                   38   \n",
       "mentality                                                                   289   \n",
       "aggression                                                                   74   \n",
       "interceptions                                                                61   \n",
       "positioning                                                                  59   \n",
       "vision                                                                       57   \n",
       "penalties                                                                    38   \n",
       "composure                                                                    58   \n",
       "defending                                                                   193   \n",
       "marking                                                                      61   \n",
       "standing_tackle                                                              65   \n",
       "sliding_tackle                                                               67   \n",
       "goalkeeping                                                                  57   \n",
       "gk_diving                                                                    13   \n",
       "gk_handling                                                                   7   \n",
       "gk_kicking                                                                   16   \n",
       "gk_positioning                                                                9   \n",
       "gk_reflexes                                                                  12   \n",
       "total_stats                                                                1727   \n",
       "base_stats                                                                  372   \n",
       "weaker_foot_ability                                                           4   \n",
       "skill_moves_ability                                                           2   \n",
       "attack_work_rate                                                           High   \n",
       "defense_work_rate                                                          High   \n",
       "injury_resistance                                                             1   \n",
       "player_speed                                                                 66   \n",
       "shooting_ability                                                             44   \n",
       "passing_ability                                                              60   \n",
       "dribbling_ability                                                            62   \n",
       "defensive_ability                                                            64   \n",
       "player_strength                                                              76   \n",
       "profile_web_visits                                                          5.0   \n",
       "height_m                                                                   1.82   \n",
       "height_feet                                                            5.971129   \n",
       "on_loan_from                                                                NaT   \n",
       "contract_started                                            2016-01-01 00:00:00   \n",
       "contract_ends                                               2021-01-01 00:00:00   \n",
       "has_contract                                                               True   \n",
       "\n",
       "                                                                          16178  \\\n",
       "id                                                                       251917   \n",
       "name                                                                 J. Marrufo   \n",
       "longname                                                           José Marrufo   \n",
       "photo_url                      https://cdn.sofifa.com/players/251/917/21_60.png   \n",
       "player_profile_web            http://sofifa.com/player/251917/jose-marrufo/2...   \n",
       "nationality                                                           Venezuela   \n",
       "age                                                                          24   \n",
       "overall_rating                                                               58   \n",
       "potential_rating                                                             63   \n",
       "club                                                      Estudiantes de Mérida   \n",
       "positions                                                              [CB, LB]   \n",
       "weight_kg                                                                  80.0   \n",
       "preferred_foot                                                             Left   \n",
       "best_overall_rating                                                          61   \n",
       "best_position                                                                CB   \n",
       "joined                                                      2020-01-17 00:00:00   \n",
       "loan_date_end                                                               NaT   \n",
       "value_million_euros                                                       0.275   \n",
       "wage_million_euros                                                         50.0   \n",
       "release_clause_million_euros                                              0.334   \n",
       "attacking                                                                   214   \n",
       "crossing                                                                     62   \n",
       "finishing                                                                    21   \n",
       "heading_accuracy                                                             50   \n",
       "short_passing                                                                58   \n",
       "volleys                                                                      23   \n",
       "skill                                                                       205   \n",
       "dribbling                                                                    47   \n",
       "curve                                                                        49   \n",
       "fk_accuracy                                                                  28   \n",
       "long_passing                                                                 26   \n",
       "ball_control                                                                 55   \n",
       "movement                                                                    291   \n",
       "acceleration                                                                 68   \n",
       "sprint_speed                                                                 64   \n",
       "agility                                                                      50   \n",
       "reactions                                                                    50   \n",
       "balance                                                                      59   \n",
       "power                                                                       244   \n",
       "shot_power                                                                   25   \n",
       "jumping                                                                      58   \n",
       "stamina                                                                      72   \n",
       "strength                                                                     69   \n",
       "long_shots                                                                   20   \n",
       "mentality                                                                   224   \n",
       "aggression                                                                   53   \n",
       "interceptions                                                                55   \n",
       "positioning                                                                  41   \n",
       "vision                                                                       36   \n",
       "penalties                                                                    39   \n",
       "composure                                                                    41   \n",
       "defending                                                                   178   \n",
       "marking                                                                      58   \n",
       "standing_tackle                                                              60   \n",
       "sliding_tackle                                                               60   \n",
       "goalkeeping                                                                  50   \n",
       "gk_diving                                                                     7   \n",
       "gk_handling                                                                  13   \n",
       "gk_kicking                                                                    6   \n",
       "gk_positioning                                                               14   \n",
       "gk_reflexes                                                                  10   \n",
       "total_stats                                                                1406   \n",
       "base_stats                                                                  311   \n",
       "weaker_foot_ability                                                           2   \n",
       "skill_moves_ability                                                           2   \n",
       "attack_work_rate                                                         Medium   \n",
       "defense_work_rate                                                          High   \n",
       "injury_resistance                                                             1   \n",
       "player_speed                                                                 66   \n",
       "shooting_ability                                                             24   \n",
       "passing_ability                                                              48   \n",
       "dribbling_ability                                                            50   \n",
       "defensive_ability                                                            57   \n",
       "player_strength                                                              66   \n",
       "profile_web_visits                                                          2.0   \n",
       "height_m                                                                   1.82   \n",
       "height_feet                                                            5.971129   \n",
       "on_loan_from                                                                NaT   \n",
       "contract_started                                            2020-01-01 00:00:00   \n",
       "contract_ends                                               2021-01-01 00:00:00   \n",
       "has_contract                                                               True   \n",
       "\n",
       "                                                                          7749   \\\n",
       "id                                                                       203615   \n",
       "name                                                                   T. Kainz   \n",
       "longname                                                           Tobias Kainz   \n",
       "photo_url                      https://cdn.sofifa.com/players/203/615/21_60.png   \n",
       "player_profile_web            http://sofifa.com/player/203615/tobias-kainz/2...   \n",
       "nationality                                                             Austria   \n",
       "age                                                                          27   \n",
       "overall_rating                                                               67   \n",
       "potential_rating                                                             69   \n",
       "club                                                               TSV Hartberg   \n",
       "positions                                                         [CDM, RB, CM]   \n",
       "weight_kg                                                                  68.0   \n",
       "preferred_foot                                                            Right   \n",
       "best_overall_rating                                                          68   \n",
       "best_position                                                               CDM   \n",
       "joined                                                      2018-07-01 00:00:00   \n",
       "loan_date_end                                                               NaT   \n",
       "value_million_euros                                                         1.1   \n",
       "wage_million_euros                                                        0.003   \n",
       "release_clause_million_euros                                                1.2   \n",
       "attacking                                                                   289   \n",
       "crossing                                                                     65   \n",
       "finishing                                                                    53   \n",
       "heading_accuracy                                                             53   \n",
       "short_passing                                                                65   \n",
       "volleys                                                                      53   \n",
       "skill                                                                       310   \n",
       "dribbling                                                                    58   \n",
       "curve                                                                        63   \n",
       "fk_accuracy                                                                  58   \n",
       "long_passing                                                                 68   \n",
       "ball_control                                                                 63   \n",
       "movement                                                                    337   \n",
       "acceleration                                                                 68   \n",
       "sprint_speed                                                                 55   \n",
       "agility                                                                      71   \n",
       "reactions                                                                    63   \n",
       "balance                                                                      80   \n",
       "power                                                                       346   \n",
       "shot_power                                                                   68   \n",
       "jumping                                                                      79   \n",
       "stamina                                                                      80   \n",
       "strength                                                                     58   \n",
       "long_shots                                                                   61   \n",
       "mentality                                                                   305   \n",
       "aggression                                                                   66   \n",
       "interceptions                                                                68   \n",
       "positioning                                                                  56   \n",
       "vision                                                                       67   \n",
       "penalties                                                                    48   \n",
       "composure                                                                    63   \n",
       "defending                                                                   194   \n",
       "marking                                                                      66   \n",
       "standing_tackle                                                              65   \n",
       "sliding_tackle                                                               63   \n",
       "goalkeeping                                                                  48   \n",
       "gk_diving                                                                     7   \n",
       "gk_handling                                                                  12   \n",
       "gk_kicking                                                                    7   \n",
       "gk_positioning                                                                9   \n",
       "gk_reflexes                                                                  13   \n",
       "total_stats                                                                1829   \n",
       "base_stats                                                                  377   \n",
       "weaker_foot_ability                                                           3   \n",
       "skill_moves_ability                                                           2   \n",
       "attack_work_rate                                                         Medium   \n",
       "defense_work_rate                                                        Medium   \n",
       "injury_resistance                                                             1   \n",
       "player_speed                                                                 61   \n",
       "shooting_ability                                                             58   \n",
       "passing_ability                                                              65   \n",
       "dribbling_ability                                                            62   \n",
       "defensive_ability                                                            65   \n",
       "player_strength                                                              66   \n",
       "profile_web_visits                                                          1.0   \n",
       "height_m                                                                   1.74   \n",
       "height_feet                                                            5.708661   \n",
       "on_loan_from                                                                NaT   \n",
       "contract_started                                            2018-01-01 00:00:00   \n",
       "contract_ends                                               2021-01-01 00:00:00   \n",
       "has_contract                                                               True   \n",
       "\n",
       "                                                                          5702   \n",
       "id                                                                       184139  \n",
       "name                                                           Ricardo Ferreira  \n",
       "longname                                          Ricardo Abel Barbosa Ferreira  \n",
       "photo_url                      https://cdn.sofifa.com/players/184/139/21_60.png  \n",
       "player_profile_web            http://sofifa.com/player/184139/ricardo-abel-b...  \n",
       "nationality                                                            Portugal  \n",
       "age                                                                          30  \n",
       "overall_rating                                                               69  \n",
       "potential_rating                                                             69  \n",
       "club                                                            Portimonense SC  \n",
       "positions                                                                  [GK]  \n",
       "weight_kg                                                                  80.0  \n",
       "preferred_foot                                                            Right  \n",
       "best_overall_rating                                                          69  \n",
       "best_position                                                                GK  \n",
       "joined                                                      2014-07-17 00:00:00  \n",
       "loan_date_end                                                               NaT  \n",
       "value_million_euros                                                       0.925  \n",
       "wage_million_euros                                                        0.003  \n",
       "release_clause_million_euros                                                1.5  \n",
       "attacking                                                                    79  \n",
       "crossing                                                                     13  \n",
       "finishing                                                                    11  \n",
       "heading_accuracy                                                             13  \n",
       "short_passing                                                                32  \n",
       "volleys                                                                      10  \n",
       "skill                                                                        91  \n",
       "dribbling                                                                    11  \n",
       "curve                                                                        14  \n",
       "fk_accuracy                                                                  17  \n",
       "long_passing                                                                 24  \n",
       "ball_control                                                                 25  \n",
       "movement                                                                    246  \n",
       "acceleration                                                                 55  \n",
       "sprint_speed                                                                 38  \n",
       "agility                                                                      44  \n",
       "reactions                                                                    67  \n",
       "balance                                                                      42  \n",
       "power                                                                       218  \n",
       "shot_power                                                                   47  \n",
       "jumping                                                                      62  \n",
       "stamina                                                                      38  \n",
       "strength                                                                     60  \n",
       "long_shots                                                                   11  \n",
       "mentality                                                                   111  \n",
       "aggression                                                                   22  \n",
       "interceptions                                                                17  \n",
       "positioning                                                                  13  \n",
       "vision                                                                       46  \n",
       "penalties                                                                    13  \n",
       "composure                                                                    50  \n",
       "defending                                                                    41  \n",
       "marking                                                                      19  \n",
       "standing_tackle                                                              12  \n",
       "sliding_tackle                                                               10  \n",
       "goalkeeping                                                                 338  \n",
       "gk_diving                                                                    71  \n",
       "gk_handling                                                                  69  \n",
       "gk_kicking                                                                   62  \n",
       "gk_positioning                                                               67  \n",
       "gk_reflexes                                                                  69  \n",
       "total_stats                                                                1124  \n",
       "base_stats                                                                  384  \n",
       "weaker_foot_ability                                                           3  \n",
       "skill_moves_ability                                                           1  \n",
       "attack_work_rate                                                         Medium  \n",
       "defense_work_rate                                                        Medium  \n",
       "injury_resistance                                                             1  \n",
       "player_speed                                                                 71  \n",
       "shooting_ability                                                             69  \n",
       "passing_ability                                                              62  \n",
       "dribbling_ability                                                            69  \n",
       "defensive_ability                                                            46  \n",
       "player_strength                                                              67  \n",
       "profile_web_visits                                                          2.0  \n",
       "height_m                                                                   1.89  \n",
       "height_feet                                                            6.200787  \n",
       "on_loan_from                                                                NaT  \n",
       "contract_started                                            2014-01-01 00:00:00  \n",
       "contract_ends                                               2024-01-01 00:00:00  \n",
       "has_contract                                                               True  "
      ]
     },
     "execution_count": 203,
     "metadata": {},
     "output_type": "execute_result"
    }
   ],
   "source": [
    "df.sample(5).T"
   ]
  },
  {
   "cell_type": "markdown",
   "id": "acdd559b-c644-4ce7-b0cb-8bd09348992c",
   "metadata": {},
   "source": [
    "Watching the results, most of the variable with more or less high percentages are due to the before mentioned reasons, so I won't take action regarding to outliers."
   ]
  },
  {
   "cell_type": "code",
   "execution_count": 204,
   "id": "8d2d76fc-08d2-423d-9999-6033d5d2dabf",
   "metadata": {
    "tags": []
   },
   "outputs": [],
   "source": [
    "df.to_csv('clean_fifa21_dataset.csv', index=False, na_rep='NULL')"
   ]
  }
 ],
 "metadata": {
  "kernelspec": {
   "display_name": "Python 3 (ipykernel)",
   "language": "python",
   "name": "python3"
  },
  "language_info": {
   "codemirror_mode": {
    "name": "ipython",
    "version": 3
   },
   "file_extension": ".py",
   "mimetype": "text/x-python",
   "name": "python",
   "nbconvert_exporter": "python",
   "pygments_lexer": "ipython3",
   "version": "3.10.10"
  }
 },
 "nbformat": 4,
 "nbformat_minor": 5
}
