{
 "cells": [
  {
   "cell_type": "markdown",
   "id": "15ab2c46-529f-4e57-a52c-00c746eb6d1e",
   "metadata": {},
   "source": [
    "FIFA 21 - EDA (Exploratory Data Analysis)"
   ]
  },
  {
   "cell_type": "markdown",
   "id": "65f7f3dc-5e9b-495a-aece-9a4b8b336002",
   "metadata": {},
   "source": [
    "After the cleaning of the dataset provided with data from FIFA from year 2021, I will carry out an exploratory data analysis. The purpose of this analysis is to answer some questions and gain some insights."
   ]
  },
  {
   "cell_type": "code",
   "execution_count": 25,
   "id": "db47fe78-3f34-4589-95fa-2fa9e05dea84",
   "metadata": {},
   "outputs": [],
   "source": [
    "import pandas as pd\n",
    "import numpy as np\n",
    "import matplotlib.pyplot as plt"
   ]
  },
  {
   "cell_type": "code",
   "execution_count": 26,
   "id": "1c84c2a9-2f1c-4a3b-8e24-e826e2cdaa03",
   "metadata": {},
   "outputs": [],
   "source": [
    "df = pd.read_csv('clean_fifa21_dataset.csv',\n",
    "\t\t\t\t parse_dates = ['joined', 'loan_date_end', 'on_loan_from',\n",
    "\t\t\t\t\t\t\t\t   'contract_started', 'contract_ends']\n",
    "\t\t\t\t)"
   ]
  },
  {
   "cell_type": "markdown",
   "id": "824baddf-3b9b-400f-a7ae-2683a3d115bc",
   "metadata": {},
   "source": [
    "Let's have a look at the variables available, so we can set some questions:"
   ]
  },
  {
   "cell_type": "code",
   "execution_count": 3,
   "id": "dc89313a-5c98-40ee-a5e1-6c1226252ab7",
   "metadata": {},
   "outputs": [
    {
     "data": {
      "text/plain": [
       "Index(['id', 'name', 'longname', 'photo_url', 'player_profile_web',\n",
       "       'nationality', 'age', 'overall_rating', 'potential_rating', 'club',\n",
       "       'positions', 'weight_kg', 'preferred_foot', 'best_overall_rating',\n",
       "       'best_position', 'joined', 'loan_date_end', 'value_million_euros',\n",
       "       'annual_wage_million_euros', 'release_clause_million_euros',\n",
       "       'attacking', 'crossing', 'finishing', 'heading_accuracy',\n",
       "       'short_passing', 'volleys', 'skill', 'dribbling', 'curve',\n",
       "       'fk_accuracy', 'long_passing', 'ball_control', 'movement',\n",
       "       'acceleration', 'sprint_speed', 'agility', 'reactions', 'balance',\n",
       "       'power', 'shot_power', 'jumping', 'stamina', 'strength', 'long_shots',\n",
       "       'mentality', 'aggression', 'interceptions', 'positioning', 'vision',\n",
       "       'penalties', 'composure', 'defending', 'marking', 'standing_tackle',\n",
       "       'sliding_tackle', 'goalkeeping', 'gk_diving', 'gk_handling',\n",
       "       'gk_kicking', 'gk_positioning', 'gk_reflexes', 'total_stats',\n",
       "       'base_stats', 'weaker_foot_ability', 'skill_moves_ability',\n",
       "       'attack_work_rate', 'defense_work_rate', 'injury_resistance',\n",
       "       'player_speed', 'shooting_ability', 'passing_ability',\n",
       "       'dribbling_ability', 'defensive_ability', 'player_strength',\n",
       "       'profile_web_visits', 'height_m', 'height_feet', 'on_loan_from',\n",
       "       'contract_started', 'contract_ends', 'has_contract'],\n",
       "      dtype='object')"
      ]
     },
     "execution_count": 3,
     "metadata": {},
     "output_type": "execute_result"
    }
   ],
   "source": [
    "df.columns"
   ]
  },
  {
   "cell_type": "markdown",
   "id": "7438cc8d-e0ae-4609-a680-113cb5e2cb9f",
   "metadata": {},
   "source": [
    "## Some questions to be answered by the dataset"
   ]
  },
  {
   "cell_type": "markdown",
   "id": "f6823f57-4175-4ddc-9b6e-cb3ef74d9ec1",
   "metadata": {},
   "source": [
    "1. How many and who are the players with a contract beyond the end of 2023?  \n",
    "2. What's the country which has produced the largest number of football players?\n",
    "3. What's the top 10 most highly paid football players?\n",
    "4. Who are the top 5 players with the highest release clause?\n",
    "5. Is there a relationship between age and wage?\n",
    "6. Do players become unfit as they age?\n",
    "7. What are the most successful players throwing penalties?\n",
    "8. What are the top 5 clubs which invest the most on their players salaries? And the least?\n",
    "9. Are the players who score the most, the most valuable?"
   ]
  },
  {
   "cell_type": "markdown",
   "id": "4e204e9f-7fb9-444d-bbab-34e6f1e26290",
   "metadata": {},
   "source": [
    "In case I want more information about a variable, I will import the dataset dictionary and create a function to retrieve the description of a variable."
   ]
  },
  {
   "cell_type": "code",
   "execution_count": 4,
   "id": "cb5741b0-a0fb-4022-a314-e4b83bd10b3b",
   "metadata": {},
   "outputs": [],
   "source": [
    "descriptions = pd.read_csv('variable_descriptions.csv')"
   ]
  },
  {
   "cell_type": "code",
   "execution_count": 5,
   "id": "34b68f0e-4e11-4201-b4e3-020205559b7a",
   "metadata": {},
   "outputs": [],
   "source": [
    "descriptions.set_index('variable', inplace=True)"
   ]
  },
  {
   "cell_type": "code",
   "execution_count": 6,
   "id": "8ce25bd5-9709-4a7d-a9a8-247ad242dac3",
   "metadata": {},
   "outputs": [],
   "source": [
    "def get_description(var):\n",
    "\tprint(f'Description of \"{var}\": ', end='---> ')\n",
    "\tprint(descriptions.loc[var].values[0])"
   ]
  },
  {
   "cell_type": "code",
   "execution_count": 7,
   "id": "b0d92da1-abb6-48ab-8e1a-0870ed2b67b2",
   "metadata": {},
   "outputs": [
    {
     "name": "stdout",
     "output_type": "stream",
     "text": [
      "Description of \"penalties\": ---> The penalties attribute of the player.\n"
     ]
    }
   ],
   "source": [
    "get_description('penalties')"
   ]
  },
  {
   "cell_type": "markdown",
   "id": "2b9ee4d0-be54-4fbe-a645-5047f299e1fb",
   "metadata": {},
   "source": [
    "## 1. How many and who are the players with a contract beyond the end of 2023?  "
   ]
  },
  {
   "cell_type": "markdown",
   "id": "c8f9a8f5-cdfe-476d-b804-051d1bb57f37",
   "metadata": {},
   "source": [
    "The longest contract has been signed by:"
   ]
  },
  {
   "cell_type": "code",
   "execution_count": 8,
   "id": "342e4f35-992e-4b66-9798-e70816ead927",
   "metadata": {},
   "outputs": [
    {
     "data": {
      "text/html": [
       "<div>\n",
       "<style scoped>\n",
       "    .dataframe tbody tr th:only-of-type {\n",
       "        vertical-align: middle;\n",
       "    }\n",
       "\n",
       "    .dataframe tbody tr th {\n",
       "        vertical-align: top;\n",
       "    }\n",
       "\n",
       "    .dataframe thead th {\n",
       "        text-align: right;\n",
       "    }\n",
       "</style>\n",
       "<table border=\"1\" class=\"dataframe\">\n",
       "  <thead>\n",
       "    <tr style=\"text-align: right;\">\n",
       "      <th></th>\n",
       "      <th>name</th>\n",
       "      <th>club</th>\n",
       "      <th>contract_started</th>\n",
       "      <th>contract_ends</th>\n",
       "    </tr>\n",
       "  </thead>\n",
       "  <tbody>\n",
       "    <tr>\n",
       "      <th>307</th>\n",
       "      <td>Iñaki Williams</td>\n",
       "      <td>Athletic Club de Bilbao</td>\n",
       "      <td>2012-01-01</td>\n",
       "      <td>2028-01-01</td>\n",
       "    </tr>\n",
       "  </tbody>\n",
       "</table>\n",
       "</div>"
      ],
      "text/plain": [
       "               name                     club contract_started contract_ends\n",
       "307  Iñaki Williams  Athletic Club de Bilbao       2012-01-01    2028-01-01"
      ]
     },
     "execution_count": 8,
     "metadata": {},
     "output_type": "execute_result"
    }
   ],
   "source": [
    "df.nlargest(1,'contract_ends')[['name', 'club', 'contract_started', 'contract_ends']]"
   ]
  },
  {
   "cell_type": "code",
   "execution_count": 9,
   "id": "76f7d3bd-016c-4a52-b0ac-60af3050c8d1",
   "metadata": {},
   "outputs": [],
   "source": [
    "players_after_2023 = df[df.contract_ends >= '2024-01-01']"
   ]
  },
  {
   "cell_type": "code",
   "execution_count": 10,
   "id": "154759d9-2a58-4a1b-a850-224360b8f011",
   "metadata": {},
   "outputs": [
    {
     "name": "stdout",
     "output_type": "stream",
     "text": [
      "The number of players with a valid contract after the end of this year (as of 2023) is: 2819\n"
     ]
    }
   ],
   "source": [
    "result = players_after_2023.name.count()\n",
    "print(f'The number of players with a valid contract after the end of this year (as of 2023) is: {result}')"
   ]
  },
  {
   "cell_type": "markdown",
   "id": "437f8cad-2252-46ee-8157-8bcf766442db",
   "metadata": {},
   "source": [
    "The top 5 clubs which make their players sign the longest contracts are..."
   ]
  },
  {
   "cell_type": "code",
   "execution_count": 11,
   "id": "31ce4d3d-9a35-479b-8754-a6ec08958d3f",
   "metadata": {},
   "outputs": [
    {
     "data": {
      "text/html": [
       "<div>\n",
       "<style scoped>\n",
       "    .dataframe tbody tr th:only-of-type {\n",
       "        vertical-align: middle;\n",
       "    }\n",
       "\n",
       "    .dataframe tbody tr th {\n",
       "        vertical-align: top;\n",
       "    }\n",
       "\n",
       "    .dataframe thead th {\n",
       "        text-align: right;\n",
       "    }\n",
       "</style>\n",
       "<table border=\"1\" class=\"dataframe\">\n",
       "  <thead>\n",
       "    <tr style=\"text-align: right;\">\n",
       "      <th></th>\n",
       "      <th>name</th>\n",
       "      <th>nationality</th>\n",
       "      <th>club</th>\n",
       "      <th>contract_started</th>\n",
       "      <th>contract_ends</th>\n",
       "    </tr>\n",
       "  </thead>\n",
       "  <tbody>\n",
       "    <tr>\n",
       "      <th>307</th>\n",
       "      <td>Iñaki Williams</td>\n",
       "      <td>Spain</td>\n",
       "      <td>Athletic Club de Bilbao</td>\n",
       "      <td>2012-01-01</td>\n",
       "      <td>2028-01-01</td>\n",
       "    </tr>\n",
       "    <tr>\n",
       "      <th>521</th>\n",
       "      <td>P. Estupiñán</td>\n",
       "      <td>Ecuador</td>\n",
       "      <td>Villarreal CF</td>\n",
       "      <td>2020-01-01</td>\n",
       "      <td>2027-01-01</td>\n",
       "    </tr>\n",
       "    <tr>\n",
       "      <th>115</th>\n",
       "      <td>Saúl</td>\n",
       "      <td>Spain</td>\n",
       "      <td>Atlético Madrid</td>\n",
       "      <td>2013-01-01</td>\n",
       "      <td>2026-01-01</td>\n",
       "    </tr>\n",
       "    <tr>\n",
       "      <th>280</th>\n",
       "      <td>João Félix</td>\n",
       "      <td>Portugal</td>\n",
       "      <td>Atlético Madrid</td>\n",
       "      <td>2019-01-01</td>\n",
       "      <td>2026-01-01</td>\n",
       "    </tr>\n",
       "    <tr>\n",
       "      <th>401</th>\n",
       "      <td>Yeray</td>\n",
       "      <td>Spain</td>\n",
       "      <td>Athletic Club de Bilbao</td>\n",
       "      <td>2014-01-01</td>\n",
       "      <td>2026-01-01</td>\n",
       "    </tr>\n",
       "  </tbody>\n",
       "</table>\n",
       "</div>"
      ],
      "text/plain": [
       "               name nationality                     club contract_started  \\\n",
       "307  Iñaki Williams       Spain  Athletic Club de Bilbao       2012-01-01   \n",
       "521    P. Estupiñán     Ecuador            Villarreal CF       2020-01-01   \n",
       "115            Saúl       Spain          Atlético Madrid       2013-01-01   \n",
       "280      João Félix    Portugal          Atlético Madrid       2019-01-01   \n",
       "401           Yeray       Spain  Athletic Club de Bilbao       2014-01-01   \n",
       "\n",
       "    contract_ends  \n",
       "307    2028-01-01  \n",
       "521    2027-01-01  \n",
       "115    2026-01-01  \n",
       "280    2026-01-01  \n",
       "401    2026-01-01  "
      ]
     },
     "execution_count": 11,
     "metadata": {},
     "output_type": "execute_result"
    }
   ],
   "source": [
    "df.nlargest(5, 'contract_ends')[['name', 'nationality', 'club', 'contract_started', 'contract_ends']]"
   ]
  },
  {
   "cell_type": "markdown",
   "id": "bd3b50a6-11cf-4762-92f0-f2a98e102adb",
   "metadata": {},
   "source": [
    "## 2. What are the top 10 countries which have produced the largest number of football players?"
   ]
  },
  {
   "cell_type": "code",
   "execution_count": 12,
   "id": "1a0541dc-47f1-440e-bc79-d15da2c814ad",
   "metadata": {},
   "outputs": [],
   "source": [
    "data = df.groupby('nationality')['id'].count().sort_values(ascending=False)[:10]"
   ]
  },
  {
   "cell_type": "code",
   "execution_count": 13,
   "id": "982d7630-de5f-4769-973f-0f3d74654b3b",
   "metadata": {},
   "outputs": [
    {
     "data": {
      "image/png": "[encoded data removed]",
      "text/plain": [
       "<Figure size 640x480 with 1 Axes>"
      ]
     },
     "metadata": {},
     "output_type": "display_data"
    }
   ],
   "source": [
    "data.plot.barh()\n",
    "plt.show()"
   ]
  },
  {
   "cell_type": "markdown",
   "id": "32c7d372-f6d7-4552-996b-4700336aca41",
   "metadata": {},
   "source": [
    "## 3. What's the top 10 most highly paid football players?"
   ]
  },
  {
   "cell_type": "code",
   "execution_count": 21,
   "id": "ae6f9964-e714-4df3-b6b4-abc2d4d3d27c",
   "metadata": {},
   "outputs": [],
   "source": [
    "data = (df.nlargest(10, 'annual_wage_million_euros')\n",
    "\t\t[['longname', 'club', 'annual_wage_million_euros']]\n",
    "\t\t.sort_values('annual_wage_million_euros', ascending=False)\n",
    "\t   )\n",
    "data = data.rename(columns = {'annual_wage_million_euros' : 'annual_wage_MM_€'})"
   ]
  },
  {
   "cell_type": "code",
   "execution_count": 22,
   "id": "2ddbea41-430c-4d33-9de9-378ecf4f4bd6",
   "metadata": {},
   "outputs": [
    {
     "data": {
      "text/html": [
       "<div>\n",
       "<style scoped>\n",
       "    .dataframe tbody tr th:only-of-type {\n",
       "        vertical-align: middle;\n",
       "    }\n",
       "\n",
       "    .dataframe tbody tr th {\n",
       "        vertical-align: top;\n",
       "    }\n",
       "\n",
       "    .dataframe thead th {\n",
       "        text-align: right;\n",
       "    }\n",
       "</style>\n",
       "<table border=\"1\" class=\"dataframe\">\n",
       "  <thead>\n",
       "    <tr style=\"text-align: right;\">\n",
       "      <th></th>\n",
       "      <th>longname</th>\n",
       "      <th>club</th>\n",
       "      <th>annual_wage_MM_€</th>\n",
       "    </tr>\n",
       "  </thead>\n",
       "  <tbody>\n",
       "    <tr>\n",
       "      <th>0</th>\n",
       "      <td>Lionel Messi</td>\n",
       "      <td>FC Barcelona</td>\n",
       "      <td>29.12</td>\n",
       "    </tr>\n",
       "    <tr>\n",
       "      <th>3</th>\n",
       "      <td>Kevin De Bruyne</td>\n",
       "      <td>Manchester City</td>\n",
       "      <td>19.24</td>\n",
       "    </tr>\n",
       "    <tr>\n",
       "      <th>15</th>\n",
       "      <td>Karim Benzema</td>\n",
       "      <td>Real Madrid</td>\n",
       "      <td>18.20</td>\n",
       "    </tr>\n",
       "    <tr>\n",
       "      <th>26</th>\n",
       "      <td>Eden Hazard</td>\n",
       "      <td>Real Madrid</td>\n",
       "      <td>18.20</td>\n",
       "    </tr>\n",
       "    <tr>\n",
       "      <th>12</th>\n",
       "      <td>Carlos Henrique Venancio Casimiro</td>\n",
       "      <td>Real Madrid</td>\n",
       "      <td>16.12</td>\n",
       "    </tr>\n",
       "    <tr>\n",
       "      <th>27</th>\n",
       "      <td>Toni Kroos</td>\n",
       "      <td>Real Madrid</td>\n",
       "      <td>16.12</td>\n",
       "    </tr>\n",
       "    <tr>\n",
       "      <th>16</th>\n",
       "      <td>Sergio Ramos García</td>\n",
       "      <td>Real Madrid</td>\n",
       "      <td>15.60</td>\n",
       "    </tr>\n",
       "    <tr>\n",
       "      <th>17</th>\n",
       "      <td>Sergio Agüero</td>\n",
       "      <td>Manchester City</td>\n",
       "      <td>15.60</td>\n",
       "    </tr>\n",
       "    <tr>\n",
       "      <th>28</th>\n",
       "      <td>Antoine Griezmann</td>\n",
       "      <td>FC Barcelona</td>\n",
       "      <td>15.08</td>\n",
       "    </tr>\n",
       "    <tr>\n",
       "      <th>4</th>\n",
       "      <td>Neymar da Silva Santos Jr.</td>\n",
       "      <td>Paris Saint-Germain</td>\n",
       "      <td>14.04</td>\n",
       "    </tr>\n",
       "  </tbody>\n",
       "</table>\n",
       "</div>"
      ],
      "text/plain": [
       "                             longname                 club  annual_wage_MM_€\n",
       "0                        Lionel Messi         FC Barcelona             29.12\n",
       "3                     Kevin De Bruyne      Manchester City             19.24\n",
       "15                      Karim Benzema          Real Madrid             18.20\n",
       "26                        Eden Hazard          Real Madrid             18.20\n",
       "12  Carlos Henrique Venancio Casimiro          Real Madrid             16.12\n",
       "27                         Toni Kroos          Real Madrid             16.12\n",
       "16                Sergio Ramos García          Real Madrid             15.60\n",
       "17                      Sergio Agüero      Manchester City             15.60\n",
       "28                  Antoine Griezmann         FC Barcelona             15.08\n",
       "4          Neymar da Silva Santos Jr.  Paris Saint-Germain             14.04"
      ]
     },
     "execution_count": 22,
     "metadata": {},
     "output_type": "execute_result"
    }
   ],
   "source": [
    "data"
   ]
  },
  {
   "cell_type": "markdown",
   "id": "eca3dcb2-05c9-49b1-811e-8425c62c4edc",
   "metadata": {},
   "source": [
    "## 4. Who are the top 5 players with the highest release clause?"
   ]
  },
  {
   "cell_type": "code",
   "execution_count": 28,
   "id": "c0445d0b-1ece-4867-bb31-fd4036dd1545",
   "metadata": {},
   "outputs": [
    {
     "data": {
      "text/html": [
       "<div>\n",
       "<style scoped>\n",
       "    .dataframe tbody tr th:only-of-type {\n",
       "        vertical-align: middle;\n",
       "    }\n",
       "\n",
       "    .dataframe tbody tr th {\n",
       "        vertical-align: top;\n",
       "    }\n",
       "\n",
       "    .dataframe thead th {\n",
       "        text-align: right;\n",
       "    }\n",
       "</style>\n",
       "<table border=\"1\" class=\"dataframe\">\n",
       "  <thead>\n",
       "    <tr style=\"text-align: right;\">\n",
       "      <th></th>\n",
       "      <th>longname</th>\n",
       "      <th>club</th>\n",
       "      <th>release_clause_million_euros</th>\n",
       "    </tr>\n",
       "  </thead>\n",
       "  <tbody>\n",
       "    <tr>\n",
       "      <th>8</th>\n",
       "      <td>Kylian Mbappé</td>\n",
       "      <td>Paris Saint-Germain</td>\n",
       "      <td>203.1</td>\n",
       "    </tr>\n",
       "    <tr>\n",
       "      <th>4</th>\n",
       "      <td>Neymar da Silva Santos Jr.</td>\n",
       "      <td>Paris Saint-Germain</td>\n",
       "      <td>166.5</td>\n",
       "    </tr>\n",
       "    <tr>\n",
       "      <th>3</th>\n",
       "      <td>Kevin De Bruyne</td>\n",
       "      <td>Manchester City</td>\n",
       "      <td>161.0</td>\n",
       "    </tr>\n",
       "    <tr>\n",
       "      <th>2</th>\n",
       "      <td>Jan Oblak</td>\n",
       "      <td>Atlético Madrid</td>\n",
       "      <td>159.4</td>\n",
       "    </tr>\n",
       "    <tr>\n",
       "      <th>9</th>\n",
       "      <td>Marc-André ter Stegen</td>\n",
       "      <td>FC Barcelona</td>\n",
       "      <td>147.7</td>\n",
       "    </tr>\n",
       "  </tbody>\n",
       "</table>\n",
       "</div>"
      ],
      "text/plain": [
       "                     longname                 club  \\\n",
       "8               Kylian Mbappé  Paris Saint-Germain   \n",
       "4  Neymar da Silva Santos Jr.  Paris Saint-Germain   \n",
       "3             Kevin De Bruyne      Manchester City   \n",
       "2                   Jan Oblak      Atlético Madrid   \n",
       "9       Marc-André ter Stegen         FC Barcelona   \n",
       "\n",
       "   release_clause_million_euros  \n",
       "8                         203.1  \n",
       "4                         166.5  \n",
       "3                         161.0  \n",
       "2                         159.4  \n",
       "9                         147.7  "
      ]
     },
     "execution_count": 28,
     "metadata": {},
     "output_type": "execute_result"
    }
   ],
   "source": [
    "df.nlargest(5, 'release_clause_million_euros')[['longname', 'club', 'release_clause_million_euros']]"
   ]
  },
  {
   "cell_type": "markdown",
   "id": "eb433d1d-d2af-4ce9-abcd-82528bae5423",
   "metadata": {},
   "source": [
    "## 7. What are the most successful players throwing penalties?"
   ]
  },
  {
   "cell_type": "code",
   "execution_count": 30,
   "id": "878503a8-6f99-4fe9-ad33-5f2d31fb364e",
   "metadata": {},
   "outputs": [
    {
     "data": {
      "text/html": [
       "<div>\n",
       "<style scoped>\n",
       "    .dataframe tbody tr th:only-of-type {\n",
       "        vertical-align: middle;\n",
       "    }\n",
       "\n",
       "    .dataframe tbody tr th {\n",
       "        vertical-align: top;\n",
       "    }\n",
       "\n",
       "    .dataframe thead th {\n",
       "        text-align: right;\n",
       "    }\n",
       "</style>\n",
       "<table border=\"1\" class=\"dataframe\">\n",
       "  <thead>\n",
       "    <tr style=\"text-align: right;\">\n",
       "      <th></th>\n",
       "      <th>longname</th>\n",
       "      <th>club</th>\n",
       "      <th>penalties</th>\n",
       "    </tr>\n",
       "  </thead>\n",
       "  <tbody>\n",
       "    <tr>\n",
       "      <th>4</th>\n",
       "      <td>Neymar da Silva Santos Jr.</td>\n",
       "      <td>Paris Saint-Germain</td>\n",
       "      <td>92</td>\n",
       "    </tr>\n",
       "    <tr>\n",
       "      <th>16</th>\n",
       "      <td>Sergio Ramos García</td>\n",
       "      <td>Real Madrid</td>\n",
       "      <td>92</td>\n",
       "    </tr>\n",
       "    <tr>\n",
       "      <th>119</th>\n",
       "      <td>Raúl Jiménez</td>\n",
       "      <td>Wolverhampton Wanderers</td>\n",
       "      <td>92</td>\n",
       "    </tr>\n",
       "    <tr>\n",
       "      <th>355</th>\n",
       "      <td>Max Kruse</td>\n",
       "      <td>FC Union Berlin</td>\n",
       "      <td>92</td>\n",
       "    </tr>\n",
       "    <tr>\n",
       "      <th>1937</th>\n",
       "      <td>Mark Noble</td>\n",
       "      <td>West Ham United</td>\n",
       "      <td>92</td>\n",
       "    </tr>\n",
       "    <tr>\n",
       "      <th>34</th>\n",
       "      <td>Bruno Miguel Borges Fernandes</td>\n",
       "      <td>Manchester United</td>\n",
       "      <td>91</td>\n",
       "    </tr>\n",
       "    <tr>\n",
       "      <th>98</th>\n",
       "      <td>Marco Reus</td>\n",
       "      <td>Borussia Dortmund</td>\n",
       "      <td>91</td>\n",
       "    </tr>\n",
       "    <tr>\n",
       "      <th>172</th>\n",
       "      <td>Luiz Frello Filho Jorge</td>\n",
       "      <td>Chelsea</td>\n",
       "      <td>91</td>\n",
       "    </tr>\n",
       "    <tr>\n",
       "      <th>344</th>\n",
       "      <td>Sébastien Haller</td>\n",
       "      <td>West Ham United</td>\n",
       "      <td>91</td>\n",
       "    </tr>\n",
       "    <tr>\n",
       "      <th>23</th>\n",
       "      <td>Harry Kane</td>\n",
       "      <td>Tottenham Hotspur</td>\n",
       "      <td>90</td>\n",
       "    </tr>\n",
       "  </tbody>\n",
       "</table>\n",
       "</div>"
      ],
      "text/plain": [
       "                           longname                     club  penalties\n",
       "4        Neymar da Silva Santos Jr.      Paris Saint-Germain         92\n",
       "16              Sergio Ramos García              Real Madrid         92\n",
       "119                    Raúl Jiménez  Wolverhampton Wanderers         92\n",
       "355                       Max Kruse          FC Union Berlin         92\n",
       "1937                     Mark Noble          West Ham United         92\n",
       "34    Bruno Miguel Borges Fernandes        Manchester United         91\n",
       "98                       Marco Reus        Borussia Dortmund         91\n",
       "172         Luiz Frello Filho Jorge                  Chelsea         91\n",
       "344                Sébastien Haller          West Ham United         91\n",
       "23                       Harry Kane        Tottenham Hotspur         90"
      ]
     },
     "execution_count": 30,
     "metadata": {},
     "output_type": "execute_result"
    }
   ],
   "source": [
    "df.nlargest(10, 'penalties')[['longname', 'club', 'penalties']]"
   ]
  },
  {
   "cell_type": "markdown",
   "id": "0257ade7-7656-4a4d-a004-455fdc55cd41",
   "metadata": {},
   "source": [
    "## 8. What are the top 5 clubs which invest the most on their players salaries? And the least?"
   ]
  },
  {
   "cell_type": "code",
   "execution_count": 33,
   "id": "07ed57e7-2397-49fc-912a-dd65cfc8dd34",
   "metadata": {},
   "outputs": [],
   "source": [
    "total_wage_per_club = df.groupby('club')['annual_wage_million_euros'].sum()"
   ]
  },
  {
   "cell_type": "markdown",
   "id": "efc81087-e82a-45cd-b2a6-94a78316f3be",
   "metadata": {},
   "source": [
    "### Top 5 of clubs with largest total salaries"
   ]
  },
  {
   "cell_type": "code",
   "execution_count": 50,
   "id": "791edd04-2e75-45ec-acea-d5ebe994fed6",
   "metadata": {},
   "outputs": [
    {
     "data": {
      "image/png": "[encoded data removed]",
      "text/plain": [
       "<Figure size 600x400 with 1 Axes>"
      ]
     },
     "metadata": {},
     "output_type": "display_data"
    }
   ],
   "source": [
    "fix, ax = plt.subplots(figsize=(6,4))\n",
    "total_wage_per_club.nlargest(5).plot.bar(ax = ax, rot=45)\n",
    "ax.set_ylabel('Total Salary, million euros')\n",
    "ax.set_xlabel('Football Club')\n",
    "ax.set_title('Top 5 best payers')\n",
    "plt.show()"
   ]
  },
  {
   "cell_type": "markdown",
   "id": "50a1ab5a-08f3-4455-a660-7be0fb572a7d",
   "metadata": {},
   "source": [
    "### Bottom 5 of clubs with smallest total salaries"
   ]
  },
  {
   "cell_type": "code",
   "execution_count": 49,
   "id": "86f896b1-a054-4c8f-919a-deb2e16e61d8",
   "metadata": {},
   "outputs": [
    {
     "data": {
      "image/png": "[encoded data removed]",
      "text/plain": [
       "<Figure size 640x480 with 1 Axes>"
      ]
     },
     "metadata": {},
     "output_type": "display_data"
    }
   ],
   "source": [
    "fix, ax = plt.subplots()\n",
    "data = total_wage_per_club.nsmallest(5) * 1000\n",
    "data.plot.bar(ax = ax, rot=45)\n",
    "ax.set_ylabel('Total Salary, Thousands euros')\n",
    "ax.set_xlabel('Football Club')\n",
    "ax.set_title('Top 5 poorest payers')\n",
    "plt.show()"
   ]
  },
  {
   "cell_type": "markdown",
   "id": "e7c863ae-d11c-4c38-8ae2-8adbc37fb801",
   "metadata": {},
   "source": [
    "## 9. Are players with the most overall rating, the best paid? And the best valued?"
   ]
  },
  {
   "cell_type": "markdown",
   "id": "226caf0c-41a0-463e-a016-a7f0b2e7bb69",
   "metadata": {},
   "source": [
    "### Some insights at the sight of the results:  \n",
    "1. Only players with a minimum overall rating of 80 start to be well paid.\n",
    "2. The before mentioned trend is also true regarding to the player's value. Nevertheless, some players, although high skilled, are not so well valued."
   ]
  },
  {
   "cell_type": "code",
   "execution_count": 63,
   "id": "a19c3397-f028-4ec2-9e44-ddf7ae0964ec",
   "metadata": {},
   "outputs": [],
   "source": [
    "player_ratings = df[['overall_rating', 'longname', 'club', 'value_million_euros', 'annual_wage_million_euros']]"
   ]
  },
  {
   "cell_type": "code",
   "execution_count": 67,
   "id": "247d91ca-b0b7-4edb-9c4c-e3f582a24671",
   "metadata": {},
   "outputs": [],
   "source": [
    "rating_wage = player_ratings.groupby('overall_rating')['annual_wage_million_euros'].mean()"
   ]
  },
  {
   "cell_type": "code",
   "execution_count": 78,
   "id": "8e0c93fe-0f86-41f5-83f3-5f4b0d99d9c9",
   "metadata": {},
   "outputs": [
    {
     "data": {
      "image/png": "[encoded data removed]",
      "text/plain": [
       "<Figure size 800x300 with 1 Axes>"
      ]
     },
     "metadata": {},
     "output_type": "display_data"
    }
   ],
   "source": [
    "fig, ax = plt.subplots(figsize=(8,3))\n",
    "ax.plot(rating_wage.index, rating_wage.values)\n",
    "ax.set_title('Overall Rating vs Annual Wage')\n",
    "ax.set_xlabel('Overall Rating')\n",
    "ax.set_ylabel('Annual wage, MM €')\n",
    "ax.axvline(x=80, ls='dashed', color='red')\n",
    "plt.show()"
   ]
  },
  {
   "cell_type": "code",
   "execution_count": 81,
   "id": "afbc734f-0e3f-4004-8938-7d7d8beffeb6",
   "metadata": {},
   "outputs": [],
   "source": [
    "rating_value = player_ratings.groupby('overall_rating')['value_million_euros'].mean()"
   ]
  },
  {
   "cell_type": "code",
   "execution_count": 82,
   "id": "6079cc86-8f9b-468e-9344-7789047c5795",
   "metadata": {},
   "outputs": [
    {
     "data": {
      "image/png": "[encoded data removed]",
      "text/plain": [
       "<Figure size 800x300 with 1 Axes>"
      ]
     },
     "metadata": {},
     "output_type": "display_data"
    }
   ],
   "source": [
    "fig, ax = plt.subplots(figsize=(8,3))\n",
    "ax.plot(rating_value.index, rating_value.values)\n",
    "ax.set_title('Overall Rating vs Value')\n",
    "ax.set_xlabel('Overall Rating')\n",
    "ax.set_ylabel('Value, MM €')\n",
    "ax.axvline(x=80, ls='dashed', color='red')\n",
    "plt.show()"
   ]
  },
  {
   "cell_type": "markdown",
   "id": "049ffd3b-526a-422d-a822-ade8ec9b49d5",
   "metadata": {},
   "source": []
  }
 ],
 "metadata": {
  "kernelspec": {
   "display_name": "Python 3 (ipykernel)",
   "language": "python",
   "name": "python3"
  },
  "language_info": {
   "codemirror_mode": {
    "name": "ipython",
    "version": 3
   },
   "file_extension": ".py",
   "mimetype": "text/x-python",
   "name": "python",
   "nbconvert_exporter": "python",
   "pygments_lexer": "ipython3",
   "version": "3.10.9"
  }
 },
 "nbformat": 4,
 "nbformat_minor": 5
}
